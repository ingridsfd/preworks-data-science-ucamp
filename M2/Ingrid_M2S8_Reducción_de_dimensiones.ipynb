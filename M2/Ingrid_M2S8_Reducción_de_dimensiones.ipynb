{
  "cells": [
    {
      "cell_type": "markdown",
      "metadata": {
        "id": "fn49U8i9CNe-"
      },
      "source": [
        "# **Bootcamp Ciencia de datos e Inteligencia Artificial**\n",
        "# **Módulo 2. Análisis de datos**\n",
        "## **Semana 8. Reducción de dimensiones**\n",
        "\n",
        "¡Hola! Te damos la bienvenida a la última semana de este módulo. Al finalizar, comprenderás el sentido de reducir la dimensionalidad de los datos cuando existen múltiples componentes y aplicarás las técnicas para disminuir las dimensiones según sea el caso.\n",
        "\n",
        "¡Manos a la obra!"
      ]
    },
    {
      "cell_type": "markdown",
      "metadata": {
        "id": "hDBu-E3nDvx1"
      },
      "source": [
        "\n",
        "> Antes de iniciar te pido por favor que hagas una copia del presente colab para que puedas practicar por tu cuenta y resolver todos los ejercicios que aparezcan a lo largo del contenido y tu reto semanal. Recuerda que esta función la puedes hacer dando clic en \"Archivo\" y después en \"Guardar una copia en Drive\".\n",
        "\n",
        "\n",
        "\n",
        "> Todos los ejercicios aparecerán con el título **Ponte a prueba**.\n",
        "\n",
        "\n",
        "\n",
        "Si tienes dudas consulta con tu coach o tutor@.\n",
        "\n",
        "¡Comencemos!"
      ]
    },
    {
      "cell_type": "markdown",
      "metadata": {
        "id": "_MU0FGX7pmpX"
      },
      "source": [
        "# 8.1 Reducción de dimensiones\n",
        "\n",
        "Para los modelos, su rendimiento se beneficia de una determinada cantidad de variables, pues a mayor número incrementa la posibilidad de que dicho modelo se entrene de manera incorrecta y su productividad no sea la esperada. Además, esto elevaría considerablemente los costos y el tiempo de su preparación.\n",
        "\n",
        "Por lo anterior, se utilizan distintas técnicas para reducir la dimensionalidad de un conjunto de datos y seleccionar los componentes que aporten mayor valor. A continuación, se abordarán las más frecuentes.\n",
        "\n"
      ]
    },
    {
      "cell_type": "markdown",
      "metadata": {
        "id": "ATYMFp6I5kE1"
      },
      "source": [
        "## Filtro de baja varianza\n",
        "\n",
        "El filtro elimina aquellas variables que contienen una baja varianza. Al no tener una diferencia entre sus valores, no se tendrá información relevante para el modelo y por tanto, no se trata de una variable significativa.\n",
        "\n"
      ]
    },
    {
      "cell_type": "code",
      "execution_count": 1,
      "metadata": {
        "id": "cI-fDTgDmZYb"
      },
      "outputs": [],
      "source": [
        "#Importamos las librerias necesarias\n",
        "import pandas as pd\n",
        "import matplotlib.pyplot as plt\n",
        "from sklearn.preprocessing import LabelEncoder, StandardScaler\n",
        "from sklearn.decomposition import PCA\n",
        "from sklearn.model_selection import train_test_split\n",
        "import statsmodels.api as sm\n",
        "import seaborn as sns\n",
        "import warnings\n",
        "warnings.filterwarnings(\"ignore\")"
      ]
    },
    {
      "cell_type": "markdown",
      "metadata": {
        "id": "gB2CfcRNPLT2"
      },
      "source": [
        "Para este ejemplo se utilizará el conjunto de datos guardado en `sns`; este es un _dataset_ empleado comunmente para practicar.\n",
        "\n",
        "Para usar dicho conjunto se ejecuta el siguiente código."
      ]
    },
    {
      "cell_type": "code",
      "execution_count": 2,
      "metadata": {
        "colab": {
          "base_uri": "https://localhost:8080/",
          "height": 206
        },
        "id": "I58-Mqf_mfU5",
        "outputId": "d6ef186e-4dca-4e98-e4cc-7ba948bba8e4"
      },
      "outputs": [
        {
          "data": {
            "text/html": [
              "<div>\n",
              "<style scoped>\n",
              "    .dataframe tbody tr th:only-of-type {\n",
              "        vertical-align: middle;\n",
              "    }\n",
              "\n",
              "    .dataframe tbody tr th {\n",
              "        vertical-align: top;\n",
              "    }\n",
              "\n",
              "    .dataframe thead th {\n",
              "        text-align: right;\n",
              "    }\n",
              "</style>\n",
              "<table border=\"1\" class=\"dataframe\">\n",
              "  <thead>\n",
              "    <tr style=\"text-align: right;\">\n",
              "      <th></th>\n",
              "      <th>sepal_length</th>\n",
              "      <th>sepal_width</th>\n",
              "      <th>petal_length</th>\n",
              "      <th>petal_width</th>\n",
              "      <th>species</th>\n",
              "    </tr>\n",
              "  </thead>\n",
              "  <tbody>\n",
              "    <tr>\n",
              "      <th>0</th>\n",
              "      <td>5.1</td>\n",
              "      <td>3.5</td>\n",
              "      <td>1.4</td>\n",
              "      <td>0.2</td>\n",
              "      <td>setosa</td>\n",
              "    </tr>\n",
              "    <tr>\n",
              "      <th>1</th>\n",
              "      <td>4.9</td>\n",
              "      <td>3.0</td>\n",
              "      <td>1.4</td>\n",
              "      <td>0.2</td>\n",
              "      <td>setosa</td>\n",
              "    </tr>\n",
              "    <tr>\n",
              "      <th>2</th>\n",
              "      <td>4.7</td>\n",
              "      <td>3.2</td>\n",
              "      <td>1.3</td>\n",
              "      <td>0.2</td>\n",
              "      <td>setosa</td>\n",
              "    </tr>\n",
              "    <tr>\n",
              "      <th>3</th>\n",
              "      <td>4.6</td>\n",
              "      <td>3.1</td>\n",
              "      <td>1.5</td>\n",
              "      <td>0.2</td>\n",
              "      <td>setosa</td>\n",
              "    </tr>\n",
              "    <tr>\n",
              "      <th>4</th>\n",
              "      <td>5.0</td>\n",
              "      <td>3.6</td>\n",
              "      <td>1.4</td>\n",
              "      <td>0.2</td>\n",
              "      <td>setosa</td>\n",
              "    </tr>\n",
              "  </tbody>\n",
              "</table>\n",
              "</div>"
            ],
            "text/plain": [
              "   sepal_length  sepal_width  petal_length  petal_width species\n",
              "0           5.1          3.5           1.4          0.2  setosa\n",
              "1           4.9          3.0           1.4          0.2  setosa\n",
              "2           4.7          3.2           1.3          0.2  setosa\n",
              "3           4.6          3.1           1.5          0.2  setosa\n",
              "4           5.0          3.6           1.4          0.2  setosa"
            ]
          },
          "execution_count": 2,
          "metadata": {},
          "output_type": "execute_result"
        }
      ],
      "source": [
        "df= sns.load_dataset(\"iris\")\n",
        "df.head()"
      ]
    },
    {
      "cell_type": "markdown",
      "metadata": {
        "id": "Im2MU34QP0IU"
      },
      "source": [
        "Con el código `.head()` se visualiza  el nombre de las columnas y las primeras cinco filas.\n",
        "\n",
        "Asimismo, al utilizar `.value_counts()`, Python indicará cuántos valores hay en una columna.\n",
        "\n",
        "En este caso, se observarán los valores que tiene la columna `species` y cuántas veces se repiten."
      ]
    },
    {
      "cell_type": "code",
      "execution_count": 3,
      "metadata": {
        "colab": {
          "base_uri": "https://localhost:8080/"
        },
        "id": "bOO1eaBFmxOG",
        "outputId": "21b960b7-ee62-470e-a627-55d9b3a6569f"
      },
      "outputs": [
        {
          "data": {
            "text/plain": [
              "species\n",
              "setosa        50\n",
              "versicolor    50\n",
              "virginica     50\n",
              "Name: count, dtype: int64"
            ]
          },
          "execution_count": 3,
          "metadata": {},
          "output_type": "execute_result"
        }
      ],
      "source": [
        "df.species.value_counts()"
      ]
    },
    {
      "cell_type": "markdown",
      "metadata": {
        "id": "JJKAFTisQdo-"
      },
      "source": [
        "Una variante al código de arriba es:\n",
        "\n",
        "1.   Elemento de la lista\n",
        "2.   Elemento de la lista\n",
        "\n",
        "\n",
        "`df['species'].value_counts()`"
      ]
    },
    {
      "cell_type": "code",
      "execution_count": 4,
      "metadata": {
        "colab": {
          "base_uri": "https://localhost:8080/"
        },
        "id": "9Gp72-a4mxL4",
        "outputId": "f91274f5-c240-4466-8a0a-0aefe6b0da59"
      },
      "outputs": [
        {
          "data": {
            "text/plain": [
              "Index(['sepal_length', 'sepal_width', 'petal_length', 'petal_width',\n",
              "       'species'],\n",
              "      dtype='object')"
            ]
          },
          "execution_count": 4,
          "metadata": {},
          "output_type": "execute_result"
        }
      ],
      "source": [
        "df.columns"
      ]
    },
    {
      "cell_type": "markdown",
      "metadata": {
        "id": "DK8JY7qCQ1Q2"
      },
      "source": [
        "Otra forma de obtener el nombre de las columnas de un conjunto de datos es utilizar `.columns`, que a diferencia de `.head()`, solo menciona el nombre de las columnas y muestra los datos de las primeras filas. Lo anterior es útil sobre todo en conjunto de datos muy grandes."
      ]
    },
    {
      "cell_type": "code",
      "execution_count": 5,
      "metadata": {
        "colab": {
          "base_uri": "https://localhost:8080/",
          "height": 300
        },
        "id": "DWtCQcfJ65MW",
        "outputId": "4f207238-a2d5-4275-9cf4-24c8f8df3b3d"
      },
      "outputs": [
        {
          "data": {
            "text/html": [
              "<div>\n",
              "<style scoped>\n",
              "    .dataframe tbody tr th:only-of-type {\n",
              "        vertical-align: middle;\n",
              "    }\n",
              "\n",
              "    .dataframe tbody tr th {\n",
              "        vertical-align: top;\n",
              "    }\n",
              "\n",
              "    .dataframe thead th {\n",
              "        text-align: right;\n",
              "    }\n",
              "</style>\n",
              "<table border=\"1\" class=\"dataframe\">\n",
              "  <thead>\n",
              "    <tr style=\"text-align: right;\">\n",
              "      <th></th>\n",
              "      <th>sepal_length</th>\n",
              "      <th>sepal_width</th>\n",
              "      <th>petal_length</th>\n",
              "      <th>petal_width</th>\n",
              "    </tr>\n",
              "  </thead>\n",
              "  <tbody>\n",
              "    <tr>\n",
              "      <th>count</th>\n",
              "      <td>150.000000</td>\n",
              "      <td>150.000000</td>\n",
              "      <td>150.000000</td>\n",
              "      <td>150.000000</td>\n",
              "    </tr>\n",
              "    <tr>\n",
              "      <th>mean</th>\n",
              "      <td>5.843333</td>\n",
              "      <td>3.057333</td>\n",
              "      <td>3.758000</td>\n",
              "      <td>1.199333</td>\n",
              "    </tr>\n",
              "    <tr>\n",
              "      <th>std</th>\n",
              "      <td>0.828066</td>\n",
              "      <td>0.435866</td>\n",
              "      <td>1.765298</td>\n",
              "      <td>0.762238</td>\n",
              "    </tr>\n",
              "    <tr>\n",
              "      <th>min</th>\n",
              "      <td>4.300000</td>\n",
              "      <td>2.000000</td>\n",
              "      <td>1.000000</td>\n",
              "      <td>0.100000</td>\n",
              "    </tr>\n",
              "    <tr>\n",
              "      <th>25%</th>\n",
              "      <td>5.100000</td>\n",
              "      <td>2.800000</td>\n",
              "      <td>1.600000</td>\n",
              "      <td>0.300000</td>\n",
              "    </tr>\n",
              "    <tr>\n",
              "      <th>50%</th>\n",
              "      <td>5.800000</td>\n",
              "      <td>3.000000</td>\n",
              "      <td>4.350000</td>\n",
              "      <td>1.300000</td>\n",
              "    </tr>\n",
              "    <tr>\n",
              "      <th>75%</th>\n",
              "      <td>6.400000</td>\n",
              "      <td>3.300000</td>\n",
              "      <td>5.100000</td>\n",
              "      <td>1.800000</td>\n",
              "    </tr>\n",
              "    <tr>\n",
              "      <th>max</th>\n",
              "      <td>7.900000</td>\n",
              "      <td>4.400000</td>\n",
              "      <td>6.900000</td>\n",
              "      <td>2.500000</td>\n",
              "    </tr>\n",
              "  </tbody>\n",
              "</table>\n",
              "</div>"
            ],
            "text/plain": [
              "       sepal_length  sepal_width  petal_length  petal_width\n",
              "count    150.000000   150.000000    150.000000   150.000000\n",
              "mean       5.843333     3.057333      3.758000     1.199333\n",
              "std        0.828066     0.435866      1.765298     0.762238\n",
              "min        4.300000     2.000000      1.000000     0.100000\n",
              "25%        5.100000     2.800000      1.600000     0.300000\n",
              "50%        5.800000     3.000000      4.350000     1.300000\n",
              "75%        6.400000     3.300000      5.100000     1.800000\n",
              "max        7.900000     4.400000      6.900000     2.500000"
            ]
          },
          "execution_count": 5,
          "metadata": {},
          "output_type": "execute_result"
        }
      ],
      "source": [
        "df.describe()"
      ]
    },
    {
      "cell_type": "markdown",
      "metadata": {
        "id": "QbZ-kjoSRZtF"
      },
      "source": [
        "Al usar `.describe()` se observan los datos estadísticos de cada variable."
      ]
    },
    {
      "cell_type": "markdown",
      "metadata": {
        "id": "O1eORfTX7Bh0"
      },
      "source": [
        "Para este caso, se aprecia que la columna `petal_with` tiene una baja varianza (valor `std`), así que podría eliminarse del conjunto de datos."
      ]
    },
    {
      "cell_type": "markdown",
      "metadata": {
        "id": "Ngdf7CdVSEDL"
      },
      "source": [
        "Sin embargo, la eliminación de la columna no se realiza de forma automática. Para hacerlo, se utiliza el siguiente código:\n",
        "\n",
        "```python\n",
        "df = df.drop('nombre_columna', axis=1)\n",
        "```"
      ]
    },
    {
      "cell_type": "markdown",
      "metadata": {
        "id": "IBTCWuJz700L"
      },
      "source": [
        "## Multicolinealidad"
      ]
    },
    {
      "cell_type": "markdown",
      "metadata": {
        "id": "q_YydHvJ3OlU"
      },
      "source": [
        "###  Factor de inflación de varianza\n",
        "\n",
        "La multicolinealidad afecta al desempeño del modelo, pues al tener una alta correlación con las variables, dificulta la detección del impacto individual de las variables. Ante esto, el factor de inflación de varianza (VIF) resulta sumamente útil para eliminar variables que presentan multicolinealidad."
      ]
    },
    {
      "cell_type": "markdown",
      "metadata": {
        "id": "NHwKzU5-LqF5"
      },
      "source": [
        "##### **Ponte a prueba**\n",
        "\n",
        "Eres un analista de datos que trabaja con un conjunto de datos sobre propiedades inmobiliarias. Este conjunto contiene numerosas características relacionadas con las propiedades, como el número de habitaciones, superficie en metros cuadrados, ubicación, entre otros.\n",
        "\n",
        "Tu objetivo es preparar este conjunto de datos para un análisis posterior, asegurándote de que las características sean relevantes y no redundantes.\n",
        "\n",
        "Puedes descargar el conjunto de datos del siguiente enlace: https://drive.google.com/file/d/1HbJVn7I9HtE4kNGTWkkdN1oZ1V9RJUrB/view?usp=sharing\n",
        "\n",
        "Tus tareas son:\n",
        "\n",
        "1. Cargar el conjunto de datos.\n",
        "2. Aplicar un filtro de baja varianza para eliminar las características que tienen una varianza por debajo de un umbral que consideres adecuado.\n",
        "3. Detectar y listar las características que presenten multicolinealidad, es decir, aquellas que estén altamente correlacionadas entre sí.\n",
        "4. Calcular el Factor de Inflación de Varianza (FIV) para las características seleccionadas y eliminar aquellas con un FIV superior a 5."
      ]
    },
    {
      "cell_type": "code",
      "execution_count": 6,
      "metadata": {},
      "outputs": [
        {
          "data": {
            "text/html": [
              "<div>\n",
              "<style scoped>\n",
              "    .dataframe tbody tr th:only-of-type {\n",
              "        vertical-align: middle;\n",
              "    }\n",
              "\n",
              "    .dataframe tbody tr th {\n",
              "        vertical-align: top;\n",
              "    }\n",
              "\n",
              "    .dataframe thead th {\n",
              "        text-align: right;\n",
              "    }\n",
              "</style>\n",
              "<table border=\"1\" class=\"dataframe\">\n",
              "  <thead>\n",
              "    <tr style=\"text-align: right;\">\n",
              "      <th></th>\n",
              "      <th>num_habitaciones</th>\n",
              "      <th>superficie_m2</th>\n",
              "      <th>num_baños</th>\n",
              "      <th>edad_propiedad</th>\n",
              "      <th>distancia_centro</th>\n",
              "      <th>num_colegios_cerca</th>\n",
              "      <th>precio_m2_cercano</th>\n",
              "      <th>num_comercios_cerca</th>\n",
              "      <th>superficie_por_habitacion</th>\n",
              "    </tr>\n",
              "  </thead>\n",
              "  <tbody>\n",
              "    <tr>\n",
              "      <th>0</th>\n",
              "      <td>-1.889541</td>\n",
              "      <td>-0.681052</td>\n",
              "      <td>-0.446183</td>\n",
              "      <td>0.128104</td>\n",
              "      <td>-0.652624</td>\n",
              "      <td>-1.430775</td>\n",
              "      <td>-0.040158</td>\n",
              "      <td>0.840644</td>\n",
              "      <td>0.360432</td>\n",
              "    </tr>\n",
              "    <tr>\n",
              "      <th>1</th>\n",
              "      <td>-0.080717</td>\n",
              "      <td>-0.037222</td>\n",
              "      <td>0.732640</td>\n",
              "      <td>-0.071601</td>\n",
              "      <td>0.051946</td>\n",
              "      <td>-0.196350</td>\n",
              "      <td>-0.259042</td>\n",
              "      <td>0.727630</td>\n",
              "      <td>0.461147</td>\n",
              "    </tr>\n",
              "    <tr>\n",
              "      <th>2</th>\n",
              "      <td>1.345420</td>\n",
              "      <td>0.223884</td>\n",
              "      <td>1.882024</td>\n",
              "      <td>0.481009</td>\n",
              "      <td>0.471468</td>\n",
              "      <td>0.725767</td>\n",
              "      <td>0.109395</td>\n",
              "      <td>-0.790474</td>\n",
              "      <td>0.166405</td>\n",
              "    </tr>\n",
              "    <tr>\n",
              "      <th>3</th>\n",
              "      <td>-0.385314</td>\n",
              "      <td>0.462103</td>\n",
              "      <td>0.069802</td>\n",
              "      <td>-0.981509</td>\n",
              "      <td>-0.600217</td>\n",
              "      <td>0.010233</td>\n",
              "      <td>1.163164</td>\n",
              "      <td>0.199060</td>\n",
              "      <td>-1.199292</td>\n",
              "    </tr>\n",
              "    <tr>\n",
              "      <th>4</th>\n",
              "      <td>0.734878</td>\n",
              "      <td>0.282580</td>\n",
              "      <td>0.490975</td>\n",
              "      <td>-0.167122</td>\n",
              "      <td>1.607346</td>\n",
              "      <td>-0.583077</td>\n",
              "      <td>0.860473</td>\n",
              "      <td>-0.248691</td>\n",
              "      <td>0.384526</td>\n",
              "    </tr>\n",
              "    <tr>\n",
              "      <th>...</th>\n",
              "      <td>...</td>\n",
              "      <td>...</td>\n",
              "      <td>...</td>\n",
              "      <td>...</td>\n",
              "      <td>...</td>\n",
              "      <td>...</td>\n",
              "      <td>...</td>\n",
              "      <td>...</td>\n",
              "      <td>...</td>\n",
              "    </tr>\n",
              "    <tr>\n",
              "      <th>295</th>\n",
              "      <td>0.346448</td>\n",
              "      <td>-1.320457</td>\n",
              "      <td>0.250493</td>\n",
              "      <td>-1.236951</td>\n",
              "      <td>0.296985</td>\n",
              "      <td>0.781823</td>\n",
              "      <td>0.259883</td>\n",
              "      <td>0.521942</td>\n",
              "      <td>-3.811411</td>\n",
              "    </tr>\n",
              "    <tr>\n",
              "      <th>296</th>\n",
              "      <td>0.216459</td>\n",
              "      <td>-1.077745</td>\n",
              "      <td>-0.730367</td>\n",
              "      <td>0.064280</td>\n",
              "      <td>0.679598</td>\n",
              "      <td>1.088951</td>\n",
              "      <td>-0.471932</td>\n",
              "      <td>-0.715304</td>\n",
              "      <td>-4.978988</td>\n",
              "    </tr>\n",
              "    <tr>\n",
              "      <th>297</th>\n",
              "      <td>-1.081548</td>\n",
              "      <td>0.203464</td>\n",
              "      <td>-0.646573</td>\n",
              "      <td>-1.606446</td>\n",
              "      <td>-1.422254</td>\n",
              "      <td>-0.955540</td>\n",
              "      <td>-0.127918</td>\n",
              "      <td>-0.756351</td>\n",
              "      <td>-0.188123</td>\n",
              "    </tr>\n",
              "    <tr>\n",
              "      <th>298</th>\n",
              "      <td>1.441569</td>\n",
              "      <td>-0.576892</td>\n",
              "      <td>0.529804</td>\n",
              "      <td>1.006293</td>\n",
              "      <td>-1.129707</td>\n",
              "      <td>-0.384556</td>\n",
              "      <td>-0.860413</td>\n",
              "      <td>0.835692</td>\n",
              "      <td>-0.400183</td>\n",
              "    </tr>\n",
              "    <tr>\n",
              "      <th>299</th>\n",
              "      <td>-1.142970</td>\n",
              "      <td>0.385317</td>\n",
              "      <td>0.058209</td>\n",
              "      <td>0.173181</td>\n",
              "      <td>0.153725</td>\n",
              "      <td>-1.245739</td>\n",
              "      <td>0.214094</td>\n",
              "      <td>-0.883857</td>\n",
              "      <td>-0.337119</td>\n",
              "    </tr>\n",
              "  </tbody>\n",
              "</table>\n",
              "<p>300 rows × 9 columns</p>\n",
              "</div>"
            ],
            "text/plain": [
              "     num_habitaciones  superficie_m2  num_baños  edad_propiedad  \\\n",
              "0           -1.889541      -0.681052  -0.446183        0.128104   \n",
              "1           -0.080717      -0.037222   0.732640       -0.071601   \n",
              "2            1.345420       0.223884   1.882024        0.481009   \n",
              "3           -0.385314       0.462103   0.069802       -0.981509   \n",
              "4            0.734878       0.282580   0.490975       -0.167122   \n",
              "..                ...            ...        ...             ...   \n",
              "295          0.346448      -1.320457   0.250493       -1.236951   \n",
              "296          0.216459      -1.077745  -0.730367        0.064280   \n",
              "297         -1.081548       0.203464  -0.646573       -1.606446   \n",
              "298          1.441569      -0.576892   0.529804        1.006293   \n",
              "299         -1.142970       0.385317   0.058209        0.173181   \n",
              "\n",
              "     distancia_centro  num_colegios_cerca  precio_m2_cercano  \\\n",
              "0           -0.652624           -1.430775          -0.040158   \n",
              "1            0.051946           -0.196350          -0.259042   \n",
              "2            0.471468            0.725767           0.109395   \n",
              "3           -0.600217            0.010233           1.163164   \n",
              "4            1.607346           -0.583077           0.860473   \n",
              "..                ...                 ...                ...   \n",
              "295          0.296985            0.781823           0.259883   \n",
              "296          0.679598            1.088951          -0.471932   \n",
              "297         -1.422254           -0.955540          -0.127918   \n",
              "298         -1.129707           -0.384556          -0.860413   \n",
              "299          0.153725           -1.245739           0.214094   \n",
              "\n",
              "     num_comercios_cerca  superficie_por_habitacion  \n",
              "0               0.840644                   0.360432  \n",
              "1               0.727630                   0.461147  \n",
              "2              -0.790474                   0.166405  \n",
              "3               0.199060                  -1.199292  \n",
              "4              -0.248691                   0.384526  \n",
              "..                   ...                        ...  \n",
              "295             0.521942                  -3.811411  \n",
              "296            -0.715304                  -4.978988  \n",
              "297            -0.756351                  -0.188123  \n",
              "298             0.835692                  -0.400183  \n",
              "299            -0.883857                  -0.337119  \n",
              "\n",
              "[300 rows x 9 columns]"
            ]
          },
          "execution_count": 6,
          "metadata": {},
          "output_type": "execute_result"
        }
      ],
      "source": [
        "#1. Cargar el conjunto de datos\n",
        "df_original = pd.read_csv(r\"C:\\Users\\Equipo 1\\Downloads\\datasets\\dataset_propiedades.csv\")\n",
        "df_original"
      ]
    },
    {
      "cell_type": "code",
      "execution_count": 7,
      "metadata": {},
      "outputs": [
        {
          "data": {
            "text/html": [
              "<div>\n",
              "<style scoped>\n",
              "    .dataframe tbody tr th:only-of-type {\n",
              "        vertical-align: middle;\n",
              "    }\n",
              "\n",
              "    .dataframe tbody tr th {\n",
              "        vertical-align: top;\n",
              "    }\n",
              "\n",
              "    .dataframe thead th {\n",
              "        text-align: right;\n",
              "    }\n",
              "</style>\n",
              "<table border=\"1\" class=\"dataframe\">\n",
              "  <thead>\n",
              "    <tr style=\"text-align: right;\">\n",
              "      <th></th>\n",
              "      <th>num_habitaciones</th>\n",
              "      <th>superficie_m2</th>\n",
              "      <th>num_baños</th>\n",
              "      <th>edad_propiedad</th>\n",
              "      <th>distancia_centro</th>\n",
              "      <th>num_colegios_cerca</th>\n",
              "      <th>precio_m2_cercano</th>\n",
              "      <th>num_comercios_cerca</th>\n",
              "      <th>superficie_por_habitacion</th>\n",
              "    </tr>\n",
              "  </thead>\n",
              "  <tbody>\n",
              "    <tr>\n",
              "      <th>count</th>\n",
              "      <td>300.000000</td>\n",
              "      <td>300.000000</td>\n",
              "      <td>300.000000</td>\n",
              "      <td>300.000000</td>\n",
              "      <td>300.000000</td>\n",
              "      <td>300.000000</td>\n",
              "      <td>300.000000</td>\n",
              "      <td>300.000000</td>\n",
              "      <td>300.000000</td>\n",
              "    </tr>\n",
              "    <tr>\n",
              "      <th>mean</th>\n",
              "      <td>-0.016261</td>\n",
              "      <td>0.081150</td>\n",
              "      <td>0.017859</td>\n",
              "      <td>0.009847</td>\n",
              "      <td>-0.000781</td>\n",
              "      <td>0.146271</td>\n",
              "      <td>-0.007816</td>\n",
              "      <td>0.021867</td>\n",
              "      <td>-0.676677</td>\n",
              "    </tr>\n",
              "    <tr>\n",
              "      <th>std</th>\n",
              "      <td>1.007014</td>\n",
              "      <td>1.004157</td>\n",
              "      <td>1.031267</td>\n",
              "      <td>0.990886</td>\n",
              "      <td>1.001585</td>\n",
              "      <td>0.982934</td>\n",
              "      <td>0.942071</td>\n",
              "      <td>0.923414</td>\n",
              "      <td>12.199273</td>\n",
              "    </tr>\n",
              "    <tr>\n",
              "      <th>min</th>\n",
              "      <td>-2.921350</td>\n",
              "      <td>-2.940389</td>\n",
              "      <td>-3.241267</td>\n",
              "      <td>-2.619745</td>\n",
              "      <td>-2.896255</td>\n",
              "      <td>-2.423879</td>\n",
              "      <td>-3.019512</td>\n",
              "      <td>-2.650970</td>\n",
              "      <td>-175.591770</td>\n",
              "    </tr>\n",
              "    <tr>\n",
              "      <th>25%</th>\n",
              "      <td>-0.670871</td>\n",
              "      <td>-0.650283</td>\n",
              "      <td>-0.630410</td>\n",
              "      <td>-0.623746</td>\n",
              "      <td>-0.680168</td>\n",
              "      <td>-0.530901</td>\n",
              "      <td>-0.612024</td>\n",
              "      <td>-0.625143</td>\n",
              "      <td>-1.221648</td>\n",
              "    </tr>\n",
              "    <tr>\n",
              "      <th>50%</th>\n",
              "      <td>-0.056247</td>\n",
              "      <td>0.109007</td>\n",
              "      <td>0.019614</td>\n",
              "      <td>0.008708</td>\n",
              "      <td>-0.031741</td>\n",
              "      <td>0.184295</td>\n",
              "      <td>0.006765</td>\n",
              "      <td>0.048691</td>\n",
              "      <td>-0.104618</td>\n",
              "    </tr>\n",
              "    <tr>\n",
              "      <th>75%</th>\n",
              "      <td>0.621547</td>\n",
              "      <td>0.744011</td>\n",
              "      <td>0.708524</td>\n",
              "      <td>0.667587</td>\n",
              "      <td>0.612741</td>\n",
              "      <td>0.779118</td>\n",
              "      <td>0.601459</td>\n",
              "      <td>0.635677</td>\n",
              "      <td>0.994745</td>\n",
              "    </tr>\n",
              "    <tr>\n",
              "      <th>max</th>\n",
              "      <td>3.193108</td>\n",
              "      <td>2.759660</td>\n",
              "      <td>3.078881</td>\n",
              "      <td>2.560085</td>\n",
              "      <td>3.137749</td>\n",
              "      <td>3.852731</td>\n",
              "      <td>2.526932</td>\n",
              "      <td>2.403416</td>\n",
              "      <td>38.878085</td>\n",
              "    </tr>\n",
              "  </tbody>\n",
              "</table>\n",
              "</div>"
            ],
            "text/plain": [
              "       num_habitaciones  superficie_m2   num_baños  edad_propiedad  \\\n",
              "count        300.000000     300.000000  300.000000      300.000000   \n",
              "mean          -0.016261       0.081150    0.017859        0.009847   \n",
              "std            1.007014       1.004157    1.031267        0.990886   \n",
              "min           -2.921350      -2.940389   -3.241267       -2.619745   \n",
              "25%           -0.670871      -0.650283   -0.630410       -0.623746   \n",
              "50%           -0.056247       0.109007    0.019614        0.008708   \n",
              "75%            0.621547       0.744011    0.708524        0.667587   \n",
              "max            3.193108       2.759660    3.078881        2.560085   \n",
              "\n",
              "       distancia_centro  num_colegios_cerca  precio_m2_cercano  \\\n",
              "count        300.000000          300.000000         300.000000   \n",
              "mean          -0.000781            0.146271          -0.007816   \n",
              "std            1.001585            0.982934           0.942071   \n",
              "min           -2.896255           -2.423879          -3.019512   \n",
              "25%           -0.680168           -0.530901          -0.612024   \n",
              "50%           -0.031741            0.184295           0.006765   \n",
              "75%            0.612741            0.779118           0.601459   \n",
              "max            3.137749            3.852731           2.526932   \n",
              "\n",
              "       num_comercios_cerca  superficie_por_habitacion  \n",
              "count           300.000000                 300.000000  \n",
              "mean              0.021867                  -0.676677  \n",
              "std               0.923414                  12.199273  \n",
              "min              -2.650970                -175.591770  \n",
              "25%              -0.625143                  -1.221648  \n",
              "50%               0.048691                  -0.104618  \n",
              "75%               0.635677                   0.994745  \n",
              "max               2.403416                  38.878085  "
            ]
          },
          "execution_count": 7,
          "metadata": {},
          "output_type": "execute_result"
        }
      ],
      "source": [
        "#2. Aplicar un filtro de baja varianza para eliminar las características que \n",
        "#tienen una varianza por debajo de un umbral que consideres adecuado.\n",
        "df_original.describe()"
      ]
    },
    {
      "cell_type": "code",
      "execution_count": 8,
      "metadata": {},
      "outputs": [
        {
          "name": "stdout",
          "output_type": "stream",
          "text": [
            "<class 'pandas.core.frame.DataFrame'>\n",
            "RangeIndex: 300 entries, 0 to 299\n",
            "Data columns (total 9 columns):\n",
            " #   Column                     Non-Null Count  Dtype  \n",
            "---  ------                     --------------  -----  \n",
            " 0   num_habitaciones           300 non-null    float64\n",
            " 1   superficie_m2              300 non-null    float64\n",
            " 2   num_baños                  300 non-null    float64\n",
            " 3   edad_propiedad             300 non-null    float64\n",
            " 4   distancia_centro           300 non-null    float64\n",
            " 5   num_colegios_cerca         300 non-null    float64\n",
            " 6   precio_m2_cercano          300 non-null    float64\n",
            " 7   num_comercios_cerca        300 non-null    float64\n",
            " 8   superficie_por_habitacion  300 non-null    float64\n",
            "dtypes: float64(9)\n",
            "memory usage: 21.2 KB\n"
          ]
        }
      ],
      "source": [
        "df_original.info() #todos los datos están completos"
      ]
    },
    {
      "cell_type": "code",
      "execution_count": 9,
      "metadata": {},
      "outputs": [
        {
          "data": {
            "text/html": [
              "<div>\n",
              "<style scoped>\n",
              "    .dataframe tbody tr th:only-of-type {\n",
              "        vertical-align: middle;\n",
              "    }\n",
              "\n",
              "    .dataframe tbody tr th {\n",
              "        vertical-align: top;\n",
              "    }\n",
              "\n",
              "    .dataframe thead th {\n",
              "        text-align: right;\n",
              "    }\n",
              "</style>\n",
              "<table border=\"1\" class=\"dataframe\">\n",
              "  <thead>\n",
              "    <tr style=\"text-align: right;\">\n",
              "      <th></th>\n",
              "      <th>num_habitaciones</th>\n",
              "      <th>superficie_m2</th>\n",
              "      <th>num_baños</th>\n",
              "      <th>edad_propiedad</th>\n",
              "      <th>distancia_centro</th>\n",
              "      <th>num_colegios_cerca</th>\n",
              "      <th>precio_m2_cercano</th>\n",
              "      <th>superficie_por_habitacion</th>\n",
              "    </tr>\n",
              "  </thead>\n",
              "  <tbody>\n",
              "    <tr>\n",
              "      <th>count</th>\n",
              "      <td>300.000000</td>\n",
              "      <td>300.000000</td>\n",
              "      <td>300.000000</td>\n",
              "      <td>300.000000</td>\n",
              "      <td>300.000000</td>\n",
              "      <td>300.000000</td>\n",
              "      <td>300.000000</td>\n",
              "      <td>300.000000</td>\n",
              "    </tr>\n",
              "    <tr>\n",
              "      <th>mean</th>\n",
              "      <td>-0.016261</td>\n",
              "      <td>0.081150</td>\n",
              "      <td>0.017859</td>\n",
              "      <td>0.009847</td>\n",
              "      <td>-0.000781</td>\n",
              "      <td>0.146271</td>\n",
              "      <td>-0.007816</td>\n",
              "      <td>-0.676677</td>\n",
              "    </tr>\n",
              "    <tr>\n",
              "      <th>std</th>\n",
              "      <td>1.007014</td>\n",
              "      <td>1.004157</td>\n",
              "      <td>1.031267</td>\n",
              "      <td>0.990886</td>\n",
              "      <td>1.001585</td>\n",
              "      <td>0.982934</td>\n",
              "      <td>0.942071</td>\n",
              "      <td>12.199273</td>\n",
              "    </tr>\n",
              "    <tr>\n",
              "      <th>min</th>\n",
              "      <td>-2.921350</td>\n",
              "      <td>-2.940389</td>\n",
              "      <td>-3.241267</td>\n",
              "      <td>-2.619745</td>\n",
              "      <td>-2.896255</td>\n",
              "      <td>-2.423879</td>\n",
              "      <td>-3.019512</td>\n",
              "      <td>-175.591770</td>\n",
              "    </tr>\n",
              "    <tr>\n",
              "      <th>25%</th>\n",
              "      <td>-0.670871</td>\n",
              "      <td>-0.650283</td>\n",
              "      <td>-0.630410</td>\n",
              "      <td>-0.623746</td>\n",
              "      <td>-0.680168</td>\n",
              "      <td>-0.530901</td>\n",
              "      <td>-0.612024</td>\n",
              "      <td>-1.221648</td>\n",
              "    </tr>\n",
              "    <tr>\n",
              "      <th>50%</th>\n",
              "      <td>-0.056247</td>\n",
              "      <td>0.109007</td>\n",
              "      <td>0.019614</td>\n",
              "      <td>0.008708</td>\n",
              "      <td>-0.031741</td>\n",
              "      <td>0.184295</td>\n",
              "      <td>0.006765</td>\n",
              "      <td>-0.104618</td>\n",
              "    </tr>\n",
              "    <tr>\n",
              "      <th>75%</th>\n",
              "      <td>0.621547</td>\n",
              "      <td>0.744011</td>\n",
              "      <td>0.708524</td>\n",
              "      <td>0.667587</td>\n",
              "      <td>0.612741</td>\n",
              "      <td>0.779118</td>\n",
              "      <td>0.601459</td>\n",
              "      <td>0.994745</td>\n",
              "    </tr>\n",
              "    <tr>\n",
              "      <th>max</th>\n",
              "      <td>3.193108</td>\n",
              "      <td>2.759660</td>\n",
              "      <td>3.078881</td>\n",
              "      <td>2.560085</td>\n",
              "      <td>3.137749</td>\n",
              "      <td>3.852731</td>\n",
              "      <td>2.526932</td>\n",
              "      <td>38.878085</td>\n",
              "    </tr>\n",
              "  </tbody>\n",
              "</table>\n",
              "</div>"
            ],
            "text/plain": [
              "       num_habitaciones  superficie_m2   num_baños  edad_propiedad  \\\n",
              "count        300.000000     300.000000  300.000000      300.000000   \n",
              "mean          -0.016261       0.081150    0.017859        0.009847   \n",
              "std            1.007014       1.004157    1.031267        0.990886   \n",
              "min           -2.921350      -2.940389   -3.241267       -2.619745   \n",
              "25%           -0.670871      -0.650283   -0.630410       -0.623746   \n",
              "50%           -0.056247       0.109007    0.019614        0.008708   \n",
              "75%            0.621547       0.744011    0.708524        0.667587   \n",
              "max            3.193108       2.759660    3.078881        2.560085   \n",
              "\n",
              "       distancia_centro  num_colegios_cerca  precio_m2_cercano  \\\n",
              "count        300.000000          300.000000         300.000000   \n",
              "mean          -0.000781            0.146271          -0.007816   \n",
              "std            1.001585            0.982934           0.942071   \n",
              "min           -2.896255           -2.423879          -3.019512   \n",
              "25%           -0.680168           -0.530901          -0.612024   \n",
              "50%           -0.031741            0.184295           0.006765   \n",
              "75%            0.612741            0.779118           0.601459   \n",
              "max            3.137749            3.852731           2.526932   \n",
              "\n",
              "       superficie_por_habitacion  \n",
              "count                 300.000000  \n",
              "mean                   -0.676677  \n",
              "std                    12.199273  \n",
              "min                  -175.591770  \n",
              "25%                    -1.221648  \n",
              "50%                    -0.104618  \n",
              "75%                     0.994745  \n",
              "max                    38.878085  "
            ]
          },
          "execution_count": 9,
          "metadata": {},
          "output_type": "execute_result"
        }
      ],
      "source": [
        "df_varianza_baja = df_original.drop('num_comercios_cerca',axis=1)\n",
        "df_varianza_baja.describe()"
      ]
    },
    {
      "cell_type": "markdown",
      "metadata": {},
      "source": [
        "### 3. Detectar y listar las características que presenten multicolinealidad, es decir, aquellas que estén altamente correlacionadas entre sí."
      ]
    },
    {
      "cell_type": "markdown",
      "metadata": {},
      "source": [
        "#### Superficie_m2 y superficie_por_habitacion"
      ]
    },
    {
      "cell_type": "code",
      "execution_count": 11,
      "metadata": {},
      "outputs": [
        {
          "data": {
            "text/html": [
              "<style type=\"text/css\">\n",
              "#T_d2460_row0_col0, #T_d2460_row1_col1, #T_d2460_row2_col2, #T_d2460_row3_col3, #T_d2460_row4_col4, #T_d2460_row5_col5, #T_d2460_row6_col6, #T_d2460_row7_col7 {\n",
              "  background-color: #b40426;\n",
              "  color: #f1f1f1;\n",
              "}\n",
              "#T_d2460_row0_col1 {\n",
              "  background-color: #3c4ec2;\n",
              "  color: #f1f1f1;\n",
              "}\n",
              "#T_d2460_row0_col2, #T_d2460_row1_col2 {\n",
              "  background-color: #5470de;\n",
              "  color: #f1f1f1;\n",
              "}\n",
              "#T_d2460_row0_col3, #T_d2460_row6_col3 {\n",
              "  background-color: #465ecf;\n",
              "  color: #f1f1f1;\n",
              "}\n",
              "#T_d2460_row0_col4, #T_d2460_row1_col6, #T_d2460_row2_col1, #T_d2460_row7_col0 {\n",
              "  background-color: #516ddb;\n",
              "  color: #f1f1f1;\n",
              "}\n",
              "#T_d2460_row0_col5 {\n",
              "  background-color: #779af7;\n",
              "  color: #f1f1f1;\n",
              "}\n",
              "#T_d2460_row0_col6, #T_d2460_row6_col1 {\n",
              "  background-color: #3e51c5;\n",
              "  color: #f1f1f1;\n",
              "}\n",
              "#T_d2460_row0_col7, #T_d2460_row5_col6, #T_d2460_row5_col7, #T_d2460_row6_col5, #T_d2460_row7_col5 {\n",
              "  background-color: #5572df;\n",
              "  color: #f1f1f1;\n",
              "}\n",
              "#T_d2460_row1_col0, #T_d2460_row3_col5 {\n",
              "  background-color: #4a63d3;\n",
              "  color: #f1f1f1;\n",
              "}\n",
              "#T_d2460_row1_col3 {\n",
              "  background-color: #4f69d9;\n",
              "  color: #f1f1f1;\n",
              "}\n",
              "#T_d2460_row1_col4 {\n",
              "  background-color: #5673e0;\n",
              "  color: #f1f1f1;\n",
              "}\n",
              "#T_d2460_row1_col5, #T_d2460_row2_col5 {\n",
              "  background-color: #5977e3;\n",
              "  color: #f1f1f1;\n",
              "}\n",
              "#T_d2460_row1_col7 {\n",
              "  background-color: #4c66d6;\n",
              "  color: #f1f1f1;\n",
              "}\n",
              "#T_d2460_row2_col0 {\n",
              "  background-color: #5f7fe8;\n",
              "  color: #f1f1f1;\n",
              "}\n",
              "#T_d2460_row2_col3, #T_d2460_row3_col1, #T_d2460_row4_col2, #T_d2460_row5_col3 {\n",
              "  background-color: #4358cb;\n",
              "  color: #f1f1f1;\n",
              "}\n",
              "#T_d2460_row2_col4, #T_d2460_row7_col2 {\n",
              "  background-color: #536edd;\n",
              "  color: #f1f1f1;\n",
              "}\n",
              "#T_d2460_row2_col6 {\n",
              "  background-color: #4b64d5;\n",
              "  color: #f1f1f1;\n",
              "}\n",
              "#T_d2460_row2_col7 {\n",
              "  background-color: #6282ea;\n",
              "  color: #f1f1f1;\n",
              "}\n",
              "#T_d2460_row3_col0, #T_d2460_row5_col2 {\n",
              "  background-color: #4961d2;\n",
              "  color: #f1f1f1;\n",
              "}\n",
              "#T_d2460_row3_col2, #T_d2460_row4_col3, #T_d2460_row4_col5, #T_d2460_row5_col4, #T_d2460_row6_col0, #T_d2460_row6_col2, #T_d2460_row6_col7, #T_d2460_row7_col1, #T_d2460_row7_col6 {\n",
              "  background-color: #3b4cc0;\n",
              "  color: #f1f1f1;\n",
              "}\n",
              "#T_d2460_row3_col4 {\n",
              "  background-color: #4257c9;\n",
              "  color: #f1f1f1;\n",
              "}\n",
              "#T_d2460_row3_col6, #T_d2460_row4_col0 {\n",
              "  background-color: #4e68d8;\n",
              "  color: #f1f1f1;\n",
              "}\n",
              "#T_d2460_row3_col7 {\n",
              "  background-color: #485fd1;\n",
              "  color: #f1f1f1;\n",
              "}\n",
              "#T_d2460_row4_col1 {\n",
              "  background-color: #445acc;\n",
              "  color: #f1f1f1;\n",
              "}\n",
              "#T_d2460_row4_col6, #T_d2460_row4_col7, #T_d2460_row6_col4, #T_d2460_row7_col4 {\n",
              "  background-color: #506bda;\n",
              "  color: #f1f1f1;\n",
              "}\n",
              "#T_d2460_row5_col0 {\n",
              "  background-color: #7396f5;\n",
              "  color: #f1f1f1;\n",
              "}\n",
              "#T_d2460_row5_col1 {\n",
              "  background-color: #455cce;\n",
              "  color: #f1f1f1;\n",
              "}\n",
              "#T_d2460_row7_col3 {\n",
              "  background-color: #4055c8;\n",
              "  color: #f1f1f1;\n",
              "}\n",
              "</style>\n",
              "<table id=\"T_d2460\">\n",
              "  <thead>\n",
              "    <tr>\n",
              "      <th class=\"blank level0\" >&nbsp;</th>\n",
              "      <th id=\"T_d2460_level0_col0\" class=\"col_heading level0 col0\" >num_habitaciones</th>\n",
              "      <th id=\"T_d2460_level0_col1\" class=\"col_heading level0 col1\" >superficie_m2</th>\n",
              "      <th id=\"T_d2460_level0_col2\" class=\"col_heading level0 col2\" >num_baños</th>\n",
              "      <th id=\"T_d2460_level0_col3\" class=\"col_heading level0 col3\" >edad_propiedad</th>\n",
              "      <th id=\"T_d2460_level0_col4\" class=\"col_heading level0 col4\" >distancia_centro</th>\n",
              "      <th id=\"T_d2460_level0_col5\" class=\"col_heading level0 col5\" >num_colegios_cerca</th>\n",
              "      <th id=\"T_d2460_level0_col6\" class=\"col_heading level0 col6\" >precio_m2_cercano</th>\n",
              "      <th id=\"T_d2460_level0_col7\" class=\"col_heading level0 col7\" >superficie_por_habitacion</th>\n",
              "    </tr>\n",
              "  </thead>\n",
              "  <tbody>\n",
              "    <tr>\n",
              "      <th id=\"T_d2460_level0_row0\" class=\"row_heading level0 row0\" >num_habitaciones</th>\n",
              "      <td id=\"T_d2460_row0_col0\" class=\"data row0 col0\" >1.000000</td>\n",
              "      <td id=\"T_d2460_row0_col1\" class=\"data row0 col1\" >-0.017961</td>\n",
              "      <td id=\"T_d2460_row0_col2\" class=\"data row0 col2\" >0.054328</td>\n",
              "      <td id=\"T_d2460_row0_col3\" class=\"data row0 col3\" >-0.023149</td>\n",
              "      <td id=\"T_d2460_row0_col4\" class=\"data row0 col4\" >-0.007143</td>\n",
              "      <td id=\"T_d2460_row0_col5\" class=\"data row0 col5\" >0.115883</td>\n",
              "      <td id=\"T_d2460_row0_col6\" class=\"data row0 col6\" >-0.075769</td>\n",
              "      <td id=\"T_d2460_row0_col7\" class=\"data row0 col7\" >0.005729</td>\n",
              "    </tr>\n",
              "    <tr>\n",
              "      <th id=\"T_d2460_level0_row1\" class=\"row_heading level0 row1\" >superficie_m2</th>\n",
              "      <td id=\"T_d2460_row1_col0\" class=\"data row1 col0\" >-0.017961</td>\n",
              "      <td id=\"T_d2460_row1_col1\" class=\"data row1 col1\" >1.000000</td>\n",
              "      <td id=\"T_d2460_row1_col2\" class=\"data row1 col2\" >0.052703</td>\n",
              "      <td id=\"T_d2460_row1_col3\" class=\"data row1 col3\" >0.006131</td>\n",
              "      <td id=\"T_d2460_row1_col4\" class=\"data row1 col4\" >0.007687</td>\n",
              "      <td id=\"T_d2460_row1_col5\" class=\"data row1 col5\" >0.014924</td>\n",
              "      <td id=\"T_d2460_row1_col6\" class=\"data row1 col6\" >-0.009844</td>\n",
              "      <td id=\"T_d2460_row1_col7\" class=\"data row1 col7\" >-0.024680</td>\n",
              "    </tr>\n",
              "    <tr>\n",
              "      <th id=\"T_d2460_level0_row2\" class=\"row_heading level0 row2\" >num_baños</th>\n",
              "      <td id=\"T_d2460_row2_col0\" class=\"data row2 col0\" >0.054328</td>\n",
              "      <td id=\"T_d2460_row2_col1\" class=\"data row2 col1\" >0.052703</td>\n",
              "      <td id=\"T_d2460_row2_col2\" class=\"data row2 col2\" >1.000000</td>\n",
              "      <td id=\"T_d2460_row2_col3\" class=\"data row2 col3\" >-0.033133</td>\n",
              "      <td id=\"T_d2460_row2_col4\" class=\"data row2 col4\" >-0.003919</td>\n",
              "      <td id=\"T_d2460_row2_col5\" class=\"data row2 col5\" >0.017945</td>\n",
              "      <td id=\"T_d2460_row2_col6\" class=\"data row2 col6\" >-0.029536</td>\n",
              "      <td id=\"T_d2460_row2_col7\" class=\"data row2 col7\" >0.047758</td>\n",
              "    </tr>\n",
              "    <tr>\n",
              "      <th id=\"T_d2460_level0_row3\" class=\"row_heading level0 row3\" >edad_propiedad</th>\n",
              "      <td id=\"T_d2460_row3_col0\" class=\"data row3 col0\" >-0.023149</td>\n",
              "      <td id=\"T_d2460_row3_col1\" class=\"data row3 col1\" >0.006131</td>\n",
              "      <td id=\"T_d2460_row3_col2\" class=\"data row3 col2\" >-0.033133</td>\n",
              "      <td id=\"T_d2460_row3_col3\" class=\"data row3 col3\" >1.000000</td>\n",
              "      <td id=\"T_d2460_row3_col4\" class=\"data row3 col4\" >-0.065704</td>\n",
              "      <td id=\"T_d2460_row3_col5\" class=\"data row3 col5\" >-0.035391</td>\n",
              "      <td id=\"T_d2460_row3_col6\" class=\"data row3 col6\" >-0.020762</td>\n",
              "      <td id=\"T_d2460_row3_col7\" class=\"data row3 col7\" >-0.042542</td>\n",
              "    </tr>\n",
              "    <tr>\n",
              "      <th id=\"T_d2460_level0_row4\" class=\"row_heading level0 row4\" >distancia_centro</th>\n",
              "      <td id=\"T_d2460_row4_col0\" class=\"data row4 col0\" >-0.007143</td>\n",
              "      <td id=\"T_d2460_row4_col1\" class=\"data row4 col1\" >0.007687</td>\n",
              "      <td id=\"T_d2460_row4_col2\" class=\"data row4 col2\" >-0.003919</td>\n",
              "      <td id=\"T_d2460_row4_col3\" class=\"data row4 col3\" >-0.065704</td>\n",
              "      <td id=\"T_d2460_row4_col4\" class=\"data row4 col4\" >1.000000</td>\n",
              "      <td id=\"T_d2460_row4_col5\" class=\"data row4 col5\" >-0.092069</td>\n",
              "      <td id=\"T_d2460_row4_col6\" class=\"data row4 col6\" >-0.011715</td>\n",
              "      <td id=\"T_d2460_row4_col7\" class=\"data row4 col7\" >-0.012038</td>\n",
              "    </tr>\n",
              "    <tr>\n",
              "      <th id=\"T_d2460_level0_row5\" class=\"row_heading level0 row5\" >num_colegios_cerca</th>\n",
              "      <td id=\"T_d2460_row5_col0\" class=\"data row5 col0\" >0.115883</td>\n",
              "      <td id=\"T_d2460_row5_col1\" class=\"data row5 col1\" >0.014924</td>\n",
              "      <td id=\"T_d2460_row5_col2\" class=\"data row5 col2\" >0.017945</td>\n",
              "      <td id=\"T_d2460_row5_col3\" class=\"data row5 col3\" >-0.035391</td>\n",
              "      <td id=\"T_d2460_row5_col4\" class=\"data row5 col4\" >-0.092069</td>\n",
              "      <td id=\"T_d2460_row5_col5\" class=\"data row5 col5\" >1.000000</td>\n",
              "      <td id=\"T_d2460_row5_col6\" class=\"data row5 col6\" >0.002345</td>\n",
              "      <td id=\"T_d2460_row5_col7\" class=\"data row5 col7\" >0.005212</td>\n",
              "    </tr>\n",
              "    <tr>\n",
              "      <th id=\"T_d2460_level0_row6\" class=\"row_heading level0 row6\" >precio_m2_cercano</th>\n",
              "      <td id=\"T_d2460_row6_col0\" class=\"data row6 col0\" >-0.075769</td>\n",
              "      <td id=\"T_d2460_row6_col1\" class=\"data row6 col1\" >-0.009844</td>\n",
              "      <td id=\"T_d2460_row6_col2\" class=\"data row6 col2\" >-0.029536</td>\n",
              "      <td id=\"T_d2460_row6_col3\" class=\"data row6 col3\" >-0.020762</td>\n",
              "      <td id=\"T_d2460_row6_col4\" class=\"data row6 col4\" >-0.011715</td>\n",
              "      <td id=\"T_d2460_row6_col5\" class=\"data row6 col5\" >0.002345</td>\n",
              "      <td id=\"T_d2460_row6_col6\" class=\"data row6 col6\" >1.000000</td>\n",
              "      <td id=\"T_d2460_row6_col7\" class=\"data row6 col7\" >-0.091842</td>\n",
              "    </tr>\n",
              "    <tr>\n",
              "      <th id=\"T_d2460_level0_row7\" class=\"row_heading level0 row7\" >superficie_por_habitacion</th>\n",
              "      <td id=\"T_d2460_row7_col0\" class=\"data row7 col0\" >0.005729</td>\n",
              "      <td id=\"T_d2460_row7_col1\" class=\"data row7 col1\" >-0.024680</td>\n",
              "      <td id=\"T_d2460_row7_col2\" class=\"data row7 col2\" >0.047758</td>\n",
              "      <td id=\"T_d2460_row7_col3\" class=\"data row7 col3\" >-0.042542</td>\n",
              "      <td id=\"T_d2460_row7_col4\" class=\"data row7 col4\" >-0.012038</td>\n",
              "      <td id=\"T_d2460_row7_col5\" class=\"data row7 col5\" >0.005212</td>\n",
              "      <td id=\"T_d2460_row7_col6\" class=\"data row7 col6\" >-0.091842</td>\n",
              "      <td id=\"T_d2460_row7_col7\" class=\"data row7 col7\" >1.000000</td>\n",
              "    </tr>\n",
              "  </tbody>\n",
              "</table>\n"
            ],
            "text/plain": [
              "<pandas.io.formats.style.Styler at 0x1c840bb0690>"
            ]
          },
          "execution_count": 11,
          "metadata": {},
          "output_type": "execute_result"
        }
      ],
      "source": [
        "#Matriz de correlación general entre todas las variables\n",
        "corr = df_varianza_baja.corr()\n",
        "corr.style.background_gradient(cmap='coolwarm')"
      ]
    },
    {
      "cell_type": "markdown",
      "metadata": {},
      "source": [
        "las correlaciones más grandes son las de las variables de superficie_m2, num_baños y edad_propiedad\n"
      ]
    },
    {
      "cell_type": "markdown",
      "metadata": {},
      "source": [
        "### 4. Calcular el Factor de Inflación de Varianza (FIV) para las características seleccionadas y eliminar aquellas con un FIV superior a 5."
      ]
    },
    {
      "cell_type": "code",
      "execution_count": 22,
      "metadata": {},
      "outputs": [
        {
          "name": "stdout",
          "output_type": "stream",
          "text": [
            "                    Variable       VIF\n",
            "0                      const  1.000000\n",
            "1           num_habitaciones  1.000369\n",
            "2              superficie_m2       inf\n",
            "3                  num_baños  1.002916\n",
            "4           distancia_centro  1.000058\n",
            "5         num_colegios_cerca  1.000708\n",
            "6          precio_m2_cercano  1.000110\n",
            "7        num_comercios_cerca  1.013148\n",
            "8  superficie_por_habitacion  1.000844\n"
          ]
        },
        {
          "data": {
            "image/png": "[encoded data removed]",
            "text/plain": [
              "<Figure size 640x480 with 2 Axes>"
            ]
          },
          "metadata": {},
          "output_type": "display_data"
        }
      ],
      "source": [
        "\n",
        "#El VIF se calcula como 1/(1-R2)\n",
        "y = df_original['superficie_m2']\n",
        "X = df_original.drop(columns=['edad_propiedad'])\n",
        "\n",
        "X = sm.add_constant(X)\n",
        "\n",
        "# Initialize an empty list to store the VIF results\n",
        "vif_data = []\n",
        "\n",
        "# Calculate VIF for each independent variable\n",
        "for i in range(X.shape[1]):\n",
        "    vif = {}\n",
        "    vif[\"Variable\"] = X.columns[i]\n",
        "    vif[\"VIF\"] = 1 / (1 - sm.OLS(y, X.iloc[:, i]).fit().rsquared)\n",
        "    vif_data.append(vif)\n",
        "\n",
        "# Convert the list of VIF results to a DataFrame\n",
        "vif_df = pd.DataFrame(vif_data)\n",
        "\n",
        "# Show the results of VIF\n",
        "print(vif_df)\n",
        "\n",
        "# Visualize the data with seaborn (example of a correlation heatmap)\n",
        "sns.heatmap(df_original.corr(), annot=True, cmap='coolwarm')\n",
        "plt.show()\n"
      ]
    },
    {
      "cell_type": "markdown",
      "metadata": {
        "id": "8XmUDNf9sPJj"
      },
      "source": [
        "## PCA\n",
        "\n",
        "El análisis de componentes principales o  _Principal Component Analysis_, por sus siglas en inglés, es un método que crea un conjunto de variables nuevas mediante la información de las variables totales, es decir, baja la dimensionalidad en un subespacio tratando de preservar las carácteristicas principales.\n",
        "\n",
        "En otras palabras, combina las columnas existentes para crear nuevas, al tiempo que conserva las características de las originales."
      ]
    },
    {
      "cell_type": "markdown",
      "metadata": {
        "id": "smo2dU1Cg4lU"
      },
      "source": [
        "Para ejecutar un análisis de este tipo, primero se deben escalar los datos utilizando `StandarScaler()`, importado en el primer paso de la siguiente línea:\n",
        "```python\n",
        "from sklearn.preprocessing import LabelEncoder, StandardScaler\n",
        "```  \n",
        "Después, se hace una variable (nombrada `escalador`para fines del ejemplo) compuesta por la función `StandarScaler()`,con el propósito de facilitar tanto la escritura como la lectura del código."
      ]
    },
    {
      "cell_type": "code",
      "execution_count": 23,
      "metadata": {
        "id": "V1euodaEmxJo"
      },
      "outputs": [],
      "source": [
        "#Escalamos nuestras variables\n",
        "escalador= StandardScaler()"
      ]
    },
    {
      "cell_type": "markdown",
      "metadata": {
        "id": "_g0QYtFDhquM"
      },
      "source": [
        "A continuación se crea un nuevo conjunto de datos (en este ejemplo se llamará `df_esc`), igual a la variable realizada previamente, y se ajustará el _dataset_ `df` con la función `.fit_transform`.\n",
        "\n",
        "Si observas bien, se seleccionaron las columnas que tienen valores numéricos (en el ejemplo: `sepal_length`, `sepal_width`, `petal_length` y `petal_width`)."
      ]
    },
    {
      "cell_type": "code",
      "execution_count": 24,
      "metadata": {
        "id": "COAYu-VsmxFp"
      },
      "outputs": [],
      "source": [
        "df_esc=escalador.fit_transform(df[['sepal_length', 'sepal_width', 'petal_length', 'petal_width']])"
      ]
    },
    {
      "cell_type": "markdown",
      "metadata": {
        "id": "AwXtE6c8io5h"
      },
      "source": [
        "Una vez que todos los datos están escalados, ahora se puede usar el **PCA**.\n",
        "\n",
        "Para empezar, se emplea el código importado en el primer paso en la línea:\n",
        "```python\n",
        "from sklearn.decomposition import PCA\n",
        "```"
      ]
    },
    {
      "cell_type": "markdown",
      "metadata": {
        "id": "6FEXtEs9WHGc"
      },
      "source": [
        "Es importante declarar una variable (llamada `pca` para fines del ejemplo), que será igual al modelo `PCA()` ya importado."
      ]
    },
    {
      "cell_type": "code",
      "execution_count": 8,
      "metadata": {
        "id": "opp5CF6wXAgk"
      },
      "outputs": [],
      "source": [
        "pca = PCA()"
      ]
    },
    {
      "cell_type": "markdown",
      "metadata": {
        "id": "9GE_AQ5sZO3q"
      },
      "source": [
        "Aquí vale la pena hacer una anotación importante: si en el código se escribe\n",
        "```python\n",
        "pca = PCA(3)```,  Python entenderá que el conjunto de datos original se debe transformar en un _dataset_ con 3 variables o columnas, aunque propiamente se dice que con 3 **componentes**.\n",
        "\n",
        "Si se deja vacío entre los paréntesis, como en el ejemplo, el número de variables o columnas será igual al del _dataset_ que se pretende transformar."
      ]
    },
    {
      "cell_type": "markdown",
      "metadata": {
        "id": "Kxjk8HLyXK7Y"
      },
      "source": [
        "Ahora, se aplica una función llamada `.fit_tranform`, que al combinarse con la variable `pca` «entrena» el conjunto de datos para tranformarlo."
      ]
    },
    {
      "cell_type": "code",
      "execution_count": 9,
      "metadata": {
        "colab": {
          "base_uri": "https://localhost:8080/"
        },
        "id": "d8kKV02cX9Fg",
        "outputId": "fc02f432-c270-4887-8203-e8469de8adfd"
      },
      "outputs": [
        {
          "data": {
            "text/plain": [
              "array([[-2.26470281e+00,  4.80026597e-01, -1.27706022e-01,\n",
              "        -2.41682039e-02],\n",
              "       [-2.08096115e+00, -6.74133557e-01, -2.34608854e-01,\n",
              "        -1.03006775e-01],\n",
              "       [-2.36422905e+00, -3.41908024e-01,  4.42014848e-02,\n",
              "        -2.83770534e-02],\n",
              "       [-2.29938422e+00, -5.97394508e-01,  9.12901063e-02,\n",
              "         6.59555596e-02],\n",
              "       [-2.38984217e+00,  6.46835383e-01,  1.57381957e-02,\n",
              "         3.59228133e-02],\n",
              "       [-2.07563095e+00,  1.48917752e+00,  2.69682944e-02,\n",
              "        -6.60818022e-03],\n",
              "       [-2.44402884e+00,  4.76441976e-02,  3.35470401e-01,\n",
              "         3.67755572e-02],\n",
              "       [-2.23284716e+00,  2.23148073e-01, -8.86954979e-02,\n",
              "         2.46120962e-02],\n",
              "       [-2.33464048e+00, -1.11532768e+00,  1.45076864e-01,\n",
              "         2.68592208e-02],\n",
              "       [-2.18432817e+00, -4.69013561e-01, -2.53765567e-01,\n",
              "         3.98992877e-02],\n",
              "       [-2.16631010e+00,  1.04369065e+00, -2.68681102e-01,\n",
              "        -1.67313672e-02],\n",
              "       [-2.32613087e+00,  1.33078335e-01,  9.37592444e-02,\n",
              "         1.33483413e-01],\n",
              "       [-2.21845090e+00, -7.28676165e-01, -2.30911237e-01,\n",
              "        -2.42503814e-03],\n",
              "       [-2.63310070e+00, -9.61506729e-01,  1.80796084e-01,\n",
              "         1.92155336e-02],\n",
              "       [-2.19874060e+00,  1.86005711e+00, -4.72900998e-01,\n",
              "        -1.94731769e-01],\n",
              "       [-2.26221453e+00,  2.68628449e+00,  3.05266093e-02,\n",
              "        -5.05337373e-02],\n",
              "       [-2.20758770e+00,  1.48360936e+00, -5.34409408e-03,\n",
              "        -1.88817432e-01],\n",
              "       [-2.19034951e+00,  4.88838316e-01, -4.42153165e-02,\n",
              "        -9.30904384e-02],\n",
              "       [-1.89857200e+00,  1.40501879e+00, -3.74343275e-01,\n",
              "        -6.10959671e-02],\n",
              "       [-2.34336905e+00,  1.12784938e+00,  1.32630467e-01,\n",
              "         3.77564197e-02],\n",
              "       [-1.91432300e+00,  4.08855708e-01, -4.21292594e-01,\n",
              "        -1.09212863e-02],\n",
              "       [-2.20701284e+00,  9.24121427e-01,  1.59865277e-01,\n",
              "        -5.95973299e-02],\n",
              "       [-2.77434470e+00,  4.58343668e-01,  3.32179098e-01,\n",
              "        -1.96484301e-02],\n",
              "       [-1.81866953e+00,  8.55585263e-02,  3.44885958e-02,\n",
              "        -1.51140999e-01],\n",
              "       [-2.22716331e+00,  1.37254455e-01,  1.17993536e-01,\n",
              "         2.70140352e-01],\n",
              "       [-1.95184633e+00, -6.25618588e-01, -3.05640982e-01,\n",
              "        -4.35616510e-02],\n",
              "       [-2.05115137e+00,  2.42163553e-01,  8.63640108e-02,\n",
              "        -6.76800599e-02],\n",
              "       [-2.16857717e+00,  5.27149525e-01, -2.06816248e-01,\n",
              "        -1.02753930e-02],\n",
              "       [-2.13956345e+00,  3.13217810e-01, -2.71150240e-01,\n",
              "        -8.42592210e-02],\n",
              "       [-2.26526149e+00, -3.37731904e-01,  6.84357762e-02,\n",
              "         1.08279885e-01],\n",
              "       [-2.14012214e+00, -5.04540690e-01, -7.50084417e-02,\n",
              "         4.81888683e-02],\n",
              "       [-1.83159477e+00,  4.23695068e-01, -2.70467377e-01,\n",
              "        -2.39870381e-01],\n",
              "       [-2.61494794e+00,  1.79357586e+00,  4.72284187e-02,\n",
              "         2.29235932e-01],\n",
              "       [-2.44617739e+00,  2.15072788e+00, -8.26680451e-02,\n",
              "         4.82143929e-02],\n",
              "       [-2.10997488e+00, -4.60201841e-01, -1.70274861e-01,\n",
              "        -2.90229468e-02],\n",
              "       [-2.20780890e+00, -2.06107398e-01, -2.25441580e-01,\n",
              "        -1.68907873e-01],\n",
              "       [-2.04514621e+00,  6.61558111e-01, -4.84537410e-01,\n",
              "        -1.96358525e-01],\n",
              "       [-2.52733191e+00,  5.92292774e-01,  1.94358125e-02,\n",
              "         1.36504550e-01],\n",
              "       [-2.42963258e+00, -9.04180040e-01,  1.93254662e-01,\n",
              "         9.73842285e-03],\n",
              "       [-2.16971071e+00,  2.68878961e-01, -1.75883821e-01,\n",
              "        -7.04740592e-03],\n",
              "       [-2.28647514e+00,  4.41715388e-01,  3.48949090e-02,\n",
              "        -1.06983249e-01],\n",
              "       [-1.85812246e+00, -2.33741516e+00, -2.04234223e-01,\n",
              "        -2.89863919e-01],\n",
              "       [-2.55363840e+00, -4.79100690e-01,  3.05766453e-01,\n",
              "         6.66014529e-02],\n",
              "       [-1.96444768e+00,  4.72326668e-01,  3.09601318e-01,\n",
              "        -1.77093014e-01],\n",
              "       [-2.13705901e+00,  1.14222926e+00,  2.48433561e-01,\n",
              "         1.51043437e-01],\n",
              "       [-2.06974430e+00, -7.11052725e-01, -6.39298256e-02,\n",
              "        -1.40269507e-01],\n",
              "       [-2.38473317e+00,  1.12042970e+00,  5.72178581e-02,\n",
              "         1.52230967e-01],\n",
              "       [-2.39437631e+00, -3.86246873e-01,  1.39467905e-01,\n",
              "         4.88347616e-02],\n",
              "       [-2.22944655e+00,  9.97959764e-01, -1.81492780e-01,\n",
              "         1.49281349e-02],\n",
              "       [-2.20383344e+00,  9.21635752e-03, -1.53029490e-01,\n",
              "        -4.93717318e-02],\n",
              "       [ 1.10178118e+00,  8.62972418e-01, -6.84586163e-01,\n",
              "        -3.48337755e-02],\n",
              "       [ 7.31337425e-01,  5.94614726e-01, -9.41217155e-02,\n",
              "        -4.90362325e-03],\n",
              "       [ 1.24097932e+00,  6.16297654e-01, -5.54006835e-01,\n",
              "        -9.42339702e-03],\n",
              "       [ 4.07483059e-01, -1.75440399e+00, -2.31017678e-02,\n",
              "        -6.57688353e-02],\n",
              "       [ 1.07547470e+00, -2.08421046e-01, -3.98255523e-01,\n",
              "        -1.04736873e-01],\n",
              "       [ 3.88687337e-01, -5.93283636e-01,  1.24191550e-01,\n",
              "         2.40831300e-01],\n",
              "       [ 7.46529741e-01,  7.73019312e-01,  1.48969403e-01,\n",
              "         7.73697853e-02],\n",
              "       [-4.87322742e-01, -1.85242909e+00,  2.49265266e-01,\n",
              "         4.05202053e-02],\n",
              "       [ 9.27901638e-01,  3.22260779e-02, -5.96169361e-01,\n",
              "         2.98796094e-02],\n",
              "       [ 1.14261887e-02, -1.03401828e+00,  5.38899390e-01,\n",
              "         2.84611837e-02],\n",
              "       [-1.10196280e-01, -2.65407282e+00, -4.67904441e-02,\n",
              "        -1.37607310e-02],\n",
              "       [ 4.40693449e-01, -6.32951884e-02,  2.05073815e-01,\n",
              "        -4.01260816e-02],\n",
              "       [ 5.62108306e-01, -1.76472438e+00, -7.65771394e-01,\n",
              "        -4.57311573e-02],\n",
              "       [ 7.19561889e-01, -1.86224606e-01, -6.86589454e-02,\n",
              "         1.64807198e-01],\n",
              "       [-3.33547032e-02, -4.39003210e-01,  1.94932893e-01,\n",
              "        -1.09048499e-01],\n",
              "       [ 8.75407191e-01,  5.09063957e-01, -5.03511382e-01,\n",
              "        -1.04943723e-01],\n",
              "       [ 3.50251668e-01, -1.96311735e-01,  4.90873075e-01,\n",
              "         1.91509364e-01],\n",
              "       [ 1.58810048e-01, -7.92095742e-01, -3.02037174e-01,\n",
              "         2.05297735e-01],\n",
              "       [ 1.22509363e+00, -1.62224380e+00, -4.82304024e-01,\n",
              "        -2.25899769e-01],\n",
              "       [ 1.64917899e-01, -1.30260923e+00, -1.72837808e-01,\n",
              "         5.17268487e-02],\n",
              "       [ 7.37682649e-01,  3.96571562e-01,  6.16526306e-01,\n",
              "         8.32841227e-02],\n",
              "       [ 4.76287191e-01, -4.17320281e-01, -2.64952227e-01,\n",
              "        -1.13568273e-01],\n",
              "       [ 1.23417810e+00, -9.33325729e-01, -3.68412272e-01,\n",
              "         9.94452551e-03],\n",
              "       [ 6.32858200e-01, -4.16387721e-01, -2.91896252e-01,\n",
              "         2.74220152e-01],\n",
              "       [ 7.02661183e-01, -6.34118197e-02, -4.46027008e-01,\n",
              "        -4.34583252e-02],\n",
              "       [ 8.74273654e-01,  2.50793393e-01, -4.72578954e-01,\n",
              "        -1.01715736e-01],\n",
              "       [ 1.25650912e+00, -7.72560197e-02, -7.27155002e-01,\n",
              "        -3.96885184e-02],\n",
              "       [ 1.35840512e+00,  3.31311682e-01, -2.60826577e-01,\n",
              "        -6.68280639e-02],\n",
              "       [ 6.64800367e-01, -2.25927855e-01,  8.58638887e-02,\n",
              "         3.64398401e-02],\n",
              "       [-4.02586109e-02, -1.05871855e+00, -3.19573330e-01,\n",
              "        -6.47881557e-02],\n",
              "       [ 1.30795175e-01, -1.56227183e+00, -1.49983478e-01,\n",
              "         9.40252286e-03],\n",
              "       [ 2.34526890e-02, -1.57247559e+00, -2.41552281e-01,\n",
              "         3.27724444e-02],\n",
              "       [ 2.41538273e-01, -7.77256383e-01, -1.51211957e-01,\n",
              "        -2.36513599e-02],\n",
              "       [ 1.06109461e+00, -6.33843245e-01,  1.05311387e-01,\n",
              "         1.83968453e-01],\n",
              "       [ 2.23978774e-01, -2.87773512e-01,  6.65249720e-01,\n",
              "         2.54828368e-01],\n",
              "       [ 4.29139116e-01,  8.45582241e-01,  4.50634071e-01,\n",
              "         1.09675181e-01],\n",
              "       [ 1.04872805e+00,  5.22051797e-01, -3.95786384e-01,\n",
              "        -3.72090187e-02],\n",
              "       [ 1.04453138e+00, -1.38298872e+00, -6.88295960e-01,\n",
              "        -1.36835600e-01],\n",
              "       [ 6.95883211e-02, -2.19503335e-01,  2.91579274e-01,\n",
              "         1.47144581e-01],\n",
              "       [ 2.83477238e-01, -1.32932464e+00,  8.94100229e-02,\n",
              "        -8.90580520e-03],\n",
              "       [ 2.79077776e-01, -1.12002852e+00,  9.44876010e-02,\n",
              "         2.70657196e-01],\n",
              "       [ 6.24569791e-01,  2.49230293e-02, -2.04811472e-02,\n",
              "         1.47686401e-01],\n",
              "       [ 3.36530370e-01, -9.88404018e-01, -1.99389755e-01,\n",
              "        -6.53056201e-03],\n",
              "       [-3.62183385e-01, -2.01923787e+00,  1.05821048e-01,\n",
              "        -1.95708119e-02],\n",
              "       [ 2.88586239e-01, -8.55730320e-01,  1.30889685e-01,\n",
              "         1.07402349e-01],\n",
              "       [ 9.13606557e-02, -1.81192126e-01,  1.28978343e-01,\n",
              "         2.29959626e-01],\n",
              "       [ 2.27716866e-01, -3.84920081e-01,  1.56213154e-01,\n",
              "         1.32605877e-01],\n",
              "       [ 5.76388289e-01, -1.54873597e-01, -2.71650362e-01,\n",
              "         1.98606790e-02],\n",
              "       [-4.47667019e-01, -1.54379203e+00,  1.90400930e-01,\n",
              "        -1.99946457e-01],\n",
              "       [ 2.56730589e-01, -5.98851796e-01,  9.18791610e-02,\n",
              "         5.86220486e-02],\n",
              "       [ 1.84456887e+00,  8.70421312e-01,  1.00540102e+00,\n",
              "         4.92497432e-02],\n",
              "       [ 1.15788161e+00, -6.98869862e-01,  5.30160149e-01,\n",
              "         4.05207540e-02],\n",
              "       [ 2.20526679e+00,  5.62010477e-01, -2.02914170e-01,\n",
              "        -5.91841937e-02],\n",
              "       [ 1.44015066e+00, -4.69875881e-02,  1.63630107e-01,\n",
              "         2.35770073e-01],\n",
              "       [ 1.86781222e+00,  2.95044824e-01,  3.95628375e-01,\n",
              "         1.62982715e-02],\n",
              "       [ 2.75187334e+00,  8.00409201e-01, -5.82309103e-01,\n",
              "         1.01384486e-01],\n",
              "       [ 3.67017688e-01, -1.56150289e+00,  9.86893267e-01,\n",
              "         1.33123834e-01],\n",
              "       [ 2.30243944e+00,  4.20065580e-01, -6.51706439e-01,\n",
              "         2.38041242e-01],\n",
              "       [ 2.00668647e+00, -7.11438654e-01, -3.93990571e-01,\n",
              "         8.65106302e-02],\n",
              "       [ 2.25977735e+00,  1.92101038e+00,  3.97551897e-01,\n",
              "        -1.04838918e-01],\n",
              "       [ 1.36417549e+00,  6.92756454e-01,  2.84612074e-01,\n",
              "        -1.07860420e-01],\n",
              "       [ 1.60267867e+00, -4.21700450e-01,  2.31864079e-02,\n",
              "        -5.83316327e-02],\n",
              "       [ 1.88390070e+00,  4.19249651e-01,  2.63384095e-02,\n",
              "        -1.46414939e-01],\n",
              "       [ 1.26011510e+00, -1.16226042e+00,  5.80249290e-01,\n",
              "        -9.91573214e-02],\n",
              "       [ 1.46764520e+00, -4.42271587e-01,  1.00386957e+00,\n",
              "        -2.75658903e-01],\n",
              "       [ 1.59007732e+00,  6.76244806e-01,  6.38428708e-01,\n",
              "        -1.91862996e-01],\n",
              "       [ 1.47143146e+00,  2.55621824e-01,  3.74312599e-02,\n",
              "         1.55330271e-01],\n",
              "       [ 2.42632899e+00,  2.55666125e+00, -1.27881459e-01,\n",
              "         2.73807183e-01],\n",
              "       [ 3.31069558e+00,  1.77809493e-02, -7.03305304e-01,\n",
              "        -4.51886059e-02],\n",
              "       [ 1.26376667e+00, -1.70674538e+00, -2.67536893e-01,\n",
              "         6.51807997e-02],\n",
              "       [ 2.03771630e+00,  9.10467410e-01,  2.34799484e-01,\n",
              "        -1.67951254e-01],\n",
              "       [ 9.77980734e-01, -5.71764325e-01,  8.28127201e-01,\n",
              "        -2.77555871e-02],\n",
              "       [ 2.89765149e+00,  4.13641060e-01, -8.57421825e-01,\n",
              "         1.27336502e-01],\n",
              "       [ 1.33323218e+00, -4.81811219e-01, -5.42836383e-03,\n",
              "        -1.39959148e-01],\n",
              "       [ 1.70073390e+00,  1.01392187e+00,  2.98450613e-01,\n",
              "         6.16437339e-02],\n",
              "       [ 1.95432671e+00,  1.00777760e+00, -4.19984722e-01,\n",
              "         2.18338351e-01],\n",
              "       [ 1.17510363e+00, -3.16394472e-01,  1.29937757e-01,\n",
              "        -1.25420444e-01],\n",
              "       [ 1.02095055e+00,  6.43460292e-02,  3.37715967e-01,\n",
              "         8.65440136e-03],\n",
              "       [ 1.78834992e+00, -1.87361215e-01,  2.70658006e-01,\n",
              "        -3.10876478e-02],\n",
              "       [ 1.86364755e+00,  5.62290726e-01, -7.15634119e-01,\n",
              "         2.08215164e-01],\n",
              "       [ 2.43595373e+00,  2.59284433e-01, -7.27816146e-01,\n",
              "         1.79233648e-02],\n",
              "       [ 2.30492772e+00,  2.62632347e+00, -4.93473808e-01,\n",
              "         2.11675709e-01],\n",
              "       [ 1.86270322e+00, -1.78549495e-01,  3.54148712e-01,\n",
              "        -1.00009882e-01],\n",
              "       [ 1.11414774e+00, -2.92922623e-01, -1.83488392e-01,\n",
              "         1.86343697e-01],\n",
              "       [ 1.20247330e+00, -8.11315271e-01, -1.64723757e-01,\n",
              "         4.89483470e-01],\n",
              "       [ 2.79877045e+00,  8.56803329e-01, -5.42906499e-01,\n",
              "        -2.95881050e-01],\n",
              "       [ 1.57625591e+00,  1.06858111e+00,  9.45853819e-01,\n",
              "        -3.56057591e-02],\n",
              "       [ 1.34629210e+00,  4.22430611e-01,  1.80875478e-01,\n",
              "         2.15421288e-01],\n",
              "       [ 9.24824917e-01,  1.72231005e-02,  4.16826193e-01,\n",
              "        -5.23840949e-03],\n",
              "       [ 1.85204505e+00,  6.76128174e-01, -1.26721148e-02,\n",
              "        -1.95195239e-01],\n",
              "       [ 2.01481043e+00,  6.13885637e-01,  4.28332842e-01,\n",
              "        -2.47538313e-01],\n",
              "       [ 1.90178409e+00,  6.89575494e-01,  1.30075005e-01,\n",
              "        -4.69696647e-01],\n",
              "       [ 1.15788161e+00, -6.98869862e-01,  5.30160149e-01,\n",
              "         4.05207540e-02],\n",
              "       [ 2.04055823e+00,  8.67520601e-01,  3.38144000e-01,\n",
              "        -4.51871263e-02],\n",
              "       [ 1.99814710e+00,  1.04916875e+00,  6.32413436e-01,\n",
              "        -2.14045204e-01],\n",
              "       [ 1.87050329e+00,  3.86966082e-01,  2.56273852e-01,\n",
              "        -3.89256845e-01],\n",
              "       [ 1.56458048e+00, -8.96686809e-01, -2.63713516e-02,\n",
              "        -2.20192100e-01],\n",
              "       [ 1.52117050e+00,  2.69069144e-01,  1.80178380e-01,\n",
              "        -1.19171137e-01],\n",
              "       [ 1.37278779e+00,  1.01125442e+00,  9.33395241e-01,\n",
              "        -2.61286484e-02],\n",
              "       [ 9.60656030e-01, -2.43316682e-02,  5.28248807e-01,\n",
              "         1.63078032e-01]])"
            ]
          },
          "execution_count": 9,
          "metadata": {},
          "output_type": "execute_result"
        }
      ],
      "source": [
        "pca.fit_transform(df_esc)"
      ]
    },
    {
      "cell_type": "markdown",
      "metadata": {
        "id": "RBj3yGP_X9v-"
      },
      "source": [
        "Observa que se aplicó el `fit_transform` sobre el conjunto de datos escalado (recordarás que incluso se cambió el nombre a `df_esc`)."
      ]
    },
    {
      "cell_type": "markdown",
      "metadata": {
        "id": "LKmPSeKEc5ts"
      },
      "source": [
        "Se crea una nueva variable (llamada en este ejemplo `pca_variance`) que indicará la varianza de cada una de las variables o columnas."
      ]
    },
    {
      "cell_type": "code",
      "execution_count": 10,
      "metadata": {
        "colab": {
          "base_uri": "https://localhost:8080/"
        },
        "id": "f_3YKOM4dFeE",
        "outputId": "6cc5dc50-1e36-4db9-df84-e6b48582606c"
      },
      "outputs": [
        {
          "data": {
            "text/plain": [
              "array([2.93808505, 0.9201649 , 0.14774182, 0.02085386])"
            ]
          },
          "execution_count": 10,
          "metadata": {},
          "output_type": "execute_result"
        }
      ],
      "source": [
        "pca_variance = pca.explained_variance_\n",
        "pca_variance"
      ]
    },
    {
      "cell_type": "markdown",
      "metadata": {
        "id": "udWcZ9PadUih"
      },
      "source": [
        "Por último, para hacer más visual los resultados, se elabora un diagrama de barras."
      ]
    },
    {
      "cell_type": "code",
      "execution_count": 11,
      "metadata": {
        "colab": {
          "base_uri": "https://localhost:8080/",
          "height": 542
        },
        "id": "LF3YcE9mmxDJ",
        "outputId": "e6077fa3-4cb8-486a-95ca-d163435a9378"
      },
      "outputs": [
        {
          "data": {
            "image/png": "[encoded data removed]",
            "text/plain": [
              "<Figure size 800x600 with 1 Axes>"
            ]
          },
          "metadata": {},
          "output_type": "display_data"
        }
      ],
      "source": [
        "plt.figure(figsize=(8, 6))\n",
        "plt.bar(range(4), pca_variance, alpha=0.5, align='center', label=\"Varianza individual\")\n",
        "plt.legend()\n",
        "plt.ylabel('% Varianza')\n",
        "plt.xlabel('Componentes principales')\n",
        "plt.show()"
      ]
    },
    {
      "cell_type": "markdown",
      "metadata": {
        "id": "Bz52LipV3FT0"
      },
      "source": [
        "## Ejercicio Ingrid:\n",
        "\n",
        "Realiza el PCA con 2 componentes del dataset propuesto."
      ]
    },
    {
      "cell_type": "markdown",
      "metadata": {
        "id": "w4EciLQCeCc2"
      },
      "source": [
        "A manera de reppaso, encontrarás que hasta el momento has hecho lo siguiente:\n",
        "1. Escalar el _dataframe_.\n",
        "2. Entrenar el modelo **PCA** (usando `fit_transform`).\n",
        "3. Aplicar `.explained_variance` para ver resultados.\n",
        "4. Graficar"
      ]
    },
    {
      "cell_type": "code",
      "execution_count": 25,
      "metadata": {},
      "outputs": [],
      "source": [
        "#Importarciones\n",
        "from sklearn.preprocessing import LabelEncoder, StandardScaler\n",
        "from sklearn.decomposition import PCA"
      ]
    },
    {
      "cell_type": "code",
      "execution_count": 26,
      "metadata": {},
      "outputs": [],
      "source": [
        "#1. Escalar el dataframe\n",
        "variable_escalador = StandardScaler()"
      ]
    },
    {
      "cell_type": "code",
      "execution_count": 28,
      "metadata": {},
      "outputs": [],
      "source": [
        "#2. Entrenar el modelo PCA (usando fit_transform)\n",
        "df_esc = variable_escalador.fit_transform(df_original[['edad_propiedad', 'superficie_m2']])"
      ]
    },
    {
      "cell_type": "code",
      "execution_count": 29,
      "metadata": {},
      "outputs": [
        {
          "data": {
            "text/plain": [
              "array([[ 4.53092774e-01,  6.22154012e-01],\n",
              "       [ 1.41713941e-01,  2.52748827e-02],\n",
              "       [-4.37466394e-01,  2.36109453e-01],\n",
              "       [ 4.39915756e-01, -9.77331761e-01],\n",
              "       [-1.55821932e-02, -2.68577802e-01],\n",
              "       [-1.85015726e-01,  1.45724118e+00],\n",
              "       [ 2.70097550e-01, -1.12343969e+00],\n",
              "       [ 1.08973008e+00,  1.52178728e-01],\n",
              "       [-1.14477392e+00, -3.42703319e-01],\n",
              "       [-1.47296959e+00, -5.61108115e-01],\n",
              "       [ 4.70405037e-01,  1.36859362e-01],\n",
              "       [-7.99357892e-01, -1.78948787e-01],\n",
              "       [ 1.44213987e+00, -3.50171155e-01],\n",
              "       [-8.97878643e-01,  1.44251244e-01],\n",
              "       [-1.97193109e+00, -1.43049456e+00],\n",
              "       [ 5.97067903e-01, -1.02205900e+00],\n",
              "       [-1.38699719e+00,  1.49188353e+00],\n",
              "       [ 1.95499632e+00,  4.94008994e-01],\n",
              "       [ 3.37450406e-01,  1.49928748e+00],\n",
              "       [ 1.23079967e+00, -2.43437712e+00],\n",
              "       [ 1.11014904e+00, -1.44660677e+00],\n",
              "       [-3.22374340e-01, -1.03615709e+00],\n",
              "       [ 5.09932562e-01, -1.44820254e+00],\n",
              "       [-1.01946340e+00, -1.28078552e+00],\n",
              "       [-9.10451591e-01, -1.10687401e+00],\n",
              "       [-3.30737184e-01,  4.36156174e-01],\n",
              "       [ 4.14578267e-01, -1.33099710e+00],\n",
              "       [ 5.24990990e-01,  5.21011003e-01],\n",
              "       [-1.66523215e+00, -2.05766448e+00],\n",
              "       [-3.04507809e-01, -2.83545449e-01],\n",
              "       [ 7.79773886e-01,  1.67863155e+00],\n",
              "       [-2.59951115e-01,  1.01330445e-01],\n",
              "       [ 1.01511664e+00,  3.16490544e-01],\n",
              "       [ 6.60093118e-01, -1.61834032e+00],\n",
              "       [ 8.80882730e-01,  5.37423125e-01],\n",
              "       [-9.86245434e-01,  3.93824782e-01],\n",
              "       [ 1.13478869e-01,  5.82039919e-01],\n",
              "       [-8.26733471e-01, -2.01054364e+00],\n",
              "       [ 1.70951324e+00,  3.97319663e-01],\n",
              "       [-1.91535733e+00,  1.13555905e+00],\n",
              "       [ 4.13937612e-01,  1.31299223e+00],\n",
              "       [-1.82159566e+00, -4.77108378e-01],\n",
              "       [ 5.03698944e-01, -1.43775164e+00],\n",
              "       [-1.28249645e-01,  6.59566273e-01],\n",
              "       [ 3.29616461e-01, -7.89371090e-01],\n",
              "       [-2.02626977e-02, -1.47329883e+00],\n",
              "       [-5.87898591e-01,  8.09522583e-01],\n",
              "       [ 1.63835690e+00,  6.11537293e-01],\n",
              "       [ 2.63477249e-01,  2.21864992e-01],\n",
              "       [ 1.14031436e+00,  1.23407718e+00],\n",
              "       [ 1.27021144e+00, -7.79562810e-01],\n",
              "       [-2.99581743e-01,  1.11060910e+00],\n",
              "       [ 1.16088272e+00,  9.66291699e-02],\n",
              "       [ 3.67623161e-01, -1.82282717e+00],\n",
              "       [ 3.59329255e-01,  1.79920339e-01],\n",
              "       [-2.01158835e-02,  8.04547188e-01],\n",
              "       [-3.00669048e-01, -9.97068951e-02],\n",
              "       [ 2.21814031e+00,  2.17522591e-01],\n",
              "       [ 1.37547182e+00,  9.44219355e-01],\n",
              "       [ 2.45122154e-02,  2.93617730e-01],\n",
              "       [ 1.70923805e-01, -1.69403725e+00],\n",
              "       [ 9.01509899e-01, -3.41263562e-03],\n",
              "       [ 2.32249707e-01, -6.76135582e-01],\n",
              "       [ 1.14643596e+00,  1.01307508e+00],\n",
              "       [-4.79409712e-01, -1.34504779e+00],\n",
              "       [ 5.65056069e-01, -8.76318594e-01],\n",
              "       [ 9.41725936e-02, -1.46538912e+00],\n",
              "       [ 5.03612634e-02,  2.04172597e+00],\n",
              "       [-5.76295711e-01, -3.09425514e-01],\n",
              "       [ 2.47061407e-01, -6.42559845e-01],\n",
              "       [-9.86297197e-01,  7.32226871e-01],\n",
              "       [-1.44405240e+00, -8.03695390e-01],\n",
              "       [-9.60870287e-01,  1.87124217e-01],\n",
              "       [-3.75970226e-01,  1.86269449e-02],\n",
              "       [ 1.61900906e+00, -4.07254677e-01],\n",
              "       [-3.29575297e-02, -3.70810477e-01],\n",
              "       [-3.64257092e-01,  5.57150024e-01],\n",
              "       [-1.88956759e+00,  2.84724447e-01],\n",
              "       [-3.25700322e-01,  7.29401142e-02],\n",
              "       [-4.48853839e-02,  9.52843041e-01],\n",
              "       [ 3.18141969e-01, -1.49850197e+00],\n",
              "       [ 1.31008582e+00,  9.24895119e-01],\n",
              "       [-6.44137828e-02, -2.14726300e-01],\n",
              "       [ 1.75135886e+00, -5.60894811e-01],\n",
              "       [ 1.66553867e+00,  3.99672627e-01],\n",
              "       [ 8.60374969e-01, -5.68446874e-01],\n",
              "       [-7.00559885e-01, -1.40540334e+00],\n",
              "       [ 1.71402324e+00,  2.54849758e+00],\n",
              "       [-7.61336904e-02, -1.39796906e-01],\n",
              "       [ 5.31674475e-01, -1.26999260e+00],\n",
              "       [-1.51352576e+00, -2.84410020e-01],\n",
              "       [ 3.50971564e-01,  1.49990260e+00],\n",
              "       [-7.09094860e-01,  2.28836486e-01],\n",
              "       [-2.58222149e-01, -2.10280829e+00],\n",
              "       [-3.81221199e-01,  7.18173434e-02],\n",
              "       [ 3.31433592e-01, -4.31883492e-01],\n",
              "       [-5.92096741e-01, -7.09120310e-01],\n",
              "       [-1.82171917e+00,  5.11636938e-01],\n",
              "       [-7.80957731e-01,  7.57210673e-01],\n",
              "       [ 1.39980163e+00, -4.15814158e-01],\n",
              "       [ 2.09253957e-01,  7.69756916e-02],\n",
              "       [-7.46081611e-01, -6.42525497e-01],\n",
              "       [-1.08566686e+00,  3.64260875e-01],\n",
              "       [-5.62638516e-02, -8.94896737e-01],\n",
              "       [ 2.71597465e+00,  6.37754593e-01],\n",
              "       [-4.75515711e-02, -7.29911185e-03],\n",
              "       [ 1.73445736e+00, -8.54421895e-01],\n",
              "       [-1.97877068e-01, -3.25810341e-01],\n",
              "       [ 2.09213588e+00,  7.86927313e-03],\n",
              "       [-8.55696989e-01,  3.22405053e-01],\n",
              "       [-2.22622961e-01,  4.39842554e-01],\n",
              "       [-2.45139465e-01,  2.56631302e+00],\n",
              "       [ 1.36650435e-01,  1.85206033e-01],\n",
              "       [ 1.35714512e+00, -2.40213397e+00],\n",
              "       [ 9.82189791e-01,  9.82912435e-01],\n",
              "       [-8.18111643e-01,  2.04411645e-01],\n",
              "       [-2.04995163e-01,  6.05912712e-01],\n",
              "       [-5.19547526e-01, -1.17311881e+00],\n",
              "       [-1.69792058e+00,  1.94791241e+00],\n",
              "       [-1.41329512e-01, -3.10891116e-01],\n",
              "       [ 6.14388693e-01,  8.80292598e-01],\n",
              "       [-7.90813168e-01, -1.67068189e+00],\n",
              "       [ 8.15839788e-01,  3.59715327e-01],\n",
              "       [-9.07353683e-01, -1.99498692e-01],\n",
              "       [ 7.24035744e-01,  4.74538238e-02],\n",
              "       [ 1.27554225e+00, -1.01898367e-02],\n",
              "       [-4.95442481e-01, -1.02555915e+00],\n",
              "       [-6.65091260e-01, -7.96612539e-01],\n",
              "       [ 7.81359654e-01,  6.08272768e-01],\n",
              "       [ 1.17356487e+00, -2.30621945e+00],\n",
              "       [-1.01677663e+00,  8.52499436e-01],\n",
              "       [-2.05198997e+00,  5.77210004e-01],\n",
              "       [ 6.22010645e-01, -1.03753343e+00],\n",
              "       [ 9.40234138e-02, -6.69911071e-01],\n",
              "       [ 8.59547946e-01,  2.31737681e-01],\n",
              "       [ 3.21639527e-01,  4.44976786e-01],\n",
              "       [ 4.42290844e-01,  7.33000364e-01],\n",
              "       [ 3.91019553e-01, -4.07518016e-01],\n",
              "       [ 9.78514687e-01, -4.67484136e-01],\n",
              "       [-1.50337831e+00, -1.02887966e+00],\n",
              "       [ 1.60733787e+00,  3.89277588e-02],\n",
              "       [-4.31731572e-01,  1.38074746e+00],\n",
              "       [ 5.05664127e-02,  7.67768298e-02],\n",
              "       [-9.35889989e-01,  1.40168711e+00],\n",
              "       [ 3.24909563e-01, -1.09424668e-01],\n",
              "       [ 1.97042655e-01,  4.35206927e-01],\n",
              "       [-2.09663027e+00,  4.63312603e-01],\n",
              "       [-1.17066294e+00, -1.64455164e+00],\n",
              "       [-8.88274322e-01,  1.56652489e+00],\n",
              "       [ 6.59541573e-01,  1.57535098e+00],\n",
              "       [ 1.90226587e+00, -1.59835766e+00],\n",
              "       [-4.06358897e-01, -2.45599250e-01],\n",
              "       [ 1.60495272e+00, -1.36475104e+00],\n",
              "       [-1.85678797e+00,  2.35888039e-03],\n",
              "       [-1.13137248e+00, -1.11911898e+00],\n",
              "       [-4.29733559e-01,  2.90874327e-01],\n",
              "       [ 4.77975066e-01,  5.49145445e-01],\n",
              "       [ 1.21095179e+00,  1.39828601e+00],\n",
              "       [ 1.36449236e+00, -4.14216887e-01],\n",
              "       [-2.40190176e-01,  6.13106829e-01],\n",
              "       [-1.09198741e-02, -2.99997651e-01],\n",
              "       [ 3.48887138e-01,  1.35213805e+00],\n",
              "       [-9.02808114e-01,  8.17365311e-01],\n",
              "       [-8.35112970e-01,  4.60796444e-01],\n",
              "       [ 5.08021554e-01,  2.26791339e-01],\n",
              "       [-5.26945374e-01,  1.48844913e+00],\n",
              "       [ 1.68057116e-01, -9.68115213e-01],\n",
              "       [-9.38148303e-02,  2.22581156e+00],\n",
              "       [ 1.30495867e+00,  4.99381151e-01],\n",
              "       [-1.27004912e+00, -5.53308669e-01],\n",
              "       [-3.28441348e-01,  9.02845657e-01],\n",
              "       [-3.20311370e-01, -4.40799313e-01],\n",
              "       [-6.26559326e-01,  1.47216836e+00],\n",
              "       [-6.76546014e-01,  3.94344829e-01],\n",
              "       [-7.60170534e-01, -3.01219905e-01],\n",
              "       [-7.26023046e-01, -1.66395057e+00],\n",
              "       [ 7.05916070e-01,  6.74330503e-01],\n",
              "       [ 5.98005724e-01, -1.63733361e+00],\n",
              "       [ 1.12433528e+00, -1.10657894e+00],\n",
              "       [ 3.06030227e-01, -3.98633944e-01],\n",
              "       [ 8.61313495e-02,  1.25161871e+00],\n",
              "       [ 1.78544797e+00, -1.95162756e+00],\n",
              "       [-8.26311101e-01,  8.45540925e-01],\n",
              "       [-1.62920768e+00,  5.05981033e-01],\n",
              "       [ 1.98191696e+00, -2.77893479e-01],\n",
              "       [-1.86913533e+00,  6.02727385e-01],\n",
              "       [-8.65749190e-01, -1.67354291e+00],\n",
              "       [-1.11385554e+00, -2.48519876e+00],\n",
              "       [ 5.10790453e-01, -2.68595092e-01],\n",
              "       [-5.64633995e-01, -6.68317882e-01],\n",
              "       [-1.26236742e+00,  1.72532853e+00],\n",
              "       [ 9.11507755e-01,  5.95597324e-01],\n",
              "       [-6.27349397e-01,  2.29813776e+00],\n",
              "       [-3.53765995e-01,  1.44219670e-02],\n",
              "       [ 3.14421789e-01, -1.81345051e+00],\n",
              "       [-4.65796895e-01,  8.41119542e-01],\n",
              "       [ 8.49611815e-01,  1.09432369e+00],\n",
              "       [-1.09606302e+00, -3.97880071e-01],\n",
              "       [-1.29038432e+00,  3.90627143e-01],\n",
              "       [-1.46851683e+00, -6.46078832e-03],\n",
              "       [-1.34569345e+00, -2.14871031e+00],\n",
              "       [ 7.85011235e-01,  7.43748047e-01],\n",
              "       [ 1.04242273e-01,  5.53476928e-01],\n",
              "       [-9.73910456e-01, -9.99385703e-01],\n",
              "       [ 4.84198152e-01,  1.37851764e+00],\n",
              "       [ 1.86364721e+00,  2.82328980e-01],\n",
              "       [-9.72032956e-02,  1.59582436e+00],\n",
              "       [ 4.63065619e-01,  6.39082258e-01],\n",
              "       [-8.14313929e-01, -1.19290823e+00],\n",
              "       [-5.92466956e-03, -4.77972405e-01],\n",
              "       [-2.64010555e+00, -1.13850133e+00],\n",
              "       [ 6.07559650e-01, -4.14406574e-01],\n",
              "       [ 6.62323590e-01, -8.85353075e-01],\n",
              "       [ 5.62452438e-01,  3.25502056e-01],\n",
              "       [-8.60616408e-01, -4.01117956e-01],\n",
              "       [-9.41774828e-01, -4.53420112e-01],\n",
              "       [ 8.92262883e-01, -1.39916697e+00],\n",
              "       [-1.84633424e-01,  3.40393794e-01],\n",
              "       [ 2.21543950e-01, -3.47473215e-01],\n",
              "       [ 1.25664531e-02, -7.90972071e-01],\n",
              "       [ 2.46552831e+00, -9.26610013e-01],\n",
              "       [-2.62982116e-01,  3.49787623e-01],\n",
              "       [-1.45319534e+00,  8.10629805e-02],\n",
              "       [ 2.57750731e-01, -1.04385899e+00],\n",
              "       [-1.96310150e-01,  2.05699043e+00],\n",
              "       [-1.51511292e-01, -1.72442914e+00],\n",
              "       [-1.27745868e+00,  6.07257232e-01],\n",
              "       [ 5.60785774e-01,  2.49175579e-01],\n",
              "       [ 1.35448243e-01, -8.25919732e-01],\n",
              "       [ 5.88292428e-01,  9.56183121e-02],\n",
              "       [ 2.26090582e-01,  2.19323292e-01],\n",
              "       [ 4.63590785e-01,  7.16516031e-01],\n",
              "       [-6.87041039e-01, -7.54921326e-01],\n",
              "       [-1.40775791e+00,  9.65468962e-01],\n",
              "       [ 1.19583011e+00,  3.50178461e-01],\n",
              "       [-6.79603514e-01,  8.48406842e-01],\n",
              "       [ 3.95608903e-01,  6.52736336e-01],\n",
              "       [-1.16250342e+00, -1.11424665e+00],\n",
              "       [ 3.58661353e-01,  7.63561808e-01],\n",
              "       [ 2.87885118e-01,  6.22346402e-01],\n",
              "       [-8.83696679e-01,  9.68545269e-01],\n",
              "       [-6.88352662e-01, -5.63647595e-01],\n",
              "       [-5.79847503e-01,  2.34721656e-01],\n",
              "       [ 1.66740263e-01,  7.42991756e-01],\n",
              "       [-1.03266680e-01,  9.41742238e-01],\n",
              "       [ 1.64276925e+00, -5.52207188e-01],\n",
              "       [-1.11669550e+00, -1.18457079e-01],\n",
              "       [-8.80013421e-01,  2.78874764e-01],\n",
              "       [ 8.47924642e-01, -2.99000618e-01],\n",
              "       [ 1.54934921e+00,  1.21976573e-01],\n",
              "       [-1.38648009e+00,  7.84549004e-01],\n",
              "       [-4.63033114e-01, -1.76966410e-02],\n",
              "       [-1.96763128e+00, -1.20732511e-01],\n",
              "       [-1.84169940e+00,  5.25194228e-01],\n",
              "       [ 1.13462819e+00, -3.08057128e-01],\n",
              "       [ 1.95145686e-01, -3.41197467e-01],\n",
              "       [ 5.92813763e-01, -1.17903441e+00],\n",
              "       [-1.75657246e+00, -8.09135030e-01],\n",
              "       [-6.96001655e-01,  1.54808559e+00],\n",
              "       [-8.57321363e-01, -1.73525538e-02],\n",
              "       [ 2.92650546e+00,  1.23990860e+00],\n",
              "       [ 7.28721364e-01, -1.68354594e-01],\n",
              "       [ 1.09714412e+00,  2.36177089e-01],\n",
              "       [ 1.79299407e+00, -5.09744314e-01],\n",
              "       [-9.09042406e-01, -4.51039325e-02],\n",
              "       [-6.28735365e-02,  7.00182627e-01],\n",
              "       [-3.17614923e-01,  1.15158020e+00],\n",
              "       [-8.63045915e-01,  1.43222627e+00],\n",
              "       [-1.35714404e+00, -9.29712236e-01],\n",
              "       [-1.06187379e+00,  1.07182635e+00],\n",
              "       [-5.17414002e-01, -1.68042897e+00],\n",
              "       [-1.10733168e+00, -1.25849987e-01],\n",
              "       [-4.41023350e-01, -1.06462396e+00],\n",
              "       [-1.40711199e+00,  1.27531192e+00],\n",
              "       [-2.28485927e-01, -3.43348871e-01],\n",
              "       [ 2.30397678e+00,  1.46571693e+00],\n",
              "       [-2.21907063e-01,  1.48884707e+00],\n",
              "       [-7.63328183e-01, -3.24062961e-02],\n",
              "       [-4.47852815e-01,  1.22420355e+00],\n",
              "       [ 1.98512311e+00,  1.99611517e-01],\n",
              "       [ 9.25009201e-01, -4.93637532e-01],\n",
              "       [ 2.73919828e-02,  2.08108881e-02],\n",
              "       [ 9.02915954e-01,  5.65055562e-01],\n",
              "       [ 3.81256370e-01,  1.50266388e+00],\n",
              "       [ 3.53466978e-01, -3.54488854e-01],\n",
              "       [-1.33247301e+00,  4.97286888e-01],\n",
              "       [-1.17784477e+00, -1.23928078e+00],\n",
              "       [ 3.69298866e-01,  1.23124619e+00],\n",
              "       [ 4.81457955e-01, -8.24556559e-01],\n",
              "       [-9.30860644e-01,  2.18561579e+00],\n",
              "       [ 4.62011257e-01,  1.47690353e+00],\n",
              "       [-8.51707388e-01, -2.06000151e+00],\n",
              "       [ 1.76233807e-01, -4.28935707e-01],\n",
              "       [ 9.92073508e-01,  3.21291201e-01],\n",
              "       [ 6.65161944e-01,  8.22037161e-01],\n",
              "       [ 1.87984597e+00,  9.74171270e-02],\n",
              "       [ 7.78524517e-01,  8.56342059e-01],\n",
              "       [ 1.06905604e+00, -1.24160570e+00],\n",
              "       [-2.48108369e-01,  1.17641568e+00],\n",
              "       [-3.31297895e-01, -9.77950360e-02]])"
            ]
          },
          "execution_count": 29,
          "metadata": {},
          "output_type": "execute_result"
        }
      ],
      "source": [
        "#2.2 Instaciamos PCA en una variable\n",
        "pca = PCA()\n",
        "\n",
        "pca.fit_transform(df_esc)"
      ]
    },
    {
      "cell_type": "code",
      "execution_count": 30,
      "metadata": {},
      "outputs": [
        {
          "data": {
            "text/plain": [
              "array([1.00949602, 0.99719294])"
            ]
          },
          "execution_count": 30,
          "metadata": {},
          "output_type": "execute_result"
        }
      ],
      "source": [
        "#3. Usamos explained_variance\n",
        "pca_variance_2 = pca.explained_variance_\n",
        "pca_variance_2"
      ]
    },
    {
      "cell_type": "code",
      "execution_count": 37,
      "metadata": {},
      "outputs": [
        {
          "data": {
            "image/png": "[encoded data removed]",
            "text/plain": [
              "<Figure size 800x600 with 1 Axes>"
            ]
          },
          "metadata": {},
          "output_type": "display_data"
        }
      ],
      "source": [
        "#4. Grafica\n",
        "plt.figure(figsize=(8, 6))\n",
        "plt.bar(range(2), pca_variance_2, alpha=0.5, align='center', label=\"Varianza individual\")\n",
        "plt.legend()\n",
        "plt.ylabel('% Varianza')\n",
        "plt.xlabel('Componentes principales')\n",
        "plt.show()"
      ]
    },
    {
      "cell_type": "markdown",
      "metadata": {
        "id": "E8gn0Iz78Nge"
      },
      "source": [
        "## Variable Clustering (VarClus)\n",
        "\n",
        "Esta técnica se vale de un modelo que ayuda a reducir las dimensiones por medio de agrupamientos para elegir a los componentes principales maximizando la varianza. Aunque es similar a la técnica de PCA, se diferencia de esta debido a que los agrupamientos eliminan las variables y conservan las más importantes."
      ]
    },
    {
      "cell_type": "markdown",
      "metadata": {
        "id": "R0nkqfvJf8kG"
      },
      "source": [
        "No te alarmes si no comprendes del todo el significado de la «clusterización», más adelante verás una explicación más detallada de este tipo de análisis. Por el momento,  nos enfocaremos en su uso para disminuir dimensiones."
      ]
    },
    {
      "cell_type": "markdown",
      "metadata": {
        "id": "hfwFypNOgSQ3"
      },
      "source": [
        "La siguiente función no aparece por defecto en **Google Colab** y posiblemente tampoco en alguna otra computadora, por eso se instala usando **pip**, un gestor de descargas de Python."
      ]
    },
    {
      "cell_type": "code",
      "execution_count": 12,
      "metadata": {
        "colab": {
          "base_uri": "https://localhost:8080/"
        },
        "id": "MsZZCLIw_4vY",
        "outputId": "5bff94da-3850-4a16-ce73-8deb523e61af"
      },
      "outputs": [
        {
          "name": "stdout",
          "output_type": "stream",
          "text": [
            "Collecting varclushi\n",
            "  Downloading varclushi-0.1.0-py3-none-any.whl (6.3 kB)\n",
            "Requirement already satisfied: pandas in /usr/local/lib/python3.10/dist-packages (from varclushi) (1.5.3)\n",
            "Requirement already satisfied: numpy in /usr/local/lib/python3.10/dist-packages (from varclushi) (1.23.5)\n",
            "Collecting factor-analyzer==0.3.1 (from varclushi)\n",
            "  Downloading factor_analyzer-0.3.1-py3-none-any.whl (41 kB)\n",
            "\u001b[2K     \u001b[90m━━━━━━━━━━━━━━━━━━━━━━━━━━━━━━━━━━━━━━━\u001b[0m \u001b[32m41.3/41.3 kB\u001b[0m \u001b[31m843.6 kB/s\u001b[0m eta \u001b[36m0:00:00\u001b[0m\n",
            "\u001b[?25hRequirement already satisfied: scipy in /usr/local/lib/python3.10/dist-packages (from factor-analyzer==0.3.1->varclushi) (1.11.3)\n",
            "Requirement already satisfied: scikit-learn in /usr/local/lib/python3.10/dist-packages (from factor-analyzer==0.3.1->varclushi) (1.2.2)\n",
            "Requirement already satisfied: python-dateutil>=2.8.1 in /usr/local/lib/python3.10/dist-packages (from pandas->varclushi) (2.8.2)\n",
            "Requirement already satisfied: pytz>=2020.1 in /usr/local/lib/python3.10/dist-packages (from pandas->varclushi) (2023.3.post1)\n",
            "Requirement already satisfied: six>=1.5 in /usr/local/lib/python3.10/dist-packages (from python-dateutil>=2.8.1->pandas->varclushi) (1.16.0)\n",
            "Requirement already satisfied: joblib>=1.1.1 in /usr/local/lib/python3.10/dist-packages (from scikit-learn->factor-analyzer==0.3.1->varclushi) (1.3.2)\n",
            "Requirement already satisfied: threadpoolctl>=2.0.0 in /usr/local/lib/python3.10/dist-packages (from scikit-learn->factor-analyzer==0.3.1->varclushi) (3.2.0)\n",
            "Installing collected packages: factor-analyzer, varclushi\n",
            "Successfully installed factor-analyzer-0.3.1 varclushi-0.1.0\n"
          ]
        }
      ],
      "source": [
        "pip install varclushi"
      ]
    },
    {
      "cell_type": "markdown",
      "metadata": {
        "id": "xF4rr1dwgwHb"
      },
      "source": [
        "El código mostrado arriba (`pip install varclushi`) solo se ejecuta la primera vez que lo uses, pues se trata de una instrucción de instalación.\n",
        "\n",
        "También podria ejecutarse nuevamente la instrucción, considerando que la única diferencia es en la solicitud, pues ahora solicitará la descarga de una función almacenada previamente en tu computadora o entorno virtual."
      ]
    },
    {
      "cell_type": "markdown",
      "metadata": {
        "id": "yBJtWoH4hWdb"
      },
      "source": [
        "Finalmente, es momento de importar la librería."
      ]
    },
    {
      "cell_type": "code",
      "execution_count": 38,
      "metadata": {
        "id": "FZMaK9JuAFUa"
      },
      "outputs": [],
      "source": [
        "from varclushi import VarClusHi"
      ]
    },
    {
      "cell_type": "markdown",
      "metadata": {
        "id": "O7QbzgAph-EX"
      },
      "source": [
        "Aquí se construya nueva variable, lllamada para el ejemplo `vc`, que será igual a la función `VaeClusHi()`.\n",
        "En este caso, se colocan dentro de los paréntesis solo aquellas variables o columnas con valores númericos.\n",
        "\n",
        "Si observas bien, advertirás un parámetro llamado `maxeigenval2`, que sirve como limitador del segundo valor mayor.\n"
      ]
    },
    {
      "cell_type": "code",
      "execution_count": 39,
      "metadata": {
        "id": "CbHOOefJAH0R"
      },
      "outputs": [],
      "source": [
        "vc = VarClusHi(df[['sepal_length', 'sepal_width', 'petal_length', 'petal_width']],maxeigval2=.7)"
      ]
    },
    {
      "cell_type": "code",
      "execution_count": 40,
      "metadata": {
        "colab": {
          "base_uri": "https://localhost:8080/"
        },
        "id": "4O0WBCeIAHxf",
        "outputId": "b3aa6e49-ae85-4749-cd18-95b9ee449c78"
      },
      "outputs": [
        {
          "data": {
            "text/plain": [
              "<varclushi.varclushi.VarClusHi at 0x1c8488d4590>"
            ]
          },
          "execution_count": 40,
          "metadata": {},
          "output_type": "execute_result"
        }
      ],
      "source": [
        "vc.varclus()"
      ]
    },
    {
      "cell_type": "markdown",
      "metadata": {
        "id": "Vky62qy1t_Ce"
      },
      "source": [
        "Se puede usar la función `.rsquare` sobre la nueva variale para conocer la relación $R^2$ de cada variable."
      ]
    },
    {
      "cell_type": "code",
      "execution_count": 41,
      "metadata": {
        "colab": {
          "base_uri": "https://localhost:8080/",
          "height": 175
        },
        "id": "A_-C5b8SAHuO",
        "outputId": "4bd63bc2-7f8e-4bae-cb84-b06502a61a39"
      },
      "outputs": [
        {
          "data": {
            "text/html": [
              "<div>\n",
              "<style scoped>\n",
              "    .dataframe tbody tr th:only-of-type {\n",
              "        vertical-align: middle;\n",
              "    }\n",
              "\n",
              "    .dataframe tbody tr th {\n",
              "        vertical-align: top;\n",
              "    }\n",
              "\n",
              "    .dataframe thead th {\n",
              "        text-align: right;\n",
              "    }\n",
              "</style>\n",
              "<table border=\"1\" class=\"dataframe\">\n",
              "  <thead>\n",
              "    <tr style=\"text-align: right;\">\n",
              "      <th></th>\n",
              "      <th>Cluster</th>\n",
              "      <th>Variable</th>\n",
              "      <th>RS_Own</th>\n",
              "      <th>RS_NC</th>\n",
              "      <th>RS_Ratio</th>\n",
              "    </tr>\n",
              "  </thead>\n",
              "  <tbody>\n",
              "    <tr>\n",
              "      <th>0</th>\n",
              "      <td>0</td>\n",
              "      <td>sepal_length</td>\n",
              "      <td>0.867479</td>\n",
              "      <td>0.013823</td>\n",
              "      <td>0.134378</td>\n",
              "    </tr>\n",
              "    <tr>\n",
              "      <th>1</th>\n",
              "      <td>0</td>\n",
              "      <td>petal_length</td>\n",
              "      <td>0.969018</td>\n",
              "      <td>0.183561</td>\n",
              "      <td>0.037948</td>\n",
              "    </tr>\n",
              "    <tr>\n",
              "      <th>2</th>\n",
              "      <td>0</td>\n",
              "      <td>petal_width</td>\n",
              "      <td>0.933244</td>\n",
              "      <td>0.134048</td>\n",
              "      <td>0.077090</td>\n",
              "    </tr>\n",
              "    <tr>\n",
              "      <th>3</th>\n",
              "      <td>1</td>\n",
              "      <td>sepal_width</td>\n",
              "      <td>1.000000</td>\n",
              "      <td>0.102084</td>\n",
              "      <td>0.000000</td>\n",
              "    </tr>\n",
              "  </tbody>\n",
              "</table>\n",
              "</div>"
            ],
            "text/plain": [
              "   Cluster      Variable    RS_Own     RS_NC  RS_Ratio\n",
              "0        0  sepal_length  0.867479  0.013823  0.134378\n",
              "1        0  petal_length  0.969018  0.183561  0.037948\n",
              "2        0   petal_width  0.933244  0.134048  0.077090\n",
              "3        1   sepal_width  1.000000  0.102084  0.000000"
            ]
          },
          "execution_count": 41,
          "metadata": {},
          "output_type": "execute_result"
        }
      ],
      "source": [
        "vc.rsquare"
      ]
    },
    {
      "cell_type": "code",
      "execution_count": 42,
      "metadata": {
        "colab": {
          "base_uri": "https://localhost:8080/",
          "height": 112
        },
        "id": "8Ws1bI5aAXgf",
        "outputId": "584742d3-6748-4597-be93-d35ff26dce11"
      },
      "outputs": [
        {
          "data": {
            "text/html": [
              "<div>\n",
              "<style scoped>\n",
              "    .dataframe tbody tr th:only-of-type {\n",
              "        vertical-align: middle;\n",
              "    }\n",
              "\n",
              "    .dataframe tbody tr th {\n",
              "        vertical-align: top;\n",
              "    }\n",
              "\n",
              "    .dataframe thead th {\n",
              "        text-align: right;\n",
              "    }\n",
              "</style>\n",
              "<table border=\"1\" class=\"dataframe\">\n",
              "  <thead>\n",
              "    <tr style=\"text-align: right;\">\n",
              "      <th></th>\n",
              "      <th>Cluster</th>\n",
              "      <th>Variable</th>\n",
              "      <th>RS_Own</th>\n",
              "      <th>RS_NC</th>\n",
              "      <th>RS_Ratio</th>\n",
              "    </tr>\n",
              "  </thead>\n",
              "  <tbody>\n",
              "    <tr>\n",
              "      <th>1</th>\n",
              "      <td>0</td>\n",
              "      <td>petal_length</td>\n",
              "      <td>0.969018</td>\n",
              "      <td>0.183561</td>\n",
              "      <td>0.037948</td>\n",
              "    </tr>\n",
              "    <tr>\n",
              "      <th>3</th>\n",
              "      <td>1</td>\n",
              "      <td>sepal_width</td>\n",
              "      <td>1.000000</td>\n",
              "      <td>0.102084</td>\n",
              "      <td>0.000000</td>\n",
              "    </tr>\n",
              "  </tbody>\n",
              "</table>\n",
              "</div>"
            ],
            "text/plain": [
              "   Cluster      Variable    RS_Own     RS_NC  RS_Ratio\n",
              "1        0  petal_length  0.969018  0.183561  0.037948\n",
              "3        1   sepal_width  1.000000  0.102084  0.000000"
            ]
          },
          "execution_count": 42,
          "metadata": {},
          "output_type": "execute_result"
        }
      ],
      "source": [
        "vc.rsquare.sort_values([\"Cluster\",\"RS_Ratio\"],ascending=True).drop_duplicates(subset=[\"Cluster\"],keep=\"first\")"
      ]
    },
    {
      "cell_type": "markdown",
      "metadata": {
        "id": "ljwSV2slAHVQ"
      },
      "source": [
        "Se observa que las variables \"sepal_lenght\", \"petal_width\" y \"petal_lenght\" se agruparon para un mismo cluster; en este caso, se opta por la variable perteneciente al clúster con mayor varianza explicada."
      ]
    },
    {
      "cell_type": "markdown",
      "metadata": {
        "id": "52qSwFyfAr2z"
      },
      "source": [
        "Duda: la varianza más baja siempre será aquella que esté más cerca al cero?"
      ]
    },
    {
      "cell_type": "markdown",
      "metadata": {
        "id": "PxtMn0oLeLGt"
      },
      "source": [
        "Ahora conoces las técnicas más utilizadas para reducir las dimensiones de un conjunto de datos.\n",
        "Recuerda que este paso es muy importante para optimizar el rendimiento del modelo y garantizar su mejor funcionamiento.\n"
      ]
    },
    {
      "cell_type": "markdown",
      "metadata": {
        "id": "MskmNQU19N4_"
      },
      "source": [
        "##### **Ponte a prueba 2**\n",
        "\n",
        "Eres un científico de datos que trabaja en una empresa de productos cosméticos. Tienes un conjunto de datos con características químicas de diferentes productos. Estás interesado en reducir la dimensionalidad del conjunto de datos y agrupar características similares para simplificar el análisis.\n",
        "\n",
        "Puedes descargar el conjunto de datos del siguiente enlace:: https://drive.google.com/file/d/1zHGcAuDKKTTyKugwZbt_4X8_9Mqms65T/view?usp=sharing\n",
        "\n",
        "Tus tareas son:\n",
        "\n",
        "1. Cargar el conjunto de datos.\n",
        "2. Realizar una estandarización de las características.\n",
        "3. Aplicar PCA para reducir la dimensionalidad del conjunto de datos.\n",
        "4. Graficar la varianza explicada acumulada para determinar cuántos componentes principales conservar."
      ]
    },
    {
      "cell_type": "markdown",
      "metadata": {},
      "source": [
        "## Ponte a prueba 2 Ingrid"
      ]
    },
    {
      "cell_type": "code",
      "execution_count": 44,
      "metadata": {},
      "outputs": [
        {
          "data": {
            "text/html": [
              "<div>\n",
              "<style scoped>\n",
              "    .dataframe tbody tr th:only-of-type {\n",
              "        vertical-align: middle;\n",
              "    }\n",
              "\n",
              "    .dataframe tbody tr th {\n",
              "        vertical-align: top;\n",
              "    }\n",
              "\n",
              "    .dataframe thead th {\n",
              "        text-align: right;\n",
              "    }\n",
              "</style>\n",
              "<table border=\"1\" class=\"dataframe\">\n",
              "  <thead>\n",
              "    <tr style=\"text-align: right;\">\n",
              "      <th></th>\n",
              "      <th>pH</th>\n",
              "      <th>viscosidad</th>\n",
              "      <th>contenido_agua</th>\n",
              "      <th>contenido_alcohol</th>\n",
              "      <th>nivel_fragancia</th>\n",
              "      <th>contenido_aceite</th>\n",
              "      <th>vitaminas</th>\n",
              "      <th>antioxidantes</th>\n",
              "      <th>agentes_conservantes</th>\n",
              "      <th>colorantes</th>\n",
              "    </tr>\n",
              "  </thead>\n",
              "  <tbody>\n",
              "    <tr>\n",
              "      <th>0</th>\n",
              "      <td>0.513085</td>\n",
              "      <td>0.431923</td>\n",
              "      <td>0.953125</td>\n",
              "      <td>0.516178</td>\n",
              "      <td>-0.971657</td>\n",
              "      <td>0.725096</td>\n",
              "      <td>-0.626717</td>\n",
              "      <td>0.862393</td>\n",
              "      <td>-0.641482</td>\n",
              "      <td>-1.379618</td>\n",
              "    </tr>\n",
              "    <tr>\n",
              "      <th>1</th>\n",
              "      <td>-0.147057</td>\n",
              "      <td>-0.563725</td>\n",
              "      <td>0.975120</td>\n",
              "      <td>-0.321386</td>\n",
              "      <td>-0.012247</td>\n",
              "      <td>-0.825497</td>\n",
              "      <td>0.075805</td>\n",
              "      <td>-0.677162</td>\n",
              "      <td>0.412931</td>\n",
              "      <td>-0.897254</td>\n",
              "    </tr>\n",
              "    <tr>\n",
              "      <th>2</th>\n",
              "      <td>-0.075764</td>\n",
              "      <td>0.817890</td>\n",
              "      <td>1.039112</td>\n",
              "      <td>-1.071857</td>\n",
              "      <td>0.326745</td>\n",
              "      <td>0.670481</td>\n",
              "      <td>0.622207</td>\n",
              "      <td>-1.138833</td>\n",
              "      <td>-1.553759</td>\n",
              "      <td>0.300474</td>\n",
              "    </tr>\n",
              "    <tr>\n",
              "      <th>3</th>\n",
              "      <td>-0.098890</td>\n",
              "      <td>0.321698</td>\n",
              "      <td>0.081829</td>\n",
              "      <td>-0.290275</td>\n",
              "      <td>0.388579</td>\n",
              "      <td>0.919076</td>\n",
              "      <td>-0.006071</td>\n",
              "      <td>0.838491</td>\n",
              "      <td>0.267392</td>\n",
              "      <td>2.493000</td>\n",
              "    </tr>\n",
              "    <tr>\n",
              "      <th>4</th>\n",
              "      <td>0.104356</td>\n",
              "      <td>0.921650</td>\n",
              "      <td>1.617213</td>\n",
              "      <td>-1.330314</td>\n",
              "      <td>0.105894</td>\n",
              "      <td>-0.898784</td>\n",
              "      <td>1.976441</td>\n",
              "      <td>-1.564242</td>\n",
              "      <td>-0.189120</td>\n",
              "      <td>0.584413</td>\n",
              "    </tr>\n",
              "  </tbody>\n",
              "</table>\n",
              "</div>"
            ],
            "text/plain": [
              "         pH  viscosidad  contenido_agua  contenido_alcohol  nivel_fragancia  \\\n",
              "0  0.513085    0.431923        0.953125           0.516178        -0.971657   \n",
              "1 -0.147057   -0.563725        0.975120          -0.321386        -0.012247   \n",
              "2 -0.075764    0.817890        1.039112          -1.071857         0.326745   \n",
              "3 -0.098890    0.321698        0.081829          -0.290275         0.388579   \n",
              "4  0.104356    0.921650        1.617213          -1.330314         0.105894   \n",
              "\n",
              "   contenido_aceite  vitaminas  antioxidantes  agentes_conservantes  \\\n",
              "0          0.725096  -0.626717       0.862393             -0.641482   \n",
              "1         -0.825497   0.075805      -0.677162              0.412931   \n",
              "2          0.670481   0.622207      -1.138833             -1.553759   \n",
              "3          0.919076  -0.006071       0.838491              0.267392   \n",
              "4         -0.898784   1.976441      -1.564242             -0.189120   \n",
              "\n",
              "   colorantes  \n",
              "0   -1.379618  \n",
              "1   -0.897254  \n",
              "2    0.300474  \n",
              "3    2.493000  \n",
              "4    0.584413  "
            ]
          },
          "execution_count": 44,
          "metadata": {},
          "output_type": "execute_result"
        }
      ],
      "source": [
        "#1. Cargar el conjunto de datos\n",
        "df_cosmeticos = pd.read_csv(r\"C:\\Users\\Equipo 1\\Downloads\\datasets\\dataset_cosmeticos.csv\")\n",
        "df_cosmeticos.head()"
      ]
    },
    {
      "cell_type": "code",
      "execution_count": 48,
      "metadata": {},
      "outputs": [
        {
          "name": "stdout",
          "output_type": "stream",
          "text": [
            "<class 'pandas.core.frame.DataFrame'>\n",
            "RangeIndex: 300 entries, 0 to 299\n",
            "Data columns (total 10 columns):\n",
            " #   Column                Non-Null Count  Dtype  \n",
            "---  ------                --------------  -----  \n",
            " 0   pH                    300 non-null    float64\n",
            " 1   viscosidad            300 non-null    float64\n",
            " 2   contenido_agua        300 non-null    float64\n",
            " 3   contenido_alcohol     300 non-null    float64\n",
            " 4   nivel_fragancia       300 non-null    float64\n",
            " 5   contenido_aceite      300 non-null    float64\n",
            " 6   vitaminas             300 non-null    float64\n",
            " 7   antioxidantes         300 non-null    float64\n",
            " 8   agentes_conservantes  300 non-null    float64\n",
            " 9   colorantes            300 non-null    float64\n",
            "dtypes: float64(10)\n",
            "memory usage: 23.6 KB\n"
          ]
        }
      ],
      "source": [
        "df_cosmeticos.info() #los datos están completos"
      ]
    },
    {
      "cell_type": "code",
      "execution_count": 79,
      "metadata": {},
      "outputs": [
        {
          "data": {
            "text/plain": [
              "array([[ 0.46186942,  0.29649882,  0.86076729, ...,  0.91312057,\n",
              "        -0.74315522, -1.34457527],\n",
              "       [-0.17026751, -0.72427512,  0.88212231, ..., -0.69009533,\n",
              "         0.39965358, -0.89591723],\n",
              "       [-0.10199895,  0.69220647,  0.9442533 , ..., -1.17085688,\n",
              "        -1.7319123 ,  0.21811876],\n",
              "       ...,\n",
              "       [ 0.3823487 , -0.34762909,  0.30618948, ...,  2.17768872,\n",
              "        -0.32865431, -0.38621249],\n",
              "       [-0.5208899 , -0.34217269,  0.65464088, ..., -1.02856091,\n",
              "        -2.82504014, -0.21277715],\n",
              "       [ 2.61313546, -1.96004555,  0.96473782, ...,  0.54143845,\n",
              "        -0.07561391, -0.96687807]])"
            ]
          },
          "execution_count": 79,
          "metadata": {},
          "output_type": "execute_result"
        }
      ],
      "source": [
        "#2. Realizar una estandarización de las características\n",
        "escala_estandar = StandardScaler()\n",
        "df_transformado = escala_estandar.fit_transform(df_cosmeticos)\n",
        "df_transformado\n",
        "\n"
      ]
    },
    {
      "cell_type": "code",
      "execution_count": 91,
      "metadata": {},
      "outputs": [
        {
          "data": {
            "text/plain": [
              "array([[ 1.40911469, -0.31049347, -0.40803851, ..., -0.16183427,\n",
              "         1.11946163,  0.55821814],\n",
              "       [-0.100409  ,  0.86326072,  0.2917551 , ...,  1.14037811,\n",
              "         0.77152194, -0.51882014],\n",
              "       [-0.89563963,  1.20140292,  0.86790505, ..., -0.45595877,\n",
              "        -0.8312942 ,  0.45980961],\n",
              "       ...,\n",
              "       [ 0.97947105, -1.39930912, -0.45788246, ..., -0.76027858,\n",
              "         1.17492799,  0.94470062],\n",
              "       [-1.0257894 ,  1.37489388,  0.71219075, ..., -0.32711517,\n",
              "         0.61865555,  0.83560335],\n",
              "       [-0.04768597, -1.4193912 ,  1.56571756, ...,  1.05255672,\n",
              "         0.70931511,  1.14269601]])"
            ]
          },
          "execution_count": 91,
          "metadata": {},
          "output_type": "execute_result"
        }
      ],
      "source": [
        "#3. Aplicar PCA para reducir la dimensionalidad del conjunto de datos.\n",
        "pca = PCA()\n",
        "pca2 = pca.fit_transform(df_transformado)\n",
        "pca2"
      ]
    },
    {
      "cell_type": "code",
      "execution_count": 94,
      "metadata": {},
      "outputs": [
        {
          "data": {
            "text/plain": [
              "array([1.30462097, 1.16447546, 1.13785776, 1.10684965, 1.04992046,\n",
              "       0.95504994, 0.87301121, 0.83625685, 0.82408752, 0.781315  ])"
            ]
          },
          "execution_count": 94,
          "metadata": {},
          "output_type": "execute_result"
        }
      ],
      "source": [
        "pca_cosmetico = pca.explained_variance_\n",
        "pca_cosmetico"
      ]
    },
    {
      "cell_type": "code",
      "execution_count": 89,
      "metadata": {},
      "outputs": [
        {
          "data": {
            "image/png": "[encoded data removed]",
            "text/plain": [
              "<Figure size 1000x400 with 1 Axes>"
            ]
          },
          "metadata": {},
          "output_type": "display_data"
        }
      ],
      "source": [
        "#4. Graficar la varianza explicada acumulada para determinar \n",
        "#cuántos componentes principales conservar.\n",
        "plt.figure(figsize=(10, 4))\n",
        "plt.bar(range(10), pca_cosmetico, alpha=0.5, align='center', label=\"Varianza individual\")\n",
        "plt.legend()\n",
        "plt.ylabel('% Varianza')\n",
        "plt.xlabel('Componentes principales')\n",
        "plt.show()"
      ]
    },
    {
      "cell_type": "markdown",
      "metadata": {
        "id": "An2rBuz3yN6l"
      },
      "source": [
        "#Próximos pasos\n",
        "Terminaste la semana 8. Estás a un paso de obtener la insignia correspondiente a este módulo. Presta mucha atención a tu proyecto e implementa todo lo que has aprendido.\n",
        "\n",
        "¡Éxito! ⭐"
      ]
    },
    {
      "cell_type": "markdown",
      "metadata": {},
      "source": [
        "# Ejercicios clase"
      ]
    },
    {
      "cell_type": "code",
      "execution_count": null,
      "metadata": {},
      "outputs": [],
      "source": [
        "#Comenzamos aquí\n"
      ]
    }
  ],
  "metadata": {
    "colab": {
      "provenance": []
    },
    "kernelspec": {
      "display_name": "Python 3",
      "name": "python3"
    },
    "language_info": {
      "codemirror_mode": {
        "name": "ipython",
        "version": 3
      },
      "file_extension": ".py",
      "mimetype": "text/x-python",
      "name": "python",
      "nbconvert_exporter": "python",
      "pygments_lexer": "ipython3",
      "version": "3.11.6"
    }
  },
  "nbformat": 4,
  "nbformat_minor": 0
}
