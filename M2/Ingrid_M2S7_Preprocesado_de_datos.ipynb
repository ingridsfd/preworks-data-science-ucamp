{
  "cells": [
    {
      "cell_type": "markdown",
      "metadata": {
        "id": "SzShizT_BQvg"
      },
      "source": [
        "# **Bootcamp Ciencia de Datos e Inteligencia Artificial**\n",
        "# **Módulo 2. Análisis de datos**\n",
        "## **Semana 7. Preprocesado de datos**\n"
      ]
    },
    {
      "cell_type": "markdown",
      "metadata": {
        "id": "5Ps4Mjb6Fk59"
      },
      "source": [
        "¡Hola! Te damos la bienvenida a esta semana. Ahora aprenderás sobre preprocesamiento de datos y transformación de variables categóricas.\n",
        "\n",
        "¡Comencemos!"
      ]
    },
    {
      "cell_type": "markdown",
      "metadata": {
        "id": "aRjHcjU6aAI-"
      },
      "source": [
        "# Preprocesamiento de datos\n",
        "Como su nombre lo indica, el preprocesamiento es una estancia previa al ingreso de los datos en un modelo. De esta manera, se asegura el cumplimiento de los criterios básicos para minimizar la cantidad de errores.\n",
        "\n",
        "Este paso garantiza que la información sea adecuada, es decir, que el algorítmo sea sensible a la escala de los datos. Así, por ejemplo, se otorga mayor o menor importancia a una variable según los valores tomados.\n",
        "\n",
        "Por otro lado, ciertos algorítmos necesitan entrenarse. Esto obliga a codificar las variables categóricas en valores númericos mediante distintas técnicas.\n",
        "\n",
        "Entre ellas, destacan las siguientes:\n"
      ]
    },
    {
      "cell_type": "markdown",
      "metadata": {
        "id": "rGFPBql8au0b"
      },
      "source": [
        "## Escalado de datos\n",
        "\n",
        "\n",
        "Al hablar del escalamiento de los datos se alude al cambio de la escala de una variable o de todo el set para que las variables tengan una misma escala y no afecten al rendimiento del modelo seleccionado. Por ejemplo, un algoritmo no supervisado llamado \"vecinos más cercanos\" mide la distancia de un registro a otro; si los datos no se estandarizaran,  las distancias entre cada registro cambiarían drásticamente, haciendo que el algóritmo se entienda de forma distinta.\n",
        "\n",
        "Una manera sencilla de entender el escalado es imaginar un conjunto de datos con distintas variables y que tratará de predecir si un alumno aprueba o reprueba una asignatura específica. Una de las variables es el tiempo de horas de estudios, con valores como 3 horas, 7 horas, 0 horas, entre otros. Por su parte, hay una variable que indica el número de aciertos que obtuvo en una asignatura similar cuyos valores registrados son 116, 89, 96, etcétera.\n",
        "\n",
        "Como puedes ver, la primera variable (horas de estudio) incluye números pequeños, mientras que la segunda variable (aciertos) abarca cifras más grandes. Si estos datos se ingresan en un modelo, los valores de los aciertos tendrán más peso que las horas de estudio. Es en este caso, el escalado se vale de cálculos matemáticos para convertir los valores en datos más similares (los cuales, por lo general, rondan entre -1 y 1) para ambas variables. Esto hace que una variable no sea más «pesada» que otra y sesgue el resultado del modelo.\n",
        "\n",
        "Como se ha comentado esto requiere de varios cálculos matemáticos, pero la librería \"Scikit-learn\" ofrece un módulo con distintos escaladores. A continuación, revisarás los más relevantes."
      ]
    },
    {
      "cell_type": "markdown",
      "metadata": {
        "id": "TtNFYiP7GyQ8"
      },
      "source": [
        "\n",
        "El primer paso (como en cualquier programación de Ciencias de Datos) consiste en importar las librerías necesarias para hacer el análisis. Ya conoces algunas de ellas: pandas, numpy y matplotlib, etc.\n",
        "\n",
        "Recuerda que puedes escribir código en Google Colab agregando un cuadro de código.\n",
        "\n",
        "En esta ocasión, utilizarás el siguiente código: `sklearn.preprocessing`, junto con la función `StandardScaler`."
      ]
    },
    {
      "cell_type": "code",
      "execution_count": 2,
      "metadata": {
        "id": "8Yxf71HDX7_l"
      },
      "outputs": [],
      "source": [
        "#Standard Scaler\n",
        "from sklearn.preprocessing import StandardScaler\n",
        "import pandas as pd\n",
        "import numpy as np\n",
        "import matplotlib.pyplot as plt\n",
        "import seaborn as sns\n",
        "import warnings\n",
        "warnings.filterwarnings(\"ignore\")"
      ]
    },
    {
      "cell_type": "markdown",
      "metadata": {
        "id": "Ur3rZb3jcyx-"
      },
      "source": [
        "A continuación, se añade el siguiente código. Observa un ejemplo de este escalador, el cual estándariza los datos eliminando la media y escalando los datos de forma que su varianza sea igual a 1 (recuerda que puedes ejecutarlo).\n"
      ]
    },
    {
      "cell_type": "code",
      "execution_count": 2,
      "metadata": {
        "colab": {
          "base_uri": "https://localhost:8080/",
          "height": 238
        },
        "id": "RR1bgtgtcRrk",
        "outputId": "79a4e623-14d5-4d1e-db5e-087181f6b808"
      },
      "outputs": [
        {
          "data": {
            "text/html": [
              "<div>\n",
              "<style scoped>\n",
              "    .dataframe tbody tr th:only-of-type {\n",
              "        vertical-align: middle;\n",
              "    }\n",
              "\n",
              "    .dataframe tbody tr th {\n",
              "        vertical-align: top;\n",
              "    }\n",
              "\n",
              "    .dataframe thead th {\n",
              "        text-align: right;\n",
              "    }\n",
              "</style>\n",
              "<table border=\"1\" class=\"dataframe\">\n",
              "  <thead>\n",
              "    <tr style=\"text-align: right;\">\n",
              "      <th></th>\n",
              "      <th>x</th>\n",
              "      <th>y</th>\n",
              "    </tr>\n",
              "  </thead>\n",
              "  <tbody>\n",
              "    <tr>\n",
              "      <th>0</th>\n",
              "      <td>1</td>\n",
              "      <td>2</td>\n",
              "    </tr>\n",
              "    <tr>\n",
              "      <th>1</th>\n",
              "      <td>2</td>\n",
              "      <td>4</td>\n",
              "    </tr>\n",
              "    <tr>\n",
              "      <th>2</th>\n",
              "      <td>3</td>\n",
              "      <td>6</td>\n",
              "    </tr>\n",
              "    <tr>\n",
              "      <th>3</th>\n",
              "      <td>3</td>\n",
              "      <td>2</td>\n",
              "    </tr>\n",
              "    <tr>\n",
              "      <th>4</th>\n",
              "      <td>5</td>\n",
              "      <td>3</td>\n",
              "    </tr>\n",
              "    <tr>\n",
              "      <th>5</th>\n",
              "      <td>8</td>\n",
              "      <td>7</td>\n",
              "    </tr>\n",
              "  </tbody>\n",
              "</table>\n",
              "</div>"
            ],
            "text/plain": [
              "   x  y\n",
              "0  1  2\n",
              "1  2  4\n",
              "2  3  6\n",
              "3  3  2\n",
              "4  5  3\n",
              "5  8  7"
            ]
          },
          "execution_count": 2,
          "metadata": {},
          "output_type": "execute_result"
        }
      ],
      "source": [
        "x = [1, 2, 3, 3, 5, 8] #Creamos una variable x con seis elementos.\n",
        "y = [2, 4, 6, 2, 3, 7] #Creamos una variable y con seis elementos.\n",
        "df = pd.DataFrame({'x':x, 'y': y}, dtype = 'int64') #Usamos pd.DataFrame para hacer un conjunto de datos.\n",
        "# El primero se llamará \"x\" y tendrá como valores la variable x que ya hicimos. Hacemos lo mismo con \"y\".\n",
        "df"
      ]
    },
    {
      "cell_type": "markdown",
      "metadata": {
        "id": "KRj7rFjaLhdp"
      },
      "source": [
        "Solicita a Python que imprima las medias de la variable `x` y de la variable `y` (ambas dentro del _dataframe_ `df`)."
      ]
    },
    {
      "cell_type": "code",
      "execution_count": 3,
      "metadata": {
        "colab": {
          "base_uri": "https://localhost:8080/"
        },
        "id": "m-Hfl1OicRl1",
        "outputId": "9e8e0930-1fd3-4d3a-ca50-4c8b092e5843"
      },
      "outputs": [
        {
          "name": "stdout",
          "output_type": "stream",
          "text": [
            "Media de X: 3.6666666666666665\n",
            "Media de Y: 4.0\n"
          ]
        }
      ],
      "source": [
        "print(\"Media de X: \"+ str(np.mean(df.x)))\n",
        "print(\"Media de Y: \"+ str(np.mean(df.y)))"
      ]
    },
    {
      "cell_type": "markdown",
      "metadata": {
        "id": "8aY-GBxILzge"
      },
      "source": [
        "Otra forma de hacer lo anterior es mediante el siguiente código:\n",
        "```python\n",
        "print(\"Media de X: \"+ str(np.mean(df['x'])))\n",
        "print(\"Media de Y: \"+ str(np.mean(df['y'])))\n",
        "```"
      ]
    },
    {
      "cell_type": "markdown",
      "metadata": {
        "id": "0aLQBio-MU8g"
      },
      "source": [
        "Para el caso de la varianza, se utiliza:"
      ]
    },
    {
      "cell_type": "code",
      "execution_count": 4,
      "metadata": {
        "colab": {
          "base_uri": "https://localhost:8080/"
        },
        "id": "um1OWqd2cRfR",
        "outputId": "41720a07-fbae-48d3-fbae-f7ff5d6ad20a"
      },
      "outputs": [
        {
          "name": "stdout",
          "output_type": "stream",
          "text": [
            "Varianza de X: 5.222222222222222\n",
            "Varianza de Y: 3.6666666666666665\n"
          ]
        }
      ],
      "source": [
        "print(\"Varianza de X: \"+ str(np.var(df.x)))\n",
        "print(\"Varianza de Y: \"+ str(np.var(df.y)))"
      ]
    },
    {
      "cell_type": "markdown",
      "metadata": {
        "id": "xGPdvctQMZIA"
      },
      "source": [
        "Otra forma de escribir lo anterior es:\n",
        "```python\n",
        "print(\"Varianza de X: \"+ str(np.var(df['x'])))\n",
        "print(\"Varianza de Y: \"+ str(np.var(df['y'])))\n",
        "```  "
      ]
    },
    {
      "cell_type": "markdown",
      "metadata": {
        "id": "Ng5gypDUM0V7"
      },
      "source": [
        "Después, ejecuta `sns.scatterplot(x, y)` para observar la distribución de las variables creadas en un gráfica de dispersión usando `scatterplot` de la librería `seaborn`."
      ]
    },
    {
      "cell_type": "code",
      "execution_count": 5,
      "metadata": {
        "colab": {
          "base_uri": "https://localhost:8080/",
          "height": 447
        },
        "id": "MR-sF_BMd9J2",
        "outputId": "67345aa5-7880-4a14-8205-ccfffbd2e31a"
      },
      "outputs": [
        {
          "data": {
            "text/plain": [
              "<Axes: >"
            ]
          },
          "execution_count": 5,
          "metadata": {},
          "output_type": "execute_result"
        },
        {
          "data": {
            "image/png": "[encoded data removed]",
            "text/plain": [
              "<Figure size 640x480 with 1 Axes>"
            ]
          },
          "metadata": {},
          "output_type": "display_data"
        }
      ],
      "source": [
        "sns.scatterplot(x=x, y=y)"
      ]
    },
    {
      "cell_type": "markdown",
      "metadata": {
        "id": "lbY9DSmzOrC_"
      },
      "source": [
        "A continuación, genera una variable llamada `escalador`, que será igual a la función `StandardScaler()` y facilitará el uso de esta herramienta.\n",
        "\n",
        "Ahota tendrás una variable llamada `transformado`, creada hace un segundo (`escalador`). Aplica una función llamada `fit_transform`, que aplicará el escalador sobre el  _data frame_.\n",
        "\n",
        "Así, con el siguiente código Python escalará automáticamente todos los valores dentro de `df`."
      ]
    },
    {
      "cell_type": "code",
      "execution_count": 6,
      "metadata": {
        "colab": {
          "base_uri": "https://localhost:8080/"
        },
        "id": "NGaZe6Yede7B",
        "outputId": "be6b0787-b1c1-438f-a00b-b0c94c8bf73d"
      },
      "outputs": [
        {
          "data": {
            "text/plain": [
              "array([[-1.16691993, -1.04446594],\n",
              "       [-0.72932496,  0.        ],\n",
              "       [-0.29172998,  1.04446594],\n",
              "       [-0.29172998, -1.04446594],\n",
              "       [ 0.58345997, -0.52223297],\n",
              "       [ 1.89624489,  1.5666989 ]])"
            ]
          },
          "execution_count": 6,
          "metadata": {},
          "output_type": "execute_result"
        }
      ],
      "source": [
        "escalador = StandardScaler()\n",
        "transformado = escalador.fit_transform(df)\n",
        "transformado"
      ]
    },
    {
      "cell_type": "markdown",
      "metadata": {
        "id": "RjBCc-rsPw8n"
      },
      "source": [
        "Recuerda que tus variables pueden llamarse como gustes, pero es preferible usar palabras que resulten más faciles de identificar y describir la función de dicha variable."
      ]
    },
    {
      "cell_type": "markdown",
      "metadata": {
        "id": "AI_W2PbuQS4L"
      },
      "source": [
        "Al comprobar la varianza y la media de los nuevos datos escalados se obtiene:"
      ]
    },
    {
      "cell_type": "code",
      "execution_count": 7,
      "metadata": {
        "colab": {
          "base_uri": "https://localhost:8080/"
        },
        "id": "M0PHqmbXde4o",
        "outputId": "fefc905b-12fa-401e-a448-475011a06a1f"
      },
      "outputs": [
        {
          "name": "stdout",
          "output_type": "stream",
          "text": [
            "Media de X escalado: 1.1102230246251565e-16\n",
            "Media de Y escalado: 0.0\n"
          ]
        }
      ],
      "source": [
        "print(\"Media de X escalado: \"+ str(np.mean(transformado[:, 0]))) # Valores de X tienden a 0\n",
        "print(\"Media de Y escalado: \"+ str(np.mean(transformado[:, 1])))"
      ]
    },
    {
      "cell_type": "code",
      "execution_count": 8,
      "metadata": {
        "colab": {
          "base_uri": "https://localhost:8080/"
        },
        "id": "DmgmqYutde2Y",
        "outputId": "682d686f-f49d-420f-8759-bcc71d549d5d"
      },
      "outputs": [
        {
          "name": "stdout",
          "output_type": "stream",
          "text": [
            "Varianza de X escalado: 1.0\n",
            "Varianza de Y escalado: 1.0\n"
          ]
        }
      ],
      "source": [
        "print(\"Varianza de X escalado: \"+ str(np.var(transformado[:, 0])))\n",
        "print(\"Varianza de Y escalado: \"+ str(np.var(transformado[:, 1])))"
      ]
    },
    {
      "cell_type": "markdown",
      "metadata": {
        "id": "oYwzOqTSQjNJ"
      },
      "source": [
        "Observa que la distribución de los datos es idéntica."
      ]
    },
    {
      "cell_type": "code",
      "execution_count": 9,
      "metadata": {
        "colab": {
          "base_uri": "https://localhost:8080/",
          "height": 447
        },
        "id": "d6oBH5Pwe6xf",
        "outputId": "687258e8-8087-41e9-c188-1f5e91ce7b4a"
      },
      "outputs": [
        {
          "data": {
            "text/plain": [
              "<Axes: >"
            ]
          },
          "execution_count": 9,
          "metadata": {},
          "output_type": "execute_result"
        },
        {
          "data": {
            "image/png": "[encoded data removed]",
            "text/plain": [
              "<Figure size 640x480 with 1 Axes>"
            ]
          },
          "metadata": {},
          "output_type": "display_data"
        }
      ],
      "source": [
        "sns.scatterplot(x=transformado[:, 0], y=transformado[:, 1])"
      ]
    },
    {
      "cell_type": "markdown",
      "metadata": {
        "id": "wtEb9YICH1om"
      },
      "source": [
        "#### Pregúntate\n",
        "- ¿Qué diferencia notas entre los primeros valores ingresados en «x» y «y» con respecto a los valores escalados? R= Observo que ahora están expresadas en unidades más parejas o en común\n",
        "- ¿Qué diferencia encuentras en sus varianzas? R= No hay diferencia como tal entre sus varianzas. Sino en su manera de representarse. La manera en que ahora agrupa la información es sobre una varianza en común"
      ]
    },
    {
      "cell_type": "markdown",
      "metadata": {
        "id": "68UhGt1wfZMB"
      },
      "source": [
        "Otra técnica es la siguiente:\n",
        "\n",
        "### MinMaxScaler\n",
        "\n",
        "El escalador MinMaxScaler transforma las variables escalándolas a un rango (0,1); en otras palabras, el valor más pequeño puede ser 0 y el más grande es 1. Cabe señalar que este rango es personalizable mediante un proceso denominado «normalización de datos»."
      ]
    },
    {
      "cell_type": "markdown",
      "metadata": {
        "id": "q4MErNBjPMgM"
      },
      "source": [
        "Para este ejemplo, se utiliza un conjunto de datos incluido en la librería de `seaborn`. Para acceder a él, usa `.load_dataset('iris')` y asígnalo a una variable llamada `iris`.\n",
        "\n",
        "La variable `iris` informa sobre el ancho y largo del sépalo y de los pétalos en algunas flores, para así identificar su especie."
      ]
    },
    {
      "cell_type": "markdown",
      "metadata": {
        "id": "P6cdVeKuRJIK"
      },
      "source": [
        "Para trabajar este escalador, es necesario importar `MinMaxScaler` de `sklearn` usando el siguiente código:"
      ]
    },
    {
      "cell_type": "code",
      "execution_count": 10,
      "metadata": {
        "id": "RGAWZs_ifPTI"
      },
      "outputs": [],
      "source": [
        "from sklearn.preprocessing import MinMaxScaler"
      ]
    },
    {
      "cell_type": "markdown",
      "metadata": {
        "id": "TRZM5edWRerN"
      },
      "source": [
        "En esta ocasión se tomará un _dataset_ conocido como `iris`, que no necesita descargarse, pues está integrado dentro de la librería de `seaborn`.\n",
        "\n",
        "Para acceder a él, se aplica el siguiente código:"
      ]
    },
    {
      "cell_type": "code",
      "execution_count": 11,
      "metadata": {
        "colab": {
          "base_uri": "https://localhost:8080/",
          "height": 206
        },
        "id": "bU8tpohNfLsL",
        "outputId": "d858060d-baea-4d9b-f6d0-cbff2a191553"
      },
      "outputs": [
        {
          "data": {
            "text/html": [
              "<div>\n",
              "<style scoped>\n",
              "    .dataframe tbody tr th:only-of-type {\n",
              "        vertical-align: middle;\n",
              "    }\n",
              "\n",
              "    .dataframe tbody tr th {\n",
              "        vertical-align: top;\n",
              "    }\n",
              "\n",
              "    .dataframe thead th {\n",
              "        text-align: right;\n",
              "    }\n",
              "</style>\n",
              "<table border=\"1\" class=\"dataframe\">\n",
              "  <thead>\n",
              "    <tr style=\"text-align: right;\">\n",
              "      <th></th>\n",
              "      <th>sepal_length</th>\n",
              "      <th>sepal_width</th>\n",
              "      <th>petal_length</th>\n",
              "      <th>petal_width</th>\n",
              "      <th>species</th>\n",
              "    </tr>\n",
              "  </thead>\n",
              "  <tbody>\n",
              "    <tr>\n",
              "      <th>0</th>\n",
              "      <td>5.1</td>\n",
              "      <td>3.5</td>\n",
              "      <td>1.4</td>\n",
              "      <td>0.2</td>\n",
              "      <td>setosa</td>\n",
              "    </tr>\n",
              "    <tr>\n",
              "      <th>1</th>\n",
              "      <td>4.9</td>\n",
              "      <td>3.0</td>\n",
              "      <td>1.4</td>\n",
              "      <td>0.2</td>\n",
              "      <td>setosa</td>\n",
              "    </tr>\n",
              "    <tr>\n",
              "      <th>2</th>\n",
              "      <td>4.7</td>\n",
              "      <td>3.2</td>\n",
              "      <td>1.3</td>\n",
              "      <td>0.2</td>\n",
              "      <td>setosa</td>\n",
              "    </tr>\n",
              "    <tr>\n",
              "      <th>3</th>\n",
              "      <td>4.6</td>\n",
              "      <td>3.1</td>\n",
              "      <td>1.5</td>\n",
              "      <td>0.2</td>\n",
              "      <td>setosa</td>\n",
              "    </tr>\n",
              "    <tr>\n",
              "      <th>4</th>\n",
              "      <td>5.0</td>\n",
              "      <td>3.6</td>\n",
              "      <td>1.4</td>\n",
              "      <td>0.2</td>\n",
              "      <td>setosa</td>\n",
              "    </tr>\n",
              "  </tbody>\n",
              "</table>\n",
              "</div>"
            ],
            "text/plain": [
              "   sepal_length  sepal_width  petal_length  petal_width species\n",
              "0           5.1          3.5           1.4          0.2  setosa\n",
              "1           4.9          3.0           1.4          0.2  setosa\n",
              "2           4.7          3.2           1.3          0.2  setosa\n",
              "3           4.6          3.1           1.5          0.2  setosa\n",
              "4           5.0          3.6           1.4          0.2  setosa"
            ]
          },
          "execution_count": 11,
          "metadata": {},
          "output_type": "execute_result"
        }
      ],
      "source": [
        "iris = sns.load_dataset(\"iris\")\n",
        "iris.head()"
      ]
    },
    {
      "cell_type": "markdown",
      "metadata": {
        "id": "jHps93f3ilj7"
      },
      "source": [
        "El siguiente paso es usar la función `MinMaxSclaer()` y asignarla a una variable (en este ejemplo, a `escaler`, aunque puedes usar el nombre que prefieras) para usarla más adelante."
      ]
    },
    {
      "cell_type": "code",
      "execution_count": 12,
      "metadata": {
        "id": "0aON_YayfLp1"
      },
      "outputs": [],
      "source": [
        "escalador = MinMaxScaler()"
      ]
    },
    {
      "cell_type": "markdown",
      "metadata": {
        "id": "3deH3wXZSPx9"
      },
      "source": [
        "Si observas el _dataset_ `iris`, notarás que una variable no tiene valores númericos (la columna llamada `species`). Este tipo de valores no pueden escalarse y por ello conviene quitarlos.\n",
        "\n",
        "Para hacer eso, `iris` solo incuirá las columnas con valores numéricos, a saber: `sepal_length`, `sepal_width`, `petal_length` y `petal_width`. Lo anterior se logra con el siguente código:"
      ]
    },
    {
      "cell_type": "code",
      "execution_count": 13,
      "metadata": {
        "id": "SpoLM_j4fLnu"
      },
      "outputs": [],
      "source": [
        "iris=iris[['sepal_length', 'sepal_width', 'petal_length', 'petal_width']] #Quitamos variable species para quedarnos con las numéricas"
      ]
    },
    {
      "cell_type": "markdown",
      "metadata": {
        "id": "KcpZPOqrS7x3"
      },
      "source": [
        "Al igual que sucedió con el **escalador** anterior, se utilizará la función `.fit_transform`, que hará que Python aplique el escalado de forma automática.\n",
        "\n",
        "Observa el resultado al emplear el siguiente código:"
      ]
    },
    {
      "cell_type": "code",
      "execution_count": 14,
      "metadata": {
        "colab": {
          "base_uri": "https://localhost:8080/"
        },
        "id": "SYrGZkgmfLlb",
        "outputId": "83ca8035-9b67-482b-e401-53c907740914"
      },
      "outputs": [
        {
          "data": {
            "text/plain": [
              "array([[0.22222222, 0.625     , 0.06779661, 0.04166667],\n",
              "       [0.16666667, 0.41666667, 0.06779661, 0.04166667],\n",
              "       [0.11111111, 0.5       , 0.05084746, 0.04166667],\n",
              "       [0.08333333, 0.45833333, 0.08474576, 0.04166667],\n",
              "       [0.19444444, 0.66666667, 0.06779661, 0.04166667],\n",
              "       [0.30555556, 0.79166667, 0.11864407, 0.125     ],\n",
              "       [0.08333333, 0.58333333, 0.06779661, 0.08333333],\n",
              "       [0.19444444, 0.58333333, 0.08474576, 0.04166667],\n",
              "       [0.02777778, 0.375     , 0.06779661, 0.04166667],\n",
              "       [0.16666667, 0.45833333, 0.08474576, 0.        ],\n",
              "       [0.30555556, 0.70833333, 0.08474576, 0.04166667],\n",
              "       [0.13888889, 0.58333333, 0.10169492, 0.04166667],\n",
              "       [0.13888889, 0.41666667, 0.06779661, 0.        ],\n",
              "       [0.        , 0.41666667, 0.01694915, 0.        ],\n",
              "       [0.41666667, 0.83333333, 0.03389831, 0.04166667],\n",
              "       [0.38888889, 1.        , 0.08474576, 0.125     ],\n",
              "       [0.30555556, 0.79166667, 0.05084746, 0.125     ],\n",
              "       [0.22222222, 0.625     , 0.06779661, 0.08333333],\n",
              "       [0.38888889, 0.75      , 0.11864407, 0.08333333],\n",
              "       [0.22222222, 0.75      , 0.08474576, 0.08333333],\n",
              "       [0.30555556, 0.58333333, 0.11864407, 0.04166667],\n",
              "       [0.22222222, 0.70833333, 0.08474576, 0.125     ],\n",
              "       [0.08333333, 0.66666667, 0.        , 0.04166667],\n",
              "       [0.22222222, 0.54166667, 0.11864407, 0.16666667],\n",
              "       [0.13888889, 0.58333333, 0.15254237, 0.04166667],\n",
              "       [0.19444444, 0.41666667, 0.10169492, 0.04166667],\n",
              "       [0.19444444, 0.58333333, 0.10169492, 0.125     ],\n",
              "       [0.25      , 0.625     , 0.08474576, 0.04166667],\n",
              "       [0.25      , 0.58333333, 0.06779661, 0.04166667],\n",
              "       [0.11111111, 0.5       , 0.10169492, 0.04166667],\n",
              "       [0.13888889, 0.45833333, 0.10169492, 0.04166667],\n",
              "       [0.30555556, 0.58333333, 0.08474576, 0.125     ],\n",
              "       [0.25      , 0.875     , 0.08474576, 0.        ],\n",
              "       [0.33333333, 0.91666667, 0.06779661, 0.04166667],\n",
              "       [0.16666667, 0.45833333, 0.08474576, 0.04166667],\n",
              "       [0.19444444, 0.5       , 0.03389831, 0.04166667],\n",
              "       [0.33333333, 0.625     , 0.05084746, 0.04166667],\n",
              "       [0.16666667, 0.66666667, 0.06779661, 0.        ],\n",
              "       [0.02777778, 0.41666667, 0.05084746, 0.04166667],\n",
              "       [0.22222222, 0.58333333, 0.08474576, 0.04166667],\n",
              "       [0.19444444, 0.625     , 0.05084746, 0.08333333],\n",
              "       [0.05555556, 0.125     , 0.05084746, 0.08333333],\n",
              "       [0.02777778, 0.5       , 0.05084746, 0.04166667],\n",
              "       [0.19444444, 0.625     , 0.10169492, 0.20833333],\n",
              "       [0.22222222, 0.75      , 0.15254237, 0.125     ],\n",
              "       [0.13888889, 0.41666667, 0.06779661, 0.08333333],\n",
              "       [0.22222222, 0.75      , 0.10169492, 0.04166667],\n",
              "       [0.08333333, 0.5       , 0.06779661, 0.04166667],\n",
              "       [0.27777778, 0.70833333, 0.08474576, 0.04166667],\n",
              "       [0.19444444, 0.54166667, 0.06779661, 0.04166667],\n",
              "       [0.75      , 0.5       , 0.62711864, 0.54166667],\n",
              "       [0.58333333, 0.5       , 0.59322034, 0.58333333],\n",
              "       [0.72222222, 0.45833333, 0.66101695, 0.58333333],\n",
              "       [0.33333333, 0.125     , 0.50847458, 0.5       ],\n",
              "       [0.61111111, 0.33333333, 0.61016949, 0.58333333],\n",
              "       [0.38888889, 0.33333333, 0.59322034, 0.5       ],\n",
              "       [0.55555556, 0.54166667, 0.62711864, 0.625     ],\n",
              "       [0.16666667, 0.16666667, 0.38983051, 0.375     ],\n",
              "       [0.63888889, 0.375     , 0.61016949, 0.5       ],\n",
              "       [0.25      , 0.29166667, 0.49152542, 0.54166667],\n",
              "       [0.19444444, 0.        , 0.42372881, 0.375     ],\n",
              "       [0.44444444, 0.41666667, 0.54237288, 0.58333333],\n",
              "       [0.47222222, 0.08333333, 0.50847458, 0.375     ],\n",
              "       [0.5       , 0.375     , 0.62711864, 0.54166667],\n",
              "       [0.36111111, 0.375     , 0.44067797, 0.5       ],\n",
              "       [0.66666667, 0.45833333, 0.57627119, 0.54166667],\n",
              "       [0.36111111, 0.41666667, 0.59322034, 0.58333333],\n",
              "       [0.41666667, 0.29166667, 0.52542373, 0.375     ],\n",
              "       [0.52777778, 0.08333333, 0.59322034, 0.58333333],\n",
              "       [0.36111111, 0.20833333, 0.49152542, 0.41666667],\n",
              "       [0.44444444, 0.5       , 0.6440678 , 0.70833333],\n",
              "       [0.5       , 0.33333333, 0.50847458, 0.5       ],\n",
              "       [0.55555556, 0.20833333, 0.66101695, 0.58333333],\n",
              "       [0.5       , 0.33333333, 0.62711864, 0.45833333],\n",
              "       [0.58333333, 0.375     , 0.55932203, 0.5       ],\n",
              "       [0.63888889, 0.41666667, 0.57627119, 0.54166667],\n",
              "       [0.69444444, 0.33333333, 0.6440678 , 0.54166667],\n",
              "       [0.66666667, 0.41666667, 0.6779661 , 0.66666667],\n",
              "       [0.47222222, 0.375     , 0.59322034, 0.58333333],\n",
              "       [0.38888889, 0.25      , 0.42372881, 0.375     ],\n",
              "       [0.33333333, 0.16666667, 0.47457627, 0.41666667],\n",
              "       [0.33333333, 0.16666667, 0.45762712, 0.375     ],\n",
              "       [0.41666667, 0.29166667, 0.49152542, 0.45833333],\n",
              "       [0.47222222, 0.29166667, 0.69491525, 0.625     ],\n",
              "       [0.30555556, 0.41666667, 0.59322034, 0.58333333],\n",
              "       [0.47222222, 0.58333333, 0.59322034, 0.625     ],\n",
              "       [0.66666667, 0.45833333, 0.62711864, 0.58333333],\n",
              "       [0.55555556, 0.125     , 0.57627119, 0.5       ],\n",
              "       [0.36111111, 0.41666667, 0.52542373, 0.5       ],\n",
              "       [0.33333333, 0.20833333, 0.50847458, 0.5       ],\n",
              "       [0.33333333, 0.25      , 0.57627119, 0.45833333],\n",
              "       [0.5       , 0.41666667, 0.61016949, 0.54166667],\n",
              "       [0.41666667, 0.25      , 0.50847458, 0.45833333],\n",
              "       [0.19444444, 0.125     , 0.38983051, 0.375     ],\n",
              "       [0.36111111, 0.29166667, 0.54237288, 0.5       ],\n",
              "       [0.38888889, 0.41666667, 0.54237288, 0.45833333],\n",
              "       [0.38888889, 0.375     , 0.54237288, 0.5       ],\n",
              "       [0.52777778, 0.375     , 0.55932203, 0.5       ],\n",
              "       [0.22222222, 0.20833333, 0.33898305, 0.41666667],\n",
              "       [0.38888889, 0.33333333, 0.52542373, 0.5       ],\n",
              "       [0.55555556, 0.54166667, 0.84745763, 1.        ],\n",
              "       [0.41666667, 0.29166667, 0.69491525, 0.75      ],\n",
              "       [0.77777778, 0.41666667, 0.83050847, 0.83333333],\n",
              "       [0.55555556, 0.375     , 0.77966102, 0.70833333],\n",
              "       [0.61111111, 0.41666667, 0.81355932, 0.875     ],\n",
              "       [0.91666667, 0.41666667, 0.94915254, 0.83333333],\n",
              "       [0.16666667, 0.20833333, 0.59322034, 0.66666667],\n",
              "       [0.83333333, 0.375     , 0.89830508, 0.70833333],\n",
              "       [0.66666667, 0.20833333, 0.81355932, 0.70833333],\n",
              "       [0.80555556, 0.66666667, 0.86440678, 1.        ],\n",
              "       [0.61111111, 0.5       , 0.69491525, 0.79166667],\n",
              "       [0.58333333, 0.29166667, 0.72881356, 0.75      ],\n",
              "       [0.69444444, 0.41666667, 0.76271186, 0.83333333],\n",
              "       [0.38888889, 0.20833333, 0.6779661 , 0.79166667],\n",
              "       [0.41666667, 0.33333333, 0.69491525, 0.95833333],\n",
              "       [0.58333333, 0.5       , 0.72881356, 0.91666667],\n",
              "       [0.61111111, 0.41666667, 0.76271186, 0.70833333],\n",
              "       [0.94444444, 0.75      , 0.96610169, 0.875     ],\n",
              "       [0.94444444, 0.25      , 1.        , 0.91666667],\n",
              "       [0.47222222, 0.08333333, 0.6779661 , 0.58333333],\n",
              "       [0.72222222, 0.5       , 0.79661017, 0.91666667],\n",
              "       [0.36111111, 0.33333333, 0.66101695, 0.79166667],\n",
              "       [0.94444444, 0.33333333, 0.96610169, 0.79166667],\n",
              "       [0.55555556, 0.29166667, 0.66101695, 0.70833333],\n",
              "       [0.66666667, 0.54166667, 0.79661017, 0.83333333],\n",
              "       [0.80555556, 0.5       , 0.84745763, 0.70833333],\n",
              "       [0.52777778, 0.33333333, 0.6440678 , 0.70833333],\n",
              "       [0.5       , 0.41666667, 0.66101695, 0.70833333],\n",
              "       [0.58333333, 0.33333333, 0.77966102, 0.83333333],\n",
              "       [0.80555556, 0.41666667, 0.81355932, 0.625     ],\n",
              "       [0.86111111, 0.33333333, 0.86440678, 0.75      ],\n",
              "       [1.        , 0.75      , 0.91525424, 0.79166667],\n",
              "       [0.58333333, 0.33333333, 0.77966102, 0.875     ],\n",
              "       [0.55555556, 0.33333333, 0.69491525, 0.58333333],\n",
              "       [0.5       , 0.25      , 0.77966102, 0.54166667],\n",
              "       [0.94444444, 0.41666667, 0.86440678, 0.91666667],\n",
              "       [0.55555556, 0.58333333, 0.77966102, 0.95833333],\n",
              "       [0.58333333, 0.45833333, 0.76271186, 0.70833333],\n",
              "       [0.47222222, 0.41666667, 0.6440678 , 0.70833333],\n",
              "       [0.72222222, 0.45833333, 0.74576271, 0.83333333],\n",
              "       [0.66666667, 0.45833333, 0.77966102, 0.95833333],\n",
              "       [0.72222222, 0.45833333, 0.69491525, 0.91666667],\n",
              "       [0.41666667, 0.29166667, 0.69491525, 0.75      ],\n",
              "       [0.69444444, 0.5       , 0.83050847, 0.91666667],\n",
              "       [0.66666667, 0.54166667, 0.79661017, 1.        ],\n",
              "       [0.66666667, 0.41666667, 0.71186441, 0.91666667],\n",
              "       [0.55555556, 0.20833333, 0.6779661 , 0.75      ],\n",
              "       [0.61111111, 0.41666667, 0.71186441, 0.79166667],\n",
              "       [0.52777778, 0.58333333, 0.74576271, 0.91666667],\n",
              "       [0.44444444, 0.41666667, 0.69491525, 0.70833333]])"
            ]
          },
          "execution_count": 14,
          "metadata": {},
          "output_type": "execute_result"
        }
      ],
      "source": [
        "transformado= escalador.fit_transform(iris)\n",
        "transformado"
      ]
    },
    {
      "cell_type": "markdown",
      "metadata": {
        "id": "5eu2aewbTaPb"
      },
      "source": [
        "Seguro notaste que la variable `transformado` es una lista de listas, por tanto, puede convertirse en un _dataframe_ usando la función de **Pandas** llamada `pd.DataFrame`.\n",
        "\n",
        "Para que el nuevo _dataframe_ luzca más completo, sus columnas se nombrarán de la misma forma que las columnas de `iris` usando la línea de código `transformado.columns = iris.columns`."
      ]
    },
    {
      "cell_type": "code",
      "execution_count": 15,
      "metadata": {
        "id": "JKWP6DtFg7TR"
      },
      "outputs": [],
      "source": [
        "transformado = pd.DataFrame(transformado)\n",
        "transformado.columns = iris.columns"
      ]
    },
    {
      "cell_type": "markdown",
      "metadata": {
        "id": "QeY3Iv8_UAGx"
      },
      "source": [
        "Puedes visualizar los datos estadísticos de los valores escalados usando `.describe`."
      ]
    },
    {
      "cell_type": "code",
      "execution_count": 16,
      "metadata": {
        "colab": {
          "base_uri": "https://localhost:8080/",
          "height": 300
        },
        "id": "3vBR5LlGg7RE",
        "outputId": "bfb9e188-bc11-4cc6-e0ea-ae7ee7532fa7"
      },
      "outputs": [
        {
          "data": {
            "text/html": [
              "<div>\n",
              "<style scoped>\n",
              "    .dataframe tbody tr th:only-of-type {\n",
              "        vertical-align: middle;\n",
              "    }\n",
              "\n",
              "    .dataframe tbody tr th {\n",
              "        vertical-align: top;\n",
              "    }\n",
              "\n",
              "    .dataframe thead th {\n",
              "        text-align: right;\n",
              "    }\n",
              "</style>\n",
              "<table border=\"1\" class=\"dataframe\">\n",
              "  <thead>\n",
              "    <tr style=\"text-align: right;\">\n",
              "      <th></th>\n",
              "      <th>sepal_length</th>\n",
              "      <th>sepal_width</th>\n",
              "      <th>petal_length</th>\n",
              "      <th>petal_width</th>\n",
              "    </tr>\n",
              "  </thead>\n",
              "  <tbody>\n",
              "    <tr>\n",
              "      <th>count</th>\n",
              "      <td>150.000000</td>\n",
              "      <td>150.000000</td>\n",
              "      <td>150.000000</td>\n",
              "      <td>150.000000</td>\n",
              "    </tr>\n",
              "    <tr>\n",
              "      <th>mean</th>\n",
              "      <td>0.428704</td>\n",
              "      <td>0.440556</td>\n",
              "      <td>0.467458</td>\n",
              "      <td>0.458056</td>\n",
              "    </tr>\n",
              "    <tr>\n",
              "      <th>std</th>\n",
              "      <td>0.230018</td>\n",
              "      <td>0.181611</td>\n",
              "      <td>0.299203</td>\n",
              "      <td>0.317599</td>\n",
              "    </tr>\n",
              "    <tr>\n",
              "      <th>min</th>\n",
              "      <td>0.000000</td>\n",
              "      <td>0.000000</td>\n",
              "      <td>0.000000</td>\n",
              "      <td>0.000000</td>\n",
              "    </tr>\n",
              "    <tr>\n",
              "      <th>25%</th>\n",
              "      <td>0.222222</td>\n",
              "      <td>0.333333</td>\n",
              "      <td>0.101695</td>\n",
              "      <td>0.083333</td>\n",
              "    </tr>\n",
              "    <tr>\n",
              "      <th>50%</th>\n",
              "      <td>0.416667</td>\n",
              "      <td>0.416667</td>\n",
              "      <td>0.567797</td>\n",
              "      <td>0.500000</td>\n",
              "    </tr>\n",
              "    <tr>\n",
              "      <th>75%</th>\n",
              "      <td>0.583333</td>\n",
              "      <td>0.541667</td>\n",
              "      <td>0.694915</td>\n",
              "      <td>0.708333</td>\n",
              "    </tr>\n",
              "    <tr>\n",
              "      <th>max</th>\n",
              "      <td>1.000000</td>\n",
              "      <td>1.000000</td>\n",
              "      <td>1.000000</td>\n",
              "      <td>1.000000</td>\n",
              "    </tr>\n",
              "  </tbody>\n",
              "</table>\n",
              "</div>"
            ],
            "text/plain": [
              "       sepal_length  sepal_width  petal_length  petal_width\n",
              "count    150.000000   150.000000    150.000000   150.000000\n",
              "mean       0.428704     0.440556      0.467458     0.458056\n",
              "std        0.230018     0.181611      0.299203     0.317599\n",
              "min        0.000000     0.000000      0.000000     0.000000\n",
              "25%        0.222222     0.333333      0.101695     0.083333\n",
              "50%        0.416667     0.416667      0.567797     0.500000\n",
              "75%        0.583333     0.541667      0.694915     0.708333\n",
              "max        1.000000     1.000000      1.000000     1.000000"
            ]
          },
          "execution_count": 16,
          "metadata": {},
          "output_type": "execute_result"
        }
      ],
      "source": [
        "transformado.describe()"
      ]
    },
    {
      "cell_type": "markdown",
      "metadata": {
        "id": "II5nvta1UJeR"
      },
      "source": [
        "Pregunta:\n",
        "¿Qué puedes deducir al observar la tabla generada? R= La mayoría de los valores no pasarán de 1.0000. Todos los datos han sido escalables dentro del rango"
      ]
    },
    {
      "cell_type": "markdown",
      "metadata": {
        "id": "RjZ2GRx5hsbq"
      },
      "source": [
        "Aunque existen otros tipo de escaladores, los más populares para las variables continuas son los presentados en este Bootcamp. Si deseas conocer más, puedes consultarlos en la documentación oficial de Scikit-learn, haciendo clic [aquí].(https://scikit-learn.org/stable/modules/classes.html#module-sklearn.preprocessing)"
      ]
    },
    {
      "cell_type": "markdown",
      "metadata": {
        "id": "IcNuteJLJ60T"
      },
      "source": [
        "##### **Ponte a prueba**\n",
        "\n",
        "Imagina que trabajas en una tienda de videojuegos y tienes un conjunto de datos que contiene la edad de los jugadores, el número de horas que juegan por semana y el total de dinero gastado en el último año en videojuegos. Quieres estandarizar y escalar estos datos para utilizarlos en un modelo de aprendizaje automático.\n",
        "\n",
        "Puedes descargar el conjunto de datos del siguiente enlace:\n",
        "https://drive.google.com/file/d/1jHTUF9PVSFN-cqXnUfYiKNJvlSY9Zwhg/view?usp=sharing\n",
        "\n",
        "**Descripción del conjunto de datos:**\n",
        "\n",
        "**Edad:** Edad de los jugadores (en años).\n",
        "\n",
        "**Horas_semana:** Número de horas que un jugador juega por semana.\n",
        "\n",
        "**Gasto_anual:** Cantidad de dinero (en USD) que un jugador ha gastado en videojuegos durante el último año.\n",
        "\n",
        "Para lograr tu objetivo deberás realizar el siguiente análisis:\n",
        "1. Carga y explora el conjunto de datos.\n",
        "2. Utiliza StandardScaler para estandarizar las tres variables. Genera un nuevo dataframe.\n",
        "3. Utiliza MinMaxScaler para escalar las tres variables al rango [0, 1]. Genera un nuevo dataframe.\n",
        "4. Compara las distribuciones de tus datos antes y después de cada escalado utilizando gráficos."
      ]
    },
    {
      "cell_type": "markdown",
      "metadata": {},
      "source": [
        "## Ponte a prueba Ingrid - StandardScaler"
      ]
    },
    {
      "cell_type": "code",
      "execution_count": 2,
      "metadata": {},
      "outputs": [],
      "source": [
        "#1. Importación de librerías \n",
        "from sklearn.preprocessing import StandardScaler\n",
        "import pandas as pd\n",
        "import numpy as np\n",
        "import matplotlib.pyplot as plt\n",
        "import seaborn as sns\n",
        "import warnings\n",
        "warnings.filterwarnings(\"ignore\")"
      ]
    },
    {
      "cell_type": "code",
      "execution_count": 3,
      "metadata": {},
      "outputs": [
        {
          "data": {
            "text/html": [
              "<div>\n",
              "<style scoped>\n",
              "    .dataframe tbody tr th:only-of-type {\n",
              "        vertical-align: middle;\n",
              "    }\n",
              "\n",
              "    .dataframe tbody tr th {\n",
              "        vertical-align: top;\n",
              "    }\n",
              "\n",
              "    .dataframe thead th {\n",
              "        text-align: right;\n",
              "    }\n",
              "</style>\n",
              "<table border=\"1\" class=\"dataframe\">\n",
              "  <thead>\n",
              "    <tr style=\"text-align: right;\">\n",
              "      <th></th>\n",
              "      <th>Edad</th>\n",
              "      <th>Horas_semana</th>\n",
              "      <th>Gasto_anual</th>\n",
              "    </tr>\n",
              "  </thead>\n",
              "  <tbody>\n",
              "    <tr>\n",
              "      <th>0</th>\n",
              "      <td>54</td>\n",
              "      <td>6</td>\n",
              "      <td>1660</td>\n",
              "    </tr>\n",
              "    <tr>\n",
              "      <th>1</th>\n",
              "      <td>57</td>\n",
              "      <td>36</td>\n",
              "      <td>232</td>\n",
              "    </tr>\n",
              "    <tr>\n",
              "      <th>2</th>\n",
              "      <td>10</td>\n",
              "      <td>1</td>\n",
              "      <td>1182</td>\n",
              "    </tr>\n",
              "    <tr>\n",
              "      <th>3</th>\n",
              "      <td>13</td>\n",
              "      <td>32</td>\n",
              "      <td>1738</td>\n",
              "    </tr>\n",
              "    <tr>\n",
              "      <th>4</th>\n",
              "      <td>13</td>\n",
              "      <td>6</td>\n",
              "      <td>1465</td>\n",
              "    </tr>\n",
              "    <tr>\n",
              "      <th>...</th>\n",
              "      <td>...</td>\n",
              "      <td>...</td>\n",
              "      <td>...</td>\n",
              "    </tr>\n",
              "    <tr>\n",
              "      <th>95</th>\n",
              "      <td>25</td>\n",
              "      <td>23</td>\n",
              "      <td>1667</td>\n",
              "    </tr>\n",
              "    <tr>\n",
              "      <th>96</th>\n",
              "      <td>23</td>\n",
              "      <td>6</td>\n",
              "      <td>111</td>\n",
              "    </tr>\n",
              "    <tr>\n",
              "      <th>97</th>\n",
              "      <td>31</td>\n",
              "      <td>24</td>\n",
              "      <td>1385</td>\n",
              "    </tr>\n",
              "    <tr>\n",
              "      <th>98</th>\n",
              "      <td>58</td>\n",
              "      <td>33</td>\n",
              "      <td>443</td>\n",
              "    </tr>\n",
              "    <tr>\n",
              "      <th>99</th>\n",
              "      <td>59</td>\n",
              "      <td>12</td>\n",
              "      <td>1595</td>\n",
              "    </tr>\n",
              "  </tbody>\n",
              "</table>\n",
              "<p>100 rows × 3 columns</p>\n",
              "</div>"
            ],
            "text/plain": [
              "    Edad  Horas_semana  Gasto_anual\n",
              "0     54             6         1660\n",
              "1     57            36          232\n",
              "2     10             1         1182\n",
              "3     13            32         1738\n",
              "4     13             6         1465\n",
              "..   ...           ...          ...\n",
              "95    25            23         1667\n",
              "96    23             6          111\n",
              "97    31            24         1385\n",
              "98    58            33          443\n",
              "99    59            12         1595\n",
              "\n",
              "[100 rows x 3 columns]"
            ]
          },
          "execution_count": 3,
          "metadata": {},
          "output_type": "execute_result"
        }
      ],
      "source": [
        "#2. Importación de dataset\n",
        "df_players = pd.read_csv(r\"C:\\Users\\Equipo 1\\Downloads\\datasets\\dataset_videojuegos.csv\")\n",
        "df_players"
      ]
    },
    {
      "cell_type": "code",
      "execution_count": 21,
      "metadata": {},
      "outputs": [
        {
          "data": {
            "text/plain": [
              "<Axes: xlabel='Edad', ylabel='Horas_semana'>"
            ]
          },
          "execution_count": 21,
          "metadata": {},
          "output_type": "execute_result"
        },
        {
          "data": {
            "image/png": "[encoded data removed]",
            "text/plain": [
              "<Figure size 640x480 with 1 Axes>"
            ]
          },
          "metadata": {},
          "output_type": "display_data"
        }
      ],
      "source": [
        "#Grafica 2\n",
        "edad_x = df_players['Edad']\n",
        "horas_y = df_players['Horas_semana']\n",
        "\n",
        "sns.scatterplot(x=edad_x, y=horas_y)"
      ]
    },
    {
      "cell_type": "code",
      "execution_count": 5,
      "metadata": {},
      "outputs": [
        {
          "name": "stdout",
          "output_type": "stream",
          "text": [
            "<class 'pandas.core.frame.DataFrame'>\n",
            "RangeIndex: 100 entries, 0 to 99\n",
            "Data columns (total 3 columns):\n",
            " #   Column        Non-Null Count  Dtype\n",
            "---  ------        --------------  -----\n",
            " 0   Edad          100 non-null    int64\n",
            " 1   Horas_semana  100 non-null    int64\n",
            " 2   Gasto_anual   100 non-null    int64\n",
            "dtypes: int64(3)\n",
            "memory usage: 2.5 KB\n"
          ]
        }
      ],
      "source": [
        "#3. Exploración\n",
        "df_players.info() #los datos están completos"
      ]
    },
    {
      "cell_type": "code",
      "execution_count": 14,
      "metadata": {},
      "outputs": [
        {
          "data": {
            "text/html": [
              "<div>\n",
              "<style scoped>\n",
              "    .dataframe tbody tr th:only-of-type {\n",
              "        vertical-align: middle;\n",
              "    }\n",
              "\n",
              "    .dataframe tbody tr th {\n",
              "        vertical-align: top;\n",
              "    }\n",
              "\n",
              "    .dataframe thead th {\n",
              "        text-align: right;\n",
              "    }\n",
              "</style>\n",
              "<table border=\"1\" class=\"dataframe\">\n",
              "  <thead>\n",
              "    <tr style=\"text-align: right;\">\n",
              "      <th></th>\n",
              "      <th>0</th>\n",
              "      <th>1</th>\n",
              "      <th>2</th>\n",
              "    </tr>\n",
              "  </thead>\n",
              "  <tbody>\n",
              "    <tr>\n",
              "      <th>0</th>\n",
              "      <td>1.464076</td>\n",
              "      <td>-1.156475</td>\n",
              "      <td>1.118864</td>\n",
              "    </tr>\n",
              "    <tr>\n",
              "      <th>1</th>\n",
              "      <td>1.668366</td>\n",
              "      <td>1.400213</td>\n",
              "      <td>-1.308940</td>\n",
              "    </tr>\n",
              "    <tr>\n",
              "      <th>2</th>\n",
              "      <td>-1.532173</td>\n",
              "      <td>-1.582590</td>\n",
              "      <td>0.306196</td>\n",
              "    </tr>\n",
              "    <tr>\n",
              "      <th>3</th>\n",
              "      <td>-1.327883</td>\n",
              "      <td>1.059321</td>\n",
              "      <td>1.251475</td>\n",
              "    </tr>\n",
              "    <tr>\n",
              "      <th>4</th>\n",
              "      <td>-1.327883</td>\n",
              "      <td>-1.156475</td>\n",
              "      <td>0.787336</td>\n",
              "    </tr>\n",
              "    <tr>\n",
              "      <th>...</th>\n",
              "      <td>...</td>\n",
              "      <td>...</td>\n",
              "      <td>...</td>\n",
              "    </tr>\n",
              "    <tr>\n",
              "      <th>95</th>\n",
              "      <td>-0.510724</td>\n",
              "      <td>0.292315</td>\n",
              "      <td>1.130765</td>\n",
              "    </tr>\n",
              "    <tr>\n",
              "      <th>96</th>\n",
              "      <td>-0.646917</td>\n",
              "      <td>-1.156475</td>\n",
              "      <td>-1.514658</td>\n",
              "    </tr>\n",
              "    <tr>\n",
              "      <th>97</th>\n",
              "      <td>-0.102145</td>\n",
              "      <td>0.377538</td>\n",
              "      <td>0.651325</td>\n",
              "    </tr>\n",
              "    <tr>\n",
              "      <th>98</th>\n",
              "      <td>1.736463</td>\n",
              "      <td>1.144544</td>\n",
              "      <td>-0.950210</td>\n",
              "    </tr>\n",
              "    <tr>\n",
              "      <th>99</th>\n",
              "      <td>1.804559</td>\n",
              "      <td>-0.645138</td>\n",
              "      <td>1.008355</td>\n",
              "    </tr>\n",
              "  </tbody>\n",
              "</table>\n",
              "<p>100 rows × 3 columns</p>\n",
              "</div>"
            ],
            "text/plain": [
              "           0         1         2\n",
              "0   1.464076 -1.156475  1.118864\n",
              "1   1.668366  1.400213 -1.308940\n",
              "2  -1.532173 -1.582590  0.306196\n",
              "3  -1.327883  1.059321  1.251475\n",
              "4  -1.327883 -1.156475  0.787336\n",
              "..       ...       ...       ...\n",
              "95 -0.510724  0.292315  1.130765\n",
              "96 -0.646917 -1.156475 -1.514658\n",
              "97 -0.102145  0.377538  0.651325\n",
              "98  1.736463  1.144544 -0.950210\n",
              "99  1.804559 -0.645138  1.008355\n",
              "\n",
              "[100 rows x 3 columns]"
            ]
          },
          "execution_count": 14,
          "metadata": {},
          "output_type": "execute_result"
        }
      ],
      "source": [
        "#Uso de standard Scale\n",
        "esc_players = StandardScaler()\n",
        "players_transformation = esc_players.fit_transform(df_players)\n",
        "#Genera un nuevo dataFrame\n",
        "df_transformation = pd.DataFrame(players_transformation)\n",
        "df_transformation"
      ]
    },
    {
      "cell_type": "code",
      "execution_count": 27,
      "metadata": {},
      "outputs": [
        {
          "data": {
            "text/plain": [
              "<Axes: xlabel='0', ylabel='1'>"
            ]
          },
          "execution_count": 27,
          "metadata": {},
          "output_type": "execute_result"
        },
        {
          "data": {
            "image/png": "[encoded data removed]",
            "text/plain": [
              "<Figure size 640x480 with 1 Axes>"
            ]
          },
          "metadata": {},
          "output_type": "display_data"
        }
      ],
      "source": [
        "#Gráfica\n",
        "#sns.scatterplot(x=transformado[:, 0], y=transformado[:, 1])\n",
        "sns.scatterplot(x=df_transformation[0], y=df_transformation[1])"
      ]
    },
    {
      "cell_type": "markdown",
      "metadata": {},
      "source": [
        "## Ponte a prueba Ingrid - MinMaxScaler rango [0,1]"
      ]
    },
    {
      "cell_type": "code",
      "execution_count": 29,
      "metadata": {},
      "outputs": [],
      "source": [
        "#importación de MixManScaler\n",
        "from sklearn.preprocessing import MinMaxScaler"
      ]
    },
    {
      "cell_type": "code",
      "execution_count": 36,
      "metadata": {},
      "outputs": [
        {
          "data": {
            "text/html": [
              "<div>\n",
              "<style scoped>\n",
              "    .dataframe tbody tr th:only-of-type {\n",
              "        vertical-align: middle;\n",
              "    }\n",
              "\n",
              "    .dataframe tbody tr th {\n",
              "        vertical-align: top;\n",
              "    }\n",
              "\n",
              "    .dataframe thead th {\n",
              "        text-align: right;\n",
              "    }\n",
              "</style>\n",
              "<table border=\"1\" class=\"dataframe\">\n",
              "  <thead>\n",
              "    <tr style=\"text-align: right;\">\n",
              "      <th></th>\n",
              "      <th>0</th>\n",
              "      <th>1</th>\n",
              "      <th>2</th>\n",
              "    </tr>\n",
              "  </thead>\n",
              "  <tbody>\n",
              "    <tr>\n",
              "      <th>0</th>\n",
              "      <td>0.897959</td>\n",
              "      <td>0.131579</td>\n",
              "      <td>0.828351</td>\n",
              "    </tr>\n",
              "    <tr>\n",
              "      <th>1</th>\n",
              "      <td>0.959184</td>\n",
              "      <td>0.921053</td>\n",
              "      <td>0.092268</td>\n",
              "    </tr>\n",
              "    <tr>\n",
              "      <th>2</th>\n",
              "      <td>0.000000</td>\n",
              "      <td>0.000000</td>\n",
              "      <td>0.581959</td>\n",
              "    </tr>\n",
              "    <tr>\n",
              "      <th>3</th>\n",
              "      <td>0.061224</td>\n",
              "      <td>0.815789</td>\n",
              "      <td>0.868557</td>\n",
              "    </tr>\n",
              "    <tr>\n",
              "      <th>4</th>\n",
              "      <td>0.061224</td>\n",
              "      <td>0.131579</td>\n",
              "      <td>0.727835</td>\n",
              "    </tr>\n",
              "    <tr>\n",
              "      <th>...</th>\n",
              "      <td>...</td>\n",
              "      <td>...</td>\n",
              "      <td>...</td>\n",
              "    </tr>\n",
              "    <tr>\n",
              "      <th>95</th>\n",
              "      <td>0.306122</td>\n",
              "      <td>0.578947</td>\n",
              "      <td>0.831959</td>\n",
              "    </tr>\n",
              "    <tr>\n",
              "      <th>96</th>\n",
              "      <td>0.265306</td>\n",
              "      <td>0.131579</td>\n",
              "      <td>0.029897</td>\n",
              "    </tr>\n",
              "    <tr>\n",
              "      <th>97</th>\n",
              "      <td>0.428571</td>\n",
              "      <td>0.605263</td>\n",
              "      <td>0.686598</td>\n",
              "    </tr>\n",
              "    <tr>\n",
              "      <th>98</th>\n",
              "      <td>0.979592</td>\n",
              "      <td>0.842105</td>\n",
              "      <td>0.201031</td>\n",
              "    </tr>\n",
              "    <tr>\n",
              "      <th>99</th>\n",
              "      <td>1.000000</td>\n",
              "      <td>0.289474</td>\n",
              "      <td>0.794845</td>\n",
              "    </tr>\n",
              "  </tbody>\n",
              "</table>\n",
              "<p>100 rows × 3 columns</p>\n",
              "</div>"
            ],
            "text/plain": [
              "           0         1         2\n",
              "0   0.897959  0.131579  0.828351\n",
              "1   0.959184  0.921053  0.092268\n",
              "2   0.000000  0.000000  0.581959\n",
              "3   0.061224  0.815789  0.868557\n",
              "4   0.061224  0.131579  0.727835\n",
              "..       ...       ...       ...\n",
              "95  0.306122  0.578947  0.831959\n",
              "96  0.265306  0.131579  0.029897\n",
              "97  0.428571  0.605263  0.686598\n",
              "98  0.979592  0.842105  0.201031\n",
              "99  1.000000  0.289474  0.794845\n",
              "\n",
              "[100 rows x 3 columns]"
            ]
          },
          "execution_count": 36,
          "metadata": {},
          "output_type": "execute_result"
        }
      ],
      "source": [
        "\n",
        "#Crear nueva variable para transformar\n",
        "escalation = MinMaxScaler()\n",
        "transformation_2 = escalation.fit_transform(df_players)\n",
        "\n",
        "#Creat el nuevo dataframe transformado\n",
        "df_players_2 = pd.DataFrame(transformation_2)\n",
        "df_players_2"
      ]
    },
    {
      "cell_type": "code",
      "execution_count": 37,
      "metadata": {},
      "outputs": [
        {
          "data": {
            "text/plain": [
              "<Axes: xlabel='0', ylabel='1'>"
            ]
          },
          "execution_count": 37,
          "metadata": {},
          "output_type": "execute_result"
        },
        {
          "data": {
            "image/png": "[encoded data removed]",
            "text/plain": [
              "<Figure size 640x480 with 1 Axes>"
            ]
          },
          "metadata": {},
          "output_type": "display_data"
        }
      ],
      "source": [
        "sns.scatterplot(x=df_players_2[0], y=df_players_2[1])"
      ]
    },
    {
      "cell_type": "markdown",
      "metadata": {
        "id": "5rqo36mTiIaZ"
      },
      "source": [
        "## Transformación de variables categóricas\n",
        "\n",
        "Como sabes, algunos algoritmos no comprenden las variables tipo texto, por ello, es necesario tranformarlas a un tipo numérico."
      ]
    },
    {
      "cell_type": "markdown",
      "metadata": {
        "id": "Z4PyAE2iZzKN"
      },
      "source": [
        "En este caso utilizarás un _dataset_ llamado `titanic`, que indica datos de los tripulantes del famoso barco. No necesitas descargar este conjunto de datos, pues viene por defecto en la librería de `seaborn` con el código `sns.load_dataset(\"titanic\")`.\n",
        "\n",
        "Observa este código ejecutado."
      ]
    },
    {
      "cell_type": "code",
      "execution_count": 17,
      "metadata": {
        "colab": {
          "base_uri": "https://localhost:8080/",
          "height": 226
        },
        "id": "ADH6EaOmg7O0",
        "outputId": "f22783c4-4595-42f4-c7e3-7efaac0529ed"
      },
      "outputs": [
        {
          "data": {
            "text/html": [
              "<div>\n",
              "<style scoped>\n",
              "    .dataframe tbody tr th:only-of-type {\n",
              "        vertical-align: middle;\n",
              "    }\n",
              "\n",
              "    .dataframe tbody tr th {\n",
              "        vertical-align: top;\n",
              "    }\n",
              "\n",
              "    .dataframe thead th {\n",
              "        text-align: right;\n",
              "    }\n",
              "</style>\n",
              "<table border=\"1\" class=\"dataframe\">\n",
              "  <thead>\n",
              "    <tr style=\"text-align: right;\">\n",
              "      <th></th>\n",
              "      <th>survived</th>\n",
              "      <th>pclass</th>\n",
              "      <th>sex</th>\n",
              "      <th>age</th>\n",
              "      <th>sibsp</th>\n",
              "      <th>parch</th>\n",
              "      <th>fare</th>\n",
              "      <th>embarked</th>\n",
              "      <th>class</th>\n",
              "      <th>who</th>\n",
              "      <th>adult_male</th>\n",
              "      <th>deck</th>\n",
              "      <th>embark_town</th>\n",
              "      <th>alive</th>\n",
              "      <th>alone</th>\n",
              "    </tr>\n",
              "  </thead>\n",
              "  <tbody>\n",
              "    <tr>\n",
              "      <th>0</th>\n",
              "      <td>0</td>\n",
              "      <td>3</td>\n",
              "      <td>male</td>\n",
              "      <td>22.0</td>\n",
              "      <td>1</td>\n",
              "      <td>0</td>\n",
              "      <td>7.2500</td>\n",
              "      <td>S</td>\n",
              "      <td>Third</td>\n",
              "      <td>man</td>\n",
              "      <td>True</td>\n",
              "      <td>NaN</td>\n",
              "      <td>Southampton</td>\n",
              "      <td>no</td>\n",
              "      <td>False</td>\n",
              "    </tr>\n",
              "    <tr>\n",
              "      <th>1</th>\n",
              "      <td>1</td>\n",
              "      <td>1</td>\n",
              "      <td>female</td>\n",
              "      <td>38.0</td>\n",
              "      <td>1</td>\n",
              "      <td>0</td>\n",
              "      <td>71.2833</td>\n",
              "      <td>C</td>\n",
              "      <td>First</td>\n",
              "      <td>woman</td>\n",
              "      <td>False</td>\n",
              "      <td>C</td>\n",
              "      <td>Cherbourg</td>\n",
              "      <td>yes</td>\n",
              "      <td>False</td>\n",
              "    </tr>\n",
              "    <tr>\n",
              "      <th>2</th>\n",
              "      <td>1</td>\n",
              "      <td>3</td>\n",
              "      <td>female</td>\n",
              "      <td>26.0</td>\n",
              "      <td>0</td>\n",
              "      <td>0</td>\n",
              "      <td>7.9250</td>\n",
              "      <td>S</td>\n",
              "      <td>Third</td>\n",
              "      <td>woman</td>\n",
              "      <td>False</td>\n",
              "      <td>NaN</td>\n",
              "      <td>Southampton</td>\n",
              "      <td>yes</td>\n",
              "      <td>True</td>\n",
              "    </tr>\n",
              "    <tr>\n",
              "      <th>3</th>\n",
              "      <td>1</td>\n",
              "      <td>1</td>\n",
              "      <td>female</td>\n",
              "      <td>35.0</td>\n",
              "      <td>1</td>\n",
              "      <td>0</td>\n",
              "      <td>53.1000</td>\n",
              "      <td>S</td>\n",
              "      <td>First</td>\n",
              "      <td>woman</td>\n",
              "      <td>False</td>\n",
              "      <td>C</td>\n",
              "      <td>Southampton</td>\n",
              "      <td>yes</td>\n",
              "      <td>False</td>\n",
              "    </tr>\n",
              "    <tr>\n",
              "      <th>4</th>\n",
              "      <td>0</td>\n",
              "      <td>3</td>\n",
              "      <td>male</td>\n",
              "      <td>35.0</td>\n",
              "      <td>0</td>\n",
              "      <td>0</td>\n",
              "      <td>8.0500</td>\n",
              "      <td>S</td>\n",
              "      <td>Third</td>\n",
              "      <td>man</td>\n",
              "      <td>True</td>\n",
              "      <td>NaN</td>\n",
              "      <td>Southampton</td>\n",
              "      <td>no</td>\n",
              "      <td>True</td>\n",
              "    </tr>\n",
              "  </tbody>\n",
              "</table>\n",
              "</div>"
            ],
            "text/plain": [
              "   survived  pclass     sex   age  sibsp  parch     fare embarked  class  \\\n",
              "0         0       3    male  22.0      1      0   7.2500        S  Third   \n",
              "1         1       1  female  38.0      1      0  71.2833        C  First   \n",
              "2         1       3  female  26.0      0      0   7.9250        S  Third   \n",
              "3         1       1  female  35.0      1      0  53.1000        S  First   \n",
              "4         0       3    male  35.0      0      0   8.0500        S  Third   \n",
              "\n",
              "     who  adult_male deck  embark_town alive  alone  \n",
              "0    man        True  NaN  Southampton    no  False  \n",
              "1  woman       False    C    Cherbourg   yes  False  \n",
              "2  woman       False  NaN  Southampton   yes   True  \n",
              "3  woman       False    C  Southampton   yes  False  \n",
              "4    man        True  NaN  Southampton    no   True  "
            ]
          },
          "execution_count": 17,
          "metadata": {},
          "output_type": "execute_result"
        }
      ],
      "source": [
        "df=sns.load_dataset(\"titanic\")\n",
        "df.head() #Este código es para ver las primeras filas del dataset."
      ]
    },
    {
      "cell_type": "markdown",
      "metadata": {
        "id": "9eUpTI1gafFY"
      },
      "source": [
        "Si exploras el _dataset_, notarás que la variable (o columna) llamada `sex` contiene dos opciones: `male` o `female`. Ahora, `.value_counts() ` se utiliza para conocer los tipos de datos categóricos y cuántas veces se repiten en una variable o columna."
      ]
    },
    {
      "cell_type": "code",
      "execution_count": 18,
      "metadata": {
        "colab": {
          "base_uri": "https://localhost:8080/"
        },
        "id": "sO08q1KEg7MW",
        "outputId": "797ebdf8-36a0-4bc6-d7d2-1670968f3255"
      },
      "outputs": [
        {
          "data": {
            "text/plain": [
              "sex\n",
              "male      577\n",
              "female    314\n",
              "Name: count, dtype: int64"
            ]
          },
          "execution_count": 18,
          "metadata": {},
          "output_type": "execute_result"
        }
      ],
      "source": [
        "df.sex.value_counts()"
      ]
    },
    {
      "cell_type": "markdown",
      "metadata": {
        "id": "MVPOJR32bAK4"
      },
      "source": [
        "En el ejemplo de arriba se observa que, al usar`value_counts` en la columna `sex`de  `df`, existen dos valores: uno llamado `male`, que se repite 577 veces y `female`, que se repite 314 veces.\n",
        "\n",
        "Otra forma de solicitar la misma información es mediante el siguiente código:\n",
        "```python\n",
        "df['sex'].value_counts()\n",
        "```"
      ]
    },
    {
      "cell_type": "markdown",
      "metadata": {
        "id": "lnX93hMOcR27"
      },
      "source": [
        "Observa otro ejemplo. En la columna `embarked` hay tres valores posibles.\n",
        "\n",
        "Así se escribiría el código:"
      ]
    },
    {
      "cell_type": "code",
      "execution_count": 19,
      "metadata": {
        "colab": {
          "base_uri": "https://localhost:8080/"
        },
        "id": "1MNWPnCajA6z",
        "outputId": "acfedf02-e48c-4cc9-c288-bf7a2bd9133b"
      },
      "outputs": [
        {
          "data": {
            "text/plain": [
              "embarked\n",
              "S    644\n",
              "C    168\n",
              "Q     77\n",
              "Name: count, dtype: int64"
            ]
          },
          "execution_count": 19,
          "metadata": {},
          "output_type": "execute_result"
        }
      ],
      "source": [
        "df.embarked.value_counts()"
      ]
    },
    {
      "cell_type": "markdown",
      "metadata": {
        "id": "duInqfyWchFQ"
      },
      "source": [
        "Una forma alternativa de escribir ese código es de la siguiente manera:\n",
        "```python\n",
        "df['embarked'].value_counts()\n",
        "```"
      ]
    },
    {
      "cell_type": "markdown",
      "metadata": {
        "id": "INS8WBDacz1G"
      },
      "source": [
        "Un último ejemplo se observa con la variable `class`, que tiene tres posibles valores, apreciables con el código:"
      ]
    },
    {
      "cell_type": "code",
      "execution_count": 20,
      "metadata": {
        "colab": {
          "base_uri": "https://localhost:8080/"
        },
        "id": "r965jrxrjA4U",
        "outputId": "4ba7fb52-9940-4019-bd91-7098aafe1a5a"
      },
      "outputs": [
        {
          "data": {
            "text/plain": [
              "class\n",
              "Third     491\n",
              "First     216\n",
              "Second    184\n",
              "Name: count, dtype: int64"
            ]
          },
          "execution_count": 20,
          "metadata": {},
          "output_type": "execute_result"
        }
      ],
      "source": [
        "df['class'].value_counts()"
      ]
    },
    {
      "cell_type": "markdown",
      "metadata": {
        "id": "DAHbrJNec-oZ"
      },
      "source": [
        "Si se gusta, puede usarse el siguiente código que dará el mismo resultado:\n",
        "```python\n",
        "df.class.value_counts()\n",
        "```"
      ]
    },
    {
      "cell_type": "markdown",
      "metadata": {
        "id": "a8ju_l5ajZ1E"
      },
      "source": [
        "Las variables categóricas se pueden detectar con la información del conjunto de datos, en este ejemplo, son `category` y `object`.\n",
        "\n",
        "Recuerda que esto puede saberse la función `.info()`."
      ]
    },
    {
      "cell_type": "code",
      "execution_count": 21,
      "metadata": {
        "colab": {
          "base_uri": "https://localhost:8080/"
        },
        "id": "BPRVIooCjoKm",
        "outputId": "bcdd0347-8904-4172-cddd-b3640fb343f6"
      },
      "outputs": [
        {
          "name": "stdout",
          "output_type": "stream",
          "text": [
            "<class 'pandas.core.frame.DataFrame'>\n",
            "RangeIndex: 891 entries, 0 to 890\n",
            "Data columns (total 15 columns):\n",
            " #   Column       Non-Null Count  Dtype   \n",
            "---  ------       --------------  -----   \n",
            " 0   survived     891 non-null    int64   \n",
            " 1   pclass       891 non-null    int64   \n",
            " 2   sex          891 non-null    object  \n",
            " 3   age          714 non-null    float64 \n",
            " 4   sibsp        891 non-null    int64   \n",
            " 5   parch        891 non-null    int64   \n",
            " 6   fare         891 non-null    float64 \n",
            " 7   embarked     889 non-null    object  \n",
            " 8   class        891 non-null    category\n",
            " 9   who          891 non-null    object  \n",
            " 10  adult_male   891 non-null    bool    \n",
            " 11  deck         203 non-null    category\n",
            " 12  embark_town  889 non-null    object  \n",
            " 13  alive        891 non-null    object  \n",
            " 14  alone        891 non-null    bool    \n",
            "dtypes: bool(2), category(2), float64(2), int64(4), object(5)\n",
            "memory usage: 80.7+ KB\n"
          ]
        }
      ],
      "source": [
        "df.info()"
      ]
    },
    {
      "cell_type": "markdown",
      "metadata": {
        "id": "tPQB6r8kj-3D"
      },
      "source": [
        "\n",
        "### Label Encoding\n",
        "\n",
        "\n",
        "Con ayuda de este transformador, se asigna un número a la categória encontada; por ejemplo, la variable `class` abarca las categorías:\n",
        "\n",
        "- `Third`\n",
        "- `First`\n",
        "- `Second`\n",
        "\n",
        "Nota: se encuentran organizados por orden de aparición.\n",
        "\n",
        "Al utilizar el escalador se obtienen las siguientes entradas:\n",
        "\n",
        "- El valor `First` se renombra como `0`.\n",
        "- El valor `Second` se llamará `1`.\n",
        "- El valor `Third` se convierte en `2`.\n",
        "\n",
        "Nota: Cuando se utiliza el **Label encoding**, los valores categóricos se ordenan alfabéticamente, de modo que al primer valor le llamará 0; al segundo, 1; al tercero, 2 y así sucesivamente.\n"
      ]
    },
    {
      "cell_type": "markdown",
      "metadata": {
        "id": "c4lZtuPrhYgi"
      },
      "source": [
        "Para utlizar esta herramienta es necesario importarla con el código `from sklearn.preprocessing import LabelEncoder` y ejecutarla como se muestra abajo."
      ]
    },
    {
      "cell_type": "code",
      "execution_count": 22,
      "metadata": {
        "id": "SuQVg3yejoRs"
      },
      "outputs": [],
      "source": [
        "from sklearn.preprocessing import LabelEncoder"
      ]
    },
    {
      "cell_type": "markdown",
      "metadata": {
        "id": "HxRlQxzBhpx8"
      },
      "source": [
        "Para facilitar el uso de esta herramineta se crea una variable. En el ejemplo se nombra como `transformador` y será igual a la función `LabelEncoder()`."
      ]
    },
    {
      "cell_type": "code",
      "execution_count": 24,
      "metadata": {
        "id": "FH0RF96DjoOj"
      },
      "outputs": [],
      "source": [
        "transformador = LabelEncoder()"
      ]
    },
    {
      "cell_type": "markdown",
      "metadata": {
        "id": "OiP_QV4RiAE8"
      },
      "source": [
        "Lo anterior permite aplicar la función `fit.transform()` de manera más sencilla. En este caso, dicha «transformación» se aplica solo en la columna `class`.\n",
        "\n",
        "Observa en el código la solicitud del cambio únicamente para la columna `class`."
      ]
    },
    {
      "cell_type": "code",
      "execution_count": 25,
      "metadata": {
        "id": "2RdYZCl5kbfu"
      },
      "outputs": [],
      "source": [
        "df['class'] = transformador.fit_transform(df['class'])"
      ]
    },
    {
      "cell_type": "code",
      "execution_count": 26,
      "metadata": {
        "colab": {
          "base_uri": "https://localhost:8080/"
        },
        "id": "94iOJ9fBgAHk",
        "outputId": "5a1102a5-90ba-4464-cb76-2928dd629e8e"
      },
      "outputs": [
        {
          "data": {
            "text/plain": [
              "0      2\n",
              "1      0\n",
              "2      2\n",
              "3      0\n",
              "4      2\n",
              "      ..\n",
              "886    1\n",
              "887    0\n",
              "888    2\n",
              "889    0\n",
              "890    2\n",
              "Name: class, Length: 891, dtype: int32"
            ]
          },
          "execution_count": 26,
          "metadata": {},
          "output_type": "execute_result"
        }
      ],
      "source": [
        "df['class']"
      ]
    },
    {
      "cell_type": "markdown",
      "metadata": {
        "id": "A-NaBA4viUTN"
      },
      "source": [
        "A continuación, se aplica `value_counts()` a la columna `class` para observar los valores que tiene y cuàntas veces se repite."
      ]
    },
    {
      "cell_type": "code",
      "execution_count": 27,
      "metadata": {
        "colab": {
          "base_uri": "https://localhost:8080/"
        },
        "id": "5Gog70-ekbdG",
        "outputId": "f9e3e618-0624-4ff4-ef77-a8b9f78ca9b4"
      },
      "outputs": [
        {
          "data": {
            "text/plain": [
              "class\n",
              "2    491\n",
              "0    216\n",
              "1    184\n",
              "Name: count, dtype: int64"
            ]
          },
          "execution_count": 27,
          "metadata": {},
          "output_type": "execute_result"
        }
      ],
      "source": [
        "df['class'].value_counts()"
      ]
    },
    {
      "cell_type": "markdown",
      "metadata": {
        "id": "rbVWaILViltK"
      },
      "source": [
        "Si se olvidaran los valores originales, se recurre a `.classes` en el transformador para señalizarlos."
      ]
    },
    {
      "cell_type": "code",
      "execution_count": 28,
      "metadata": {
        "colab": {
          "base_uri": "https://localhost:8080/"
        },
        "id": "zleLD8P6kq5-",
        "outputId": "b54cc5ad-c0dd-4fad-e17b-56b043207124"
      },
      "outputs": [
        {
          "data": {
            "text/plain": [
              "array(['First', 'Second', 'Third'], dtype=object)"
            ]
          },
          "execution_count": 28,
          "metadata": {},
          "output_type": "execute_result"
        }
      ],
      "source": [
        "transformador.classes_"
      ]
    },
    {
      "cell_type": "markdown",
      "metadata": {
        "id": "l0cOj2cpizEW"
      },
      "source": [
        "De igual manera, el primer valor mostrado es 0, el segundo será 1, el tercero 2 y así sucesivamente."
      ]
    },
    {
      "cell_type": "code",
      "execution_count": 29,
      "metadata": {
        "id": "zBKSShitlBxv"
      },
      "outputs": [],
      "source": [
        "#OneHotEncoding\n",
        "from sklearn.preprocessing import OneHotEncoder"
      ]
    },
    {
      "cell_type": "markdown",
      "metadata": {
        "id": "LHs8MJ7JkaAK"
      },
      "source": [
        "Otra técnica es:\n",
        "\n",
        "#OneHotEncoding\n",
        "\n",
        "Algunos modelos pueden malinterpretar los valores cuando los datos se transforman con \"Labelencoder\"; por ejemplo, en el paso anterior existían 3 categorías, por tanto, la categoria asignada con el número 2 valía el doble que la categoría con el número 0.\n",
        "¿La afirmación anterior es cierta? No, porque existe otra alternativa, como **OneHotEncoder**, que genera tantas columnas como posibles categorías se tengan de una variable y asigna valores binarios (0,1) para evitar este tipo de interpretación de algunos algoritmos. Finalmente, las variables creadas normalmente reciben el nombre de _«dummy»_."
      ]
    },
    {
      "cell_type": "code",
      "execution_count": 30,
      "metadata": {
        "id": "4H-2ruD_mhsg"
      },
      "outputs": [],
      "source": [
        "transformador = OneHotEncoder()"
      ]
    },
    {
      "cell_type": "code",
      "execution_count": 31,
      "metadata": {
        "id": "3lDzoAQRmnSo"
      },
      "outputs": [],
      "source": [
        "enc_df = pd.DataFrame(transformador.fit_transform(df[['sex']]).toarray())\n",
        "df = df.join(enc_df)"
      ]
    },
    {
      "cell_type": "markdown",
      "metadata": {
        "id": "1AR7zhNgv7dQ"
      },
      "source": [
        "Si se tienen 2 variables binarias adicionales:\n"
      ]
    },
    {
      "cell_type": "code",
      "execution_count": 32,
      "metadata": {
        "colab": {
          "base_uri": "https://localhost:8080/",
          "height": 424
        },
        "id": "z9-dmCytmnOb",
        "outputId": "ab848b53-4377-4096-8bdc-7c0205932a98"
      },
      "outputs": [
        {
          "data": {
            "text/html": [
              "<div>\n",
              "<style scoped>\n",
              "    .dataframe tbody tr th:only-of-type {\n",
              "        vertical-align: middle;\n",
              "    }\n",
              "\n",
              "    .dataframe tbody tr th {\n",
              "        vertical-align: top;\n",
              "    }\n",
              "\n",
              "    .dataframe thead th {\n",
              "        text-align: right;\n",
              "    }\n",
              "</style>\n",
              "<table border=\"1\" class=\"dataframe\">\n",
              "  <thead>\n",
              "    <tr style=\"text-align: right;\">\n",
              "      <th></th>\n",
              "      <th>sex</th>\n",
              "      <th>0</th>\n",
              "      <th>1</th>\n",
              "    </tr>\n",
              "  </thead>\n",
              "  <tbody>\n",
              "    <tr>\n",
              "      <th>0</th>\n",
              "      <td>male</td>\n",
              "      <td>0.0</td>\n",
              "      <td>1.0</td>\n",
              "    </tr>\n",
              "    <tr>\n",
              "      <th>1</th>\n",
              "      <td>female</td>\n",
              "      <td>1.0</td>\n",
              "      <td>0.0</td>\n",
              "    </tr>\n",
              "    <tr>\n",
              "      <th>2</th>\n",
              "      <td>female</td>\n",
              "      <td>1.0</td>\n",
              "      <td>0.0</td>\n",
              "    </tr>\n",
              "    <tr>\n",
              "      <th>3</th>\n",
              "      <td>female</td>\n",
              "      <td>1.0</td>\n",
              "      <td>0.0</td>\n",
              "    </tr>\n",
              "    <tr>\n",
              "      <th>4</th>\n",
              "      <td>male</td>\n",
              "      <td>0.0</td>\n",
              "      <td>1.0</td>\n",
              "    </tr>\n",
              "    <tr>\n",
              "      <th>...</th>\n",
              "      <td>...</td>\n",
              "      <td>...</td>\n",
              "      <td>...</td>\n",
              "    </tr>\n",
              "    <tr>\n",
              "      <th>886</th>\n",
              "      <td>male</td>\n",
              "      <td>0.0</td>\n",
              "      <td>1.0</td>\n",
              "    </tr>\n",
              "    <tr>\n",
              "      <th>887</th>\n",
              "      <td>female</td>\n",
              "      <td>1.0</td>\n",
              "      <td>0.0</td>\n",
              "    </tr>\n",
              "    <tr>\n",
              "      <th>888</th>\n",
              "      <td>female</td>\n",
              "      <td>1.0</td>\n",
              "      <td>0.0</td>\n",
              "    </tr>\n",
              "    <tr>\n",
              "      <th>889</th>\n",
              "      <td>male</td>\n",
              "      <td>0.0</td>\n",
              "      <td>1.0</td>\n",
              "    </tr>\n",
              "    <tr>\n",
              "      <th>890</th>\n",
              "      <td>male</td>\n",
              "      <td>0.0</td>\n",
              "      <td>1.0</td>\n",
              "    </tr>\n",
              "  </tbody>\n",
              "</table>\n",
              "<p>891 rows × 3 columns</p>\n",
              "</div>"
            ],
            "text/plain": [
              "        sex    0    1\n",
              "0      male  0.0  1.0\n",
              "1    female  1.0  0.0\n",
              "2    female  1.0  0.0\n",
              "3    female  1.0  0.0\n",
              "4      male  0.0  1.0\n",
              "..      ...  ...  ...\n",
              "886    male  0.0  1.0\n",
              "887  female  1.0  0.0\n",
              "888  female  1.0  0.0\n",
              "889    male  0.0  1.0\n",
              "890    male  0.0  1.0\n",
              "\n",
              "[891 rows x 3 columns]"
            ]
          },
          "execution_count": 32,
          "metadata": {},
          "output_type": "execute_result"
        }
      ],
      "source": [
        "df[['sex',0,1]]"
      ]
    },
    {
      "cell_type": "markdown",
      "metadata": {
        "id": "2WASW4v0v-_U"
      },
      "source": [
        "La librería pandas posee una función similar llamada \"get_dummies\". Su código es:"
      ]
    },
    {
      "cell_type": "code",
      "execution_count": null,
      "metadata": {
        "colab": {
          "base_uri": "https://localhost:8080/",
          "height": 424
        },
        "id": "V1H6nFX5oDOD",
        "outputId": "7e12a8e4-a8ab-4e94-e8d0-3190441262fe"
      },
      "outputs": [
        {
          "data": {
            "text/html": [
              "\n",
              "  <div id=\"df-920595df-7b31-4e6c-a5fc-428db0e5f3fa\" class=\"colab-df-container\">\n",
              "    <div>\n",
              "<style scoped>\n",
              "    .dataframe tbody tr th:only-of-type {\n",
              "        vertical-align: middle;\n",
              "    }\n",
              "\n",
              "    .dataframe tbody tr th {\n",
              "        vertical-align: top;\n",
              "    }\n",
              "\n",
              "    .dataframe thead th {\n",
              "        text-align: right;\n",
              "    }\n",
              "</style>\n",
              "<table border=\"1\" class=\"dataframe\">\n",
              "  <thead>\n",
              "    <tr style=\"text-align: right;\">\n",
              "      <th></th>\n",
              "      <th>sex_male</th>\n",
              "      <th>sex_female</th>\n",
              "    </tr>\n",
              "  </thead>\n",
              "  <tbody>\n",
              "    <tr>\n",
              "      <th>0</th>\n",
              "      <td>1</td>\n",
              "      <td>0</td>\n",
              "    </tr>\n",
              "    <tr>\n",
              "      <th>1</th>\n",
              "      <td>0</td>\n",
              "      <td>1</td>\n",
              "    </tr>\n",
              "    <tr>\n",
              "      <th>2</th>\n",
              "      <td>0</td>\n",
              "      <td>1</td>\n",
              "    </tr>\n",
              "    <tr>\n",
              "      <th>3</th>\n",
              "      <td>0</td>\n",
              "      <td>1</td>\n",
              "    </tr>\n",
              "    <tr>\n",
              "      <th>4</th>\n",
              "      <td>1</td>\n",
              "      <td>0</td>\n",
              "    </tr>\n",
              "    <tr>\n",
              "      <th>...</th>\n",
              "      <td>...</td>\n",
              "      <td>...</td>\n",
              "    </tr>\n",
              "    <tr>\n",
              "      <th>886</th>\n",
              "      <td>1</td>\n",
              "      <td>0</td>\n",
              "    </tr>\n",
              "    <tr>\n",
              "      <th>887</th>\n",
              "      <td>0</td>\n",
              "      <td>1</td>\n",
              "    </tr>\n",
              "    <tr>\n",
              "      <th>888</th>\n",
              "      <td>0</td>\n",
              "      <td>1</td>\n",
              "    </tr>\n",
              "    <tr>\n",
              "      <th>889</th>\n",
              "      <td>1</td>\n",
              "      <td>0</td>\n",
              "    </tr>\n",
              "    <tr>\n",
              "      <th>890</th>\n",
              "      <td>1</td>\n",
              "      <td>0</td>\n",
              "    </tr>\n",
              "  </tbody>\n",
              "</table>\n",
              "<p>891 rows × 2 columns</p>\n",
              "</div>\n",
              "    <div class=\"colab-df-buttons\">\n",
              "\n",
              "  <div class=\"colab-df-container\">\n",
              "    <button class=\"colab-df-convert\" onclick=\"convertToInteractive('df-920595df-7b31-4e6c-a5fc-428db0e5f3fa')\"\n",
              "            title=\"Convert this dataframe to an interactive table.\"\n",
              "            style=\"display:none;\">\n",
              "\n",
              "  <svg xmlns=\"http://www.w3.org/2000/svg\" height=\"24px\" viewBox=\"0 -960 960 960\">\n",
              "    <path d=\"M120-120v-720h720v720H120Zm60-500h600v-160H180v160Zm220 220h160v-160H400v160Zm0 220h160v-160H400v160ZM180-400h160v-160H180v160Zm440 0h160v-160H620v160ZM180-180h160v-160H180v160Zm440 0h160v-160H620v160Z\"/>\n",
              "  </svg>\n",
              "    </button>\n",
              "\n",
              "  <style>\n",
              "    .colab-df-container {\n",
              "      display:flex;\n",
              "      gap: 12px;\n",
              "    }\n",
              "\n",
              "    .colab-df-convert {\n",
              "      background-color: #E8F0FE;\n",
              "      border: none;\n",
              "      border-radius: 50%;\n",
              "      cursor: pointer;\n",
              "      display: none;\n",
              "      fill: #1967D2;\n",
              "      height: 32px;\n",
              "      padding: 0 0 0 0;\n",
              "      width: 32px;\n",
              "    }\n",
              "\n",
              "    .colab-df-convert:hover {\n",
              "      background-color: #E2EBFA;\n",
              "      box-shadow: 0px 1px 2px rgba(60, 64, 67, 0.3), 0px 1px 3px 1px rgba(60, 64, 67, 0.15);\n",
              "      fill: #174EA6;\n",
              "    }\n",
              "\n",
              "    .colab-df-buttons div {\n",
              "      margin-bottom: 4px;\n",
              "    }\n",
              "\n",
              "    [theme=dark] .colab-df-convert {\n",
              "      background-color: #3B4455;\n",
              "      fill: #D2E3FC;\n",
              "    }\n",
              "\n",
              "    [theme=dark] .colab-df-convert:hover {\n",
              "      background-color: #434B5C;\n",
              "      box-shadow: 0px 1px 3px 1px rgba(0, 0, 0, 0.15);\n",
              "      filter: drop-shadow(0px 1px 2px rgba(0, 0, 0, 0.3));\n",
              "      fill: #FFFFFF;\n",
              "    }\n",
              "  </style>\n",
              "\n",
              "    <script>\n",
              "      const buttonEl =\n",
              "        document.querySelector('#df-920595df-7b31-4e6c-a5fc-428db0e5f3fa button.colab-df-convert');\n",
              "      buttonEl.style.display =\n",
              "        google.colab.kernel.accessAllowed ? 'block' : 'none';\n",
              "\n",
              "      async function convertToInteractive(key) {\n",
              "        const element = document.querySelector('#df-920595df-7b31-4e6c-a5fc-428db0e5f3fa');\n",
              "        const dataTable =\n",
              "          await google.colab.kernel.invokeFunction('convertToInteractive',\n",
              "                                                    [key], {});\n",
              "        if (!dataTable) return;\n",
              "\n",
              "        const docLinkHtml = 'Like what you see? Visit the ' +\n",
              "          '<a target=\"_blank\" href=https://colab.research.google.com/notebooks/data_table.ipynb>data table notebook</a>'\n",
              "          + ' to learn more about interactive tables.';\n",
              "        element.innerHTML = '';\n",
              "        dataTable['output_type'] = 'display_data';\n",
              "        await google.colab.output.renderOutput(dataTable, element);\n",
              "        const docLink = document.createElement('div');\n",
              "        docLink.innerHTML = docLinkHtml;\n",
              "        element.appendChild(docLink);\n",
              "      }\n",
              "    </script>\n",
              "  </div>\n",
              "\n",
              "\n",
              "<div id=\"df-c29d0355-1f16-41c2-80ba-dc02e424fb1e\">\n",
              "  <button class=\"colab-df-quickchart\" onclick=\"quickchart('df-c29d0355-1f16-41c2-80ba-dc02e424fb1e')\"\n",
              "            title=\"Suggest charts.\"\n",
              "            style=\"display:none;\">\n",
              "\n",
              "<svg xmlns=\"http://www.w3.org/2000/svg\" height=\"24px\"viewBox=\"0 0 24 24\"\n",
              "     width=\"24px\">\n",
              "    <g>\n",
              "        <path d=\"M19 3H5c-1.1 0-2 .9-2 2v14c0 1.1.9 2 2 2h14c1.1 0 2-.9 2-2V5c0-1.1-.9-2-2-2zM9 17H7v-7h2v7zm4 0h-2V7h2v10zm4 0h-2v-4h2v4z\"/>\n",
              "    </g>\n",
              "</svg>\n",
              "  </button>\n",
              "\n",
              "<style>\n",
              "  .colab-df-quickchart {\n",
              "    background-color: #E8F0FE;\n",
              "    border: none;\n",
              "    border-radius: 50%;\n",
              "    cursor: pointer;\n",
              "    display: none;\n",
              "    fill: #1967D2;\n",
              "    height: 32px;\n",
              "    padding: 0 0 0 0;\n",
              "    width: 32px;\n",
              "  }\n",
              "\n",
              "  .colab-df-quickchart:hover {\n",
              "    background-color: #E2EBFA;\n",
              "    box-shadow: 0px 1px 2px rgba(60, 64, 67, 0.3), 0px 1px 3px 1px rgba(60, 64, 67, 0.15);\n",
              "    fill: #174EA6;\n",
              "  }\n",
              "\n",
              "  [theme=dark] .colab-df-quickchart {\n",
              "    background-color: #3B4455;\n",
              "    fill: #D2E3FC;\n",
              "  }\n",
              "\n",
              "  [theme=dark] .colab-df-quickchart:hover {\n",
              "    background-color: #434B5C;\n",
              "    box-shadow: 0px 1px 3px 1px rgba(0, 0, 0, 0.15);\n",
              "    filter: drop-shadow(0px 1px 2px rgba(0, 0, 0, 0.3));\n",
              "    fill: #FFFFFF;\n",
              "  }\n",
              "</style>\n",
              "\n",
              "  <script>\n",
              "    async function quickchart(key) {\n",
              "      const charts = await google.colab.kernel.invokeFunction(\n",
              "          'suggestCharts', [key], {});\n",
              "    }\n",
              "    (() => {\n",
              "      let quickchartButtonEl =\n",
              "        document.querySelector('#df-c29d0355-1f16-41c2-80ba-dc02e424fb1e button');\n",
              "      quickchartButtonEl.style.display =\n",
              "        google.colab.kernel.accessAllowed ? 'block' : 'none';\n",
              "    })();\n",
              "  </script>\n",
              "</div>\n",
              "    </div>\n",
              "  </div>\n"
            ],
            "text/plain": [
              "     sex_male  sex_female\n",
              "0           1           0\n",
              "1           0           1\n",
              "2           0           1\n",
              "3           0           1\n",
              "4           1           0\n",
              "..        ...         ...\n",
              "886         1           0\n",
              "887         0           1\n",
              "888         0           1\n",
              "889         1           0\n",
              "890         1           0\n",
              "\n",
              "[891 rows x 2 columns]"
            ]
          },
          "execution_count": 34,
          "metadata": {},
          "output_type": "execute_result"
        }
      ],
      "source": [
        "dummies = pd.get_dummies(df, columns=[\"sex\"], prefix=[\"sex\"] )\n",
        "dummies[['sex_male','sex_female']]\n",
        "#Obteniendo el mismo resultado que con la librería de Scitik learn"
      ]
    },
    {
      "cell_type": "markdown",
      "metadata": {
        "id": "k4iUViKRolFj"
      },
      "source": [
        "Estas son las principales técnicas para el preprocesamiento de datos. Con estas se asegura que el modelo entenderá la información de la mejor forma, para obtener mejores resultados y evitar ruido dentro del modelo."
      ]
    },
    {
      "cell_type": "markdown",
      "metadata": {
        "id": "8UdPdi-wKQWt"
      },
      "source": [
        "##### **Ponte a prueba 2**\n",
        "\n",
        "Imagina que eres un analista de datos en una agencia de viajes. Tienes un conjunto de datos que contiene información sobre los destinos más populares, el tipo de alojamiento que eligen los viajeros y la temporada en la que viajan más a menudo. Quieres transformar estas variables categóricas para preparar los datos para un modelo de aprendizaje automático.\n",
        "\n",
        "Puedes descargar el conjunto de datos del siguiente enlace: https://drive.google.com/file/d/1fDIlpQ-Q9qVN8bWGiPAregXysRtMMWVa/view?usp=sharing\n",
        "\n",
        "**Descripción del conjunto de datos:**\n",
        "\n",
        "**Destino:** Ciudad o país de destino.\n",
        "\n",
        "**Tipo_alojamiento:** Tipo de alojamiento que el viajero prefiere (e.g., Hotel, Hostal, Airbnb).\n",
        "\n",
        "**Temporada:** Temporada en la que el viajero suele viajar (e.g., Verano, Invierno, Primavera, Otoño).\n",
        "\n",
        "Para lograr tu objetivo deberás realizar el siguiente análisis:\n",
        "\n",
        "1. Carga y explora el conjunto de datos.\n",
        "2. Utiliza LabelEncoder para transformar la variable Destino en numérica.\n",
        "3. Utiliza OneHotEncoder para transformar las variables Tipo_alojamiento y Temporada en formatos numéricos."
      ]
    },
    {
      "cell_type": "markdown",
      "metadata": {
        "id": "Ij-kULSW8QDm"
      },
      "source": [
        "## Reto de la semana\n",
        "\n",
        "Descarga un estudio sobre algunos pingüinos en el siguiente enlace:\n",
        "\n",
        "https://drive.google.com/file/d/1u-pbmc8bNjIRsgDwz3Bmr0DnbXRxHRiz/view?usp=sharing\n",
        "\n",
        "1. Indica qué valores categóricos están en la columna `Island` e indica cuántas veces aparecen.\n",
        "2. Escala los valores para las columnas `Culmen Length (mm)`, `Culmen Depth (mm)`, `Flipper Length (mm)` y `Body Mass (g)`.\n",
        "\n",
        "¡Feliz semana! Te espero en nuestra sesión. ✌\n"
      ]
    },
    {
      "cell_type": "code",
      "execution_count": 3,
      "metadata": {
        "id": "o_uQf6VTKlFl"
      },
      "outputs": [
        {
          "data": {
            "text/html": [
              "<div>\n",
              "<style scoped>\n",
              "    .dataframe tbody tr th:only-of-type {\n",
              "        vertical-align: middle;\n",
              "    }\n",
              "\n",
              "    .dataframe tbody tr th {\n",
              "        vertical-align: top;\n",
              "    }\n",
              "\n",
              "    .dataframe thead th {\n",
              "        text-align: right;\n",
              "    }\n",
              "</style>\n",
              "<table border=\"1\" class=\"dataframe\">\n",
              "  <thead>\n",
              "    <tr style=\"text-align: right;\">\n",
              "      <th></th>\n",
              "      <th>studyName</th>\n",
              "      <th>Sample Number</th>\n",
              "      <th>Species</th>\n",
              "      <th>Region</th>\n",
              "      <th>Island</th>\n",
              "      <th>Stage</th>\n",
              "      <th>Individual ID</th>\n",
              "      <th>Clutch Completion</th>\n",
              "      <th>Date Egg</th>\n",
              "      <th>Culmen Length (mm)</th>\n",
              "      <th>Culmen Depth (mm)</th>\n",
              "      <th>Flipper Length (mm)</th>\n",
              "      <th>Body Mass (g)</th>\n",
              "      <th>Sex</th>\n",
              "      <th>Delta 15 N (o/oo)</th>\n",
              "      <th>Delta 13 C (o/oo)</th>\n",
              "      <th>Comments</th>\n",
              "    </tr>\n",
              "  </thead>\n",
              "  <tbody>\n",
              "    <tr>\n",
              "      <th>0</th>\n",
              "      <td>PAL0708</td>\n",
              "      <td>1</td>\n",
              "      <td>Adelie Penguin (Pygoscelis adeliae)</td>\n",
              "      <td>Anvers</td>\n",
              "      <td>Torgersen</td>\n",
              "      <td>Adult, 1 Egg Stage</td>\n",
              "      <td>N1A1</td>\n",
              "      <td>Yes</td>\n",
              "      <td>11/11/07</td>\n",
              "      <td>39.1</td>\n",
              "      <td>18.7</td>\n",
              "      <td>181.0</td>\n",
              "      <td>3750.0</td>\n",
              "      <td>MALE</td>\n",
              "      <td>NaN</td>\n",
              "      <td>NaN</td>\n",
              "      <td>Not enough blood for isotopes.</td>\n",
              "    </tr>\n",
              "    <tr>\n",
              "      <th>1</th>\n",
              "      <td>PAL0708</td>\n",
              "      <td>2</td>\n",
              "      <td>Adelie Penguin (Pygoscelis adeliae)</td>\n",
              "      <td>Anvers</td>\n",
              "      <td>Torgersen</td>\n",
              "      <td>Adult, 1 Egg Stage</td>\n",
              "      <td>N1A2</td>\n",
              "      <td>Yes</td>\n",
              "      <td>11/11/07</td>\n",
              "      <td>39.5</td>\n",
              "      <td>17.4</td>\n",
              "      <td>186.0</td>\n",
              "      <td>3800.0</td>\n",
              "      <td>FEMALE</td>\n",
              "      <td>8.94956</td>\n",
              "      <td>-24.69454</td>\n",
              "      <td>NaN</td>\n",
              "    </tr>\n",
              "    <tr>\n",
              "      <th>2</th>\n",
              "      <td>PAL0708</td>\n",
              "      <td>3</td>\n",
              "      <td>Adelie Penguin (Pygoscelis adeliae)</td>\n",
              "      <td>Anvers</td>\n",
              "      <td>Torgersen</td>\n",
              "      <td>Adult, 1 Egg Stage</td>\n",
              "      <td>N2A1</td>\n",
              "      <td>Yes</td>\n",
              "      <td>11/16/07</td>\n",
              "      <td>40.3</td>\n",
              "      <td>18.0</td>\n",
              "      <td>195.0</td>\n",
              "      <td>3250.0</td>\n",
              "      <td>FEMALE</td>\n",
              "      <td>8.36821</td>\n",
              "      <td>-25.33302</td>\n",
              "      <td>NaN</td>\n",
              "    </tr>\n",
              "    <tr>\n",
              "      <th>3</th>\n",
              "      <td>PAL0708</td>\n",
              "      <td>4</td>\n",
              "      <td>Adelie Penguin (Pygoscelis adeliae)</td>\n",
              "      <td>Anvers</td>\n",
              "      <td>Torgersen</td>\n",
              "      <td>Adult, 1 Egg Stage</td>\n",
              "      <td>N2A2</td>\n",
              "      <td>Yes</td>\n",
              "      <td>11/16/07</td>\n",
              "      <td>NaN</td>\n",
              "      <td>NaN</td>\n",
              "      <td>NaN</td>\n",
              "      <td>NaN</td>\n",
              "      <td>NaN</td>\n",
              "      <td>NaN</td>\n",
              "      <td>NaN</td>\n",
              "      <td>Adult not sampled.</td>\n",
              "    </tr>\n",
              "    <tr>\n",
              "      <th>4</th>\n",
              "      <td>PAL0708</td>\n",
              "      <td>5</td>\n",
              "      <td>Adelie Penguin (Pygoscelis adeliae)</td>\n",
              "      <td>Anvers</td>\n",
              "      <td>Torgersen</td>\n",
              "      <td>Adult, 1 Egg Stage</td>\n",
              "      <td>N3A1</td>\n",
              "      <td>Yes</td>\n",
              "      <td>11/16/07</td>\n",
              "      <td>36.7</td>\n",
              "      <td>19.3</td>\n",
              "      <td>193.0</td>\n",
              "      <td>3450.0</td>\n",
              "      <td>FEMALE</td>\n",
              "      <td>8.76651</td>\n",
              "      <td>-25.32426</td>\n",
              "      <td>NaN</td>\n",
              "    </tr>\n",
              "    <tr>\n",
              "      <th>...</th>\n",
              "      <td>...</td>\n",
              "      <td>...</td>\n",
              "      <td>...</td>\n",
              "      <td>...</td>\n",
              "      <td>...</td>\n",
              "      <td>...</td>\n",
              "      <td>...</td>\n",
              "      <td>...</td>\n",
              "      <td>...</td>\n",
              "      <td>...</td>\n",
              "      <td>...</td>\n",
              "      <td>...</td>\n",
              "      <td>...</td>\n",
              "      <td>...</td>\n",
              "      <td>...</td>\n",
              "      <td>...</td>\n",
              "      <td>...</td>\n",
              "    </tr>\n",
              "    <tr>\n",
              "      <th>339</th>\n",
              "      <td>PAL0910</td>\n",
              "      <td>120</td>\n",
              "      <td>Gentoo penguin (Pygoscelis papua)</td>\n",
              "      <td>Anvers</td>\n",
              "      <td>Biscoe</td>\n",
              "      <td>Adult, 1 Egg Stage</td>\n",
              "      <td>N38A2</td>\n",
              "      <td>No</td>\n",
              "      <td>12/1/09</td>\n",
              "      <td>NaN</td>\n",
              "      <td>NaN</td>\n",
              "      <td>NaN</td>\n",
              "      <td>NaN</td>\n",
              "      <td>NaN</td>\n",
              "      <td>NaN</td>\n",
              "      <td>NaN</td>\n",
              "      <td>NaN</td>\n",
              "    </tr>\n",
              "    <tr>\n",
              "      <th>340</th>\n",
              "      <td>PAL0910</td>\n",
              "      <td>121</td>\n",
              "      <td>Gentoo penguin (Pygoscelis papua)</td>\n",
              "      <td>Anvers</td>\n",
              "      <td>Biscoe</td>\n",
              "      <td>Adult, 1 Egg Stage</td>\n",
              "      <td>N39A1</td>\n",
              "      <td>Yes</td>\n",
              "      <td>11/22/09</td>\n",
              "      <td>46.8</td>\n",
              "      <td>14.3</td>\n",
              "      <td>215.0</td>\n",
              "      <td>4850.0</td>\n",
              "      <td>FEMALE</td>\n",
              "      <td>8.41151</td>\n",
              "      <td>-26.13832</td>\n",
              "      <td>NaN</td>\n",
              "    </tr>\n",
              "    <tr>\n",
              "      <th>341</th>\n",
              "      <td>PAL0910</td>\n",
              "      <td>122</td>\n",
              "      <td>Gentoo penguin (Pygoscelis papua)</td>\n",
              "      <td>Anvers</td>\n",
              "      <td>Biscoe</td>\n",
              "      <td>Adult, 1 Egg Stage</td>\n",
              "      <td>N39A2</td>\n",
              "      <td>Yes</td>\n",
              "      <td>11/22/09</td>\n",
              "      <td>50.4</td>\n",
              "      <td>15.7</td>\n",
              "      <td>222.0</td>\n",
              "      <td>5750.0</td>\n",
              "      <td>MALE</td>\n",
              "      <td>8.30166</td>\n",
              "      <td>-26.04117</td>\n",
              "      <td>NaN</td>\n",
              "    </tr>\n",
              "    <tr>\n",
              "      <th>342</th>\n",
              "      <td>PAL0910</td>\n",
              "      <td>123</td>\n",
              "      <td>Gentoo penguin (Pygoscelis papua)</td>\n",
              "      <td>Anvers</td>\n",
              "      <td>Biscoe</td>\n",
              "      <td>Adult, 1 Egg Stage</td>\n",
              "      <td>N43A1</td>\n",
              "      <td>Yes</td>\n",
              "      <td>11/22/09</td>\n",
              "      <td>45.2</td>\n",
              "      <td>14.8</td>\n",
              "      <td>212.0</td>\n",
              "      <td>5200.0</td>\n",
              "      <td>FEMALE</td>\n",
              "      <td>8.24246</td>\n",
              "      <td>-26.11969</td>\n",
              "      <td>NaN</td>\n",
              "    </tr>\n",
              "    <tr>\n",
              "      <th>343</th>\n",
              "      <td>PAL0910</td>\n",
              "      <td>124</td>\n",
              "      <td>Gentoo penguin (Pygoscelis papua)</td>\n",
              "      <td>Anvers</td>\n",
              "      <td>Biscoe</td>\n",
              "      <td>Adult, 1 Egg Stage</td>\n",
              "      <td>N43A2</td>\n",
              "      <td>Yes</td>\n",
              "      <td>11/22/09</td>\n",
              "      <td>49.9</td>\n",
              "      <td>16.1</td>\n",
              "      <td>213.0</td>\n",
              "      <td>5400.0</td>\n",
              "      <td>MALE</td>\n",
              "      <td>8.36390</td>\n",
              "      <td>-26.15531</td>\n",
              "      <td>NaN</td>\n",
              "    </tr>\n",
              "  </tbody>\n",
              "</table>\n",
              "<p>344 rows × 17 columns</p>\n",
              "</div>"
            ],
            "text/plain": [
              "    studyName  Sample Number                              Species  Region  \\\n",
              "0     PAL0708              1  Adelie Penguin (Pygoscelis adeliae)  Anvers   \n",
              "1     PAL0708              2  Adelie Penguin (Pygoscelis adeliae)  Anvers   \n",
              "2     PAL0708              3  Adelie Penguin (Pygoscelis adeliae)  Anvers   \n",
              "3     PAL0708              4  Adelie Penguin (Pygoscelis adeliae)  Anvers   \n",
              "4     PAL0708              5  Adelie Penguin (Pygoscelis adeliae)  Anvers   \n",
              "..        ...            ...                                  ...     ...   \n",
              "339   PAL0910            120    Gentoo penguin (Pygoscelis papua)  Anvers   \n",
              "340   PAL0910            121    Gentoo penguin (Pygoscelis papua)  Anvers   \n",
              "341   PAL0910            122    Gentoo penguin (Pygoscelis papua)  Anvers   \n",
              "342   PAL0910            123    Gentoo penguin (Pygoscelis papua)  Anvers   \n",
              "343   PAL0910            124    Gentoo penguin (Pygoscelis papua)  Anvers   \n",
              "\n",
              "        Island               Stage Individual ID Clutch Completion  Date Egg  \\\n",
              "0    Torgersen  Adult, 1 Egg Stage          N1A1               Yes  11/11/07   \n",
              "1    Torgersen  Adult, 1 Egg Stage          N1A2               Yes  11/11/07   \n",
              "2    Torgersen  Adult, 1 Egg Stage          N2A1               Yes  11/16/07   \n",
              "3    Torgersen  Adult, 1 Egg Stage          N2A2               Yes  11/16/07   \n",
              "4    Torgersen  Adult, 1 Egg Stage          N3A1               Yes  11/16/07   \n",
              "..         ...                 ...           ...               ...       ...   \n",
              "339     Biscoe  Adult, 1 Egg Stage         N38A2                No   12/1/09   \n",
              "340     Biscoe  Adult, 1 Egg Stage         N39A1               Yes  11/22/09   \n",
              "341     Biscoe  Adult, 1 Egg Stage         N39A2               Yes  11/22/09   \n",
              "342     Biscoe  Adult, 1 Egg Stage         N43A1               Yes  11/22/09   \n",
              "343     Biscoe  Adult, 1 Egg Stage         N43A2               Yes  11/22/09   \n",
              "\n",
              "     Culmen Length (mm)  Culmen Depth (mm)  Flipper Length (mm)  \\\n",
              "0                  39.1               18.7                181.0   \n",
              "1                  39.5               17.4                186.0   \n",
              "2                  40.3               18.0                195.0   \n",
              "3                   NaN                NaN                  NaN   \n",
              "4                  36.7               19.3                193.0   \n",
              "..                  ...                ...                  ...   \n",
              "339                 NaN                NaN                  NaN   \n",
              "340                46.8               14.3                215.0   \n",
              "341                50.4               15.7                222.0   \n",
              "342                45.2               14.8                212.0   \n",
              "343                49.9               16.1                213.0   \n",
              "\n",
              "     Body Mass (g)     Sex  Delta 15 N (o/oo)  Delta 13 C (o/oo)  \\\n",
              "0           3750.0    MALE                NaN                NaN   \n",
              "1           3800.0  FEMALE            8.94956          -24.69454   \n",
              "2           3250.0  FEMALE            8.36821          -25.33302   \n",
              "3              NaN     NaN                NaN                NaN   \n",
              "4           3450.0  FEMALE            8.76651          -25.32426   \n",
              "..             ...     ...                ...                ...   \n",
              "339            NaN     NaN                NaN                NaN   \n",
              "340         4850.0  FEMALE            8.41151          -26.13832   \n",
              "341         5750.0    MALE            8.30166          -26.04117   \n",
              "342         5200.0  FEMALE            8.24246          -26.11969   \n",
              "343         5400.0    MALE            8.36390          -26.15531   \n",
              "\n",
              "                           Comments  \n",
              "0    Not enough blood for isotopes.  \n",
              "1                               NaN  \n",
              "2                               NaN  \n",
              "3                Adult not sampled.  \n",
              "4                               NaN  \n",
              "..                              ...  \n",
              "339                             NaN  \n",
              "340                             NaN  \n",
              "341                             NaN  \n",
              "342                             NaN  \n",
              "343                             NaN  \n",
              "\n",
              "[344 rows x 17 columns]"
            ]
          },
          "execution_count": 3,
          "metadata": {},
          "output_type": "execute_result"
        }
      ],
      "source": [
        "df_pingu = pd.read_csv(r\"C:\\Users\\Equipo 1\\Downloads\\datasets\\penguins_lter.csv\")\n",
        "df_pingu"
      ]
    },
    {
      "cell_type": "markdown",
      "metadata": {},
      "source": [
        "# ScaleStandar"
      ]
    },
    {
      "cell_type": "code",
      "execution_count": 46,
      "metadata": {},
      "outputs": [
        {
          "data": {
            "text/plain": [
              "Island\n",
              "Biscoe       168\n",
              "Dream        124\n",
              "Torgersen     52\n",
              "Name: count, dtype: int64"
            ]
          },
          "execution_count": 46,
          "metadata": {},
          "output_type": "execute_result"
        }
      ],
      "source": [
        "#1. Indica qué valores categóricos están en la columna `Island` e indica cuántas veces aparecen.\n",
        "df_pingu['Island'].value_counts()"
      ]
    },
    {
      "cell_type": "code",
      "execution_count": 68,
      "metadata": {},
      "outputs": [
        {
          "name": "stdout",
          "output_type": "stream",
          "text": [
            "<class 'pandas.core.frame.DataFrame'>\n",
            "RangeIndex: 344 entries, 0 to 343\n",
            "Data columns (total 17 columns):\n",
            " #   Column               Non-Null Count  Dtype  \n",
            "---  ------               --------------  -----  \n",
            " 0   studyName            344 non-null    object \n",
            " 1   Sample Number        344 non-null    int64  \n",
            " 2   Species              344 non-null    object \n",
            " 3   Region               344 non-null    object \n",
            " 4   Island               344 non-null    object \n",
            " 5   Stage                344 non-null    object \n",
            " 6   Individual ID        344 non-null    object \n",
            " 7   Clutch Completion    344 non-null    object \n",
            " 8   Date Egg             344 non-null    object \n",
            " 9   Culmen Length (mm)   342 non-null    float64\n",
            " 10  Culmen Depth (mm)    342 non-null    float64\n",
            " 11  Flipper Length (mm)  342 non-null    float64\n",
            " 12  Body Mass (g)        342 non-null    float64\n",
            " 13  Sex                  334 non-null    object \n",
            " 14  Delta 15 N (o/oo)    330 non-null    float64\n",
            " 15  Delta 13 C (o/oo)    331 non-null    float64\n",
            " 16  Comments             26 non-null     object \n",
            "dtypes: float64(6), int64(1), object(10)\n",
            "memory usage: 45.8+ KB\n"
          ]
        }
      ],
      "source": [
        "df_pingu.info() #Hacen fala algunos datos"
      ]
    },
    {
      "cell_type": "code",
      "execution_count": 63,
      "metadata": {},
      "outputs": [
        {
          "data": {
            "text/plain": [
              "<Axes: xlabel='Body Mass (g)', ylabel='Culmen Length (mm)'>"
            ]
          },
          "execution_count": 63,
          "metadata": {},
          "output_type": "execute_result"
        },
        {
          "data": {
            "image/png": "[encoded data removed]",
            "text/plain": [
              "<Figure size 640x480 with 1 Axes>"
            ]
          },
          "metadata": {},
          "output_type": "display_data"
        }
      ],
      "source": [
        "#grafica inicial\n",
        "#creo variables\n",
        "body = df_pingu['Body Mass (g)']\n",
        "culmenl = df_pingu['Culmen Length (mm)']\n",
        "#llamo scatter\n",
        "sns.scatterplot (x=body, y=culmenl)"
      ]
    },
    {
      "cell_type": "code",
      "execution_count": 7,
      "metadata": {},
      "outputs": [
        {
          "data": {
            "text/html": [
              "<div>\n",
              "<style scoped>\n",
              "    .dataframe tbody tr th:only-of-type {\n",
              "        vertical-align: middle;\n",
              "    }\n",
              "\n",
              "    .dataframe tbody tr th {\n",
              "        vertical-align: top;\n",
              "    }\n",
              "\n",
              "    .dataframe thead th {\n",
              "        text-align: right;\n",
              "    }\n",
              "</style>\n",
              "<table border=\"1\" class=\"dataframe\">\n",
              "  <thead>\n",
              "    <tr style=\"text-align: right;\">\n",
              "      <th></th>\n",
              "      <th>Body Mass (g)</th>\n",
              "      <th>Culmen Length (mm)</th>\n",
              "    </tr>\n",
              "  </thead>\n",
              "  <tbody>\n",
              "    <tr>\n",
              "      <th>0</th>\n",
              "      <td>-0.564142</td>\n",
              "      <td>-0.884499</td>\n",
              "    </tr>\n",
              "    <tr>\n",
              "      <th>1</th>\n",
              "      <td>-0.501703</td>\n",
              "      <td>-0.811126</td>\n",
              "    </tr>\n",
              "    <tr>\n",
              "      <th>2</th>\n",
              "      <td>-1.188532</td>\n",
              "      <td>-0.664380</td>\n",
              "    </tr>\n",
              "    <tr>\n",
              "      <th>3</th>\n",
              "      <td>NaN</td>\n",
              "      <td>NaN</td>\n",
              "    </tr>\n",
              "    <tr>\n",
              "      <th>4</th>\n",
              "      <td>-0.938776</td>\n",
              "      <td>-1.324737</td>\n",
              "    </tr>\n",
              "    <tr>\n",
              "      <th>...</th>\n",
              "      <td>...</td>\n",
              "      <td>...</td>\n",
              "    </tr>\n",
              "    <tr>\n",
              "      <th>339</th>\n",
              "      <td>NaN</td>\n",
              "      <td>NaN</td>\n",
              "    </tr>\n",
              "    <tr>\n",
              "      <th>340</th>\n",
              "      <td>0.809516</td>\n",
              "      <td>0.527932</td>\n",
              "    </tr>\n",
              "    <tr>\n",
              "      <th>341</th>\n",
              "      <td>1.933419</td>\n",
              "      <td>1.188289</td>\n",
              "    </tr>\n",
              "    <tr>\n",
              "      <th>342</th>\n",
              "      <td>1.246590</td>\n",
              "      <td>0.234440</td>\n",
              "    </tr>\n",
              "    <tr>\n",
              "      <th>343</th>\n",
              "      <td>1.496346</td>\n",
              "      <td>1.096572</td>\n",
              "    </tr>\n",
              "  </tbody>\n",
              "</table>\n",
              "<p>344 rows × 2 columns</p>\n",
              "</div>"
            ],
            "text/plain": [
              "     Body Mass (g)  Culmen Length (mm)\n",
              "0        -0.564142           -0.884499\n",
              "1        -0.501703           -0.811126\n",
              "2        -1.188532           -0.664380\n",
              "3              NaN                 NaN\n",
              "4        -0.938776           -1.324737\n",
              "..             ...                 ...\n",
              "339            NaN                 NaN\n",
              "340       0.809516            0.527932\n",
              "341       1.933419            1.188289\n",
              "342       1.246590            0.234440\n",
              "343       1.496346            1.096572\n",
              "\n",
              "[344 rows x 2 columns]"
            ]
          },
          "execution_count": 7,
          "metadata": {},
          "output_type": "execute_result"
        }
      ],
      "source": [
        "#creé un nuevo df con sólo las colujmnas que se usarán \n",
        "nuevo_df = df_pingu[['Body Mass (g)','Culmen Length (mm)']]\n",
        "nuevo_df"
      ]
    },
    {
      "cell_type": "code",
      "execution_count": 8,
      "metadata": {},
      "outputs": [
        {
          "data": {
            "text/html": [
              "<div>\n",
              "<style scoped>\n",
              "    .dataframe tbody tr th:only-of-type {\n",
              "        vertical-align: middle;\n",
              "    }\n",
              "\n",
              "    .dataframe tbody tr th {\n",
              "        vertical-align: top;\n",
              "    }\n",
              "\n",
              "    .dataframe thead th {\n",
              "        text-align: right;\n",
              "    }\n",
              "</style>\n",
              "<table border=\"1\" class=\"dataframe\">\n",
              "  <thead>\n",
              "    <tr style=\"text-align: right;\">\n",
              "      <th></th>\n",
              "      <th>0</th>\n",
              "      <th>1</th>\n",
              "    </tr>\n",
              "  </thead>\n",
              "  <tbody>\n",
              "    <tr>\n",
              "      <th>0</th>\n",
              "      <td>-0.564142</td>\n",
              "      <td>-0.884499</td>\n",
              "    </tr>\n",
              "    <tr>\n",
              "      <th>1</th>\n",
              "      <td>-0.501703</td>\n",
              "      <td>-0.811126</td>\n",
              "    </tr>\n",
              "    <tr>\n",
              "      <th>2</th>\n",
              "      <td>-1.188532</td>\n",
              "      <td>-0.664380</td>\n",
              "    </tr>\n",
              "    <tr>\n",
              "      <th>3</th>\n",
              "      <td>NaN</td>\n",
              "      <td>NaN</td>\n",
              "    </tr>\n",
              "    <tr>\n",
              "      <th>4</th>\n",
              "      <td>-0.938776</td>\n",
              "      <td>-1.324737</td>\n",
              "    </tr>\n",
              "    <tr>\n",
              "      <th>...</th>\n",
              "      <td>...</td>\n",
              "      <td>...</td>\n",
              "    </tr>\n",
              "    <tr>\n",
              "      <th>339</th>\n",
              "      <td>NaN</td>\n",
              "      <td>NaN</td>\n",
              "    </tr>\n",
              "    <tr>\n",
              "      <th>340</th>\n",
              "      <td>0.809516</td>\n",
              "      <td>0.527932</td>\n",
              "    </tr>\n",
              "    <tr>\n",
              "      <th>341</th>\n",
              "      <td>1.933419</td>\n",
              "      <td>1.188289</td>\n",
              "    </tr>\n",
              "    <tr>\n",
              "      <th>342</th>\n",
              "      <td>1.246590</td>\n",
              "      <td>0.234440</td>\n",
              "    </tr>\n",
              "    <tr>\n",
              "      <th>343</th>\n",
              "      <td>1.496346</td>\n",
              "      <td>1.096572</td>\n",
              "    </tr>\n",
              "  </tbody>\n",
              "</table>\n",
              "<p>344 rows × 2 columns</p>\n",
              "</div>"
            ],
            "text/plain": [
              "            0         1\n",
              "0   -0.564142 -0.884499\n",
              "1   -0.501703 -0.811126\n",
              "2   -1.188532 -0.664380\n",
              "3         NaN       NaN\n",
              "4   -0.938776 -1.324737\n",
              "..        ...       ...\n",
              "339       NaN       NaN\n",
              "340  0.809516  0.527932\n",
              "341  1.933419  1.188289\n",
              "342  1.246590  0.234440\n",
              "343  1.496346  1.096572\n",
              "\n",
              "[344 rows x 2 columns]"
            ]
          },
          "execution_count": 8,
          "metadata": {},
          "output_type": "execute_result"
        }
      ],
      "source": [
        "#Aplicamos la clase\n",
        "escalar = StandardScaler()\n",
        "scale = escalar.fit_transform(nuevo_df)\n",
        "\n",
        "#Llamamos al escalado\n",
        "df_trans = pd.DataFrame(scale)\n",
        "df_trans"
      ]
    },
    {
      "cell_type": "code",
      "execution_count": 11,
      "metadata": {},
      "outputs": [
        {
          "data": {
            "text/plain": [
              "<Axes: xlabel='0', ylabel='1'>"
            ]
          },
          "execution_count": 11,
          "metadata": {},
          "output_type": "execute_result"
        },
        {
          "data": {
            "image/png": "[encoded data removed]",
            "text/plain": [
              "<Figure size 640x480 with 1 Axes>"
            ]
          },
          "metadata": {},
          "output_type": "display_data"
        }
      ],
      "source": [
        "sns.scatterplot( x= df_trans[0], y= df_trans[1])"
      ]
    },
    {
      "cell_type": "markdown",
      "metadata": {},
      "source": [
        "# MinMaxScale"
      ]
    },
    {
      "cell_type": "markdown",
      "metadata": {},
      "source": [
        "# Etiquetado de datos"
      ]
    },
    {
      "cell_type": "markdown",
      "metadata": {},
      "source": [
        "Label Encoder - Hace un índice distinto para cada categoría\n",
        "\n",
        "One Hot Encoder - entidades binarias, cierto o falso"
      ]
    },
    {
      "cell_type": "code",
      "execution_count": null,
      "metadata": {},
      "outputs": [],
      "source": [
        "#Importaciones\n",
        "\n"
      ]
    },
    {
      "cell_type": "code",
      "execution_count": null,
      "metadata": {},
      "outputs": [],
      "source": [
        "#Creamos un objeto clase  LabelEncoder\n",
        "le = LabelEncoder()"
      ]
    },
    {
      "cell_type": "code",
      "execution_count": null,
      "metadata": {},
      "outputs": [],
      "source": [
        "#Etiquetamos los valores de la columna 'Nombre'\n",
        "#df_beers['Nombre'].unique()\n",
        "#df_beers['Nombre].nunique()\n",
        "#df_beers['Nombre'].value_counts()\n"
      ]
    },
    {
      "cell_type": "code",
      "execution_count": null,
      "metadata": {},
      "outputs": [],
      "source": [
        "#Etiquetamos\n",
        "#df_beers['Nombre] = le.fit_transform(df_beers['Nombre'])"
      ]
    }
  ],
  "metadata": {
    "colab": {
      "provenance": []
    },
    "kernelspec": {
      "display_name": "Python 3",
      "name": "python3"
    },
    "language_info": {
      "codemirror_mode": {
        "name": "ipython",
        "version": 3
      },
      "file_extension": ".py",
      "mimetype": "text/x-python",
      "name": "python",
      "nbconvert_exporter": "python",
      "pygments_lexer": "ipython3",
      "version": "3.11.6"
    }
  },
  "nbformat": 4,
  "nbformat_minor": 0
}
