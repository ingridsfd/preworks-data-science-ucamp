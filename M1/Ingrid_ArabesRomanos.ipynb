{
 "cells": [
  {
   "cell_type": "markdown",
   "metadata": {},
   "source": [
    "# Ejemplo de nuestras propias funciones"
   ]
  },
  {
   "cell_type": "markdown",
   "metadata": {},
   "source": [
    "# Solución de Aldemar"
   ]
  },
  {
   "cell_type": "code",
   "execution_count": 1,
   "metadata": {},
   "outputs": [],
   "source": [
    "DNum_Romanos = {'I': 1,'V': 5,'X': 10,'L': 50,'C': 100,'D': 500,'M': 1000}\n",
    "num = input(\"Ingresa un número romano: \")\n",
    "num_arabico = 0\n",
    "vcalculo_sig = 0\n",
    "\n",
    "for i in reversed(num):\n",
    "    calculo = DNum_Romanos[i]\n",
    "    if calculo < vcalculo_sig:\n",
    "        num_arabico -= calculo\n",
    "    else:\n",
    "        num_arabico +=calculo\n",
    "    vcalculo_sig = calculo\n",
    "print(num, + num_arabico)"
   ]
  },
  {
   "cell_type": "markdown",
   "metadata": {},
   "source": [
    "### Con la función help encontramos la documentación de la función"
   ]
  },
  {
   "cell_type": "code",
   "execution_count": null,
   "metadata": {},
   "outputs": [
    {
     "name": "stdout",
     "output_type": "stream",
     "text": [
      "Help on function mult_vec in module __main__:\n",
      "\n",
      "mult_vec(lista, escalar)\n",
      "    edta función recibe como parametros una lista y un escalar\n",
      "    primero es la lista y luego el escalar\n",
      "\n",
      "None\n"
     ]
    }
   ],
   "source": [
    "print(help(mult_vec))"
   ]
  },
  {
   "cell_type": "code",
   "execution_count": 15,
   "metadata": {},
   "outputs": [],
   "source": [
    "def suma (numero1, numero2):\n",
    "    total = numero1 + numero2\n",
    "    return total\n",
    "\n",
    "def mult_vec (lista, escalar):\n",
    "    \"\"\"\n",
    "    edta función recibe como parametros una lista y un escalar\n",
    "    primero es la lista y luego el escalar\n",
    "    \"\"\"\n",
    "    lista_n = []\n",
    "    for i in lista:\n",
    "        lista_n.append(i * escalar)\n",
    "\n",
    "    return lista_n"
   ]
  },
  {
   "cell_type": "markdown",
   "metadata": {},
   "source": [
    "### Con la función help encontramos la documentación de la función"
   ]
  },
  {
   "cell_type": "code",
   "execution_count": 16,
   "metadata": {},
   "outputs": [
    {
     "name": "stdout",
     "output_type": "stream",
     "text": [
      "Help on function mult_vec in module __main__:\n",
      "\n",
      "mult_vec(lista, escalar)\n",
      "    edta función recibe como parametros una lista y un escalar\n",
      "    primero es la lista y luego el escalar\n",
      "\n",
      "None\n"
     ]
    }
   ],
   "source": [
    "print(help(mult_vec))"
   ]
  },
  {
   "cell_type": "markdown",
   "metadata": {},
   "source": [
    "# Primer intento de hacer un programa que convierta números arábigos a romanos"
   ]
  },
  {
   "cell_type": "code",
   "execution_count": 10,
   "metadata": {},
   "outputs": [
    {
     "data": {
      "text/plain": [
       "'V'"
      ]
     },
     "execution_count": 10,
     "metadata": {},
     "output_type": "execute_result"
    }
   ],
   "source": [
    "def arab_roman (numero_arabe):\n",
    "    \n",
    "    lista_romanos = ['I', 'II', 'III', 'IV', 'V', 'VI', 'VII', 'VIII', 'IX', 'X']\n",
    "    lista_arabes = [1, 2, 3, 4, 5, 6, 7, 8, 9, 10]\n",
    "\n",
    "    indice = lista_arabes.index(numero_arabe)\n",
    "    romano = lista_romanos[indice]\n",
    "    return romano\n",
    "\n",
    "arab_roman(5)"
   ]
  },
  {
   "cell_type": "markdown",
   "metadata": {},
   "source": [
    "# Función que convierte un número arábigo a romano más completa"
   ]
  },
  {
   "cell_type": "code",
   "execution_count": 17,
   "metadata": {},
   "outputs": [
    {
     "name": "stdout",
     "output_type": "stream",
     "text": [
      "El numero 305 en números romanos es CCCV\n"
     ]
    }
   ],
   "source": [
    "def conversor (numero_arabe):\n",
    "    \"\"\"\n",
    "    Función que convierte árabes en romanos\n",
    "    \"\"\"\n",
    "    numero_inicial = numero_arabe\n",
    "    romano = ''\n",
    "    lista_romanos = ['M', 'CM', 'D', 'CD', 'C', 'XC', 'L', 'XL', 'X', 'IX', 'V', 'IV', 'I']\n",
    "    lista_arabes = [1000, 900, 500, 400, 100, 90, 50, 40, 10, 9, 5, 4, 1]\n",
    "    for i in  lista_arabes:\n",
    "        while numero_arabe - i >= 0:\n",
    "            numero_arabe = numero_arabe - i\n",
    "            romano += lista_romanos[lista_arabes.index(i)]\n",
    "    print(f'El numero {numero_inicial} en números romanos es {romano}')\n",
    "\n",
    "arabe = 305\n",
    "\n",
    "conversor(arabe)\n"
   ]
  },
  {
   "cell_type": "markdown",
   "metadata": {},
   "source": [
    "# Función que convierte de números romanos a arábigos"
   ]
  },
  {
   "cell_type": "code",
   "execution_count": 11,
   "metadata": {},
   "outputs": [
    {
     "name": "stdout",
     "output_type": "stream",
     "text": [
      "El número romano CM en números árabes es 900\n"
     ]
    }
   ],
   "source": [
    "def conversor_romano_a_arabe(romano):\n",
    "    \"\"\"\n",
    "    Función que convierte números romanos en árabes\n",
    "    \"\"\"\n",
    "    #1. Definimos los output considerando que al final tendrá que haber una conversión usando una función de la librería de Numpy\n",
    "    romano = romano.upper()\n",
    "    numero_arabe = 0\n",
    "    #2. Definimos las listas de arrays que contienen los datos de información\n",
    "    lista_romanos = ['M', 'CM', 'D', 'CD', 'C', 'XC', 'L', 'XL', 'X', 'IX', 'V', 'IV', 'I']\n",
    "    lista_arabes = [1000, 900, 500, 400, 100, 90, 50, 40, 10, 9, 5, 4, 1]\n",
    "    #3. Inicializamos un ciclo while \n",
    "    #4. Esto para usar la declaración de len y recorra el largo del array que llamamos 'romano'\n",
    "    i = 0\n",
    "    while i < len(romano):\n",
    "        if romano[i:i+2] in lista_romanos and i+1 < len(romano):\n",
    "            #5. dentro de la lista romanos le decimos que recorra el largo del dato\n",
    "            numero_arabe += lista_arabes[lista_romanos.index(romano[i:i+2])]\n",
    "            i += 2\n",
    "            #6. Aquí se le indica que coincida con los datos de la lista árabe\n",
    "        else:\n",
    "            #7. De lo contrario, retorna error porque no encuentra el número árabe en el romano\n",
    "            numero_arabe += lista_arabes[lista_romanos.index(romano[i])]\n",
    "            i += 1\n",
    "    #8. Al final le decimos que regrese el número árabe\n",
    "    return numero_arabe\n",
    "\n",
    "#9. Preparamos e imprimimos\n",
    "romano = 'CM'\n",
    "arabe = conversor_romano_a_arabe(romano)\n",
    "print(f'El número romano {romano} en números árabes es {arabe}')\n"
   ]
  },
  {
   "cell_type": "markdown",
   "metadata": {},
   "source": [
    "### Aquí haremos un programa para identificar números primos"
   ]
  },
  {
   "cell_type": "code",
   "execution_count": 1,
   "metadata": {},
   "outputs": [
    {
     "name": "stdout",
     "output_type": "stream",
     "text": [
      "[2, 3, 5, 7]\n"
     ]
    }
   ],
   "source": [
    "# Programa para crear una lista de números primos dentro de un límite\n",
    "\n",
    "def primos(limite):\n",
    "    \"\"\"\n",
    "    Función que crea una lista de números primos\n",
    "    \"\"\"\n",
    "    lista_primos = []\n",
    "    for numero in range(2, limite+1):\n",
    "        for i in range(2, numero):\n",
    "            if numero % i == 0:\n",
    "                break\n",
    "        else:\n",
    "            lista_primos.append(numero)\n",
    "    print(lista_primos)\n",
    "\n",
    "\n"
   ]
  },
  {
   "cell_type": "code",
   "execution_count": 13,
   "metadata": {},
   "outputs": [
    {
     "name": "stdout",
     "output_type": "stream",
     "text": [
      "[1, 7, 11, 77]\n"
     ]
    }
   ],
   "source": [
    "# Imprime los divisores enteros de un número\n",
    "\n",
    "def divisores(numero):\n",
    "    \"\"\"\n",
    "    Función que imprime los divisores enteros de un número\n",
    "    \"\"\"\n",
    "    lista_divisores = []\n",
    "    for i in range(1, numero+1):\n",
    "        if numero % i == 0:\n",
    "            lista_divisores.append(i)\n",
    "    print(lista_divisores)\n",
    "\n",
    "divisores(77)"
   ]
  }
 ],
 "metadata": {
  "kernelspec": {
   "display_name": "Python 3.10.5 64-bit",
   "language": "python",
   "name": "python3"
  },
  "language_info": {
   "codemirror_mode": {
    "name": "ipython",
    "version": 3
   },
   "file_extension": ".py",
   "mimetype": "text/x-python",
   "name": "python",
   "nbconvert_exporter": "python",
   "pygments_lexer": "ipython3",
   "version": "3.11.5"
  },
  "orig_nbformat": 4,
  "vscode": {
   "interpreter": {
    "hash": "0d830e5c98bdc25649d1b26e94a831cc682cd6e01876145782bda3d0ef30a30a"
   }
  }
 },
 "nbformat": 4,
 "nbformat_minor": 2
}
