{
  "cells": [
    {
      "cell_type": "markdown",
      "metadata": {
        "id": "nFpsPfl5wlmO"
      },
      "source": [
        "# **Bootcamp Ciencia de Datos e Inteligencia Artificial**\n",
        "# **Módulo 1. Fundamentos de Data Science**\n",
        "## **1. Programación en Python**\n",
        "\n",
        "¡Te damos la bienvenida al Bootcamp de Data Science e Inteligencia Artificial!\n",
        "\n",
        "Para iniciar este camino, es fundamental que sepas que este Bootcamp está diseñado especialmente para personas que tienen un gran interés y motivación para dominar las herramientas necesarias para desenvolverse en el campo laboral de la ciencia de datos. Esperamos que cada escalón sea disfrutable y te permita aprender a resolver cualquier problemática de analíticos avanzados.\n",
        "\n",
        "El objetivo de esta semana es comprender la lógica de la programación en Python, a fin de usar sus bases de la mejor manera durante las siguientes semanas.\n",
        "\n",
        "¡Comencemos!"
      ]
    },
    {
      "cell_type": "markdown",
      "metadata": {
        "id": "rH_c5PawXBD_"
      },
      "source": [
        "## *1.1 Lenguaje Python*\n",
        "\n",
        "**Python** es un lenguaje de programación que se ocupa en una gran variedad de áreas, debido a su versatilidad y al soporte que tiene por parte de una comunidad de programadores de todo el mundo; además, si se comprende su lógica de programación, es más sencillo de aprender que otros lenguajes.\n",
        "\n",
        "Si quieres revisar algunas de las ventajas de este lenguaje, consulta el artículo *How Python became the language for data science*, publicado en el Data Science Central: (https://www.datasciencecentral.com/how-python-became-the-language-for-data-science/)\n",
        "\n",
        "A Python se le deben dar instrucciones de operación, las cuales, en los lenguajes de programación, se llaman *declaraciones*.\n",
        "\n",
        "Veamos un ejemplo de cómo funciona el lenguaje de Python. Usaremos una declaración muy sencilla, llamada `print`, la cual muestra en la pantalla un texto. Observa lo siguiente:"
      ]
    },
    {
      "cell_type": "code",
      "execution_count": 5,
      "metadata": {
        "colab": {
          "base_uri": "https://localhost:8080/"
        },
        "id": "wetlTw9Dw1ss",
        "outputId": "37e11ead-dbf2-4844-9388-37033e42fd77"
      },
      "outputs": [
        {
          "name": "stdout",
          "output_type": "stream",
          "text": [
            "Hola Mundo\n"
          ]
        }
      ],
      "source": [
        "print('Hola Mundo')"
      ]
    },
    {
      "cell_type": "markdown",
      "metadata": {
        "id": "tqBFbu3uxBFB"
      },
      "source": [
        "Si ejecutas la línea de arriba, verás en la pantalla `Hola mundo`. La estructura de esa declaración se puede analizar paso a paso.\n",
        "\n",
        "1. La palabra `print` al inicio.\n",
        "2. Inmediatamente después de la palabra `print`, sin dejar espacios, se coloca un paréntesis de apertura `(`.\n",
        "3. Ya sea entre comillas dobles (`“texto\"`) o simples (`‘texto'`), se ingresa un texto que, en Python, es conocido como **cadena**, **cadena de texto** o **string**.\n",
        "4. Por último, se coloca un paréntesis de cierre `)`."
      ]
    },
    {
      "cell_type": "markdown",
      "metadata": {
        "id": "xBdnDuC9xE0A"
      },
      "source": [
        "Al respecto, es importante definir una de las primeras y más importantes reglas de Python: por cada paréntesis de apertura `(` debe haber uno de cierre `)`, es decir, jamás deberá faltar alguno de los dos.\n",
        "\n",
        "Ahora que iniciamos con Python, veremos los distintos tipos de datos."
      ]
    },
    {
      "cell_type": "markdown",
      "metadata": {
        "id": "4IKpBTOtHd-S"
      },
      "source": [
        "##### Ponte a prueba\n",
        "Escribe un saludo usando la declaración `print`; es muy sencillo."
      ]
    },
    {
      "cell_type": "code",
      "execution_count": 6,
      "metadata": {
        "colab": {
          "base_uri": "https://localhost:8080/"
        },
        "id": "wjajA8RPHqFN",
        "outputId": "bee1b936-0b93-46a5-e0f5-58c2feaabf10"
      },
      "outputs": [
        {
          "name": "stdout",
          "output_type": "stream",
          "text": [
            "Hola Fati\n"
          ]
        }
      ],
      "source": [
        "print ('Hola Fati')"
      ]
    },
    {
      "cell_type": "markdown",
      "metadata": {
        "id": "17KAcyk8xHwd"
      },
      "source": [
        "## *1.2 Datos Numéricos*\n",
        "En **Python**, así como en otros lenguajes de programación, los números permiten hacer operaciones matemáticas y funciones muy específicas por la naturaleza de este tipo de información, así como distintos \"tipos de números\". A continuación, podremos ver algunas cosas que es posible hacer con estos datos y algunas de sus características.\n"
      ]
    },
    {
      "cell_type": "markdown",
      "metadata": {
        "id": "sYtVA72hX_CC"
      },
      "source": [
        "### 1.2.1 Operaciones básicas\n",
        "\n",
        "En **Python**, es posible hacer operaciones sencillas; ejemplo de ello es que puedes hacer programas como los siguientes:"
      ]
    },
    {
      "cell_type": "code",
      "execution_count": 7,
      "metadata": {
        "colab": {
          "base_uri": "https://localhost:8080/"
        },
        "id": "jvcyC4hkxM02",
        "outputId": "8c65fb8b-1e4c-4f2b-85b4-83c1b72e4315"
      },
      "outputs": [
        {
          "name": "stdout",
          "output_type": "stream",
          "text": [
            "8\n",
            "6\n",
            "9\n"
          ]
        }
      ],
      "source": [
        "print(3 + 5)\n",
        "print(8 - 2)\n",
        "print(7 + 5 - 3)"
      ]
    },
    {
      "cell_type": "markdown",
      "metadata": {
        "id": "c_ZPReIkxKlD"
      },
      "source": [
        "Con base en lo anterior, veremos que el signo `+` es interpretado por Python como una suma, y el signo `-`, como una resta. Además, se puede multiplicar con el caracter `*` y dividir con la barra `/`; ejemplo de lo anterior son los siguientes códigos:"
      ]
    },
    {
      "cell_type": "code",
      "execution_count": 8,
      "metadata": {
        "colab": {
          "base_uri": "https://localhost:8080/"
        },
        "id": "YvMEPLMDxUBA",
        "outputId": "7c47d558-bf27-4716-a1d4-846a839e27a8"
      },
      "outputs": [
        {
          "name": "stdout",
          "output_type": "stream",
          "text": [
            "30\n",
            "19\n",
            "3.0\n"
          ]
        }
      ],
      "source": [
        "print(5 * 6)\n",
        "print(4 + (3 * 5))\n",
        "print(12 / 4)"
      ]
    },
    {
      "cell_type": "markdown",
      "metadata": {
        "id": "s1FFs8GzxXPa"
      },
      "source": [
        "Quizá te preguntes ¿por qué el último resultado fue `3.0` y no solo `3`? Esto se debe a que en Python las divisiones siempre son flotantes. A continuación se explicarán los dos «tipos de números» que existen:"
      ]
    },
    {
      "cell_type": "markdown",
      "metadata": {
        "id": "ISMrv1wixdtg"
      },
      "source": [
        "> Los números **enteros** o **integers** son los que se usan con más frecuencia en el lenguaje de la programación. Como su nombre lo indica, son números enteros, es decir, se ignora cualquier valor que aparece después de un punto decimal. Ejemplos: 4, 8, 0, -1.\n",
        ">\n",
        "> Los números **flotantes** o **float** se consideran decimales. Ejemplos: 0.5, 10.75, 3.74925762, 2.0.\n",
        "\n",
        "En ambos casos es común usar sus nombres en inglés."
      ]
    },
    {
      "cell_type": "markdown",
      "metadata": {
        "id": "FOD8WgcBxily"
      },
      "source": [
        "No solo la división genera un número flotante como consecuencia de usar un número entero sobre otro entero, sino también la suma, la resta y la multiplicación, pues, por lo menos, uno de esos números es flotante también.\n",
        "\n",
        "Veamos un ejemplo de lo anterior:"
      ]
    },
    {
      "cell_type": "code",
      "execution_count": 9,
      "metadata": {
        "colab": {
          "base_uri": "https://localhost:8080/"
        },
        "id": "mxDz1KTsxaKw",
        "outputId": "9a8ce06c-ec75-46d8-952e-e1fa5c509459"
      },
      "outputs": [
        {
          "name": "stdout",
          "output_type": "stream",
          "text": [
            "9.0\n",
            "30.0\n",
            "30\n",
            "3.0\n"
          ]
        }
      ],
      "source": [
        "print(5.0 + 4)\n",
        "print(10.0 * 3.0)\n",
        "print(10 * 3)\n",
        "print(15 / 5)"
      ]
    },
    {
      "cell_type": "markdown",
      "metadata": {
        "id": "BqZw8u2FxqIg"
      },
      "source": [
        "- En el primer ejemplo, debido a que se sumó un **flotante** y un **entero**, el resultado es un **flotante**.\n",
        "- En el segundo ejemplo, se multiplican dos **flotantes**, por lo que el resultado es un **flotante**.\n",
        "- En el tercer ejemplo, solo se están multiplicando **enteros**, y debido a que ninguno es **flotante**, el resultado seguirá siendo un **entero**.\n",
        "- En el último ejemplo, vemos una división de dos **enteros**, en la que ninguno es **flotante**; sin embargo, el resultado es un número **flotante**, ya que las divisiones siempre arrojarán ese tipo de datos."
      ]
    },
    {
      "cell_type": "markdown",
      "metadata": {
        "id": "-9BvWImqxscC"
      },
      "source": [
        "### 1.2.2 Exponentes y raíces cuadradas y cúbicas\n",
        "\n",
        "En **Python** no solo se puede sumar, restar, multiplicar y dividir, también se pueden colocar números como exponentes.\n",
        "\n",
        "Esto se hace con el comando doble asterisco (`**`), y, al igual que en la división, siempre regresa un valor **flotante**."
      ]
    },
    {
      "cell_type": "code",
      "execution_count": 10,
      "metadata": {
        "colab": {
          "base_uri": "https://localhost:8080/"
        },
        "id": "rMInYkaoxvNC",
        "outputId": "180585bc-79bc-48e5-8a01-0cfe1ac4c9ea"
      },
      "outputs": [
        {
          "name": "stdout",
          "output_type": "stream",
          "text": [
            "64\n"
          ]
        }
      ],
      "source": [
        "print(4**3)"
      ]
    },
    {
      "cell_type": "markdown",
      "metadata": {
        "id": "-ZcFvzLUxyP0"
      },
      "source": [
        "Lo anterior es lo mismo que indicar $4^3=64$, esto permitiría una torre de exponentes como por ejemplo $2^{3^2}$ El cual deberemos indicar como:"
      ]
    },
    {
      "cell_type": "code",
      "execution_count": 11,
      "metadata": {
        "colab": {
          "base_uri": "https://localhost:8080/"
        },
        "id": "BCgmI0fOx4FK",
        "outputId": "c5a7a502-d9b0-4400-d03b-b33e6ac3d1f2"
      },
      "outputs": [
        {
          "name": "stdout",
          "output_type": "stream",
          "text": [
            "512\n"
          ]
        }
      ],
      "source": [
        "print(2**3**2)"
      ]
    },
    {
      "cell_type": "markdown",
      "metadata": {
        "id": "jEE7LGgXx7ev"
      },
      "source": [
        "Por último existe un pequeño truco que nos permitiría conocer raíces cuadras o raíces cúbicas recordando algunas clases de álgebra:\n",
        "$$\n",
        "\\sqrt[2]{25} = 25^{\\frac{1}{2}} \\text{ Raiz cuadrada es lo mismo que }  n \\text{ elevado a   } \\frac{1}{2} \\\\\n",
        "\\sqrt[3]{64} = 25^{\\frac{1}{3}} \\text{ Raiz cúbica es lo mismo que }  n \\text{ elevado a   } \\frac{1}{3}\n",
        "$$\n",
        "Por lo que la raíz cuadrada y la raíz cúbica se expresarían así:"
      ]
    },
    {
      "cell_type": "code",
      "execution_count": 12,
      "metadata": {
        "colab": {
          "base_uri": "https://localhost:8080/"
        },
        "id": "5PoZ2p92x-aD",
        "outputId": "71a5d1a6-c936-40a8-9113-ec2502b71fe2"
      },
      "outputs": [
        {
          "name": "stdout",
          "output_type": "stream",
          "text": [
            "5.0\n",
            "3.9999999999999996\n"
          ]
        }
      ],
      "source": [
        "print(25 ** (1/2))\n",
        "print(64 ** (1/3))"
      ]
    },
    {
      "cell_type": "markdown",
      "metadata": {
        "id": "NdkbPq2wyDS6"
      },
      "source": [
        "### 1.2.3 Cociente y residuo\n",
        "\n",
        "En las operaciones básicas, hay dos comandos que son muy útiles en la programación, y ambos están relacionados con las divisiones.\n",
        "\n",
        "El **cociente** es el número entero que resulta de una división en la que no se consideran los valores decimales; por ejemplo, si hacemos la división $\\frac{22}{6}$, sabemos que el resultado es $3.66666$, pero cuando pedimos el cociente, el resultado ignorará los decimales, incluso si es cercano a un número entero.\n",
        "\n",
        "> **NOTA**: No debes confundir cociente con redondear, son valores totalmente distintos.\n",
        "\n",
        "En **Python**, el **cociente** se pide con la expresión doble barra (`//`), por lo tanto, la expresión para encontrar el cociente de $\\frac{22}{6}$ es:"
      ]
    },
    {
      "cell_type": "code",
      "execution_count": 13,
      "metadata": {
        "colab": {
          "base_uri": "https://localhost:8080/"
        },
        "id": "_rhSNePbyEjM",
        "outputId": "a6ecd88b-5ff3-4570-981d-9ee092097a54"
      },
      "outputs": [
        {
          "name": "stdout",
          "output_type": "stream",
          "text": [
            "3\n"
          ]
        }
      ],
      "source": [
        "print(22 // 6)"
      ]
    },
    {
      "cell_type": "markdown",
      "metadata": {
        "id": "RTwZMWajyKVO"
      },
      "source": [
        "Observando detenidamente vemos que el resultado de pedir un cociente es un **entero**, aunque si alguno de los dos fuera un **flotante** el resultado será un **flotante** también (similar a lo que sucede con la suma y la resta).\n",
        "\n",
        "¿Que sucedería si requerimos el residuo de una división? Recordemos que el residuo es aquel número que sobra dentro de una división, lo explicaremos con un ejemplo sencillo.\n",
        "\n",
        "Tenemos 22 dulces, los cuales repartiremos entre 6 niños. Si hacemos la división a cada niño le tocarían 3 dulces, pero sobrarían 4 dulces.\n",
        "$$\n",
        "22 - (6 \\times 3) = 22 - 18 = 4\n",
        "$$\n",
        "Esos 4 dulces sobrantes, los cuales no repartiremos porque no alcanzaría para dar a cada niño, es el residuo.\n",
        "\n",
        "Tanto el **cociente**, como el **residuo** están presentes en todas las divisiones, veamos algunos ejemplos:\n",
        "$\\frac{25}{4}$, cociente = $6$, residuo = $1$\n",
        "$\\frac{43}{8}$, cociente = $5$, residuo = $3$\n",
        "$\\frac{15}{5}$, cociente = $3$, residuo = $0$\n",
        "\n",
        "El **residuo** se solicita en **Python** con el símbolo de porcentajes (`%`), ejemplos de ello son:"
      ]
    },
    {
      "cell_type": "code",
      "execution_count": 14,
      "metadata": {
        "colab": {
          "base_uri": "https://localhost:8080/"
        },
        "id": "fI-TfNpuyLr_",
        "outputId": "b5e79347-9343-4cbe-d07d-054813002db3"
      },
      "outputs": [
        {
          "name": "stdout",
          "output_type": "stream",
          "text": [
            "420\n"
          ]
        }
      ],
      "source": [
        "print((55 % 7) * 70)"
      ]
    },
    {
      "cell_type": "markdown",
      "metadata": {
        "id": "hLsv1qW2yQnP"
      },
      "source": [
        "Como podrás ver por lo general los resultados son **enteros**, sólo en algunos casos en que el residuo sea con decimales este será un **flotante**.\n",
        "\n",
        " A manera de recordatorio estas son las operaciones básicas que se pueden hacer con los números:\n",
        "\n",
        "| Operación      |  Símbolo  |   Ejemplo   | Tipo de salida   |\n",
        "| -------------- | :-------: | :---------: | :--------------- |\n",
        "| Suma           |    `+`    |  `15 + 18`  | entero, flotante |\n",
        "| Resta          |    `-`    |  `33 - 27`  | entero, flotante |\n",
        "| Multiplicación |    `*`    |  `12 * 3`   | entero, flotante |\n",
        "| División       |    `/`    |  `24 / 5`   | flotante         |\n",
        "| Exponenciación |   `**`    |   `5**3`    | entero, flotante |\n",
        "| Raíz           | `**(1/2)` | `81**(1/2)` | flotante         |\n",
        "| Cociente       |   `//`    |   `38//6`   | entero, flotante |\n",
        "| Residuo        |    `%`    |  `50 % 4`   | entero, flotante |\n",
        "\n"
      ]
    },
    {
      "cell_type": "markdown",
      "metadata": {
        "id": "LHpdS78wHxVL"
      },
      "source": [
        "**Ponte a prueba**\n",
        "\n",
        "Usando las funciones que hemos aprendido resuelve el siguiente cuestionamiento:\n",
        "\n",
        "En un almacén se tienen 55 pares de pantalones, los cuales se deberán agrupar en 7 paquetes, y las piezas sobrantes se podrán vender de forma individual a $70.\n",
        "\n",
        "1. **¿Cuántos pantalones habrá en cada paquete? ** Habrán 7 pares de pantalones en cada paquete.\n",
        "2. **¿Cuál es el monto total que se percibirá de los pantalones vendidos individualmente?** 420 pesos por el total de los 6 pantalones que sobraron.\n",
        "3. Usando `print` haz que estos resultados se muestren en pantalla.\n",
        "print((55%7)*70)\n",
        "\n"
      ]
    },
    {
      "cell_type": "code",
      "execution_count": 15,
      "metadata": {
        "colab": {
          "base_uri": "https://localhost:8080/"
        },
        "id": "8Q6usa9nZ91B",
        "outputId": "44c50d28-e758-4653-d434-3ec0e26ba505"
      },
      "outputs": [
        {
          "name": "stdout",
          "output_type": "stream",
          "text": [
            "7\n",
            "420\n"
          ]
        }
      ],
      "source": [
        "pantalones = 55\n",
        "paquetes = 7\n",
        "precio_individual = 70\n",
        "print(pantalones//paquetes)\n",
        "print((pantalones % paquetes)* precio_individual)"
      ]
    },
    {
      "cell_type": "markdown",
      "metadata": {
        "id": "PUbIvoLxyVG0"
      },
      "source": [
        "## 1.3 Cadenas de texto\n",
        "\n",
        "Al inicio aplicamos, por primera vez, la declaración `print`, que permite mostrar un texto o una operación matemática en la pantalla. Ahora bien, se mencionó que todo texto debe escribirse entre comillas (ya sean dobles `“texto”` o simples `'texto'`).\n",
        "\n",
        "En la programación, no se le llama *texto*, sino **cadena**, **cadena de texto** o **string**, como le llamaremos de aquí en adelante.\n",
        "\n",
        "Recordemos la función `print`."
      ]
    },
    {
      "cell_type": "code",
      "execution_count": 16,
      "metadata": {
        "colab": {
          "base_uri": "https://localhost:8080/"
        },
        "id": "ZPDEUpgfySdP",
        "outputId": "24b98fb4-80dd-4971-d661-64626fbea8c2"
      },
      "outputs": [
        {
          "name": "stdout",
          "output_type": "stream",
          "text": [
            "¡Hola, mundo!\n",
            "¡Hola, mundo!\n"
          ]
        }
      ],
      "source": [
        "print('¡Hola, mundo!')\n",
        "print(\"¡Hola, mundo!\")"
      ]
    },
    {
      "cell_type": "markdown",
      "metadata": {
        "id": "eKgJFF4DyZc5"
      },
      "source": [
        "### 1.3.1 Caracteres especiales\n",
        "\n",
        "Vale la pena indicar que hay algunos caracteres que no se pueden imprimir, por ejemplo, los apóstrofos. Para ello, simplemente se coloca una barra invertida (`\\`) antes de esos caracteres."
      ]
    },
    {
      "cell_type": "code",
      "execution_count": 17,
      "metadata": {
        "colab": {
          "base_uri": "https://localhost:8080/"
        },
        "id": "QxMIw2CXyapT",
        "outputId": "ea49fb59-56c4-4669-909b-c7e3a382fc66"
      },
      "outputs": [
        {
          "name": "stdout",
          "output_type": "stream",
          "text": [
            "I'm glad be with you\n"
          ]
        }
      ],
      "source": [
        "print('I\\'m glad be with you')"
      ]
    },
    {
      "cell_type": "markdown",
      "metadata": {
        "id": "uhzePEanyiUl"
      },
      "source": [
        "En el caso de que queramos usar apóstrofos como en el ejemplo anterior, podemos usar dobles comillas para nuestra **cadena de texto**."
      ]
    },
    {
      "cell_type": "code",
      "execution_count": 18,
      "metadata": {
        "colab": {
          "base_uri": "https://localhost:8080/"
        },
        "id": "vLwk8DCqylV2",
        "outputId": "5169b00c-95e7-4297-8844-4d921b45f8ac"
      },
      "outputs": [
        {
          "name": "stdout",
          "output_type": "stream",
          "text": [
            "I'm glad be with you\n"
          ]
        }
      ],
      "source": [
        "print(\"I\\'m glad be with you\")"
      ]
    },
    {
      "cell_type": "markdown",
      "metadata": {
        "id": "OX_Mn3FKypBo"
      },
      "source": [
        "### 1.3.2 Saltos de línea\n",
        "\n",
        "Quizá existan algunos casos en los que requeriremos más de una línea de texto. Para ello, existen dos formas de hacerlo.\n",
        "\n",
        "La primera es que en la **cadena de texto** coloquemos `\\n`, que quiere decir que queremos una nueva línea."
      ]
    },
    {
      "cell_type": "code",
      "execution_count": 19,
      "metadata": {
        "colab": {
          "base_uri": "https://localhost:8080/"
        },
        "id": "8E0sz8jlyqNd",
        "outputId": "9a797568-9910-4598-a142-748cb0e21917"
      },
      "outputs": [
        {
          "name": "stdout",
          "output_type": "stream",
          "text": [
            "Hola, buenos días\n",
            "mi nombre es José.\n",
            "Gusto en conocerte.\n"
          ]
        }
      ],
      "source": [
        "print('Hola, buenos días\\nmi nombre es José.\\nGusto en conocerte.')"
      ]
    },
    {
      "cell_type": "markdown",
      "metadata": {
        "id": "movWBbAfyx4r"
      },
      "source": [
        "Otra forma de hacerlo es que la **cadena de texto** comience con tres comillas(`‘'’`) o doble comillas (`“\"”`) y termine igualmente con tres comillas(`‘'’`) o doble comillas (`“\"”`)."
      ]
    },
    {
      "cell_type": "code",
      "execution_count": 20,
      "metadata": {
        "colab": {
          "base_uri": "https://localhost:8080/"
        },
        "id": "FJDW8KAVy0Fy",
        "outputId": "90488ce1-6286-4b6d-e401-371e1830e51b"
      },
      "outputs": [
        {
          "name": "stdout",
          "output_type": "stream",
          "text": [
            "\n",
            "Hola, buenos días\n",
            "mi nombre es José.\n",
            "Gusto en conocerte.\n",
            "\n",
            "\n",
            "Hola, buenos días\n",
            "mi nombre es José.\n",
            "Gusto en conocerte.\n",
            "\n"
          ]
        }
      ],
      "source": [
        "print('''\n",
        "Hola, buenos días\n",
        "mi nombre es José.\n",
        "Gusto en conocerte.\n",
        "''')\n",
        "\n",
        "print(\"\"\"\n",
        "Hola, buenos días\n",
        "mi nombre es José.\n",
        "Gusto en conocerte.\n",
        "\"\"\")"
      ]
    },
    {
      "cell_type": "markdown",
      "metadata": {
        "id": "yYYvSaWFy4SH"
      },
      "source": [
        "### 1.3.3 Operaciones con cadenas de texto\n",
        "\n",
        "#### Concatenar\n",
        "\n",
        "Cuando tenemos dos **cadenas de texto**, podemos juntarlas en una sola; a eso se le llama **concatenar**. Para ello, usaremos la suma (`+`), como se muestra a continuación:"
      ]
    },
    {
      "cell_type": "code",
      "execution_count": 21,
      "metadata": {
        "colab": {
          "base_uri": "https://localhost:8080/"
        },
        "id": "Kff6DT8Sy9mr",
        "outputId": "e0aaeb8b-8ff8-4367-eeb1-654689c05c42"
      },
      "outputs": [
        {
          "name": "stdout",
          "output_type": "stream",
          "text": [
            "Buenas tardes, ¿Cómo estás?\n"
          ]
        }
      ],
      "source": [
        "print('Buenas tardes, ' + '¿Cómo estás?')"
      ]
    },
    {
      "cell_type": "markdown",
      "metadata": {
        "id": "ioVRAzqRy8KS"
      },
      "source": [
        "Vale la pena indicar que no podemos concatenar una **cadena de texto** con un **entero** o un **flotante**, por ello es importante que mencionemos que `2` no es lo mismo que `'2'`.\n",
        "- `2` sin comillas es un **entero** y este elemento se puede sumar, restar, dividir, étc.\n",
        "- `'2'`con comillas es una **cadena de texto**, por lo que se considera un texto, no puede sumarse, restarse, étc.\n",
        "\n",
        "Por lo que para concatenar un número deberemos hacerlo de la siguiente manera:"
      ]
    },
    {
      "cell_type": "code",
      "execution_count": 22,
      "metadata": {
        "colab": {
          "base_uri": "https://localhost:8080/"
        },
        "id": "zwv6NV64zDxJ",
        "outputId": "0601ab5e-70b5-4443-bd39-3907069e395d"
      },
      "outputs": [
        {
          "name": "stdout",
          "output_type": "stream",
          "text": [
            "Quiero 2 boletos.\n"
          ]
        }
      ],
      "source": [
        "print('Quiero ' + '2' + ' boletos.')"
      ]
    },
    {
      "cell_type": "markdown",
      "metadata": {
        "id": "fmJ7xFQh0Vin"
      },
      "source": [
        "Multiplicar cadenas\n",
        "\n",
        "Aunque arriba indicamos que una **cadena de texto** no se puede sumar, restar o dividir con un número ya sea **entero** o **flotante**, en **Python** si es posible multiplicar, lo que dará como resultado la **cadena de texto** repetida por la cantidad por la que se multiplicó, por ejemplo:"
      ]
    },
    {
      "cell_type": "code",
      "execution_count": 23,
      "metadata": {
        "colab": {
          "base_uri": "https://localhost:8080/"
        },
        "id": "1M8GbAEw0WTp",
        "outputId": "16e46953-d5ad-4006-a541-3dcc51c47b7b"
      },
      "outputs": [
        {
          "name": "stdout",
          "output_type": "stream",
          "text": [
            "Hola!Hola!Hola!Hola!\n"
          ]
        }
      ],
      "source": [
        "print('Hola!' * 4)"
      ]
    },
    {
      "cell_type": "markdown",
      "metadata": {
        "id": "6r-XPdoK0ZUy"
      },
      "source": [
        "Para que un número se repita varias veces es necesario considerarlo como **cadena de texto** y usar el mismo método:"
      ]
    },
    {
      "cell_type": "code",
      "execution_count": 24,
      "metadata": {
        "colab": {
          "base_uri": "https://localhost:8080/"
        },
        "id": "X-ZNe9yi0ahg",
        "outputId": "c01626af-36e5-4ec9-8ebf-9df3f6c9349c"
      },
      "outputs": [
        {
          "name": "stdout",
          "output_type": "stream",
          "text": [
            "888\n"
          ]
        }
      ],
      "source": [
        "print('8' * 3)"
      ]
    },
    {
      "cell_type": "markdown",
      "metadata": {
        "id": "IqmUYyyr0d1Q"
      },
      "source": [
        "> **NOTA**: El resultado de multiplicar una **cadena de texto** nos dará como resultado otra **cadena de texto** por lo que aplican las mismas restricciones de poder sumar, restar o dividir.\n",
        "\n",
        "Como se ha indicado en la nota, el `‘888’` que hemos obtenido de resultado de nuestro ejemplo anterior es una **cadena de texto** por lo que no es posible hacer operaciones aritméticas con ese valor."
      ]
    },
    {
      "cell_type": "markdown",
      "metadata": {
        "id": "zycGb1_CJB72"
      },
      "source": [
        "##### Ponte a prueba\n",
        "\n",
        "Investiga un poema pequeño y usando `print` haz que se muestre en pantalla, al finalizar el poema deberás hacer que se vea una línea donde indica que has finalizado, como esta:\n",
        "```\n",
        "Poema línea 1,\n",
        "poema línea 2,\n",
        "poema lìnea 3.\n",
        "====================================\n",
        "```\n",
        "\n",
        "Recuerda hacer punto y aparte en el poema que escribas e intenta que la línea final sea generada multiplicando una **cadena de texto** con un número."
      ]
    },
    {
      "cell_type": "code",
      "execution_count": 25,
      "metadata": {
        "colab": {
          "base_uri": "https://localhost:8080/"
        },
        "id": "RO3fH7i6J19P",
        "outputId": "f84587d8-1eba-4bdc-f207-f1b55fd365da"
      },
      "outputs": [
        {
          "name": "stdout",
          "output_type": "stream",
          "text": [
            "\n",
            "    Su mirada, cansada de ver pasar\n",
            "    las rejas, ya no retiene nada más.\n",
            "    Cree que el mundo está hecho,\n",
            "    de miles de rejas y, más allá, la nada.\n",
            "    \n"
          ]
        }
      ],
      "source": [
        "print('''\n",
        "    Su mirada, cansada de ver pasar\n",
        "    las rejas, ya no retiene nada más.\n",
        "    Cree que el mundo está hecho,\n",
        "    de miles de rejas y, más allá, la nada.\n",
        "    ''')"
      ]
    },
    {
      "cell_type": "markdown",
      "metadata": {
        "id": "IW42dboR0ghG"
      },
      "source": [
        "### 1.3.4 Operadores booleanos\n",
        "\n",
        "Los **booleanos** son datos que solo pueden tener dos estados: **verdadero** o **falso**. Estos operadores son usados en comparaciones o en pruebas lógicas, funciones que se explicarán más adelante. Por ahora, indicaremos que en Python son escritos como `True` para valores verdaderos (con la letra `T` mayúscula y el resto de los caracteres en minúsculas) y como `False` para valores falsos (con la letra `F` mayúscula y el resto de los caracteres en minúsculas)."
      ]
    },
    {
      "cell_type": "code",
      "execution_count": 26,
      "metadata": {
        "colab": {
          "base_uri": "https://localhost:8080/"
        },
        "id": "8_TCCiRJ0imK",
        "outputId": "bfd51cde-adfd-432b-f76a-afd5569d9e60"
      },
      "outputs": [
        {
          "data": {
            "text/plain": [
              "False"
            ]
          },
          "execution_count": 26,
          "metadata": {},
          "output_type": "execute_result"
        }
      ],
      "source": [
        "True\n",
        "False"
      ]
    },
    {
      "cell_type": "markdown",
      "metadata": {
        "id": "sotoooyY0nLl"
      },
      "source": [
        "### 1.3.5 Variables\n",
        "\n",
        "En Python, los datos se pueden almacenar en elementos llamados **variables**, lo cual permite usar ese valor almacenado más adelante, en el programa, y ofrece más dinamismo al momento de ejecutar un código.\n",
        "\n",
        "Es muy sencillo asignar una variable: basta que indiquemos, primero, el nombre de nuestra variable; inmediatamente después, en la misma línea, escribimos un signo de igual `=`, y, posteriormente, indicamos el valor que queremos guardar.\n",
        "\n",
        "Ejemplos:"
      ]
    },
    {
      "cell_type": "code",
      "execution_count": 27,
      "metadata": {
        "id": "P-Vwz99Y0p0M"
      },
      "outputs": [],
      "source": [
        "nombre = 'María'\n",
        "edad = 28\n",
        "estatura = 1.62"
      ]
    },
    {
      "cell_type": "markdown",
      "metadata": {
        "id": "F72zj4Dd0pa-"
      },
      "source": [
        "Si ingresamos y corremos el ejemplo de arriba no nos devolverá nada, ya que sólo hemos pedido «guardar» la información en nuestras **variables**, no otra operación más.\n",
        "\n",
        "Como podrás ver en el ejemplo de arriba las **variables** pueden almacenar cualquier tipo de dato y a diferencia de otros lenguajes de programación no es necesario indicar qué tipo de dato es, ya que **Python** lo interpreta inmediatamente, sólo recuerda que las **cadenas de texto** siempre se escriben entre comillas simples (`‘texto'`) o dobles (`“texto\"`).\n",
        "\n",
        "Aunque puedes indicar casi cualquier nombre que quieras a tus **variables** existen una serie de restricciones:"
      ]
    },
    {
      "cell_type": "markdown",
      "metadata": {
        "id": "62JNrvIt0xoO"
      },
      "source": [
        "Si ingresamos y corremos el ejemplo de arriba no nos devolverá nada, ya que sólo hemos pedido «guardar» la información en nuestras **variables**, no otra operación más.\n",
        "\n",
        "Como podrás ver en el ejemplo de arriba las **variables** pueden almacenar cualquier tipo de dato y a diferencia de otros lenguajes de programación no es necesario indicar qué tipo de dato es, ya que **Python** lo interpreta inmediatamente, sólo recuerda que las **cadenas de texto** siempre se escriben entre comillas simples (`‘texto'`) o dobles (`“texto\"`).\n",
        "\n",
        "Aunque puedes indicar casi cualquier nombre que quieras a tus **variables** existen una serie de restricciones:\n",
        "\n",
        "- Sólo se permiten usar letras, números y guiones bajos (`_`).\n",
        "- El nombre de la **variable** no puede iniciar con un número.\n",
        "- No puede incluir espacios, para ese caso se aconseja el uso del guión bajo (`_`).\n",
        "- No se pueden usar palabras reservadas (las aprenderán a lo largo del curso).\n",
        "\n",
        "  > **NOTA**: **Python** es sensible a mayúsculas y minúsculas, eso quiere decir que no es lo mismo `Grupo` que `grupo`, o incluso qué `GRUPO`.\n",
        "\n",
        "¿Para qué sirve el uso de las **variables**? Cómo se indicó previamente permiten que la información almacenada sea utilizada más adelante.\n",
        "\n",
        "Para comprender mejor ello usaremos las tres **variables** que indicamos previamente: `nombre`, `edad` y `estatura`. Es importante que se hayan definido las **variables**, de lo contrario **Python** no reconocerá lo que pedimos almacenar.\n",
        "\n",
        "A continuación vamos a hacer una serie de operaciones con los valores almacenados, es importante recordar las restricciones que tienen cada tipo de datos (ejemplo: las **cadenas de texto** no se pueden restar o dividir), ya que pueden generar un error.\n",
        "\n",
        "Para invocar una **variable** sólo bastará con escribir el nombre de la misma como lo definimos previamente. Si has sido observador notarás porque es importante que una **cadena de texto** esté entrecomillada, ya que usualmente un texto sin comillas en realidad hace referencia a una **variable**, ten en mente siempre esto para cuando realices tus proyectos."
      ]
    },
    {
      "cell_type": "code",
      "execution_count": 28,
      "metadata": {
        "colab": {
          "base_uri": "https://localhost:8080/"
        },
        "id": "wWSFldQQ0yzV",
        "outputId": "11536620-4e3b-4cfa-d3e3-bfaed961bff7"
      },
      "outputs": [
        {
          "name": "stdout",
          "output_type": "stream",
          "text": [
            "Buenos días María\n",
            "10\n",
            "0.81\n"
          ]
        }
      ],
      "source": [
        "print('Buenos días ' + nombre)\n",
        "print(edad - 18)\n",
        "print(estatura / 2)"
      ]
    },
    {
      "cell_type": "markdown",
      "metadata": {
        "id": "Uq48z1Q9030l"
      },
      "source": [
        "Como podrás ver es como si al segundo código hubiéramos pegado directamente lo que almacenamos en las **variables**, esto permite que a las ***variables*** podamos usarlas una infinidad de veces."
      ]
    },
    {
      "cell_type": "code",
      "execution_count": 29,
      "metadata": {
        "colab": {
          "base_uri": "https://localhost:8080/"
        },
        "id": "EpRCNHUX0582",
        "outputId": "05d52892-4aa0-4d00-efe3-1d05ba48b11b"
      },
      "outputs": [
        {
          "name": "stdout",
          "output_type": "stream",
          "text": [
            "0.81\n",
            "0.54\n",
            "0.405\n",
            "0.324\n",
            "0.27\n"
          ]
        }
      ],
      "source": [
        "print(estatura / 2)\n",
        "print(estatura / 3)\n",
        "print(estatura / 4)\n",
        "print(estatura / 5)\n",
        "print(estatura / 6)"
      ]
    },
    {
      "cell_type": "markdown",
      "metadata": {
        "id": "oc6GHrpM08Hn"
      },
      "source": [
        "Si quisiéramos cambiar o actualizar la información en una variable sólo basta con hacer el mismo proceso como cuando se definió la **variable** por primera vez:"
      ]
    },
    {
      "cell_type": "code",
      "execution_count": 30,
      "metadata": {
        "colab": {
          "base_uri": "https://localhost:8080/"
        },
        "id": "s9Q0tGFd0-hP",
        "outputId": "746da7d7-8204-4235-912e-ede82c6bb362"
      },
      "outputs": [
        {
          "name": "stdout",
          "output_type": "stream",
          "text": [
            "Edad de Ana el año pasado: 28\n",
            "Edad de Ana este año: 29\n"
          ]
        }
      ],
      "source": [
        "edad = '28'\n",
        "print('Edad de Ana el año pasado: ' + edad)\n",
        "edad = '29'\n",
        "print('Edad de Ana este año: ' + edad)"
      ]
    },
    {
      "cell_type": "markdown",
      "metadata": {
        "id": "WMIKl-Dp1Bhf"
      },
      "source": [
        "## 1.4 Estructura de datos\n",
        "\n",
        "### Listas\n",
        "\n",
        "Una forma de almacenar una serie de elementos es mediante las **listas**. Estos se identifican fácilmente, ya que los valores están entre corchetes (`[elemento0, elemento1, elemento2]`) y sus valores se separan con comas (`,`). Ejemplos de listas son las siguientes:"
      ]
    },
    {
      "cell_type": "code",
      "execution_count": 31,
      "metadata": {
        "id": "gKUQKWVO1DHn"
      },
      "outputs": [],
      "source": [
        "primera_lista = [3, 8, 12, 25]\n",
        "segunda_lista = [1.4, 3.0, 2.75, 8.00]\n",
        "tercera_lista = ['Alberto', 'Benito', 'César']\n",
        "cuarta_lista = [3, 'Hola', 2.25]"
      ]
    },
    {
      "cell_type": "markdown",
      "metadata": {
        "id": "e71WGSyd1Gu3"
      },
      "source": [
        "Como puedes ver, la lista se definió como las variables. Sus elementos pueden ser **enteros**, como se muestra en la `primera_lista`; **flotantes**, como en la `segunda_lista`; **cadenas de texto**, como en la `tercera_lista`, o una mezcla, en la que cada elemento puede ser cualquier tipo de dato, como sucede en la `cuarta lista`.\n",
        "\n",
        "Para ver los elementos, basta con invocarlos, como lo hacemos con una **variable**:"
      ]
    },
    {
      "cell_type": "code",
      "execution_count": 32,
      "metadata": {
        "colab": {
          "base_uri": "https://localhost:8080/"
        },
        "id": "NkBIXMZr1HuK",
        "outputId": "f5c5c023-d750-4f20-d8a6-dcb73a1fb96d"
      },
      "outputs": [
        {
          "name": "stdout",
          "output_type": "stream",
          "text": [
            "[3, 8, 12, 25]\n",
            "[1.4, 3.0, 2.75, 8.0]\n"
          ]
        }
      ],
      "source": [
        "print(primera_lista)\n",
        "print(segunda_lista)"
      ]
    },
    {
      "cell_type": "markdown",
      "metadata": {
        "id": "RhVHliYX1Lei"
      },
      "source": [
        "Un aspecto que tiene la **lista** es que podemos indicarle que nos regrese un elemento específico de todos los que la componen. Por ejemplo, la `primera_lista` está compuesto por `[3, 8, 12, 25]`. Si quiero que me indique el primer valor, solo hace falta mencionar su **índice** entre corchetes `[índice]` e inmediatamente después del nombre de la lista, como se muestra a continuación:"
      ]
    },
    {
      "cell_type": "code",
      "execution_count": 33,
      "metadata": {
        "colab": {
          "base_uri": "https://localhost:8080/"
        },
        "id": "jfZus8Q91MPy",
        "outputId": "10678116-43d2-4759-925d-a1b506ca2e8c"
      },
      "outputs": [
        {
          "name": "stdout",
          "output_type": "stream",
          "text": [
            "3\n"
          ]
        }
      ],
      "source": [
        "print(primera_lista[0])"
      ]
    },
    {
      "cell_type": "markdown",
      "metadata": {
        "id": "sn429_e-1lzJ"
      },
      "source": [
        "Para el resto, sería:"
      ]
    },
    {
      "cell_type": "code",
      "execution_count": 34,
      "metadata": {
        "colab": {
          "base_uri": "https://localhost:8080/"
        },
        "id": "-I_VRmMJ1lOe",
        "outputId": "5ce81ffc-6b3e-4bf2-8a4b-b65dcc20dee7"
      },
      "outputs": [
        {
          "name": "stdout",
          "output_type": "stream",
          "text": [
            "8\n",
            "12\n",
            "25\n"
          ]
        }
      ],
      "source": [
        "print(primera_lista[1])\n",
        "print(primera_lista[2])\n",
        "print(primera_lista[3])"
      ]
    },
    {
      "cell_type": "markdown",
      "metadata": {
        "id": "2g00gmyU1uu_"
      },
      "source": [
        "> **NOTA**: En **Python**, el primer índice de una lista comienza en `0`, por lo que el índice del segundo elemento es `1`, el del tercero es `2`, el del cuarto es `3`, y así sucesivamente. Recuerda muy bien esto, ya que está presente en todo el curso y es uno de los aspectos más importantes de este lenguaje de programación.\n",
        "\n",
        "Por raro que parezca, pueden haber listas de listas. Por lo general, cuando hacemos una lista, cada elemento solo contiene un valor, pero es posible que uno o varios de esos valores sean otra lista, como se muestra en el ejemplo."
      ]
    },
    {
      "cell_type": "code",
      "execution_count": 35,
      "metadata": {
        "id": "LihDc3zW1xUN"
      },
      "outputs": [],
      "source": [
        "lista_ejemplo = [2, 4, [6, 7, 8]]"
      ]
    },
    {
      "cell_type": "markdown",
      "metadata": {
        "id": "xNI69mj510UV"
      },
      "source": [
        "En el ejemplo anterior `lista_ejemplo`, tienes tres elementos, que desglosaremos con el siguiente código:"
      ]
    },
    {
      "cell_type": "code",
      "execution_count": 36,
      "metadata": {
        "colab": {
          "base_uri": "https://localhost:8080/"
        },
        "id": "WAFsXqUg13Ee",
        "outputId": "91105f39-bdb5-4fb3-d164-7673f7a8b1b3"
      },
      "outputs": [
        {
          "name": "stdout",
          "output_type": "stream",
          "text": [
            "2\n",
            "4\n",
            "[6, 7, 8]\n"
          ]
        }
      ],
      "source": [
        "print(lista_ejemplo[0])\n",
        "print(lista_ejemplo[1])\n",
        "print(lista_ejemplo[2])"
      ]
    },
    {
      "cell_type": "markdown",
      "metadata": {
        "id": "DsQSNlJV2AkG"
      },
      "source": [
        "Como puedes ver, el primer elemento (índice `0`) es el **entero** 2, el segundo (índice `1`) es el **entero** 4 y el tercero (índice `2`) es la lista `[6, 7, 8]`.\n",
        "\n",
        "Si quisiéramos acceder a un valor específico de la lista dentro de la lista, entonces deberemos indicarlo con un «índice después del índice», el cual puedes escribir de la siguiente manera:"
      ]
    },
    {
      "cell_type": "code",
      "execution_count": 37,
      "metadata": {
        "colab": {
          "base_uri": "https://localhost:8080/"
        },
        "id": "BI6ML2MT1_9s",
        "outputId": "50595937-1c83-4840-c08d-64fc3a3cbebe"
      },
      "outputs": [
        {
          "name": "stdout",
          "output_type": "stream",
          "text": [
            "6\n",
            "7\n",
            "8\n"
          ]
        }
      ],
      "source": [
        "print(lista_ejemplo[2][0])\n",
        "print(lista_ejemplo[2][1])\n",
        "print(lista_ejemplo[2][2])"
      ]
    },
    {
      "cell_type": "markdown",
      "metadata": {
        "id": "JOUuSwOg2LaI"
      },
      "source": [
        "En `lista_ejemplo`, la primera línea del códigose interpreta de la siguiente manera: de su tercer elemento (índice `2`) nos regresará el primer valor (índice `0`)."
      ]
    },
    {
      "cell_type": "markdown",
      "metadata": {
        "id": "HRSCRfFd2SJz"
      },
      "source": [
        "Solo para tenerlo en consideración: es posible hacer listas vacías, las cuales se llenarán posteriormente, y aunque en este momento parece no tener utilidad, sí la tendrá a lo largo del curso."
      ]
    },
    {
      "cell_type": "code",
      "execution_count": 38,
      "metadata": {
        "id": "EACLhXVe2S-1"
      },
      "outputs": [],
      "source": [
        "lista_vacia = []"
      ]
    },
    {
      "cell_type": "markdown",
      "metadata": {
        "id": "T_dIhc962WOJ"
      },
      "source": [
        "#### 1.4.1Cadena de texto como una lista\n",
        "\n",
        "Una vez familiarizados con el código para invocar los elementos de una lista, es posible que **Python** considere una **cadena de texto** como si se tratara de una lista, en la que el primer carácter sería el elemento del primer índice (`0`), el segundo carácter sería el segundo índice (`1`), y así sucesivamente.\n",
        "\n",
        "Puedes verlo en el siguiente ejemplo:"
      ]
    },
    {
      "cell_type": "code",
      "execution_count": 39,
      "metadata": {
        "colab": {
          "base_uri": "https://localhost:8080/",
          "height": 37
        },
        "id": "HIq-L4AM2ZAy",
        "outputId": "24d9416a-4bb6-4351-a9e5-00711aa89b1f"
      },
      "outputs": [
        {
          "data": {
            "text/plain": [
              "'i'"
            ]
          },
          "execution_count": 39,
          "metadata": {},
          "output_type": "execute_result"
        }
      ],
      "source": [
        "mensaje = 'Feliz cumpleaños'\n",
        "mensaje[3]"
      ]
    },
    {
      "cell_type": "markdown",
      "metadata": {
        "id": "x-Hj3K8x2c0z"
      },
      "source": [
        "La siguiente estructura nos indicaría qué índice tiene cada carácter.\n",
        "```\n",
        "           0  1  2  3  4  5  6  7  8  9 10 11 12 13 14 15\n",
        "mensaje = 'F  e  l  i  z     c  u  m  p  l  e  a  ñ  o  s'\n",
        "```"
      ]
    },
    {
      "cell_type": "markdown",
      "metadata": {
        "id": "pyzJuh2F2hSz"
      },
      "source": [
        "#### 1.4.2 Índices negativos\n",
        "\n",
        "Otra forma de invocar los elementos es que, en lugar de que nos dé los valores de izquierda a derecha, lo haga de derecha a izquierda, o sea, que considere primero el último valor. Esto se logra indicando con valores negativos, donde `-1` es el último elemento en la **lista**, `-2` es el penúltimo, `-3` es el antepenúltimo y así sucesivamente. Cuando se buscan valores de derecha a izquierda, se comienza con el valor `-1`, pues no existe el valor `-0`. Sin embargo, cuando es de izquierda a derecha, sí se inicia con `0`.\n",
        "\n",
        "Veamos un ejemplo similar al que hicimos, con un mensaje de «Feliz cumpleaños». Vale la pena indicar que esto es permitido en cualquier tipo de **lista**."
      ]
    },
    {
      "cell_type": "code",
      "execution_count": 40,
      "metadata": {
        "colab": {
          "base_uri": "https://localhost:8080/",
          "height": 37
        },
        "id": "k7rm9HrM2j-w",
        "outputId": "8cce9a0d-2dfd-42a9-bb85-0dd3c5781137"
      },
      "outputs": [
        {
          "data": {
            "text/plain": [
              "'ñ'"
            ]
          },
          "execution_count": 40,
          "metadata": {},
          "output_type": "execute_result"
        }
      ],
      "source": [
        "mensaje = 'Feliz cumpleaños'\n",
        "mensaje[-3]"
      ]
    },
    {
      "cell_type": "markdown",
      "metadata": {
        "id": "7cd0Y8_n2nOh"
      },
      "source": [
        "Podemos entender esto con la siguiente estructura:\n",
        "\n",
        "```\n",
        "           -16 -15 -14 -13 -12 -11 -10  -9  -8  -7  -6  -5  -4  -3  -2  -1\n",
        "mensaje = '  F   e   l   i   z       c   u   m   p   l   e   a   ñ   o   s'\n",
        "```"
      ]
    },
    {
      "cell_type": "markdown",
      "metadata": {
        "id": "7ovBRJVd2q8B"
      },
      "source": [
        "#### 1.4.3 Actualizar un elemento de una lista\n",
        "\n",
        "Es común que uno o varios elementos de una **lista** deban modificarse en el código. Para ello, se deberá hacer algo similar a lo que se hizo con las variables: solo indicamos el elemento a cambiar e indicaremos el nuevo valor."
      ]
    },
    {
      "cell_type": "code",
      "execution_count": 41,
      "metadata": {
        "colab": {
          "base_uri": "https://localhost:8080/"
        },
        "id": "aqHdn8wW2toS",
        "outputId": "2e4f9006-b59b-4099-a958-7a502c47104d"
      },
      "outputs": [
        {
          "name": "stdout",
          "output_type": "stream",
          "text": [
            "['leche', 'cereal', 'atún', 'arroz']\n",
            "['leche', 'cereal', 'pollo', 'arroz']\n"
          ]
        }
      ],
      "source": [
        "compras = ['leche', 'cereal', 'atún', 'arroz']\n",
        "print(compras)\n",
        "compras[2] = 'pollo'\n",
        "print(compras)"
      ]
    },
    {
      "cell_type": "markdown",
      "metadata": {
        "id": "_lGG6CCV2wE4"
      },
      "source": [
        "En la primera línea de código hemos creado la lista `compras` con cuatro elementos, en la segunda línea le hemos dicho a **Python** que imprima la lista que generamos previamente. Para la tercera línea hemos pedido que el elemento en el índice `2`(el tercer valor, ya que recordemos que de izquierda a derecha inicia en `0`) tenga un nuevo valor llamado `pollo`, es por ello que en la cuarta línea hemos vuelto a pedir que nos imprima la lista y el elemento cambiado se puede observar."
      ]
    },
    {
      "cell_type": "markdown",
      "metadata": {
        "id": "A0pKOJOF2ydx"
      },
      "source": [
        "#### 1.4.4 Operaciones con listas\n",
        "\n",
        "Las listas tienen algunas características que pueden asemejarse a las **cadenas de texto**, como es el caso de concatenar datos. Para ello, en una lista que hayamos definido, solo indicaremos, con un signo de suma (`+`), que queremos agregar más datos, los cuales deberán estar entre corchetes (`[elemento1, elemento2, elemento3]`).\n",
        "\n",
        "Un ejemplo de lo anterior:"
      ]
    },
    {
      "cell_type": "code",
      "execution_count": 42,
      "metadata": {
        "colab": {
          "base_uri": "https://localhost:8080/"
        },
        "id": "3isLAKGq2zqd",
        "outputId": "77a4e87e-3e3f-4dd7-832f-b4bee34a82d8"
      },
      "outputs": [
        {
          "name": "stdout",
          "output_type": "stream",
          "text": [
            "[2, 4, 6, 8]\n",
            "[2, 4, 6, 8, 10, 12, 14]\n"
          ]
        }
      ],
      "source": [
        "numeros_pares = [2, 4, 6, 8]\n",
        "print(numeros_pares)\n",
        "print(numeros_pares + [10, 12, 14])"
      ]
    },
    {
      "cell_type": "markdown",
      "metadata": {
        "id": "fK0d5qes23Yg"
      },
      "source": [
        "Como se puede ver en el ejemplo de arriba la primera lista es la que definimos en la variable `numeros_pares` en la lista posterior hemos concatenado a la lista original tres datos más. Hay que tener especial cuidado en que los valores agregados se han ingresado con elementos entre corchetes.\n",
        "\n",
        "De igual forma que con la **cadena de texto** podemos repetir los datos con el operador para multiplicar, esto es con el asterisco (`*`)."
      ]
    },
    {
      "cell_type": "code",
      "execution_count": 43,
      "metadata": {
        "colab": {
          "base_uri": "https://localhost:8080/"
        },
        "id": "z-fRKt9A25TZ",
        "outputId": "e9f89f2a-b56e-4adc-9f47-8cc6c563b2a9"
      },
      "outputs": [
        {
          "name": "stdout",
          "output_type": "stream",
          "text": [
            "[2, 4, 6, 8]\n",
            "[2, 4, 6, 8, 2, 4, 6, 8, 2, 4, 6, 8, 2, 4, 6, 8]\n"
          ]
        }
      ],
      "source": [
        "numeros_impares = [1, 3, 5, 7]\n",
        "print(numeros_pares)\n",
        "print(numeros_pares * 4)"
      ]
    },
    {
      "cell_type": "markdown",
      "metadata": {
        "id": "9wZFvtfy282S"
      },
      "source": [
        "La primera **lista** que podemos observar en el ejemplo anterior son los elementos que definimos en `numeros_impares`, para que posteriormente la **lista** de abajo muestre los elementos en la **lista** cuatro veces, ya que eso se ha definido al multiplicar nuestra **lista** por cuatro."
      ]
    },
    {
      "cell_type": "markdown",
      "metadata": {
        "id": "KMDjM8Np2-iK"
      },
      "source": [
        "#### 1.4.5 Longitud\n",
        "\n",
        "Hasta el momento hemos aprendido la declaración `print`. En esta ocasión, aprenderemos dos más. La primera de ellas nos indica cuántos elementos hay en una **lista**, la cual es llamada `len` (derivada de la palabra *length*, que se traduce como *longitud*) y se usa de la siguiente manera:"
      ]
    },
    {
      "cell_type": "code",
      "execution_count": 44,
      "metadata": {
        "colab": {
          "base_uri": "https://localhost:8080/"
        },
        "id": "jcKXQoQe3A8m",
        "outputId": "b111e1c6-01cb-42ef-83ac-8b2e8fc0a69d"
      },
      "outputs": [
        {
          "name": "stdout",
          "output_type": "stream",
          "text": [
            "6\n"
          ]
        }
      ],
      "source": [
        "lista_ejemplo = [3, 6, 9, 12, 15, 18]\n",
        "print(len(lista_ejemplo))"
      ]
    },
    {
      "cell_type": "markdown",
      "metadata": {
        "id": "XmNzh-Jk3F4A"
      },
      "source": [
        "Como podrás ver la declaración `len`es inmediatamente seguido por el nombre de la lista entre paréntesis (`(lista)`). Esta función indica la cantidad de elementos no importando qué tipo de datos contenga."
      ]
    },
    {
      "cell_type": "markdown",
      "metadata": {
        "id": "IUtwaOXr3IZ9"
      },
      "source": [
        "#### 1.4.6 _In_ y _not in_\n",
        "\n",
        "Ahora podrás utilizar los **operadores booleanos**, o sea, `True` y `False`. Lo que haremos a continuación es preguntar a **Python** si un elemento está dentro de una lista. Veamos un ejemplo:\n",
        "\n",
        "Imagina que tienes una **lista** con el nombre de varios alumnos y quieres saber si en esa lista está incluida `Alejandra` y `Mauricio`. Si ellos están en la lista, **Python** dirá `True`; si no están, `False`.\n",
        "\n",
        "Lo primero que haremos es la **lista**."
      ]
    },
    {
      "cell_type": "code",
      "execution_count": 45,
      "metadata": {
        "id": "s9uY5LS73K3B"
      },
      "outputs": [],
      "source": [
        "alumnos = ['Armando', 'Bruno', 'Claudia', 'Daniela', 'Alejandra']"
      ]
    },
    {
      "cell_type": "markdown",
      "metadata": {
        "id": "B0WxVaP53NV-"
      },
      "source": [
        "Ahora preguntaremos con la palabra reservada `in` si `Alejandra` está en la lista que previamente generamos. No olvidemos usar `print` para que el resultado se vea en pantalla:"
      ]
    },
    {
      "cell_type": "code",
      "execution_count": 46,
      "metadata": {
        "colab": {
          "base_uri": "https://localhost:8080/"
        },
        "id": "UPA2kIxQ3QUi",
        "outputId": "b483183b-9565-49a2-e698-c63c130e7b5b"
      },
      "outputs": [
        {
          "name": "stdout",
          "output_type": "stream",
          "text": [
            "True\n"
          ]
        }
      ],
      "source": [
        "print('Alejandra' in alumnos)"
      ]
    },
    {
      "cell_type": "markdown",
      "metadata": {
        "id": "7Di7dsux3S6T"
      },
      "source": [
        "Esto se interpreta como «Es **verdadero** que el elemento `Alejandra` está en la lista `alumnos`.»\n",
        "\n",
        "Ahora preguntaremos si `Mauricio` está está en la misma lista:"
      ]
    },
    {
      "cell_type": "code",
      "execution_count": 47,
      "metadata": {
        "colab": {
          "base_uri": "https://localhost:8080/"
        },
        "id": "s07fZnYR3VgJ",
        "outputId": "89d77ddf-9541-470d-d2fa-5d34696f21f2"
      },
      "outputs": [
        {
          "name": "stdout",
          "output_type": "stream",
          "text": [
            "False\n"
          ]
        }
      ],
      "source": [
        "print('Mauricio' in alumnos)"
      ]
    },
    {
      "cell_type": "markdown",
      "metadata": {
        "id": "6k3ge3143YeR"
      },
      "source": [
        "Esto se interpreta como «Es **falso** que el elemento `Mauricio` está en la lista `alumnos`.»\n",
        "\n",
        "Por otro lado podemos preguntar si es o no cierto que un elemento **no** está dentro de una lista, veamos un ejemplo con los mismos nombre que usamos en los ejemplos anteriores."
      ]
    },
    {
      "cell_type": "code",
      "execution_count": 48,
      "metadata": {
        "colab": {
          "base_uri": "https://localhost:8080/"
        },
        "id": "5EgP9kC13alW",
        "outputId": "d429326e-1801-4a06-e0c3-43a3667f2845"
      },
      "outputs": [
        {
          "name": "stdout",
          "output_type": "stream",
          "text": [
            "False\n"
          ]
        }
      ],
      "source": [
        "print('Alejandra' not in alumnos)"
      ]
    },
    {
      "cell_type": "markdown",
      "metadata": {
        "id": "95THcJt-3h3o"
      },
      "source": [
        "Esto se interpreta como «Es **falso** que el elemento `Alejandra` **no está** en la lista `alumnos`.»\n",
        "\n",
        "Por otro lado usando el código:"
      ]
    },
    {
      "cell_type": "code",
      "execution_count": 49,
      "metadata": {
        "colab": {
          "base_uri": "https://localhost:8080/"
        },
        "id": "t1IkGwkc3kAI",
        "outputId": "adf9291c-a990-4cf9-fab4-f04c1b0e58c7"
      },
      "outputs": [
        {
          "name": "stdout",
          "output_type": "stream",
          "text": [
            "True\n"
          ]
        }
      ],
      "source": [
        "print('Mauricio' not in alumnos)"
      ]
    },
    {
      "cell_type": "code",
      "execution_count": null,
      "metadata": {
        "id": "6miyTlVDdj_O"
      },
      "outputs": [],
      "source": []
    },
    {
      "cell_type": "markdown",
      "metadata": {
        "id": "HtmNTxGg3mc7"
      },
      "source": [
        "El cual tendrá una interpretación como «Es **verdadero** que el elemento `Mauricio` **no está** en la lista `alumnos`.»"
      ]
    },
    {
      "cell_type": "markdown",
      "metadata": {
        "id": "8P1Te15IKCDL"
      },
      "source": [
        "##### Ponte a prueba\n",
        "Genera una lista llamada `numeros_primos` que contenga los siguientes valores:\n",
        "1\n",
        "2\n",
        "3\n",
        "5\n",
        "7\n",
        "11\n",
        "13\n",
        "17\n",
        "19\n",
        "23\n",
        "29\n",
        "31\n",
        "\n",
        "Ahora deberás indicar cuál es el tercer valor, el séptimo valor y el último valor usando las expresiones que aprendimos en este apartado."
      ]
    },
    {
      "cell_type": "code",
      "execution_count": 51,
      "metadata": {
        "colab": {
          "base_uri": "https://localhost:8080/"
        },
        "id": "7FMAipmYKplf",
        "outputId": "d9691041-ad21-4399-9842-955eb09cf4d0"
      },
      "outputs": [
        {
          "name": "stdout",
          "output_type": "stream",
          "text": [
            "5\n",
            "17\n",
            "31\n"
          ]
        }
      ],
      "source": [
        "numeros_primos = [1, 2, 3, 5, 7, 11, 13, 17, 19, 23, 29, 31]\n",
        "print(numeros_primos[3])\n",
        "print(numeros_primos[7])\n",
        "print(numeros_primos[-1])"
      ]
    },
    {
      "cell_type": "markdown",
      "metadata": {
        "id": "YIaEBDBX3tqt"
      },
      "source": [
        "### 1.4.7 Tuplas\n",
        "\n",
        "Ahora veremos un concepto muy similar al de **lista**, pero que tiene características distintas: **tuplas**.\n",
        "\n",
        "Una **tupla**, a diferencia de una **lista**, es **inmutable**, lo cual quiere decir que no se puede cambiar después de ser declarada. La forma de diferenciar una de otra es que, como ya sabemos, las **listas** son una serie de elementos que van entre corchetes (`[elemento_1, elemento_2, elemento_3]`), y las **tuplas** van entre paréntesis (`(elemento_1, elemento_2, elemento_3)`).\n",
        "\n",
        "Al igual que en las **listas**, para acceder a sus elementos se invocan mediante el índice del elemento que se quiere consultar. Ejemplo:"
      ]
    },
    {
      "cell_type": "code",
      "execution_count": null,
      "metadata": {
        "colab": {
          "base_uri": "https://localhost:8080/"
        },
        "id": "FFpePMp13wOD",
        "outputId": "522463cf-ce41-4db9-e128-88b93767c7c0"
      },
      "outputs": [
        {
          "name": "stdout",
          "output_type": "stream",
          "text": [
            "sandía\n"
          ]
        }
      ],
      "source": [
        "frutas = ('manzana', 'melón', 'sandía', 'mango')\n",
        "print(frutas[2])"
      ]
    },
    {
      "cell_type": "markdown",
      "metadata": {
        "id": "B8URALNP3zwh"
      },
      "source": [
        "> **NOTA**: Recuerda que los índices en **Python** inician en `0`, por lo que `0` indica el primer elemento, `1` el segundo elemento y así sucesivamente.\n",
        "\n",
        "Como se Indicó previamente las **tuplas** son **inmutables** y tratar de modificar los valores como lo hacemos con una **lista** nos resultará en un error:\n",
        "\n",
        "```\n",
        "frutas = ('manzana', 'melón', 'sandía', 'mango')\n",
        "print(frutas[1]) = 'pera\n",
        "\n",
        "File \"<ipython-input-49-f401e5d336cf>\", line 2\n",
        "    print(frutas[1]) = 'pera'\n",
        "                             ^\n",
        "SyntaxError: can't assign to function call\n",
        "```"
      ]
    },
    {
      "cell_type": "markdown",
      "metadata": {
        "id": "ix3J9JMM5DVv"
      },
      "source": [
        "### 1.4.8 Diccionario\n",
        "\n",
        "Los **diccionarios** son estructuras que permiten asignar claves a los valores, como si a una lista, en lugar de tener los índices clásicos (como 0, 1, 2, 3, etcétera), nosotros le asignaramos la que nos guste, por ejemplo, `'A'`, `'B'`, `'C'`, `‘México’`, `‘Alejandro’`, etcétera.\n",
        "\n",
        "Su estructura es similar a la de las **listas**, pero con algunos cambios, sobre todo porque, en lugar de corchetes (`[]`), lleva llaves (`{}`).\n",
        "\n",
        "La estructura que emplea es la siguiente:"
      ]
    },
    {
      "cell_type": "code",
      "execution_count": null,
      "metadata": {
        "id": "HQA9mskO5owi"
      },
      "outputs": [],
      "source": [
        "ejemplo = {'clave_1': 'elemento_1', 'clave_2': 'elemento_2', 'clave_3': 'elemento_3'}"
      ]
    },
    {
      "cell_type": "markdown",
      "metadata": {
        "id": "AvgwOb295s79"
      },
      "source": [
        "Vamos a entender lo que tenemos arriba, a un **diccionario** lo hemos llamado `ejemplo`, donde contiene tres elementos, verás que están separados por comas (`,`).\n",
        "\n",
        "El primer elemento tiene como clave la palabra `'clave_1'` y el elemento se llama `'elemento_1'`, si esto fuera una **lista** es como si aquí estuviera el `'elemento_1'` y que nosotros para referenciarlo usáramos el índice `0` (de que es el primer elemento), pero como esto no es una **lista** y es un **diccionario**, no usa índices y haremos referencia a el elemento con la clave que le asignamos, o sea `clave_1`. Esto se entenderá mejor con un ejemplo:"
      ]
    },
    {
      "cell_type": "code",
      "execution_count": null,
      "metadata": {
        "colab": {
          "base_uri": "https://localhost:8080/"
        },
        "id": "qciL8Ox46ADp",
        "outputId": "ec770766-4cb3-46b0-89aa-f93ca0872d82"
      },
      "outputs": [
        {
          "name": "stdout",
          "output_type": "stream",
          "text": [
            "elemento_1\n",
            "elemento_3\n"
          ]
        }
      ],
      "source": [
        "ejemplo = {'clave_1': 'elemento_1', 'clave_2': 'elemento_2', 'clave_3': 'elemento_3'}\n",
        "print(ejemplo['clave_1'])\n",
        "print(ejemplo['clave_3'])"
      ]
    },
    {
      "cell_type": "markdown",
      "metadata": {
        "id": "iwfnTJvA6Gnt"
      },
      "source": [
        "## 1.5 Estructuras de control\n",
        "\n",
        "Una vez comprendidos los **operadores booleanos**, podemos analizar algunos aspectos en los que son muy útiles.\n",
        "\n",
        "### Comparaciones\n",
        "\n",
        "Las comparaciones son sentencias lógicas que solo pueden arrojar dos posibles resultados: verdadero (`True`) o falso (`Falso`). En nuestro idioma natural, así como en las matemáticas, es fácil comprender esto; es como preguntar si 20 es mayor que 15, o si la palabra *elección* es lo mismo que *selección* (no desde la perspectiva gramatical, sino, literalmente, letra por letra, incluyendo tildes, espacios y letras mayúsculas).\n",
        "\n",
        "Para llevar a cabo ese análisis, es muy útil recordar los caracteres que se utilizan para comparar dos elementos:\n",
        "\n",
        "| Caracteres | Significado | Ejemplo | Interpretación |\n",
        "| :-----: | ----- | :-----: | ----- |\n",
        "|  `==`   | idéntico a        | `a == b` | `a` es idéntico a `b` |\n",
        "|  `!=`   | distinto a        | `a != b` | `a` es distinto a `b` |\n",
        "|   `>`   | mayor que         | `a > b`  | `a` es mayor que `b` |\n",
        "|  `>=`   | mayor o igual que | `a >= b` | `a` es mayor o igual que `b` |\n",
        "|   `<`   | menor que         | `a < b`  | `a` es menor que `b` |\n",
        "|  `<=`   | menor o igual que | `a <= b` | `a` es menor o igual que `b` |\n",
        "\n",
        "> **NOTA**: Es importante no confundir `=`con `==`, ya que no representan lo mismo: mientras `=`sirve para definir **variables** o **listas**, `==` permite comparar si dos elementos son idénticos.\n",
        "\n",
        "Recuerda que `True` quiere decir que la condición es cierta, y `False`, que es falsa. Con eso en mente, podemos ver algunos ejemplos:"
      ]
    },
    {
      "cell_type": "code",
      "execution_count": null,
      "metadata": {
        "colab": {
          "base_uri": "https://localhost:8080/"
        },
        "id": "5XxOwmz16HsA",
        "outputId": "77c6da97-712f-42b5-96e5-2315d3fe0c2e"
      },
      "outputs": [
        {
          "name": "stdout",
          "output_type": "stream",
          "text": [
            "True\n",
            "True\n",
            "False\n",
            "True\n",
            "True\n",
            "False\n"
          ]
        }
      ],
      "source": [
        "print(8.0 == 8)\n",
        "print('Archivo' != 'archivo')\n",
        "print(6 > 6)\n",
        "print(8.0 >= 8.0)\n",
        "print(3**3 < 30)\n",
        "print(64**(1/2) <= 28//5)"
      ]
    },
    {
      "cell_type": "markdown",
      "metadata": {
        "id": "P2qX_oww6MbH"
      },
      "source": [
        "Revisaremos, línea por línea, cada resultado:\n",
        "\n",
        "- En la primera línea, se hace la comparación `8.0 == 8`, la cual se interpreta como «¿8.0 es igual a 8?». A pesar que un número es **entero** y el otro **flotante**, los dos valores son iguales; por lo tanto, el resultado es `True`.\n",
        "- En la segunda línea se hace la comparación `'Archivo' != 'archivo'`, la cual se interpreta como «¿La **cadena de texto** ‘Archivo’ es distinto a la **cadena de texto** ‘Archivo’?». A pesar que ambas **cadenas de texto** son la misma palabra, una fue escrita con mayúscula y la otra no, por lo que _no son iguales_ y el resultado es `True` (la pregunta es si son distintos).\n",
        "- En la tercera línea se hace la comparación `6 > 6`, la cual se interpreta como «¿6 es mayor que 6?». Ambos valores son iguales o, en otras palabras, uno no es mayor que otro; por lo tanto, la respuesta es `False`.\n",
        "- En la cuarta línea se hace la comparación `8.0 >= 8.0`, la cual se interpreta como «¿8.0 es mayor o igual que 8.0?». Aunque un valor no es mayor que otro, la pregunta no solo cuestiona si es mayor, sino también si los valores son iguales; por ende, la respuesta es `True`.\n",
        "- En la quinta línea se hace la comparación `3**3 < 30`, la cual se interpreta como «¿3 al cubo es menor que 30?». Para ello, desglosamos `3**3`, que arrojará 27. En ese sentido, la pregunta se reinterpretaría como «¿27 es menor que 30?», debido a que la respuesta es sí; entonces, **Python** nos arrojará `True`.\n",
        "- En la sexta línea se hace la comparación `64**(1/2) <= 28//5`, la cual se interpreta como «¿la raíz cuadrada de 64 es menor o igual que el cociente de 28 entre 5?». Para ello, desglosamos `64**(1/2)`, el cual sería 8 (la raíz cuadrada de 64); también desglosamos `28//5`, el cual arrojará como respuesta 5 (28 entre 5 son 5, sin considerar ningún decimal), por lo que la pregunta se reinterpreta como «¿8 es menor o igual que 5?», debido a que la respuesta es no; entonces, **Python** nos indicará `False`."
      ]
    },
    {
      "cell_type": "markdown",
      "metadata": {
        "id": "mAq80yH06PSt"
      },
      "source": [
        "#### 1.5.1 Declaración _if_\n",
        "\n",
        "Una vez comprendida la estructura de una condición podemos usarlas para que **Python** realice una acción dado que se cumpla una petición. Para ello analizaremos la declaración `if`, que en inglés significa «si» (condicional), no confundir con sí (afirmación).\n",
        "\n",
        "La estructura para esta declaración es la siguiente:\n",
        "```\n",
        "if a == b:\n",
        "    print(a + b)\n",
        "```"
      ]
    },
    {
      "cell_type": "markdown",
      "metadata": {
        "id": "usqW41H068gx"
      },
      "source": [
        "Veamos parte por parte:\n",
        "\n",
        "- Primero se escribe la palabra reservada `if`, recuerda que una palabra reservada en **Python** quiere decir que no debe ser usada para nombrar una variable o una lista.\n",
        "\n",
        "- Después de `if` indicamos la condición a cumplir, en el ejemplo se pregunta si `a` y `b` son idénticos, pero puede emplearse cualquier otra comparación. Recuerda que si preguntarás si dos valores son iguales uses `==`, y evites `=` que generará error en tu código.\n",
        "\n",
        "- Inmediatamente después, en la misma línea después de tu argumento de comparación debes escribir dos puntos (`:`), esto es importante, ya que si no lo haces **Python** no comprenderá qué quieres hacer.\n",
        "\n",
        "- Para pasar a la siguiente línea de código sólo basta con presionar la tecla «Enter». Si estás escribiendo tu código en un _software_ para procesamiento de lenguajes de programación o IDLE, verás que al hacer presionado «Enter», no solo pasó a la siguiente línea, sino que el cursor se ha movido un poco a la derecha, a esto se le conoce como **indentación**, es una serie de espacios que indican que esa línea que estás escribiendo es parte de lo que está en la línea anterior, la **indentación** como se ha comentado antes por lo general es colocada de forma automática, aunque puedes hacer lo mismo con la tecla «Tabular» presionada una sola vez o con cuatro espacios vacíos.\n",
        "\n",
        "- En la segunda línea (aquella que ha sido **indentada**) deberá contener la acción que se debe realizar si la condición es `True` (verdadera). En el ejemplo, se imprimiría `a` + `b`.\n",
        "\n",
        "- Si la respuesta es `False`(falsa), no sucedería nada más.\n",
        "\n",
        "Con todo lo anterior, las dos líneas de código se interpretarían como «Si `a` es igual a `b`, entonces se imprimirá `a + b`, de lo contrario no sucederá nada más»\n",
        "\n"
      ]
    },
    {
      "cell_type": "markdown",
      "metadata": {
        "id": "Qz2cy_Q26_iG"
      },
      "source": [
        "#### 1.5.2 Declaración _else_ y _elif_\n",
        "\n",
        "Como hemos visto, podemos pedir a **Python** que haga una acción si una condición es verdadera, pero ¿qué sucede si queremos que haga algo y la respuesta es falsa? En ese caso, solo deberemos incluir en nuestro programa la palabra reservada `else`.\n",
        "\n",
        "Para entenderlo mejor, veamos un ejemplo similar al anterior:\n",
        "\n",
        "```\n",
        "if a == b:\n",
        "    print(a + b)\n",
        "else:\n",
        "    print(b - a)    \n",
        "```"
      ]
    },
    {
      "cell_type": "markdown",
      "metadata": {
        "id": "dBtyaZaC7PKX"
      },
      "source": [
        "Como has podido ver, se han ingresado dos líneas más:\n",
        "\n",
        "- La tercera línea consta de la palabra reservada `else`, seguida de dos puntos (`:`), no deberá contener nada más que estos dos elementos.\n",
        "- La cuarta línea al igual que la segunda está **indentada** y contiene otra instrucción, en nuestro ejemplo indica que si la condición en la primera línea es falsa, entonces mostrará las diferencia de `b` - `a`.\n",
        "\n",
        "Por lo tanto estas líneas de código se interpretarían como «Si `a` es igual a `b`, entonces se imprimirá `a + b`, de lo contrario se imprimirá `b - a`».\n",
        "\n",
        "Ahora que pasa si dentro de la **sentencia _if_** queremos meter otra **sentencia _if_**, algo así como preguntar que si algo no sucede entonces evaluará otra pregunta, vamos a verlo con un ejemplo."
      ]
    },
    {
      "cell_type": "code",
      "execution_count": null,
      "metadata": {
        "colab": {
          "base_uri": "https://localhost:8080/"
        },
        "id": "4We5w8Hb7Rnr",
        "outputId": "7dca4d80-49cf-441c-b69c-91ce463ff7c7"
      },
      "outputs": [
        {
          "name": "stdout",
          "output_type": "stream",
          "text": [
            "Hola, persona no identificada.\n"
          ]
        }
      ],
      "source": [
        "nombre = 'Ana'\n",
        "\n",
        "if nombre == 'Sofia':\n",
        "    print('Hola, Sofia.')\n",
        "else:\n",
        "    if nombre == 'Mariana':\n",
        "        print('Hola, Mariana')\n",
        "    else:\n",
        "        print('Hola, persona no identificada.')"
      ]
    },
    {
      "cell_type": "markdown",
      "metadata": {
        "id": "O4gV_Xk87XqZ"
      },
      "source": [
        "Como te darás cuenta debido a que hacemos una sentencia de condición dentro de otra sentencia de condición, debido a la **indentación**, el código se movió levemente a la derecha (a esto se le llamada **anidar**, cuando dentro de un código, hay otro código más), de hecho notarás que es complicado leer.\n",
        "\n",
        "Su interpretación sería: «Si `nombre` es igual a `'Sofia'`, entonces se imprimirá `'Hola, Sofia.'`, de lo contrario se hará otra condición donde si `nombre` es igual a `Mariana`, entonces se imprimirá `Hola, Mariana`, de lo contrario se imprimirá `'Hola, persona no identificada.'`.\n",
        "\n",
        "Para evitar **anidar** tanto y facilitar su lectura es cuando usamos la sentencia `elif` que es la combinación de las palabras _if_ y _else_, y como podrás imaginar junta las funciones de estas dos sentencias.\n",
        "\n",
        "A continuación, veremos el mismo código de arriba, pero usando esta nueva palabra reservada:"
      ]
    },
    {
      "cell_type": "code",
      "execution_count": null,
      "metadata": {
        "colab": {
          "base_uri": "https://localhost:8080/"
        },
        "id": "ln5iUHzx7ae-",
        "outputId": "ceb6a82d-8a46-45f3-da53-e16a79651233"
      },
      "outputs": [
        {
          "name": "stdout",
          "output_type": "stream",
          "text": [
            "Hola, persona no identificada.\n"
          ]
        }
      ],
      "source": [
        "nombre = 'Ana'\n",
        "\n",
        "if nombre == 'Sofia':\n",
        "    print('Hola, Sofia.')\n",
        "elif nombre == 'Mariana':\n",
        "    print('Hola, Mariana')\n",
        "else:\n",
        "    print('Hola, persona no identificada.')"
      ]
    },
    {
      "cell_type": "markdown",
      "metadata": {
        "id": "45iOc3kf7f4O"
      },
      "source": [
        "Es una estructura más simple de entender y más fácil de escribir, se han modificado las líneas de en medio.\n",
        "\n",
        "- En lugar de usar `else` e `if` (en dos líneas distintas), se usa la palabra `elif` seguida de la nueva condición a evaluar y termina con dos puntos `:`\n",
        "\n",
        "> **NOTA**: Recuerda poder dos puntos (`:`)...\n",
        "> - después de la condición de procede a `if`,\n",
        "> -  después de la condición de procede a `elif`,\n",
        "> -  después de `else`,\n",
        "> de lo contrario el programa indicará que existen errores.\n",
        "\n",
        "El código de ejemplo se interpretaría como «Si la variable `nombre` es idéntica a la **cadena de texto** `'Sofia'`, entonces se muestra la **cadena de texto** `‘Hola, Sofia.’`, de lo contrario, si la variable `nombre` es idéntica a la **cadena de texto** `'Mariana'`, entonces se muestra la **cadena de texto** `‘Hola, Mariana.’`, de lo contrario se muestra la **cadena de texto** `‘Hola, persona no identificada.’`"
      ]
    },
    {
      "cell_type": "markdown",
      "metadata": {
        "id": "H_-dCNqm7j19"
      },
      "source": [
        "### 1.5.3 Bucles\n",
        "\n",
        "Un bucle no es más que un código que se repite cuantas veces nosotros se le señale. Un ejemplo de su uso es cuando, con una línea de código, queremos saludar a todo un grupo de personas, pero en lugar de escribir un saludo por persona pedimos que **Python** lo haga en automático.\n",
        "\n",
        "Aunque existen varios tipos de bucles, nos centraremos en el **bucle for**, la cual hace que un elemento pase por todos los elementos de una lista. Lo anterior es más comprensible mediante un ejemplo:"
      ]
    },
    {
      "cell_type": "code",
      "execution_count": null,
      "metadata": {
        "colab": {
          "base_uri": "https://localhost:8080/"
        },
        "id": "R-jhSqVn7l4A",
        "outputId": "d0b3cf5f-8260-489d-e55a-4d5d198245ad"
      },
      "outputs": [],
      "source": [
        "grupo = ['José', 'Arturo', 'Laura', 'Ulises', 'Fernanda']\n",
        "\n",
        "for alumno in grupo:\n",
        "    print('Buenos días, ' + alumno)"
      ]
    },
    {
      "cell_type": "markdown",
      "metadata": {
        "id": "VZBis9k17vU0"
      },
      "source": [
        "¿Pero qué ha sucedido? Lo explicaremos paso a paso, pero primero diremos cada elemento.\n",
        "\n",
        "- Antes que nada, en nuestro ejemplo hemos definido una **lista** llamada `grupo` el cual contiene el nombre de cinco alumnos, pero desde la perspectiva de **Python** hablamos de una **lista** de **cadenas de texto**.\n",
        "- Primero aparece la palabra reservada `for` que inicia el bucle.\n",
        "- Luego sigue una palabra, la que gustes que es el iterable, en nuestro ejemplo usamos al palabra `alumno`.\n",
        "- Continua con la palabra `in` que como lo dice su nombre es en donde se hará la iteración.\n",
        "- Después es seguido ya sea por una **lista** o incluso un **rango**. En el ejemplo es la **lista** que hicimos al inicio (`grupo`).\n",
        "- El siguiente paso es dar «enter» y como ya sabemos, aquello que va después de `:`necesita ser **indentada**.\n",
        "- La última parte es escribir el código que queremos que se repita, donde veremos que está la palabra iterable.\n",
        "\n",
        "Quizás hayas visto el código y no comprendiste qué sucedió, bueno explicaremos qué sucede.\n",
        "\n",
        "La palabra `alumno` actúa como una variable, o sea que su valor cambia ¿y qué valores tendrá? Pues los que aparecen en la lista donde se itera, esto es en la lista `grupo`, el cual sabemos que tiene cinco valores: `['José', 'Arturo', 'Laura', 'Ulises', 'Fernanda']`.\n",
        "\n",
        "El primer valor que tomará `alumno` es el primer elemento en la lista `grupo`, entonces `alumno` valdrá `'José'`, ahora en la segunda línea de código dice `print('Buenos días, ' + alumno)`, pero como sabemos que `alumno` tiene como valor `‘José’` es como si escribiéramos `print('Buenos días, ' + 'José').`\n",
        "\n",
        "Una vez hecho esto, ahora regresamos a donde estaba el `for` y la palabra `alumno` valdrá el segundo valor de la **lista** `grupo`, o sea `‘Arturo’`. Y se volverá a ejecutar la segunda línea de código `print('Buenos días, ' + alumno)` pero ya sabemos que alumno ya no es el valor `'José'`, sino `‘Arturo’`. Por lo que es como si el código fuera `print('Buenos días, ' + 'Arturo')`.\n",
        "\n",
        "Y lo anterior se repetirá cinco veces, una por cada elemento dentro de la **lista** `grupo`."
      ]
    },
    {
      "cell_type": "markdown",
      "metadata": {
        "id": "kjLmacLJKxQn"
      },
      "source": [
        "##### Ponte a prueba\n",
        "Haz una lista llamada `amigos` donde deberás indicar el nombre de cinco amigos tuyos. Después, con un búcle deberás imprimir en pantalla un saludo a cada uno."
      ]
    },
    {
      "cell_type": "code",
      "execution_count": null,
      "metadata": {
        "colab": {
          "base_uri": "https://localhost:8080/"
        },
        "id": "xGiATNnQLRH_",
        "outputId": "121b9f53-810b-4eb3-ff4a-6b8fbf7a42e1"
      },
      "outputs": [],
      "source": [
        "amigos = ['Ian', 'Julieta', 'Erick', 'Cristina', 'Jorge']\n",
        "for cuate in amigos:\n",
        "  print('Holis ' + cuate)"
      ]
    },
    {
      "cell_type": "markdown",
      "metadata": {
        "id": "1AuW_LCh4h7l"
      },
      "source": [
        "#### Reto de la semana\n",
        "Deberás hacer una lista llamada `estudiantes` con los siguientes nombres (cuidado, son cadenas de texto):\n",
        "- Amanda\n",
        "- Berenice\n",
        "- Celia\n",
        "- Danae\n",
        "- Elena\n",
        "- Fabiola\n",
        "- Giselle\n",
        "\n",
        "Ahora deberás hacer un **blucle for** en la que a cada nombre deberá comprobar si la última letra de cada nombre termina en `a`, si esa condición se cumple deberá decir:\n",
        "\n",
        "`Amanda termina con la letra A`, y si no deberá decir: `Berenice no termina con la letra A`. Esto es para cada nombre en la lista.\n",
        "\n",
        "Pista:\n",
        "```\n",
        "for i in lista_de_objetos:\n",
        "    if i[1] == 'm':\n",
        "        print(i + ' empieza con m')\n",
        "    else:\n",
        "        print(i + ' no empieza con m')\n",
        "```\n"
      ]
    },
    {
      "cell_type": "code",
      "execution_count": 1,
      "metadata": {
        "colab": {
          "base_uri": "https://localhost:8080/"
        },
        "id": "UStVSWiCR4qt",
        "outputId": "9ea4a7af-a482-46b6-a097-1be02a3fb12c"
      },
      "outputs": [
        {
          "name": "stdout",
          "output_type": "stream",
          "text": [
            "Amanda termina con a\n",
            "Berenice no termina con a\n",
            "Celia termina con a\n",
            " Danae no termina con a\n",
            "Elena termina con a\n",
            "Fabiola termina con a\n",
            "Giselle no termina con a\n"
          ]
        }
      ],
      "source": [
        "estudiante = ['Amanda', 'Berenice', 'Celia', ' Danae', 'Elena', 'Fabiola', 'Giselle']\n",
        "for analisis in estudiante:\n",
        "  if analisis[-1] == 'a':\n",
        "    print(analisis + ' termina con a')\n",
        "  else:\n",
        "    print(analisis + ' no termina con a')"
      ]
    },
    {
      "cell_type": "markdown",
      "metadata": {
        "id": "dzHqgjk7UBjE"
      },
      "source": [
        "## Mis próximos pasos\n",
        "\n",
        "Hasta ahora has revisado algunas de las operaciones que Python permite ejecutar. Sabemos que al principio puede resultar algo complicado, pues estás aprendiendo un nuevo idioma; sin embargo, lo más importante es que sepas que cualquier persona puede aprender a programar con Python, pero debe ser paciente, disciplinada y probar constantemente sus avances.\n",
        "\n",
        "¡Con el paso de los días te darás cuenta de todo lo que puedes hacer!\n",
        "\n",
        "Revisa el contenido de la semana 2; así, en la próxima U Class nos enfocaremos en aplicar Python en el campo de la ciencia de datos."
      ]
    }
  ],
  "metadata": {
    "colab": {
      "collapsed_sections": [
        "rH_c5PawXBD_",
        "4IKpBTOtHd-S",
        "sYtVA72hX_CC",
        "-9BvWImqxscC",
        "eKgJFF4DyZc5",
        "OX_Mn3FKypBo",
        "yYYvSaWFy4SH",
        "zycGb1_CJB72",
        "IW42dboR0ghG",
        "sotoooyY0nLl",
        "WMIKl-Dp1Bhf",
        "T_dIhc962WOJ",
        "pyzJuh2F2hSz",
        "7ovBRJVd2q8B",
        "A0pKOJOF2ydx",
        "KMDjM8Np2-iK",
        "IUtwaOXr3IZ9",
        "8P1Te15IKCDL",
        "YIaEBDBX3tqt",
        "ix3J9JMM5DVv",
        "mAq80yH06PSt",
        "Qz2cy_Q26_iG"
      ],
      "provenance": []
    },
    "kernelspec": {
      "display_name": "Python 3",
      "name": "python3"
    },
    "language_info": {
      "codemirror_mode": {
        "name": "ipython",
        "version": 3
      },
      "file_extension": ".py",
      "mimetype": "text/x-python",
      "name": "python",
      "nbconvert_exporter": "python",
      "pygments_lexer": "ipython3",
      "version": "3.11.4"
    }
  },
  "nbformat": 4,
  "nbformat_minor": 0
}
