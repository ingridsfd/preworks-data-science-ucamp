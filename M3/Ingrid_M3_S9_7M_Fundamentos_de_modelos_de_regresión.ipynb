{
  "cells": [
    {
      "cell_type": "markdown",
      "metadata": {
        "id": "kIvVLOhHTpud"
      },
      "source": [
        "# **Bootcamp Ciencia de Datos e Inteligencia Artificial**\n",
        "# **Módulo 3. ML: Modelado supervisado**\n",
        "## Semana 9. Fundamentos de modelos de regresión\n"
      ]
    },
    {
      "cell_type": "markdown",
      "metadata": {
        "id": "8ws0jJYZUjuW"
      },
      "source": [
        "¡Hola! Te damos la bienvenida al módulo 3.\n",
        "\n",
        "Durante esta semana se profundizará en los fundamentos de los modelos de regresión para comprender los principios de un modelo supervisado. Además, se aplicarán los conceptos de las funciones de costo para obtener los mejores resultados dentro de un modelo de regresión."
      ]
    },
    {
      "cell_type": "markdown",
      "metadata": {
        "id": "6bi_QMTY0pw9"
      },
      "source": [
        "## Regresión\n",
        "Probablemente, lo primero que te preguntarás es: **¿Qué es la regresión?**\n",
        "\n",
        "Un **modelo de regresión** se define como la relación entre una o varias variables independendientes con respecto a una variable dependiente.\n",
        "\n",
        "Una manera de ejemplificarlo es con algunos aspectos de la vida diaria: un modelo de regresión puede ser aquel que explica la relación del tiempo y la cantidad de gasolina utilizada al manejar. El conocimiento empírico dicta que se tratará de una relación proporcional, donde a mayor tiempo de conducción, mayor cantidad de combustible se consume.\n",
        "\n",
        "Si se haya ese modelo (representable con una ecuación matemática), es posible determinar cuánto combustible se necesita para manejar durante tres horas.\n",
        "\n",
        "Para conocer la ecuación que facilitará el conocimiento sobre cuánta gasolina se requiere para llegar. por ejemplo, hasta Acapulco, es necesario ejecutar datos en un conjunto.\n",
        "\n",
        "El ejemplo anterior se conoce como **modelo univariable**, pues solo utiliza una variable (el tiempo) para determinar el combustible necesario. Sin embargo, habrá ocasiones en las cuales influyen dos o más variables.\n",
        "\n",
        "Si se recupera el ejemplo de la gasolina que requiere el auto para ir a Acapulco, podrían considerarse también aspectos como la temperatura, la distancia, el tipo de camino, el pago de casetas e incluso si es un viaje unipersonal o con toda la familia.\n",
        "\n",
        "Seguro caíste en cuenta de que la cantidad de combustible está sujeta a múltiples variables y que unas impactarán más que otras. Así, cuando un modelo considera dos o más variables, se le denomina **multivariable**.\n",
        "\n",
        "Ahora que sabes qué se calcula y cuál es relación existente en los modelos de regresión, es momento de escribir código."
      ]
    },
    {
      "cell_type": "markdown",
      "metadata": {
        "id": "MOhHzJX536ts"
      },
      "source": [
        "Notarás que antes de aplicar cualquier código, es necesario hacer el **preprocesado**.\n",
        "\n",
        "## **Pregunta**\n",
        "\n",
        "¿Recuerdas por qué es importante este paso y qué se hace?"
      ]
    },
    {
      "cell_type": "markdown",
      "metadata": {
        "id": "sEGc_AJLx7e3"
      },
      "source": [
        "Para entender mejor este módulo, es necesario importar algunas librerías. Ya  conoces muchas de ellas (como `pandas`, `numpy` y ``matplotlib``), pero otras más son nuevas y se explicarán cuando llegue el momento de usarlas."
      ]
    },
    {
      "cell_type": "code",
      "execution_count": 23,
      "metadata": {
        "colab": {
          "base_uri": "https://localhost:8080/"
        },
        "id": "e6IJJaLteJhX",
        "outputId": "fcca3aa8-5063-4156-988b-1993d1e64589"
      },
      "outputs": [
        {
          "name": "stdout",
          "output_type": "stream",
          "text": [
            "The autoreload extension is already loaded. To reload it, use:\n",
            "  %reload_ext autoreload\n"
          ]
        }
      ],
      "source": [
        "# Importamos las librerias necesarias\n",
        "import numpy as np\n",
        "import pandas as pd\n",
        "%matplotlib inline\n",
        "import matplotlib.pyplot as plt\n",
        "%load_ext autoreload\n",
        "%autoreload 2\n",
        "import datetime\n",
        "\n",
        "# scikit-learn\n",
        "from sklearn.dummy           import DummyClassifier\n",
        "from sklearn.linear_model    import LogisticRegression\n",
        "from sklearn.linear_model    import LinearRegression\n",
        "from sklearn.linear_model    import Lasso\n",
        "from sklearn.metrics         import confusion_matrix\n",
        "from sklearn.metrics         import roc_curve\n",
        "from sklearn.metrics         import roc_auc_score\n",
        "from sklearn.preprocessing   import StandardScaler\n",
        "from sklearn.model_selection import train_test_split"
      ]
    },
    {
      "cell_type": "code",
      "execution_count": 24,
      "metadata": {
        "colab": {
          "base_uri": "https://localhost:8080/"
        },
        "id": "ZPI-y8wiKlrR",
        "outputId": "c4c14289-c528-446b-8747-35c6a02f44fe"
      },
      "outputs": [],
      "source": [
        "#from google.colab import drive\n",
        "#drive.mount('/content/drive')"
      ]
    },
    {
      "cell_type": "markdown",
      "metadata": {
        "id": "R1bHFZyqeJhZ"
      },
      "source": [
        "## Importar set de datos"
      ]
    },
    {
      "cell_type": "markdown",
      "metadata": {
        "id": "gLvphig76Cz4"
      },
      "source": [
        "Se utilizará el archivo CSV llamado `height_weight_gender.csv`, que indica valores como el peso, la altura y el género de algunas personas.\n",
        "\n",
        "**Importante**: los valores de altura están en pulgadas y los de peso, en libras.\n",
        "\n",
        "Descarga el archivo en la siguiente liga: https://drive.google.com/file/d/1zdNlb-zDLLEw02yzRrBlHRSWqI6Z1XWr/view?usp=sharing\n",
        "\n",
        "Recuerda que para usarlo es necesario descargarlo en tu **Drive** y hacer las conexiones pertienentes vistas con anterioridad.\n",
        "\n",
        "En este ejemplo, el  _dataframe_ se nombra `data`; recuerda que puedes llamarlo de alguna forma que facilite su identificación (algunos ciéntificos de datos prefieren denominarlo `df`)."
      ]
    },
    {
      "cell_type": "code",
      "execution_count": 25,
      "metadata": {
        "id": "2RsGwxbAeJhZ"
      },
      "outputs": [],
      "source": [
        "# Importar datos\n",
        "data = pd.read_csv(r'C:\\Users\\Equipo 1\\Downloads\\datasets\\height_weight_genders.csv')"
      ]
    },
    {
      "cell_type": "markdown",
      "metadata": {
        "id": "HjVNbT-N6vwN"
      },
      "source": [
        "Como es costumbre, se echa un vistazo rápido al _dataframe_ con la función `.head()`. Así, se tiene una vita general de los primeros datos y las columnas que lo componen."
      ]
    },
    {
      "cell_type": "code",
      "execution_count": 26,
      "metadata": {},
      "outputs": [
        {
          "name": "stdout",
          "output_type": "stream",
          "text": [
            "<class 'pandas.core.frame.DataFrame'>\n",
            "RangeIndex: 10000 entries, 0 to 9999\n",
            "Data columns (total 3 columns):\n",
            " #   Column  Non-Null Count  Dtype  \n",
            "---  ------  --------------  -----  \n",
            " 0   Gender  10000 non-null  object \n",
            " 1   Height  10000 non-null  float64\n",
            " 2   Weight  10000 non-null  float64\n",
            "dtypes: float64(2), object(1)\n",
            "memory usage: 234.5+ KB\n"
          ]
        }
      ],
      "source": [
        "data.info()"
      ]
    },
    {
      "cell_type": "code",
      "execution_count": 27,
      "metadata": {
        "colab": {
          "base_uri": "https://localhost:8080/",
          "height": 206
        },
        "id": "n2qb5qFmeJhZ",
        "outputId": "daa5c528-f731-4944-e440-2c3914ad730a"
      },
      "outputs": [
        {
          "data": {
            "text/html": [
              "<div>\n",
              "<style scoped>\n",
              "    .dataframe tbody tr th:only-of-type {\n",
              "        vertical-align: middle;\n",
              "    }\n",
              "\n",
              "    .dataframe tbody tr th {\n",
              "        vertical-align: top;\n",
              "    }\n",
              "\n",
              "    .dataframe thead th {\n",
              "        text-align: right;\n",
              "    }\n",
              "</style>\n",
              "<table border=\"1\" class=\"dataframe\">\n",
              "  <thead>\n",
              "    <tr style=\"text-align: right;\">\n",
              "      <th></th>\n",
              "      <th>Gender</th>\n",
              "      <th>Height</th>\n",
              "      <th>Weight</th>\n",
              "    </tr>\n",
              "  </thead>\n",
              "  <tbody>\n",
              "    <tr>\n",
              "      <th>0</th>\n",
              "      <td>Male</td>\n",
              "      <td>73.847017</td>\n",
              "      <td>241.893563</td>\n",
              "    </tr>\n",
              "    <tr>\n",
              "      <th>1</th>\n",
              "      <td>Male</td>\n",
              "      <td>68.781904</td>\n",
              "      <td>162.310473</td>\n",
              "    </tr>\n",
              "    <tr>\n",
              "      <th>2</th>\n",
              "      <td>Male</td>\n",
              "      <td>74.110105</td>\n",
              "      <td>212.740856</td>\n",
              "    </tr>\n",
              "    <tr>\n",
              "      <th>3</th>\n",
              "      <td>Male</td>\n",
              "      <td>71.730978</td>\n",
              "      <td>220.042470</td>\n",
              "    </tr>\n",
              "    <tr>\n",
              "      <th>4</th>\n",
              "      <td>Male</td>\n",
              "      <td>69.881796</td>\n",
              "      <td>206.349801</td>\n",
              "    </tr>\n",
              "  </tbody>\n",
              "</table>\n",
              "</div>"
            ],
            "text/plain": [
              "  Gender     Height      Weight\n",
              "0   Male  73.847017  241.893563\n",
              "1   Male  68.781904  162.310473\n",
              "2   Male  74.110105  212.740856\n",
              "3   Male  71.730978  220.042470\n",
              "4   Male  69.881796  206.349801"
            ]
          },
          "execution_count": 27,
          "metadata": {},
          "output_type": "execute_result"
        }
      ],
      "source": [
        "# Hecha un vistazo a los datos\n",
        "data.head()"
      ]
    },
    {
      "cell_type": "markdown",
      "metadata": {
        "id": "9mVoijDjUHHE"
      },
      "source": [
        "El primer paso consiste en identificar la existencia de valores categóricos que, por su naturaleza, ayudan a hacer cálculos; tal es el caso de las «cadenas de texto».\n",
        "\n",
        "En este ejemplo, existe una columna llamada `gender`, que tiene dos posibles valores: `male` y `female`. Esta puede convertirse en _dummies_, es decir, se separa en dos: si el valor de esa fila es `male`, entonces tendrá un `1`; de no ser así, habrá un `0`; o bien, si el valor de cada fila es `female`, entonces se asignará un `1`, y en caso de no tenerlo, el número será un `0`.\n",
        "\n",
        "A continuación se presenta un ejemplo para analizar el caso antes de aplicarlo en el conjunto de datos:\n",
        "\n",
        "![Dummy](https://drive.google.com/uc?id=154E9SeEl-SFA9bD9oRKw9VwY4DEcNH_k)"
      ]
    },
    {
      "cell_type": "markdown",
      "metadata": {
        "id": "-h7HZ3sAaLwB"
      },
      "source": [
        "Como notarás en el ejemplo de arriba, la columna se separó en dos y los valores se representa con `0` y `1`."
      ]
    },
    {
      "cell_type": "markdown",
      "metadata": {
        "id": "zRfwrDMdaZ13"
      },
      "source": [
        "Convertir una columna en valores _dummies_ no es complicado; para hacerlo, se utiliza la función `pd.get_dummies`, la cual solicita dos parámetros:\n",
        "- `data`: el conjunto de datos, nombrado para fines de este ejemplo como `data` (o `df`).\n",
        "- `columns`: indicación sobre las columnas que se dividen considerando sus valores categóricos. Este valor debe estar entre corchetes, incluso si únicamente se trata de una columna."
      ]
    },
    {
      "cell_type": "code",
      "execution_count": 28,
      "metadata": {
        "id": "w5t8_YiXeJhb"
      },
      "outputs": [
        {
          "data": {
            "text/html": [
              "<div>\n",
              "<style scoped>\n",
              "    .dataframe tbody tr th:only-of-type {\n",
              "        vertical-align: middle;\n",
              "    }\n",
              "\n",
              "    .dataframe tbody tr th {\n",
              "        vertical-align: top;\n",
              "    }\n",
              "\n",
              "    .dataframe thead th {\n",
              "        text-align: right;\n",
              "    }\n",
              "</style>\n",
              "<table border=\"1\" class=\"dataframe\">\n",
              "  <thead>\n",
              "    <tr style=\"text-align: right;\">\n",
              "      <th></th>\n",
              "      <th>Height</th>\n",
              "      <th>Weight</th>\n",
              "      <th>Gender_Female</th>\n",
              "      <th>Gender_Male</th>\n",
              "    </tr>\n",
              "  </thead>\n",
              "  <tbody>\n",
              "    <tr>\n",
              "      <th>0</th>\n",
              "      <td>73.847017</td>\n",
              "      <td>241.893563</td>\n",
              "      <td>False</td>\n",
              "      <td>True</td>\n",
              "    </tr>\n",
              "    <tr>\n",
              "      <th>1</th>\n",
              "      <td>68.781904</td>\n",
              "      <td>162.310473</td>\n",
              "      <td>False</td>\n",
              "      <td>True</td>\n",
              "    </tr>\n",
              "    <tr>\n",
              "      <th>2</th>\n",
              "      <td>74.110105</td>\n",
              "      <td>212.740856</td>\n",
              "      <td>False</td>\n",
              "      <td>True</td>\n",
              "    </tr>\n",
              "    <tr>\n",
              "      <th>3</th>\n",
              "      <td>71.730978</td>\n",
              "      <td>220.042470</td>\n",
              "      <td>False</td>\n",
              "      <td>True</td>\n",
              "    </tr>\n",
              "    <tr>\n",
              "      <th>4</th>\n",
              "      <td>69.881796</td>\n",
              "      <td>206.349801</td>\n",
              "      <td>False</td>\n",
              "      <td>True</td>\n",
              "    </tr>\n",
              "    <tr>\n",
              "      <th>...</th>\n",
              "      <td>...</td>\n",
              "      <td>...</td>\n",
              "      <td>...</td>\n",
              "      <td>...</td>\n",
              "    </tr>\n",
              "    <tr>\n",
              "      <th>9995</th>\n",
              "      <td>66.172652</td>\n",
              "      <td>136.777454</td>\n",
              "      <td>True</td>\n",
              "      <td>False</td>\n",
              "    </tr>\n",
              "    <tr>\n",
              "      <th>9996</th>\n",
              "      <td>67.067155</td>\n",
              "      <td>170.867906</td>\n",
              "      <td>True</td>\n",
              "      <td>False</td>\n",
              "    </tr>\n",
              "    <tr>\n",
              "      <th>9997</th>\n",
              "      <td>63.867992</td>\n",
              "      <td>128.475319</td>\n",
              "      <td>True</td>\n",
              "      <td>False</td>\n",
              "    </tr>\n",
              "    <tr>\n",
              "      <th>9998</th>\n",
              "      <td>69.034243</td>\n",
              "      <td>163.852461</td>\n",
              "      <td>True</td>\n",
              "      <td>False</td>\n",
              "    </tr>\n",
              "    <tr>\n",
              "      <th>9999</th>\n",
              "      <td>61.944246</td>\n",
              "      <td>113.649103</td>\n",
              "      <td>True</td>\n",
              "      <td>False</td>\n",
              "    </tr>\n",
              "  </tbody>\n",
              "</table>\n",
              "<p>10000 rows × 4 columns</p>\n",
              "</div>"
            ],
            "text/plain": [
              "         Height      Weight  Gender_Female  Gender_Male\n",
              "0     73.847017  241.893563          False         True\n",
              "1     68.781904  162.310473          False         True\n",
              "2     74.110105  212.740856          False         True\n",
              "3     71.730978  220.042470          False         True\n",
              "4     69.881796  206.349801          False         True\n",
              "...         ...         ...            ...          ...\n",
              "9995  66.172652  136.777454           True        False\n",
              "9996  67.067155  170.867906           True        False\n",
              "9997  63.867992  128.475319           True        False\n",
              "9998  69.034243  163.852461           True        False\n",
              "9999  61.944246  113.649103           True        False\n",
              "\n",
              "[10000 rows x 4 columns]"
            ]
          },
          "execution_count": 28,
          "metadata": {},
          "output_type": "execute_result"
        }
      ],
      "source": [
        "# Crear variables dummy para la variable categórica \"Gender\"\n",
        "data = pd.get_dummies(data=data, columns=['Gender'])\n",
        "data"
      ]
    },
    {
      "cell_type": "markdown",
      "metadata": {
        "id": "-JXN1Rf5bqtA"
      },
      "source": [
        "El código de abajo es opcional y servirá para visualizar el nombre de las columnas dentro del conjunto de datos. También puedes emplear la función `.columns` para averiguarlo."
      ]
    },
    {
      "cell_type": "code",
      "execution_count": 29,
      "metadata": {
        "colab": {
          "base_uri": "https://localhost:8080/"
        },
        "id": "FoKsheeXeJhb",
        "outputId": "35d82384-377b-49b7-a57c-96a639ba698e"
      },
      "outputs": [
        {
          "name": "stdout",
          "output_type": "stream",
          "text": [
            "Height\n",
            "Weight\n",
            "Gender_Female\n",
            "Gender_Male\n"
          ]
        }
      ],
      "source": [
        "# Mostrar el nombre de las variables dummy creadas\n",
        "print('\\n'.join(data.columns))"
      ]
    },
    {
      "cell_type": "markdown",
      "metadata": {
        "id": "kE7F0UsKb1iu"
      },
      "source": [
        "Otra opción es utilizar `.head()` para ver el resultado de aplicar el _dummie_. Presta especial atención a la columna `gender`, que se dividió en dos."
      ]
    },
    {
      "cell_type": "code",
      "execution_count": 30,
      "metadata": {
        "colab": {
          "base_uri": "https://localhost:8080/",
          "height": 206
        },
        "id": "vf6pQL9LeJhb",
        "outputId": "c86ca163-dced-4d6a-abf3-cb9a192a20e3"
      },
      "outputs": [
        {
          "data": {
            "text/html": [
              "<div>\n",
              "<style scoped>\n",
              "    .dataframe tbody tr th:only-of-type {\n",
              "        vertical-align: middle;\n",
              "    }\n",
              "\n",
              "    .dataframe tbody tr th {\n",
              "        vertical-align: top;\n",
              "    }\n",
              "\n",
              "    .dataframe thead th {\n",
              "        text-align: right;\n",
              "    }\n",
              "</style>\n",
              "<table border=\"1\" class=\"dataframe\">\n",
              "  <thead>\n",
              "    <tr style=\"text-align: right;\">\n",
              "      <th></th>\n",
              "      <th>Height</th>\n",
              "      <th>Weight</th>\n",
              "      <th>Gender_Female</th>\n",
              "      <th>Gender_Male</th>\n",
              "    </tr>\n",
              "  </thead>\n",
              "  <tbody>\n",
              "    <tr>\n",
              "      <th>0</th>\n",
              "      <td>73.847017</td>\n",
              "      <td>241.893563</td>\n",
              "      <td>False</td>\n",
              "      <td>True</td>\n",
              "    </tr>\n",
              "    <tr>\n",
              "      <th>1</th>\n",
              "      <td>68.781904</td>\n",
              "      <td>162.310473</td>\n",
              "      <td>False</td>\n",
              "      <td>True</td>\n",
              "    </tr>\n",
              "    <tr>\n",
              "      <th>2</th>\n",
              "      <td>74.110105</td>\n",
              "      <td>212.740856</td>\n",
              "      <td>False</td>\n",
              "      <td>True</td>\n",
              "    </tr>\n",
              "    <tr>\n",
              "      <th>3</th>\n",
              "      <td>71.730978</td>\n",
              "      <td>220.042470</td>\n",
              "      <td>False</td>\n",
              "      <td>True</td>\n",
              "    </tr>\n",
              "    <tr>\n",
              "      <th>4</th>\n",
              "      <td>69.881796</td>\n",
              "      <td>206.349801</td>\n",
              "      <td>False</td>\n",
              "      <td>True</td>\n",
              "    </tr>\n",
              "  </tbody>\n",
              "</table>\n",
              "</div>"
            ],
            "text/plain": [
              "      Height      Weight  Gender_Female  Gender_Male\n",
              "0  73.847017  241.893563          False         True\n",
              "1  68.781904  162.310473          False         True\n",
              "2  74.110105  212.740856          False         True\n",
              "3  71.730978  220.042470          False         True\n",
              "4  69.881796  206.349801          False         True"
            ]
          },
          "execution_count": 30,
          "metadata": {},
          "output_type": "execute_result"
        }
      ],
      "source": [
        "# Hecha un vistazo a los datos\n",
        "data.head()"
      ]
    },
    {
      "cell_type": "markdown",
      "metadata": {
        "id": "l6ZCDrVeMW1v"
      },
      "source": [
        "Antes de continuar, aprenderás una de las funciones más importantes: `.loc`.\n",
        "\n",
        "Al imaginar el conjunto de datos como una tabla de Excel o una matriz, la función `.loc` permite indicar qué filas y columnas se tomarán, desde una especifica hasta un conjunto.\n",
        "\n",
        "A continuación, entenderás cómo funciona:\n"
      ]
    },
    {
      "cell_type": "markdown",
      "metadata": {
        "id": "2DEfVhY4ON7U"
      },
      "source": [
        "Se escribe `.loc` en el conjunto de datos donde se aplicará esta función, por ejemplo, `data.loc` o `df.loc`.\n",
        "\n",
        "Existen dos formas de escribir esta función:\n",
        "\n",
        "#### **Método 1**\n",
        "\n",
        "```python\n",
        "df[['Columna_A', 'Columna_B', 'Columna_C']].loc[:]\n",
        "```\n",
        "Observa cómo se abre un doble corchete (`[[`) después del conjunto de datos, el cual incluirá las columnas a consultar separados por comas(`,`).\n",
        "\n",
        "Inmediatamente después, se cierran los dos corchetes (`]]`). Si el campose deja vacío (sin los dobles corchetes), Python intepretará que **todas las columnas se seleccionaron**.\n",
        "\n",
        "En este momento se añade `.loc`. Ahora, se abren los corchetes nuevamente, solo que en este caso son simples (`[`).\n",
        "\n",
        "En esta parte se colocan dos puntos (`:`), lo cual significa que se seleccionarán todas las filas.\n",
        "\n",
        "#### **Método 2**\n",
        "```python\n",
        "df.loc[:, ['Columna_A', 'Columna_B', 'Columna_C']]  \n",
        "```\n",
        "Después del conjunto de datos se escribe `.loc`. Enseguida, se abre un corchete simple (`[`). Después, se colocan dos puntos (`:`), que indican la selección detodas las filas.\n",
        "\n",
        "A continuación, se añade una coma (`,`) y se indica entre corchetes (`[` y `]`) las columnas a consultar divididas por comas (`,`). Si este campo se deja vacío (sin los corchetes), Python interpretará que **todas las columnas se seleccionaron**.\n",
        "\n",
        "Finalmente, se cierra el primer corchete colocado (`]`).\n",
        "\n",
        "#### **Explicación de los dos puntos**.\n",
        "\n",
        "Como se mencionó anteriormente, si en la función `.loc` se señala que el rango es `:`, esto quiere decir que se seleccionarán todas las filas; sin embargo, si se añade un número sencillo (por ejemplo, `3`) significa que se tomará el cuarto valor (recuerda, la numeración en Python comienza en `0`), de manera que la primera fila es `0`, la segunda es `1` y así sucesivamente.  \n",
        "\n",
        "Como sabes, Python permite seleccionar más de una columna a través de los rangos donde el primer valor indica la fila de inicio (ten en cuenta que la fila `0` es la primera y la segunda señala dónde se detendrá el rango).\n",
        "\n",
        "![Range](https://drive.google.com/uc?id=1mpU3C4FElm6FihnZtdJnAsPAx3Dt7RG6)\n",
        "\n",
        "El segundo valor indica dónde se detendrá el rango; no obstante, ese valor **no se considera**.\n",
        "\n",
        "La lógica de este método se explica con la imagen anterior donde:\n",
        "- El primer valor señala la primera celda que tomará. En el ejemplo será la fila `4`, es decir, la quinta fila.\n",
        "- El segundo valor indica que el rango se detendrá en la fila `9`, o sea, la décima fila, pero esta última no se tomará en cuenta.\n",
        "\n",
        "![Range2](https://drive.google.com/uc?id=1WFIKpJ1_PT-AAM5J-d7IoGT0j8FNXFDT)\n",
        "\n",
        "Si se deseara tomar los valores de la fila 0 hasta la 5, esto se expresará como `:6`. El espacio vacío antes de los dos puntos (`:`) dicta que comenzará desde el primer valor posible, mientras que el `6`mencionará hasta dónde llegará, pero sin considerarlo; en otras palabras, hasta la fila inmediata anterior (la fila 5).\n",
        "\n",
        "Lo mismo sucedería a la inversa: si se abarca de la fila 7 hasta el último valor, entonces se expresará como `7:`. El espacio vacío después de los dos puntos (`:`) indica que se tomará hasta el último valor de la lista."
      ]
    },
    {
      "cell_type": "markdown",
      "metadata": {
        "id": "HIaKx4zV3_Oc"
      },
      "source": [
        "### Determinar variables dependientes e independientes\n",
        "\n",
        "Analiza el conjunto de datos: el primer paso es detectar qué predecir. En este ejemplo se quiere conocer el peso de una persona, para ello se toma la columna `Weight`, que será la variable objetivo o variable dependiente.\n",
        "\n",
        "Las demás variables condicionarán el resultado final, es decir, tanto la altura (columna `Height`) como el género (columnas `Gender_Female` y `Gender_Male`) serán las variables independientes.\n",
        "\n",
        "La variable dependiente se indica como un **array**, el cual se define como un arreglo, también llamado «vector».\n",
        "\n",
        "Para convertir una columna en vector se recurre a una función de **Numpy**, escrita de la siguiente forma:"
      ]
    },
    {
      "cell_type": "code",
      "execution_count": 31,
      "metadata": {
        "id": "zzShboRx6nEj"
      },
      "outputs": [],
      "source": [
        "# Define la variable target (Weight)\n",
        "y = np.array(data['Weight'])"
      ]
    },
    {
      "cell_type": "markdown",
      "metadata": {
        "id": "uCfLcy976qMC"
      },
      "source": [
        "Analiza lo escrito arriba:\n",
        "- `y =`: crea una nueva variable para usarla posteriormente. Por lo general, se le conoce como `y`, pues en matemáticas se usa con regularidad para expresar la variable dependiente.\n",
        "- `np.array(`: es la función derivada de **Numpy** que convierte un conjunto de datos en un _array_.\n",
        "- `data`: es el conjunto de datos del cual se toma la columna.\n",
        "- `['Weight'])`: es la columna que se transformará en _array_."
      ]
    },
    {
      "cell_type": "markdown",
      "metadata": {
        "id": "DTiheljo9XxW"
      },
      "source": [
        "Hasta aquí el proceso para la variable objetivo o variable dependiente. Ahora, se hará lo propio con las variables independientes. Enseguida, se ejecutará lo aprendido en la función `.loc`"
      ]
    },
    {
      "cell_type": "code",
      "execution_count": null,
      "metadata": {
        "id": "cDN4FAJ1eJhb"
      },
      "outputs": [],
      "source": [
        "# Define el conjunto de variables independientes\n",
        "X = data.loc[:, ['Height' ,'Gender_Female', 'Gender_Male']]"
      ]
    },
    {
      "cell_type": "markdown",
      "metadata": {
        "id": "6XMboHbqPz4y"
      },
      "source": [
        "Verás que esta variable se denomina `X` (en mayúscula), y aunque puedes llamarla como prefieras, regularmente se usa este nombre.\n"
      ]
    },
    {
      "cell_type": "markdown",
      "metadata": {
        "id": "uHkJt91n94cN"
      },
      "source": [
        "##### **Ponte a prueba**\n",
        "\n",
        "Calcular el MSE, MAE y R2 de las siguientes predicciones.\n",
        "\n",
        "Predicción: (43.6,44.4,45.2,46,46.8)\n",
        "Valor real:  (41,45,49,47,44)"
      ]
    },
    {
      "cell_type": "markdown",
      "metadata": {
        "id": "6jjObqWP-bb8"
      },
      "source": [
        "Antes de continuar, es importante asegurarse de que la cantidad de filas tanto en la variable dependiente (`y`) como en las independientes (`X`) es la misma.\n",
        "\n",
        "Para averiguarlo se usa la función `.shape`, que menciona cuántas filas y columnas existen."
      ]
    },
    {
      "cell_type": "code",
      "execution_count": null,
      "metadata": {
        "colab": {
          "base_uri": "https://localhost:8080/"
        },
        "id": "Elx5-XtaeJhc",
        "outputId": "d6529948-f025-4ec1-b5a1-312596b7eaea"
      },
      "outputs": [
        {
          "data": {
            "text/plain": [
              "((10000,), (10000, 3))"
            ]
          },
          "execution_count": 85,
          "metadata": {},
          "output_type": "execute_result"
        }
      ],
      "source": [
        "# Checa el tamaño de las variables dependiente e independientes\n",
        "y.shape, X.shape"
      ]
    },
    {
      "cell_type": "markdown",
      "metadata": {
        "id": "_oD7jJPDJtmH"
      },
      "source": [
        "Como puedes ver, `y` tiene 10 mil filas, al igual que `X``.\n",
        "\n"
      ]
    },
    {
      "cell_type": "markdown",
      "metadata": {
        "id": "Anr8e4qdL4TP"
      },
      "source": [
        "Como último tratamiento antes de llegar a los modelos, es momento de estandarizar las variables independientes `X`.\n",
        "$$\n",
        "Z_i=\\frac{X_i - \\mu}{\\sigma}\n",
        "$$\n",
        "Donde:\n",
        "- $Z_i$ es el nuevo valor estándar por cada valor (fila).\n",
        "- $X_i$ es el valor original de $X$ por cada valor (fila).\n",
        "- $\\mu$ es el promedio de $X$.\n",
        "- $\\sigma$ es la variación estándar de $X$."
      ]
    },
    {
      "cell_type": "code",
      "execution_count": null,
      "metadata": {
        "colab": {
          "base_uri": "https://localhost:8080/"
        },
        "id": "IWTXkj0GLzEA",
        "outputId": "f84d5b8b-c619-4a40-907b-60e15952c9a4"
      },
      "outputs": [
        {
          "name": "stderr",
          "output_type": "stream",
          "text": [
            "C:\\Users\\Equipo 1\\AppData\\Local\\Packages\\PythonSoftwareFoundation.Python.3.11_qbz5n2kfra8p0\\LocalCache\\local-packages\\Python311\\site-packages\\numpy\\core\\fromnumeric.py:3643: FutureWarning: The behavior of DataFrame.std with axis=None is deprecated, in a future version this will reduce over both axes and return a scalar. To retain the old behavior, pass axis=0 (or do not pass axis)\n",
            "  return std(axis=axis, dtype=dtype, out=out, ddof=ddof, **kwargs)\n"
          ]
        }
      ],
      "source": [
        "media_X = X.mean()\n",
        "X = X - media_X\n",
        "std_X = np.std(X)\n",
        "X_std = X / std_X"
      ]
    },
    {
      "cell_type": "markdown",
      "metadata": {
        "id": "JFT9YobHOcuq"
      },
      "source": [
        "Ahora, se aprecia el resultado de X estandarizado."
      ]
    },
    {
      "cell_type": "code",
      "execution_count": null,
      "metadata": {},
      "outputs": [
        {
          "data": {
            "text/html": [
              "<div>\n",
              "<style scoped>\n",
              "    .dataframe tbody tr th:only-of-type {\n",
              "        vertical-align: middle;\n",
              "    }\n",
              "\n",
              "    .dataframe tbody tr th {\n",
              "        vertical-align: top;\n",
              "    }\n",
              "\n",
              "    .dataframe thead th {\n",
              "        text-align: right;\n",
              "    }\n",
              "</style>\n",
              "<table border=\"1\" class=\"dataframe\">\n",
              "  <thead>\n",
              "    <tr style=\"text-align: right;\">\n",
              "      <th></th>\n",
              "      <th>Height</th>\n",
              "      <th>Gender_Female</th>\n",
              "      <th>Gender_Male</th>\n",
              "    </tr>\n",
              "  </thead>\n",
              "  <tbody>\n",
              "    <tr>\n",
              "      <th>count</th>\n",
              "      <td>10000.000000</td>\n",
              "      <td>10000.00000</td>\n",
              "      <td>10000.00000</td>\n",
              "    </tr>\n",
              "    <tr>\n",
              "      <th>mean</th>\n",
              "      <td>0.000000</td>\n",
              "      <td>0.00000</td>\n",
              "      <td>0.00000</td>\n",
              "    </tr>\n",
              "    <tr>\n",
              "      <th>std</th>\n",
              "      <td>1.000050</td>\n",
              "      <td>1.00005</td>\n",
              "      <td>1.00005</td>\n",
              "    </tr>\n",
              "    <tr>\n",
              "      <th>min</th>\n",
              "      <td>-3.146184</td>\n",
              "      <td>-1.00000</td>\n",
              "      <td>-1.00000</td>\n",
              "    </tr>\n",
              "    <tr>\n",
              "      <th>25%</th>\n",
              "      <td>-0.743876</td>\n",
              "      <td>-1.00000</td>\n",
              "      <td>-1.00000</td>\n",
              "    </tr>\n",
              "    <tr>\n",
              "      <th>50%</th>\n",
              "      <td>-0.012863</td>\n",
              "      <td>0.00000</td>\n",
              "      <td>0.00000</td>\n",
              "    </tr>\n",
              "    <tr>\n",
              "      <th>75%</th>\n",
              "      <td>0.729518</td>\n",
              "      <td>1.00000</td>\n",
              "      <td>1.00000</td>\n",
              "    </tr>\n",
              "    <tr>\n",
              "      <th>max</th>\n",
              "      <td>3.283099</td>\n",
              "      <td>1.00000</td>\n",
              "      <td>1.00000</td>\n",
              "    </tr>\n",
              "  </tbody>\n",
              "</table>\n",
              "</div>"
            ],
            "text/plain": [
              "             Height  Gender_Female  Gender_Male\n",
              "count  10000.000000    10000.00000  10000.00000\n",
              "mean       0.000000        0.00000      0.00000\n",
              "std        1.000050        1.00005      1.00005\n",
              "min       -3.146184       -1.00000     -1.00000\n",
              "25%       -0.743876       -1.00000     -1.00000\n",
              "50%       -0.012863        0.00000      0.00000\n",
              "75%        0.729518        1.00000      1.00000\n",
              "max        3.283099        1.00000      1.00000"
            ]
          },
          "execution_count": 19,
          "metadata": {},
          "output_type": "execute_result"
        }
      ],
      "source": [
        "X_std.describe()"
      ]
    },
    {
      "cell_type": "code",
      "execution_count": null,
      "metadata": {
        "colab": {
          "base_uri": "https://localhost:8080/",
          "height": 206
        },
        "id": "OXZ-xKx7ONx8",
        "outputId": "47e62e46-95be-4400-8ca4-d9222ff8e779"
      },
      "outputs": [
        {
          "data": {
            "text/html": [
              "<div>\n",
              "<style scoped>\n",
              "    .dataframe tbody tr th:only-of-type {\n",
              "        vertical-align: middle;\n",
              "    }\n",
              "\n",
              "    .dataframe tbody tr th {\n",
              "        vertical-align: top;\n",
              "    }\n",
              "\n",
              "    .dataframe thead th {\n",
              "        text-align: right;\n",
              "    }\n",
              "</style>\n",
              "<table border=\"1\" class=\"dataframe\">\n",
              "  <thead>\n",
              "    <tr style=\"text-align: right;\">\n",
              "      <th></th>\n",
              "      <th>Height</th>\n",
              "      <th>Gender_Female</th>\n",
              "      <th>Gender_Male</th>\n",
              "    </tr>\n",
              "  </thead>\n",
              "  <tbody>\n",
              "    <tr>\n",
              "      <th>0</th>\n",
              "      <td>1.944061</td>\n",
              "      <td>-1.0</td>\n",
              "      <td>1.0</td>\n",
              "    </tr>\n",
              "    <tr>\n",
              "      <th>1</th>\n",
              "      <td>0.627537</td>\n",
              "      <td>-1.0</td>\n",
              "      <td>1.0</td>\n",
              "    </tr>\n",
              "    <tr>\n",
              "      <th>2</th>\n",
              "      <td>2.012443</td>\n",
              "      <td>-1.0</td>\n",
              "      <td>1.0</td>\n",
              "    </tr>\n",
              "    <tr>\n",
              "      <th>3</th>\n",
              "      <td>1.394060</td>\n",
              "      <td>-1.0</td>\n",
              "      <td>1.0</td>\n",
              "    </tr>\n",
              "    <tr>\n",
              "      <th>4</th>\n",
              "      <td>0.913421</td>\n",
              "      <td>-1.0</td>\n",
              "      <td>1.0</td>\n",
              "    </tr>\n",
              "  </tbody>\n",
              "</table>\n",
              "</div>"
            ],
            "text/plain": [
              "     Height  Gender_Female  Gender_Male\n",
              "0  1.944061           -1.0          1.0\n",
              "1  0.627537           -1.0          1.0\n",
              "2  2.012443           -1.0          1.0\n",
              "3  1.394060           -1.0          1.0\n",
              "4  0.913421           -1.0          1.0"
            ]
          },
          "execution_count": 17,
          "metadata": {},
          "output_type": "execute_result"
        }
      ],
      "source": [
        "X.head()"
      ]
    },
    {
      "cell_type": "markdown",
      "metadata": {
        "id": "OIevH0dTO1Iq"
      },
      "source": [
        "La gran ventaja de usar los valores como _arrays_ es que favorecen el cálculo como vectores, es decir, no se opera uno por uno, sino como un todo, para aplicarlo una sola vez."
      ]
    },
    {
      "cell_type": "markdown",
      "metadata": {
        "id": "yUgYAbBaeJhf"
      },
      "source": [
        "## La fórmula de regresión lineal con tres variables independientes\n",
        "\n",
        "Como se ha mencionado, la regresión líneal es una relación proporcional entre las variables independientes y la variable dependiente. A continuación se muestra la fórmula:\n",
        "$$\n",
        "y = b + w_{0} x_{0} + w_{1} x_{1} + w_{2} x_{2}\n",
        "$$\n",
        "Donde:\n",
        "- $y$ es la variable dependiente, o sea, el resultado de resolver la ecuación.\n",
        "- $b$ es la constante de origen.\n",
        "- $w_i x_i$ (entiéndase que la $i$ vale $0$, $1$, $2$) es el peso que tiene cada variable para el resultado final.\n",
        "\n",
        "No te procupes: a continuación se explicará mediante un ejemplo qué sucede."
      ]
    },
    {
      "cell_type": "markdown",
      "metadata": {
        "id": "7pSASkvASQc5"
      },
      "source": [
        "Imagina que un banco determina cuánto dinero está dispuesto a prestar a sus clientes. Para hacerlo, considera muchas variables, como edad, salario, estado civil, etc.\n",
        "\n",
        "Se parte del supuesto de que para el préstamo de base el banco ofrece 5 mil pesos. Por cada año cumplido prestará mil pesos, por cada peso de salario prestará 0.05 pesos y si la persona está casada, entonces prestará 3 mil pesos más.\n",
        "\n",
        "Por lo tanto, su fórmula sería:\n",
        "$$\n",
        "Préstamo = 5000 + 1000x_1+ 0.05x_2 + 3000x_3\n",
        "$$\n",
        "\n",
        "Cada factor tiene un peso distinto, o sea, uno dará cantidades distintas por cada unidad, similar a la fórmula. $w_i$ dice el peso que tendrá, es decir, su relevancia para determinar el número final. $X_i$ es el valor del conjunto de datos(estandarizado), mientras que $b$ es un valor incial, incluso si los demás valores son $0$.\n",
        "\n",
        "Al usar este modelo, Python determinará los valores."
      ]
    },
    {
      "cell_type": "markdown",
      "metadata": {
        "id": "mn4_Oxtyatm6"
      },
      "source": [
        "Otro detalle a considerar es que la fórmula y los ejemplos son funcionales para tres variables, pero aplican a la cantidad que requieras, por ello, la fórmula se ajustaría de la siguiente manera:\n",
        "$$\n",
        "y = b + w_{i} x_{i} + \\dots + w_{n} x_{n}\n",
        "$$\n"
      ]
    },
    {
      "cell_type": "markdown",
      "metadata": {
        "id": "1DzGDW7geJhf"
      },
      "source": [
        "## Entrenamiento y predicción utilizando el objeto de regresión lineal de sklearn"
      ]
    },
    {
      "cell_type": "markdown",
      "metadata": {
        "id": "bOvpn8CMgiQ6"
      },
      "source": [
        "**Sklearn** es un conjunto de funciones y objetos útiles para los modelos de predicción. Esta herramienta ya tiene los cálculos matemáticos necesarios para predecir y evaluar los modelos.\n",
        "\n",
        "A continuación, aprenderás cómo aplicar **Sklearn** en modelos de regresión líneal."
      ]
    },
    {
      "cell_type": "markdown",
      "metadata": {
        "id": "63yWFEWBh0_q"
      },
      "source": [
        "El primer paso es crear un objeto; en este ejemplo, se llama `modelo_LinReg` (aunque algunos lo nombran como `RegresionLineal`, `modelo`, `RLmodel`) y este objeto será el modelo en sí.\n",
        "\n",
        "El objeto es igual a `LinearRegression()`. Recuerda que esta función se importó al inicio, en la línea:\n",
        "```python\n",
        "from sklearn.linear_model import LinearRegression\n",
        "```\n",
        "\n",
        "Si todavía no has hecho esta importación, este es un buen momento.\n",
        "\n",
        "El segundo paso es «entrenar» el modelo, es decir, hacer el ajuste del objeto con Python; para hacerlo, se recurre a la función `.fit`, la cual tiene dos parámetros: **el primero, las variables independientes** (o `X`, como en el ejemplo), y **la segunda, la variable objetivo** (o `y,` según el ejemplo). Recuerda, la variable dependiente (`y`) es un _array_ de una sola columna, mientras que la variable independiente corresponde a una o más columnas; en cualquier caso, las variables deben tener la misma cantidad de filas.\n",
        "\n",
        "\n",
        "\n"
      ]
    },
    {
      "cell_type": "code",
      "execution_count": null,
      "metadata": {
        "id": "LLwnKdxo8Ph6"
      },
      "outputs": [],
      "source": [
        "from sklearn.linear_model import LinearRegression"
      ]
    },
    {
      "cell_type": "code",
      "execution_count": null,
      "metadata": {
        "colab": {
          "base_uri": "https://localhost:8080/",
          "height": 75
        },
        "id": "oLtNGQgVeJhf",
        "outputId": "80075c20-18b9-4fcb-8472-9a65c9b8ebfc"
      },
      "outputs": [
        {
          "data": {
            "text/html": [
              "<style>#sk-container-id-1 {color: black;}#sk-container-id-1 pre{padding: 0;}#sk-container-id-1 div.sk-toggleable {background-color: white;}#sk-container-id-1 label.sk-toggleable__label {cursor: pointer;display: block;width: 100%;margin-bottom: 0;padding: 0.3em;box-sizing: border-box;text-align: center;}#sk-container-id-1 label.sk-toggleable__label-arrow:before {content: \"▸\";float: left;margin-right: 0.25em;color: #696969;}#sk-container-id-1 label.sk-toggleable__label-arrow:hover:before {color: black;}#sk-container-id-1 div.sk-estimator:hover label.sk-toggleable__label-arrow:before {color: black;}#sk-container-id-1 div.sk-toggleable__content {max-height: 0;max-width: 0;overflow: hidden;text-align: left;background-color: #f0f8ff;}#sk-container-id-1 div.sk-toggleable__content pre {margin: 0.2em;color: black;border-radius: 0.25em;background-color: #f0f8ff;}#sk-container-id-1 input.sk-toggleable__control:checked~div.sk-toggleable__content {max-height: 200px;max-width: 100%;overflow: auto;}#sk-container-id-1 input.sk-toggleable__control:checked~label.sk-toggleable__label-arrow:before {content: \"▾\";}#sk-container-id-1 div.sk-estimator input.sk-toggleable__control:checked~label.sk-toggleable__label {background-color: #d4ebff;}#sk-container-id-1 div.sk-label input.sk-toggleable__control:checked~label.sk-toggleable__label {background-color: #d4ebff;}#sk-container-id-1 input.sk-hidden--visually {border: 0;clip: rect(1px 1px 1px 1px);clip: rect(1px, 1px, 1px, 1px);height: 1px;margin: -1px;overflow: hidden;padding: 0;position: absolute;width: 1px;}#sk-container-id-1 div.sk-estimator {font-family: monospace;background-color: #f0f8ff;border: 1px dotted black;border-radius: 0.25em;box-sizing: border-box;margin-bottom: 0.5em;}#sk-container-id-1 div.sk-estimator:hover {background-color: #d4ebff;}#sk-container-id-1 div.sk-parallel-item::after {content: \"\";width: 100%;border-bottom: 1px solid gray;flex-grow: 1;}#sk-container-id-1 div.sk-label:hover label.sk-toggleable__label {background-color: #d4ebff;}#sk-container-id-1 div.sk-serial::before {content: \"\";position: absolute;border-left: 1px solid gray;box-sizing: border-box;top: 0;bottom: 0;left: 50%;z-index: 0;}#sk-container-id-1 div.sk-serial {display: flex;flex-direction: column;align-items: center;background-color: white;padding-right: 0.2em;padding-left: 0.2em;position: relative;}#sk-container-id-1 div.sk-item {position: relative;z-index: 1;}#sk-container-id-1 div.sk-parallel {display: flex;align-items: stretch;justify-content: center;background-color: white;position: relative;}#sk-container-id-1 div.sk-item::before, #sk-container-id-1 div.sk-parallel-item::before {content: \"\";position: absolute;border-left: 1px solid gray;box-sizing: border-box;top: 0;bottom: 0;left: 50%;z-index: -1;}#sk-container-id-1 div.sk-parallel-item {display: flex;flex-direction: column;z-index: 1;position: relative;background-color: white;}#sk-container-id-1 div.sk-parallel-item:first-child::after {align-self: flex-end;width: 50%;}#sk-container-id-1 div.sk-parallel-item:last-child::after {align-self: flex-start;width: 50%;}#sk-container-id-1 div.sk-parallel-item:only-child::after {width: 0;}#sk-container-id-1 div.sk-dashed-wrapped {border: 1px dashed gray;margin: 0 0.4em 0.5em 0.4em;box-sizing: border-box;padding-bottom: 0.4em;background-color: white;}#sk-container-id-1 div.sk-label label {font-family: monospace;font-weight: bold;display: inline-block;line-height: 1.2em;}#sk-container-id-1 div.sk-label-container {text-align: center;}#sk-container-id-1 div.sk-container {/* jupyter's `normalize.less` sets `[hidden] { display: none; }` but bootstrap.min.css set `[hidden] { display: none !important; }` so we also need the `!important` here to be able to override the default hidden behavior on the sphinx rendered scikit-learn.org. See: https://github.com/scikit-learn/scikit-learn/issues/21755 */display: inline-block !important;position: relative;}#sk-container-id-1 div.sk-text-repr-fallback {display: none;}</style><div id=\"sk-container-id-1\" class=\"sk-top-container\"><div class=\"sk-text-repr-fallback\"><pre>LinearRegression()</pre><b>In a Jupyter environment, please rerun this cell to show the HTML representation or trust the notebook. <br />On GitHub, the HTML representation is unable to render, please try loading this page with nbviewer.org.</b></div><div class=\"sk-container\" hidden><div class=\"sk-item\"><div class=\"sk-estimator sk-toggleable\"><input class=\"sk-toggleable__control sk-hidden--visually\" id=\"sk-estimator-id-1\" type=\"checkbox\" checked><label for=\"sk-estimator-id-1\" class=\"sk-toggleable__label sk-toggleable__label-arrow\">LinearRegression</label><div class=\"sk-toggleable__content\"><pre>LinearRegression()</pre></div></div></div></div></div>"
            ],
            "text/plain": [
              "LinearRegression()"
            ]
          },
          "execution_count": 21,
          "metadata": {},
          "output_type": "execute_result"
        }
      ],
      "source": [
        "modelo_LinReg = LinearRegression() #necesitamos pasar datos estandarizados para hacer la predicción\n",
        "modelo_LinReg.fit(X, y)\n"
      ]
    },
    {
      "cell_type": "code",
      "execution_count": 22,
      "metadata": {},
      "outputs": [],
      "source": [
        "X['Height'] = (X['Height'] - X['Height'].mean()) / X['Height'].std(ddof= 0)"
      ]
    },
    {
      "cell_type": "markdown",
      "metadata": {
        "id": "WhEVFXQlkv5L"
      },
      "source": [
        "Al correr el modelo pensarás que no ha sucedido nada, pero en realidad el objeto `modelo_LinReg` se ha entrenado.\n",
        "\n",
        "Para predecir el valor de la variable dependiente `y`, se solicita con la función `.predict`, aplicable solo al objeto del modelo. En el ejemplo se escribiría como sigue:\n",
        "```python\n",
        "prediccion_y = modelo_LinReg.predict()\n",
        "```\n",
        "\n",
        "En los paréntesis se indican las variables dependientes para predecir `y`. En este punto, **los tres valores están escalados** (los datos ingresados en `X`) y deben **respetar ese orden**."
      ]
    },
    {
      "cell_type": "markdown",
      "metadata": {
        "id": "5iqvyhB4mQoq"
      },
      "source": [
        "Ejemplo de lo anterior es que, al considerar los valores **reales** (en pulgadas y libras) de:\n",
        "\n",
        "- `Height` = 60\n",
        "- `Gender_Female` = 1\n",
        "- `Gender_Male` = 0\n",
        "\n",
        "Estos se representan como un nuevo _dataframe_. Para facilitar los cálculos, se asignarán a una variable, llamada en este caso `pregunta`."
      ]
    },
    {
      "cell_type": "code",
      "execution_count": null,
      "metadata": {
        "id": "LKHpkWsq6KIj"
      },
      "outputs": [],
      "source": [
        "pregunta = pd.DataFrame({\n",
        "    'Height': [60],\n",
        "    'Gender_Female': [1],\n",
        "    'Gender_Male': [0]\n",
        "})"
      ]
    },
    {
      "cell_type": "markdown",
      "metadata": {
        "id": "Pk5rwFoXxJPq"
      },
      "source": [
        "Después de esto, se escalan estos valores con la siguiente fórmula:\n",
        "$$\n",
        "Z_i = \\frac{X_i - \\mu}{\\sigma}\n",
        "$$"
      ]
    },
    {
      "cell_type": "code",
      "execution_count": null,
      "metadata": {
        "colab": {
          "base_uri": "https://localhost:8080/",
          "height": 89
        },
        "id": "JnU_pIpqxPd0",
        "outputId": "7cf49e4d-c720-43d2-cb28-6cf412182af4"
      },
      "outputs": [
        {
          "data": {
            "text/html": [
              "\n",
              "  <div id=\"df-69390a6c-4a09-480c-bbf3-88aad5ab58c8\" class=\"colab-df-container\">\n",
              "    <div>\n",
              "<style scoped>\n",
              "    .dataframe tbody tr th:only-of-type {\n",
              "        vertical-align: middle;\n",
              "    }\n",
              "\n",
              "    .dataframe tbody tr th {\n",
              "        vertical-align: top;\n",
              "    }\n",
              "\n",
              "    .dataframe thead th {\n",
              "        text-align: right;\n",
              "    }\n",
              "</style>\n",
              "<table border=\"1\" class=\"dataframe\">\n",
              "  <thead>\n",
              "    <tr style=\"text-align: right;\">\n",
              "      <th></th>\n",
              "      <th>Height</th>\n",
              "      <th>Gender_Female</th>\n",
              "      <th>Gender_Male</th>\n",
              "    </tr>\n",
              "  </thead>\n",
              "  <tbody>\n",
              "    <tr>\n",
              "      <th>0</th>\n",
              "      <td>-1.655057</td>\n",
              "      <td>1.0</td>\n",
              "      <td>-1.0</td>\n",
              "    </tr>\n",
              "  </tbody>\n",
              "</table>\n",
              "</div>\n",
              "    <div class=\"colab-df-buttons\">\n",
              "\n",
              "  <div class=\"colab-df-container\">\n",
              "    <button class=\"colab-df-convert\" onclick=\"convertToInteractive('df-69390a6c-4a09-480c-bbf3-88aad5ab58c8')\"\n",
              "            title=\"Convert this dataframe to an interactive table.\"\n",
              "            style=\"display:none;\">\n",
              "\n",
              "  <svg xmlns=\"http://www.w3.org/2000/svg\" height=\"24px\" viewBox=\"0 -960 960 960\">\n",
              "    <path d=\"M120-120v-720h720v720H120Zm60-500h600v-160H180v160Zm220 220h160v-160H400v160Zm0 220h160v-160H400v160ZM180-400h160v-160H180v160Zm440 0h160v-160H620v160ZM180-180h160v-160H180v160Zm440 0h160v-160H620v160Z\"/>\n",
              "  </svg>\n",
              "    </button>\n",
              "\n",
              "  <style>\n",
              "    .colab-df-container {\n",
              "      display:flex;\n",
              "      gap: 12px;\n",
              "    }\n",
              "\n",
              "    .colab-df-convert {\n",
              "      background-color: #E8F0FE;\n",
              "      border: none;\n",
              "      border-radius: 50%;\n",
              "      cursor: pointer;\n",
              "      display: none;\n",
              "      fill: #1967D2;\n",
              "      height: 32px;\n",
              "      padding: 0 0 0 0;\n",
              "      width: 32px;\n",
              "    }\n",
              "\n",
              "    .colab-df-convert:hover {\n",
              "      background-color: #E2EBFA;\n",
              "      box-shadow: 0px 1px 2px rgba(60, 64, 67, 0.3), 0px 1px 3px 1px rgba(60, 64, 67, 0.15);\n",
              "      fill: #174EA6;\n",
              "    }\n",
              "\n",
              "    .colab-df-buttons div {\n",
              "      margin-bottom: 4px;\n",
              "    }\n",
              "\n",
              "    [theme=dark] .colab-df-convert {\n",
              "      background-color: #3B4455;\n",
              "      fill: #D2E3FC;\n",
              "    }\n",
              "\n",
              "    [theme=dark] .colab-df-convert:hover {\n",
              "      background-color: #434B5C;\n",
              "      box-shadow: 0px 1px 3px 1px rgba(0, 0, 0, 0.15);\n",
              "      filter: drop-shadow(0px 1px 2px rgba(0, 0, 0, 0.3));\n",
              "      fill: #FFFFFF;\n",
              "    }\n",
              "  </style>\n",
              "\n",
              "    <script>\n",
              "      const buttonEl =\n",
              "        document.querySelector('#df-69390a6c-4a09-480c-bbf3-88aad5ab58c8 button.colab-df-convert');\n",
              "      buttonEl.style.display =\n",
              "        google.colab.kernel.accessAllowed ? 'block' : 'none';\n",
              "\n",
              "      async function convertToInteractive(key) {\n",
              "        const element = document.querySelector('#df-69390a6c-4a09-480c-bbf3-88aad5ab58c8');\n",
              "        const dataTable =\n",
              "          await google.colab.kernel.invokeFunction('convertToInteractive',\n",
              "                                                    [key], {});\n",
              "        if (!dataTable) return;\n",
              "\n",
              "        const docLinkHtml = 'Like what you see? Visit the ' +\n",
              "          '<a target=\"_blank\" href=https://colab.research.google.com/notebooks/data_table.ipynb>data table notebook</a>'\n",
              "          + ' to learn more about interactive tables.';\n",
              "        element.innerHTML = '';\n",
              "        dataTable['output_type'] = 'display_data';\n",
              "        await google.colab.output.renderOutput(dataTable, element);\n",
              "        const docLink = document.createElement('div');\n",
              "        docLink.innerHTML = docLinkHtml;\n",
              "        element.appendChild(docLink);\n",
              "      }\n",
              "    </script>\n",
              "  </div>\n",
              "\n",
              "\n",
              "<div id=\"df-2472728e-0feb-4e9f-94c5-c9edd3b94b6c\">\n",
              "  <button class=\"colab-df-quickchart\" onclick=\"quickchart('df-2472728e-0feb-4e9f-94c5-c9edd3b94b6c')\"\n",
              "            title=\"Suggest charts.\"\n",
              "            style=\"display:none;\">\n",
              "\n",
              "<svg xmlns=\"http://www.w3.org/2000/svg\" height=\"24px\"viewBox=\"0 0 24 24\"\n",
              "     width=\"24px\">\n",
              "    <g>\n",
              "        <path d=\"M19 3H5c-1.1 0-2 .9-2 2v14c0 1.1.9 2 2 2h14c1.1 0 2-.9 2-2V5c0-1.1-.9-2-2-2zM9 17H7v-7h2v7zm4 0h-2V7h2v10zm4 0h-2v-4h2v4z\"/>\n",
              "    </g>\n",
              "</svg>\n",
              "  </button>\n",
              "\n",
              "<style>\n",
              "  .colab-df-quickchart {\n",
              "    background-color: #E8F0FE;\n",
              "    border: none;\n",
              "    border-radius: 50%;\n",
              "    cursor: pointer;\n",
              "    display: none;\n",
              "    fill: #1967D2;\n",
              "    height: 32px;\n",
              "    padding: 0 0 0 0;\n",
              "    width: 32px;\n",
              "  }\n",
              "\n",
              "  .colab-df-quickchart:hover {\n",
              "    background-color: #E2EBFA;\n",
              "    box-shadow: 0px 1px 2px rgba(60, 64, 67, 0.3), 0px 1px 3px 1px rgba(60, 64, 67, 0.15);\n",
              "    fill: #174EA6;\n",
              "  }\n",
              "\n",
              "  [theme=dark] .colab-df-quickchart {\n",
              "    background-color: #3B4455;\n",
              "    fill: #D2E3FC;\n",
              "  }\n",
              "\n",
              "  [theme=dark] .colab-df-quickchart:hover {\n",
              "    background-color: #434B5C;\n",
              "    box-shadow: 0px 1px 3px 1px rgba(0, 0, 0, 0.15);\n",
              "    filter: drop-shadow(0px 1px 2px rgba(0, 0, 0, 0.3));\n",
              "    fill: #FFFFFF;\n",
              "  }\n",
              "</style>\n",
              "\n",
              "  <script>\n",
              "    async function quickchart(key) {\n",
              "      const charts = await google.colab.kernel.invokeFunction(\n",
              "          'suggestCharts', [key], {});\n",
              "    }\n",
              "    (() => {\n",
              "      let quickchartButtonEl =\n",
              "        document.querySelector('#df-2472728e-0feb-4e9f-94c5-c9edd3b94b6c button');\n",
              "      quickchartButtonEl.style.display =\n",
              "        google.colab.kernel.accessAllowed ? 'block' : 'none';\n",
              "    })();\n",
              "  </script>\n",
              "</div>\n",
              "    </div>\n",
              "  </div>\n"
            ],
            "text/plain": [
              "     Height  Gender_Female  Gender_Male\n",
              "0 -1.655057            1.0         -1.0"
            ]
          },
          "execution_count": 91,
          "metadata": {},
          "output_type": "execute_result"
        }
      ],
      "source": [
        "#Previamente ya calculamos media_X y std_X\n",
        "pregunta_escalada = (pregunta - media_X) / std_X\n",
        "pregunta_escalada"
      ]
    },
    {
      "cell_type": "markdown",
      "metadata": {
        "id": "AiEKAD3620s4"
      },
      "source": [
        "Con lo anterior se obtienen los datos escalados:\n",
        "- `Height` = 60 $\\rightarrow$ -16.829194\n",
        "- `Gender_Female` = 1 $\\rightarrow$ 1\n",
        "- `Gender_Male` = 0 $\\rightarrow$ -1\n",
        "\n",
        "Ahora, se predice el peso de una persona que mide 60 pulgadas y de género femenino."
      ]
    },
    {
      "cell_type": "code",
      "execution_count": null,
      "metadata": {
        "colab": {
          "base_uri": "https://localhost:8080/"
        },
        "id": "j2ZGTmEZoLgq",
        "outputId": "782704d8-a565-442a-f5cb-bef1a250c394"
      },
      "outputs": [
        {
          "data": {
            "text/plain": [
              "array([113.69297115])"
            ]
          },
          "execution_count": 92,
          "metadata": {},
          "output_type": "execute_result"
        }
      ],
      "source": [
        "modelo_LinReg.predict(pregunta_escalada)"
      ]
    },
    {
      "cell_type": "markdown",
      "metadata": {
        "id": "bX19gIpt3_yW"
      },
      "source": [
        "Gracias a lo anterior se predice que la persona pesa 113.69 libras."
      ]
    },
    {
      "cell_type": "markdown",
      "metadata": {
        "id": "klH4et9zo9Os"
      },
      "source": [
        "Al aplicar la predicción a las variables independientes o `X` se obtendrá una predicción para la variable dependiente o `y`.\n",
        "\n",
        "Podrías pensar que esta prediccion corresponde a los datos reales, pero la verdad no es así. Esto se explica porque los valores predecidos responden a cálculos matemáticos que tratan de asemejarse a la realidad, pero lo cierto es que esta pocas veces obedece a fórmulas matemáticas.\n",
        "\n",
        "En el ejemplo, al tomar como referencia el género y la estatura se adivina el peso, pero este dato puede variar, incluso si dos personas presentaran las mismas características de género y estatura.\n",
        "\n",
        "El siguiente código hará la predicción del peso de todo el conjunto de datos."
      ]
    },
    {
      "cell_type": "code",
      "execution_count": null,
      "metadata": {
        "id": "svaNVybSkMzO"
      },
      "outputs": [],
      "source": [
        "prediccion_y = modelo_LinReg.predict(X)"
      ]
    },
    {
      "cell_type": "markdown",
      "metadata": {
        "id": "UiS5ytq4qgyG"
      },
      "source": [
        "A continuación, se muestra una comparación entre la variable dependiente real (`y`) y la variable dependiente predecida (`prediccion_y`). Recuerda, estos valores están escalados."
      ]
    },
    {
      "cell_type": "code",
      "execution_count": null,
      "metadata": {
        "colab": {
          "base_uri": "https://localhost:8080/",
          "height": 206
        },
        "id": "erzMVagMqzHv",
        "outputId": "8a248e76-6b2a-449c-dbd8-24af3fac2eb2"
      },
      "outputs": [
        {
          "data": {
            "text/html": [
              "\n",
              "  <div id=\"df-21240869-55b6-4088-92ad-59fc72a5c47e\" class=\"colab-df-container\">\n",
              "    <div>\n",
              "<style scoped>\n",
              "    .dataframe tbody tr th:only-of-type {\n",
              "        vertical-align: middle;\n",
              "    }\n",
              "\n",
              "    .dataframe tbody tr th {\n",
              "        vertical-align: top;\n",
              "    }\n",
              "\n",
              "    .dataframe thead th {\n",
              "        text-align: right;\n",
              "    }\n",
              "</style>\n",
              "<table border=\"1\" class=\"dataframe\">\n",
              "  <thead>\n",
              "    <tr style=\"text-align: right;\">\n",
              "      <th></th>\n",
              "      <th>Realidad</th>\n",
              "      <th>Prediccion</th>\n",
              "    </tr>\n",
              "  </thead>\n",
              "  <tbody>\n",
              "    <tr>\n",
              "      <th>0</th>\n",
              "      <td>241.893563</td>\n",
              "      <td>215.833489</td>\n",
              "    </tr>\n",
              "    <tr>\n",
              "      <th>1</th>\n",
              "      <td>162.310473</td>\n",
              "      <td>185.559606</td>\n",
              "    </tr>\n",
              "    <tr>\n",
              "      <th>2</th>\n",
              "      <td>212.740856</td>\n",
              "      <td>217.405952</td>\n",
              "    </tr>\n",
              "    <tr>\n",
              "      <th>3</th>\n",
              "      <td>220.042470</td>\n",
              "      <td>203.186050</td>\n",
              "    </tr>\n",
              "    <tr>\n",
              "      <th>4</th>\n",
              "      <td>206.349801</td>\n",
              "      <td>192.133595</td>\n",
              "    </tr>\n",
              "  </tbody>\n",
              "</table>\n",
              "</div>\n",
              "    <div class=\"colab-df-buttons\">\n",
              "\n",
              "  <div class=\"colab-df-container\">\n",
              "    <button class=\"colab-df-convert\" onclick=\"convertToInteractive('df-21240869-55b6-4088-92ad-59fc72a5c47e')\"\n",
              "            title=\"Convert this dataframe to an interactive table.\"\n",
              "            style=\"display:none;\">\n",
              "\n",
              "  <svg xmlns=\"http://www.w3.org/2000/svg\" height=\"24px\" viewBox=\"0 -960 960 960\">\n",
              "    <path d=\"M120-120v-720h720v720H120Zm60-500h600v-160H180v160Zm220 220h160v-160H400v160Zm0 220h160v-160H400v160ZM180-400h160v-160H180v160Zm440 0h160v-160H620v160ZM180-180h160v-160H180v160Zm440 0h160v-160H620v160Z\"/>\n",
              "  </svg>\n",
              "    </button>\n",
              "\n",
              "  <style>\n",
              "    .colab-df-container {\n",
              "      display:flex;\n",
              "      gap: 12px;\n",
              "    }\n",
              "\n",
              "    .colab-df-convert {\n",
              "      background-color: #E8F0FE;\n",
              "      border: none;\n",
              "      border-radius: 50%;\n",
              "      cursor: pointer;\n",
              "      display: none;\n",
              "      fill: #1967D2;\n",
              "      height: 32px;\n",
              "      padding: 0 0 0 0;\n",
              "      width: 32px;\n",
              "    }\n",
              "\n",
              "    .colab-df-convert:hover {\n",
              "      background-color: #E2EBFA;\n",
              "      box-shadow: 0px 1px 2px rgba(60, 64, 67, 0.3), 0px 1px 3px 1px rgba(60, 64, 67, 0.15);\n",
              "      fill: #174EA6;\n",
              "    }\n",
              "\n",
              "    .colab-df-buttons div {\n",
              "      margin-bottom: 4px;\n",
              "    }\n",
              "\n",
              "    [theme=dark] .colab-df-convert {\n",
              "      background-color: #3B4455;\n",
              "      fill: #D2E3FC;\n",
              "    }\n",
              "\n",
              "    [theme=dark] .colab-df-convert:hover {\n",
              "      background-color: #434B5C;\n",
              "      box-shadow: 0px 1px 3px 1px rgba(0, 0, 0, 0.15);\n",
              "      filter: drop-shadow(0px 1px 2px rgba(0, 0, 0, 0.3));\n",
              "      fill: #FFFFFF;\n",
              "    }\n",
              "  </style>\n",
              "\n",
              "    <script>\n",
              "      const buttonEl =\n",
              "        document.querySelector('#df-21240869-55b6-4088-92ad-59fc72a5c47e button.colab-df-convert');\n",
              "      buttonEl.style.display =\n",
              "        google.colab.kernel.accessAllowed ? 'block' : 'none';\n",
              "\n",
              "      async function convertToInteractive(key) {\n",
              "        const element = document.querySelector('#df-21240869-55b6-4088-92ad-59fc72a5c47e');\n",
              "        const dataTable =\n",
              "          await google.colab.kernel.invokeFunction('convertToInteractive',\n",
              "                                                    [key], {});\n",
              "        if (!dataTable) return;\n",
              "\n",
              "        const docLinkHtml = 'Like what you see? Visit the ' +\n",
              "          '<a target=\"_blank\" href=https://colab.research.google.com/notebooks/data_table.ipynb>data table notebook</a>'\n",
              "          + ' to learn more about interactive tables.';\n",
              "        element.innerHTML = '';\n",
              "        dataTable['output_type'] = 'display_data';\n",
              "        await google.colab.output.renderOutput(dataTable, element);\n",
              "        const docLink = document.createElement('div');\n",
              "        docLink.innerHTML = docLinkHtml;\n",
              "        element.appendChild(docLink);\n",
              "      }\n",
              "    </script>\n",
              "  </div>\n",
              "\n",
              "\n",
              "<div id=\"df-802b2f02-eee7-454c-af20-674f689a5f98\">\n",
              "  <button class=\"colab-df-quickchart\" onclick=\"quickchart('df-802b2f02-eee7-454c-af20-674f689a5f98')\"\n",
              "            title=\"Suggest charts.\"\n",
              "            style=\"display:none;\">\n",
              "\n",
              "<svg xmlns=\"http://www.w3.org/2000/svg\" height=\"24px\"viewBox=\"0 0 24 24\"\n",
              "     width=\"24px\">\n",
              "    <g>\n",
              "        <path d=\"M19 3H5c-1.1 0-2 .9-2 2v14c0 1.1.9 2 2 2h14c1.1 0 2-.9 2-2V5c0-1.1-.9-2-2-2zM9 17H7v-7h2v7zm4 0h-2V7h2v10zm4 0h-2v-4h2v4z\"/>\n",
              "    </g>\n",
              "</svg>\n",
              "  </button>\n",
              "\n",
              "<style>\n",
              "  .colab-df-quickchart {\n",
              "    background-color: #E8F0FE;\n",
              "    border: none;\n",
              "    border-radius: 50%;\n",
              "    cursor: pointer;\n",
              "    display: none;\n",
              "    fill: #1967D2;\n",
              "    height: 32px;\n",
              "    padding: 0 0 0 0;\n",
              "    width: 32px;\n",
              "  }\n",
              "\n",
              "  .colab-df-quickchart:hover {\n",
              "    background-color: #E2EBFA;\n",
              "    box-shadow: 0px 1px 2px rgba(60, 64, 67, 0.3), 0px 1px 3px 1px rgba(60, 64, 67, 0.15);\n",
              "    fill: #174EA6;\n",
              "  }\n",
              "\n",
              "  [theme=dark] .colab-df-quickchart {\n",
              "    background-color: #3B4455;\n",
              "    fill: #D2E3FC;\n",
              "  }\n",
              "\n",
              "  [theme=dark] .colab-df-quickchart:hover {\n",
              "    background-color: #434B5C;\n",
              "    box-shadow: 0px 1px 3px 1px rgba(0, 0, 0, 0.15);\n",
              "    filter: drop-shadow(0px 1px 2px rgba(0, 0, 0, 0.3));\n",
              "    fill: #FFFFFF;\n",
              "  }\n",
              "</style>\n",
              "\n",
              "  <script>\n",
              "    async function quickchart(key) {\n",
              "      const charts = await google.colab.kernel.invokeFunction(\n",
              "          'suggestCharts', [key], {});\n",
              "    }\n",
              "    (() => {\n",
              "      let quickchartButtonEl =\n",
              "        document.querySelector('#df-802b2f02-eee7-454c-af20-674f689a5f98 button');\n",
              "      quickchartButtonEl.style.display =\n",
              "        google.colab.kernel.accessAllowed ? 'block' : 'none';\n",
              "    })();\n",
              "  </script>\n",
              "</div>\n",
              "    </div>\n",
              "  </div>\n"
            ],
            "text/plain": [
              "     Realidad  Prediccion\n",
              "0  241.893563  215.833489\n",
              "1  162.310473  185.559606\n",
              "2  212.740856  217.405952\n",
              "3  220.042470  203.186050\n",
              "4  206.349801  192.133595"
            ]
          },
          "execution_count": 94,
          "metadata": {},
          "output_type": "execute_result"
        }
      ],
      "source": [
        "pd.DataFrame({'Realidad': y,\n",
        "              'Prediccion': prediccion_y}).head()"
      ]
    },
    {
      "cell_type": "markdown",
      "metadata": {
        "id": "rs8HK5kvrcMW"
      },
      "source": [
        "Como verás, los valores son similares pero no exactos.\n",
        "\n",
        "Una forma de determinar esa discrepancia entre variables dependientes e independientes es mediante $R^2$, la cual usa la función `.score` aplicado al objeto del modelo y tiene dos parámetros: la variable independiente escalada o `X` y la variable dependiente escalada o `y`."
      ]
    },
    {
      "cell_type": "code",
      "execution_count": null,
      "metadata": {
        "colab": {
          "base_uri": "https://localhost:8080/"
        },
        "id": "ARwDgHJIeJhf",
        "outputId": "ec90d99a-83b8-4c81-c716-7e0c8e9e8569"
      },
      "outputs": [
        {
          "data": {
            "text/plain": [
              "0.9027481729220092"
            ]
          },
          "execution_count": 95,
          "metadata": {},
          "output_type": "execute_result"
        }
      ],
      "source": [
        "# Revisa la medida de R^2 de la regresión anterior\n",
        "modelo_LinReg.score(X,y)"
      ]
    },
    {
      "cell_type": "markdown",
      "metadata": {
        "id": "XGs2bbEhstE_"
      },
      "source": [
        "Como se mencionó anteriormente, todos estos valores obedecen una fórmula matemática:\n",
        "\n",
        "$$\n",
        "y = b + w_{0} x_{0} + w_{1} x_{1} + w_{2} x_{2}\n",
        "$$\n",
        "Donde:\n",
        "- $y$ es la variable dependiente predicha y corresponde a la resolución de la ecuación a su derecha.\n",
        "- $b$ el origen o intercepto, un valor inicial incluso si los valores son 0 y se suman (o restan) entre sí. Se obtiene con la función `.intercept_` aplicada al objeto del modelo.\n",
        "- $w_0$ el peso que tendrá $x_0$, o sea, la multiplicación de la primera variable independiente con este número y se obtiene mediante la función `.coef_[0]`\n",
        "- $x_0$ es el valor escalado de la primera variable.\n",
        "- $w_1$ es exactamente lo mismo que $w_0$, pero aplicada a la segunda variable, la cual se obtiene con la función `coef_[1]`"
      ]
    },
    {
      "cell_type": "code",
      "execution_count": null,
      "metadata": {
        "colab": {
          "base_uri": "https://localhost:8080/"
        },
        "id": "b11IYcg4tUQz",
        "outputId": "73275bc3-6be4-4f1c-b987-589c3f01bd50"
      },
      "outputs": [
        {
          "data": {
            "text/plain": [
              "161.44035683283076"
            ]
          },
          "execution_count": 96,
          "metadata": {},
          "output_type": "execute_result"
        }
      ],
      "source": [
        "#Para conocer el intercepto o el origen aplicamos el siguiente código.\n",
        "modelo_LinReg.intercept_"
      ]
    },
    {
      "cell_type": "code",
      "execution_count": null,
      "metadata": {
        "colab": {
          "base_uri": "https://localhost:8080/"
        },
        "id": "Ptee0FGMvXOm",
        "outputId": "f01cd1d2-d23b-4003-feed-843e0fa6c690"
      },
      "outputs": [
        {
          "name": "stdout",
          "output_type": "stream",
          "text": [
            "22.995299599268737\n",
            "-4.84442763047929\n",
            "4.84442763047929\n"
          ]
        }
      ],
      "source": [
        "#Para conocer el peso de cada variable aplicamos el siguiente código.\n",
        "print(modelo_LinReg.coef_[0])\n",
        "print(modelo_LinReg.coef_[1])\n",
        "print(modelo_LinReg.coef_[2])"
      ]
    },
    {
      "cell_type": "code",
      "execution_count": null,
      "metadata": {
        "colab": {
          "base_uri": "https://localhost:8080/"
        },
        "id": "yHxn75V_eJhf",
        "outputId": "9d38a354-8ebf-4bb9-c050-d93386563be3"
      },
      "outputs": [
        {
          "name": "stdout",
          "output_type": "stream",
          "text": [
            "Los parámetros del modelo son: w0= 22.995299599268737, w1=-4.84442763047929, w2=4.84442763047929\n"
          ]
        }
      ],
      "source": [
        "# Checa los coefientes del modelo\n",
        "print(\"Los parámetros del modelo son: w0= {0}, w1={1}, w2={2}\".format(modelo_LinReg.coef_[0], modelo_LinReg.coef_[1], modelo_LinReg.coef_[2]))"
      ]
    },
    {
      "cell_type": "code",
      "execution_count": null,
      "metadata": {
        "id": "DBbj7wdy7fwH"
      },
      "outputs": [],
      "source": [
        "import pandas as pd\n",
        "import numpy as pd\n",
        "xx_=np.array([43.6,44.4,45.2,46,46.8])\n",
        "\n",
        "xx=np.array([41,45,49,47,44])"
      ]
    },
    {
      "cell_type": "markdown",
      "metadata": {
        "id": "oThX-5JHQP19"
      },
      "source": [
        "##### **Ponte a prueba 2**\n",
        "\n",
        "Eres un analista en una empresa de ventas en línea y has recopilado datos sobre el tiempo que los usuarios pasan en el sitio web y la cantidad que gastan en compras. Quieres establecer una relación entre estas dos variables para predecir el gasto en función del tiempo pasado en el sitio.\n",
        "\n",
        "Puedes descargar el conjunto de datos del siguiente enlace: https://drive.google.com/file/d/1mwrO9y1pHpxeNTjOlTfoet3OzZ1b9lv_/view?usp=sharing\n",
        "\n",
        "Tus tareas son:\n",
        "\n",
        "1. Cargar el conjunto de datos de \"tiempo_vs_gasto.csv\".\n",
        "2. Realizar un análisis exploratorio de los datos para entender su distribución.\n",
        "3. Establecer la variable de tiempo como independiente y la de gasto como dependiente.\n",
        "4. Entrenar un modelo de regresión lineal simple.\n",
        "5. Evaluar el modelo utilizando la métrica R2.\n",
        "6. Interpretar el coeficiente de la regresión para entender cuánto aumenta el gasto por cada minuto adicional que un usuario pasa en el sitio.\n"
      ]
    },
    {
      "cell_type": "markdown",
      "metadata": {
        "id": "GBI-Lfcz523n"
      },
      "source": [
        "## Reto de la semana\n",
        "\n",
        "Ahora es tu turno: aplicarás la regresión lineal a un ejemplo.\n",
        "\n",
        "Descarga el archivo CSV de la siguiente liga: https://drive.google.com/file/d/1jNXCAxS9LwthJK2jatqL4z64SUWtnPte/view?usp=sharing.\n",
        "\n",
        "El archivo es un conjunto de 200 registros que indica los costos de una casa nueva para empleados de IT y de Recursos Humanos de diferentes empresas.\n",
        "\n",
        "En el documento se consideraron los siguientes factores: salario, cantidad de hijos, departamento al que corresponde y valor de la casa.\n",
        "\n",
        "Para que tu modelo sea considerado exitoso deberá indicar los coeficientes de cada variable.\n",
        "\n",
        "Un reto extra para ti consiste en indicar cuánto vale la casa de un empleado que gana 25 000, tiene 2 hijos y trabaja en IT.\n",
        "\n",
        "No olvides estandarizar las variables independientes."
      ]
    },
    {
      "cell_type": "markdown",
      "metadata": {
        "id": "fkQu-BjF_U1A"
      },
      "source": [
        "Concluiste la semana 9. En la próxima sesión, continuarás con el tema de modelos de regresión.\n",
        "\n",
        "Recuerda anotar todas tus dudas para compartirlas con tu coach y colegas.👌"
      ]
    }
  ],
  "metadata": {
    "colab": {
      "provenance": []
    },
    "kernelspec": {
      "display_name": "Python 3 (ipykernel)",
      "language": "python",
      "name": "python3"
    },
    "language_info": {
      "codemirror_mode": {
        "name": "ipython",
        "version": 3
      },
      "file_extension": ".py",
      "mimetype": "text/x-python",
      "name": "python",
      "nbconvert_exporter": "python",
      "pygments_lexer": "ipython3",
      "version": "3.11.6"
    },
    "toc": {
      "base_numbering": 1,
      "nav_menu": {},
      "number_sections": true,
      "sideBar": true,
      "skip_h1_title": true,
      "title_cell": "Table of Contents",
      "title_sidebar": "Contents",
      "toc_cell": false,
      "toc_position": {},
      "toc_section_display": true,
      "toc_window_display": false
    }
  },
  "nbformat": 4,
  "nbformat_minor": 0
}
